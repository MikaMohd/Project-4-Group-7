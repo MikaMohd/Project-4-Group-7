{
 "cells": [
  {
   "attachments": {},
   "cell_type": "markdown",
   "metadata": {},
   "source": [
    "### Predicting Health Insurance Premiums (based on customer charges). \n",
    "\n",
    "\n",
    "We are using a dataset that contains information about potential health insurance customers such as age, smoking history and bmi. We will use the 'cost' column to predict how much a potential customer may spend on health care needs. This spending trend could be used by health insurance companies to determine what an appropriate health insurance premium should be. "
   ]
  },
  {
   "cell_type": "code",
   "execution_count": 1,
   "metadata": {},
   "outputs": [],
   "source": [
    "#Import dependencies\n",
    "import numpy as np\n",
    "import pandas as pd\n",
    "import matplotlib.pyplot as plt\n",
    "import matplotlib\n",
    "import plotly.express as px\n",
    "import seaborn as sns\n",
    "from sklearn.model_selection import train_test_split\n",
    "from sklearn.ensemble import RandomForestRegressor\n"
   ]
  },
  {
   "cell_type": "code",
   "execution_count": 2,
   "metadata": {},
   "outputs": [
    {
     "data": {
      "text/html": [
       "<div>\n",
       "<style scoped>\n",
       "    .dataframe tbody tr th:only-of-type {\n",
       "        vertical-align: middle;\n",
       "    }\n",
       "\n",
       "    .dataframe tbody tr th {\n",
       "        vertical-align: top;\n",
       "    }\n",
       "\n",
       "    .dataframe thead th {\n",
       "        text-align: right;\n",
       "    }\n",
       "</style>\n",
       "<table border=\"1\" class=\"dataframe\">\n",
       "  <thead>\n",
       "    <tr style=\"text-align: right;\">\n",
       "      <th></th>\n",
       "      <th>age</th>\n",
       "      <th>sex</th>\n",
       "      <th>bmi</th>\n",
       "      <th>children</th>\n",
       "      <th>smoker</th>\n",
       "      <th>region</th>\n",
       "      <th>charges</th>\n",
       "    </tr>\n",
       "  </thead>\n",
       "  <tbody>\n",
       "    <tr>\n",
       "      <th>0</th>\n",
       "      <td>19</td>\n",
       "      <td>female</td>\n",
       "      <td>27.900</td>\n",
       "      <td>0</td>\n",
       "      <td>yes</td>\n",
       "      <td>southwest</td>\n",
       "      <td>16884.92400</td>\n",
       "    </tr>\n",
       "    <tr>\n",
       "      <th>1</th>\n",
       "      <td>18</td>\n",
       "      <td>male</td>\n",
       "      <td>33.770</td>\n",
       "      <td>1</td>\n",
       "      <td>no</td>\n",
       "      <td>southeast</td>\n",
       "      <td>1725.55230</td>\n",
       "    </tr>\n",
       "    <tr>\n",
       "      <th>2</th>\n",
       "      <td>28</td>\n",
       "      <td>male</td>\n",
       "      <td>33.000</td>\n",
       "      <td>3</td>\n",
       "      <td>no</td>\n",
       "      <td>southeast</td>\n",
       "      <td>4449.46200</td>\n",
       "    </tr>\n",
       "    <tr>\n",
       "      <th>3</th>\n",
       "      <td>33</td>\n",
       "      <td>male</td>\n",
       "      <td>22.705</td>\n",
       "      <td>0</td>\n",
       "      <td>no</td>\n",
       "      <td>northwest</td>\n",
       "      <td>21984.47061</td>\n",
       "    </tr>\n",
       "    <tr>\n",
       "      <th>4</th>\n",
       "      <td>32</td>\n",
       "      <td>male</td>\n",
       "      <td>28.880</td>\n",
       "      <td>0</td>\n",
       "      <td>no</td>\n",
       "      <td>northwest</td>\n",
       "      <td>3866.85520</td>\n",
       "    </tr>\n",
       "  </tbody>\n",
       "</table>\n",
       "</div>"
      ],
      "text/plain": [
       "   age     sex     bmi  children smoker     region      charges\n",
       "0   19  female  27.900         0    yes  southwest  16884.92400\n",
       "1   18    male  33.770         1     no  southeast   1725.55230\n",
       "2   28    male  33.000         3     no  southeast   4449.46200\n",
       "3   33    male  22.705         0     no  northwest  21984.47061\n",
       "4   32    male  28.880         0     no  northwest   3866.85520"
      ]
     },
     "execution_count": 2,
     "metadata": {},
     "output_type": "execute_result"
    }
   ],
   "source": [
    "#Load csv file into Pandas DataFrame\n",
    "h_data = pd.read_csv(\"Resource/Health_insurance.csv\")\n",
    "\n",
    "#View DataFrame\n",
    "h_data.head()"
   ]
  },
  {
   "cell_type": "code",
   "execution_count": 3,
   "metadata": {},
   "outputs": [
    {
     "data": {
      "text/plain": [
       "age         0\n",
       "sex         0\n",
       "bmi         0\n",
       "children    0\n",
       "smoker      0\n",
       "region      0\n",
       "charges     0\n",
       "dtype: int64"
      ]
     },
     "execution_count": 3,
     "metadata": {},
     "output_type": "execute_result"
    }
   ],
   "source": [
    "#Check if DataFrame contains any null values\n",
    "h_data.isnull().sum()"
   ]
  },
  {
   "cell_type": "code",
   "execution_count": 4,
   "metadata": {},
   "outputs": [
    {
     "name": "stdout",
     "output_type": "stream",
     "text": [
      "<class 'pandas.core.frame.DataFrame'>\n",
      "RangeIndex: 1338 entries, 0 to 1337\n",
      "Data columns (total 7 columns):\n",
      " #   Column    Non-Null Count  Dtype  \n",
      "---  ------    --------------  -----  \n",
      " 0   age       1338 non-null   int64  \n",
      " 1   sex       1338 non-null   object \n",
      " 2   bmi       1338 non-null   float64\n",
      " 3   children  1338 non-null   int64  \n",
      " 4   smoker    1338 non-null   object \n",
      " 5   region    1338 non-null   object \n",
      " 6   charges   1338 non-null   float64\n",
      "dtypes: float64(2), int64(2), object(3)\n",
      "memory usage: 73.3+ KB\n"
     ]
    }
   ],
   "source": [
    "#Check DataFrame info\n",
    "h_data.info()"
   ]
  },
  {
   "cell_type": "code",
   "execution_count": 5,
   "metadata": {},
   "outputs": [
    {
     "data": {
      "text/plain": [
       "male      676\n",
       "female    662\n",
       "Name: sex, dtype: int64"
      ]
     },
     "execution_count": 5,
     "metadata": {},
     "output_type": "execute_result"
    }
   ],
   "source": [
    "h_data[\"sex\"].value_counts()"
   ]
  },
  {
   "cell_type": "code",
   "execution_count": 6,
   "metadata": {},
   "outputs": [
    {
     "data": {
      "text/plain": [
       "no     1064\n",
       "yes     274\n",
       "Name: smoker, dtype: int64"
      ]
     },
     "execution_count": 6,
     "metadata": {},
     "output_type": "execute_result"
    }
   ],
   "source": [
    "h_data[\"smoker\"].value_counts()"
   ]
  },
  {
   "cell_type": "code",
   "execution_count": 7,
   "metadata": {},
   "outputs": [
    {
     "data": {
      "application/vnd.plotly.v1+json": {
       "config": {
        "plotlyServerURL": "https://plotly.com"
       },
       "data": [
        {
         "alignmentgroup": "True",
         "bingroup": "x",
         "hovertemplate": "sex=female<br>smoker=%{x}<br>count=%{y}<extra></extra>",
         "legendgroup": "female",
         "marker": {
          "color": "#636efa",
          "pattern": {
           "shape": ""
          }
         },
         "name": "female",
         "offsetgroup": "female",
         "orientation": "v",
         "showlegend": true,
         "type": "histogram",
         "x": [
          "yes",
          "no",
          "no",
          "no",
          "no",
          "yes",
          "no",
          "no",
          "no",
          "no",
          "yes",
          "no",
          "no",
          "no",
          "no",
          "no",
          "no",
          "no",
          "no",
          "no",
          "no",
          "no",
          "no",
          "no",
          "no",
          "no",
          "no",
          "yes",
          "no",
          "no",
          "yes",
          "no",
          "no",
          "no",
          "yes",
          "no",
          "no",
          "no",
          "no",
          "no",
          "no",
          "yes",
          "yes",
          "no",
          "no",
          "no",
          "no",
          "no",
          "yes",
          "no",
          "no",
          "no",
          "no",
          "yes",
          "no",
          "no",
          "no",
          "no",
          "yes",
          "no",
          "no",
          "no",
          "no",
          "no",
          "yes",
          "no",
          "yes",
          "no",
          "no",
          "no",
          "no",
          "no",
          "no",
          "no",
          "no",
          "no",
          "no",
          "no",
          "yes",
          "no",
          "no",
          "yes",
          "yes",
          "no",
          "no",
          "no",
          "no",
          "no",
          "no",
          "yes",
          "no",
          "no",
          "no",
          "no",
          "no",
          "no",
          "no",
          "no",
          "no",
          "no",
          "no",
          "no",
          "no",
          "no",
          "no",
          "no",
          "no",
          "yes",
          "no",
          "no",
          "no",
          "no",
          "no",
          "no",
          "no",
          "no",
          "no",
          "no",
          "no",
          "no",
          "no",
          "no",
          "no",
          "yes",
          "no",
          "yes",
          "no",
          "no",
          "yes",
          "no",
          "yes",
          "no",
          "no",
          "no",
          "yes",
          "no",
          "no",
          "no",
          "no",
          "no",
          "yes",
          "no",
          "no",
          "no",
          "no",
          "yes",
          "no",
          "no",
          "no",
          "yes",
          "no",
          "no",
          "no",
          "no",
          "no",
          "no",
          "no",
          "yes",
          "no",
          "no",
          "no",
          "yes",
          "yes",
          "no",
          "no",
          "no",
          "no",
          "no",
          "no",
          "no",
          "no",
          "no",
          "no",
          "no",
          "no",
          "no",
          "no",
          "no",
          "yes",
          "no",
          "no",
          "no",
          "no",
          "no",
          "no",
          "no",
          "no",
          "yes",
          "yes",
          "no",
          "yes",
          "no",
          "no",
          "no",
          "no",
          "no",
          "no",
          "no",
          "no",
          "no",
          "no",
          "no",
          "no",
          "no",
          "yes",
          "yes",
          "no",
          "no",
          "yes",
          "yes",
          "no",
          "no",
          "no",
          "no",
          "no",
          "no",
          "no",
          "no",
          "yes",
          "no",
          "no",
          "no",
          "no",
          "no",
          "no",
          "no",
          "no",
          "no",
          "yes",
          "no",
          "no",
          "no",
          "no",
          "no",
          "no",
          "no",
          "no",
          "no",
          "no",
          "no",
          "yes",
          "no",
          "no",
          "no",
          "no",
          "no",
          "no",
          "no",
          "no",
          "no",
          "no",
          "no",
          "no",
          "no",
          "no",
          "no",
          "no",
          "no",
          "no",
          "no",
          "no",
          "no",
          "no",
          "no",
          "no",
          "yes",
          "no",
          "no",
          "yes",
          "no",
          "no",
          "no",
          "yes",
          "no",
          "no",
          "no",
          "no",
          "no",
          "no",
          "no",
          "no",
          "no",
          "no",
          "no",
          "no",
          "yes",
          "no",
          "no",
          "no",
          "yes",
          "no",
          "no",
          "no",
          "yes",
          "no",
          "no",
          "no",
          "no",
          "no",
          "no",
          "no",
          "yes",
          "no",
          "no",
          "yes",
          "no",
          "no",
          "no",
          "no",
          "no",
          "yes",
          "no",
          "yes",
          "no",
          "no",
          "no",
          "yes",
          "no",
          "no",
          "no",
          "no",
          "no",
          "no",
          "no",
          "no",
          "no",
          "no",
          "no",
          "yes",
          "no",
          "no",
          "no",
          "no",
          "no",
          "yes",
          "yes",
          "no",
          "no",
          "no",
          "yes",
          "no",
          "no",
          "no",
          "no",
          "no",
          "no",
          "no",
          "no",
          "no",
          "no",
          "no",
          "no",
          "no",
          "no",
          "yes",
          "no",
          "no",
          "no",
          "no",
          "no",
          "no",
          "no",
          "no",
          "no",
          "no",
          "yes",
          "yes",
          "no",
          "no",
          "no",
          "no",
          "no",
          "no",
          "yes",
          "no",
          "no",
          "no",
          "yes",
          "no",
          "no",
          "yes",
          "no",
          "no",
          "no",
          "no",
          "no",
          "no",
          "no",
          "no",
          "yes",
          "yes",
          "no",
          "no",
          "no",
          "no",
          "no",
          "no",
          "no",
          "no",
          "no",
          "no",
          "yes",
          "no",
          "no",
          "no",
          "no",
          "no",
          "no",
          "no",
          "yes",
          "yes",
          "no",
          "no",
          "no",
          "no",
          "no",
          "no",
          "no",
          "no",
          "yes",
          "yes",
          "yes",
          "no",
          "no",
          "yes",
          "yes",
          "no",
          "yes",
          "no",
          "yes",
          "no",
          "yes",
          "no",
          "no",
          "no",
          "no",
          "no",
          "no",
          "no",
          "no",
          "no",
          "yes",
          "no",
          "yes",
          "no",
          "no",
          "yes",
          "no",
          "no",
          "no",
          "no",
          "no",
          "yes",
          "no",
          "no",
          "no",
          "yes",
          "no",
          "no",
          "no",
          "no",
          "no",
          "no",
          "no",
          "no",
          "no",
          "no",
          "no",
          "no",
          "no",
          "no",
          "no",
          "no",
          "no",
          "no",
          "no",
          "no",
          "no",
          "no",
          "no",
          "no",
          "no",
          "no",
          "no",
          "no",
          "yes",
          "no",
          "no",
          "no",
          "yes",
          "no",
          "no",
          "no",
          "no",
          "no",
          "no",
          "no",
          "no",
          "no",
          "no",
          "no",
          "no",
          "yes",
          "no",
          "no",
          "no",
          "yes",
          "yes",
          "no",
          "no",
          "yes",
          "yes",
          "no",
          "yes",
          "no",
          "no",
          "no",
          "no",
          "no",
          "no",
          "no",
          "no",
          "no",
          "no",
          "no",
          "no",
          "no",
          "no",
          "no",
          "yes",
          "no",
          "yes",
          "no",
          "no",
          "yes",
          "no",
          "no",
          "yes",
          "no",
          "no",
          "no",
          "no",
          "yes",
          "no",
          "no",
          "yes",
          "yes",
          "no",
          "yes",
          "no",
          "no",
          "no",
          "no",
          "no",
          "no",
          "no",
          "no",
          "yes",
          "no",
          "no",
          "no",
          "no",
          "no",
          "yes",
          "no",
          "no",
          "no",
          "no",
          "no",
          "no",
          "no",
          "no",
          "no",
          "no",
          "no",
          "no",
          "yes",
          "no",
          "no",
          "yes",
          "no",
          "no",
          "no",
          "no",
          "no",
          "no",
          "yes",
          "no",
          "yes",
          "no",
          "no",
          "no",
          "no",
          "no",
          "no",
          "no",
          "yes",
          "no",
          "yes",
          "no",
          "yes",
          "no",
          "no",
          "yes",
          "no",
          "no",
          "yes",
          "no",
          "yes",
          "no",
          "no",
          "no",
          "no",
          "no",
          "no",
          "no",
          "no",
          "no",
          "no",
          "no",
          "no",
          "no",
          "no",
          "no",
          "no",
          "no",
          "no",
          "no",
          "no",
          "no",
          "no",
          "no",
          "no",
          "no",
          "no",
          "yes",
          "yes",
          "no",
          "no",
          "no",
          "no",
          "no",
          "no",
          "no",
          "no",
          "yes",
          "yes",
          "no",
          "yes",
          "yes",
          "no",
          "no",
          "yes",
          "no",
          "no",
          "no",
          "no",
          "no",
          "no",
          "no",
          "no",
          "yes"
         ],
         "xaxis": "x",
         "yaxis": "y"
        },
        {
         "alignmentgroup": "True",
         "bingroup": "x",
         "hovertemplate": "sex=male<br>smoker=%{x}<br>count=%{y}<extra></extra>",
         "legendgroup": "male",
         "marker": {
          "color": "#EF553B",
          "pattern": {
           "shape": ""
          }
         },
         "name": "male",
         "offsetgroup": "male",
         "orientation": "v",
         "showlegend": true,
         "type": "histogram",
         "x": [
          "no",
          "no",
          "no",
          "no",
          "no",
          "no",
          "no",
          "yes",
          "no",
          "no",
          "no",
          "yes",
          "no",
          "no",
          "no",
          "yes",
          "yes",
          "no",
          "yes",
          "no",
          "no",
          "yes",
          "yes",
          "no",
          "no",
          "no",
          "yes",
          "yes",
          "yes",
          "yes",
          "yes",
          "no",
          "no",
          "no",
          "no",
          "yes",
          "no",
          "no",
          "no",
          "no",
          "no",
          "no",
          "yes",
          "yes",
          "yes",
          "no",
          "no",
          "yes",
          "yes",
          "no",
          "yes",
          "no",
          "no",
          "yes",
          "no",
          "no",
          "no",
          "no",
          "no",
          "no",
          "no",
          "yes",
          "no",
          "no",
          "no",
          "no",
          "no",
          "no",
          "yes",
          "no",
          "yes",
          "yes",
          "no",
          "no",
          "no",
          "no",
          "yes",
          "yes",
          "yes",
          "no",
          "no",
          "no",
          "no",
          "no",
          "no",
          "no",
          "no",
          "no",
          "no",
          "no",
          "no",
          "yes",
          "no",
          "no",
          "no",
          "no",
          "no",
          "no",
          "yes",
          "no",
          "no",
          "no",
          "no",
          "no",
          "no",
          "yes",
          "yes",
          "no",
          "no",
          "no",
          "no",
          "no",
          "no",
          "yes",
          "no",
          "no",
          "no",
          "no",
          "no",
          "no",
          "yes",
          "yes",
          "no",
          "yes",
          "yes",
          "no",
          "yes",
          "yes",
          "yes",
          "yes",
          "yes",
          "no",
          "no",
          "no",
          "yes",
          "no",
          "no",
          "no",
          "no",
          "no",
          "yes",
          "no",
          "no",
          "no",
          "no",
          "yes",
          "no",
          "no",
          "yes",
          "yes",
          "yes",
          "no",
          "no",
          "no",
          "no",
          "yes",
          "no",
          "no",
          "no",
          "no",
          "no",
          "no",
          "yes",
          "no",
          "no",
          "no",
          "yes",
          "no",
          "yes",
          "no",
          "no",
          "no",
          "yes",
          "no",
          "no",
          "no",
          "no",
          "no",
          "no",
          "no",
          "no",
          "no",
          "no",
          "no",
          "no",
          "no",
          "yes",
          "no",
          "yes",
          "no",
          "yes",
          "no",
          "no",
          "no",
          "no",
          "no",
          "no",
          "no",
          "no",
          "no",
          "no",
          "no",
          "no",
          "no",
          "no",
          "no",
          "no",
          "no",
          "no",
          "no",
          "yes",
          "yes",
          "yes",
          "no",
          "no",
          "no",
          "no",
          "no",
          "no",
          "no",
          "no",
          "no",
          "no",
          "no",
          "yes",
          "no",
          "no",
          "no",
          "no",
          "no",
          "no",
          "no",
          "no",
          "no",
          "yes",
          "no",
          "no",
          "no",
          "yes",
          "yes",
          "yes",
          "no",
          "no",
          "no",
          "no",
          "no",
          "no",
          "no",
          "no",
          "no",
          "yes",
          "no",
          "no",
          "yes",
          "no",
          "yes",
          "yes",
          "no",
          "no",
          "no",
          "no",
          "no",
          "no",
          "no",
          "yes",
          "no",
          "no",
          "no",
          "no",
          "yes",
          "no",
          "no",
          "yes",
          "no",
          "no",
          "no",
          "no",
          "no",
          "no",
          "yes",
          "no",
          "no",
          "no",
          "no",
          "no",
          "no",
          "no",
          "no",
          "no",
          "no",
          "yes",
          "no",
          "no",
          "no",
          "no",
          "no",
          "no",
          "no",
          "no",
          "no",
          "no",
          "no",
          "no",
          "no",
          "yes",
          "yes",
          "no",
          "yes",
          "yes",
          "no",
          "no",
          "no",
          "no",
          "no",
          "no",
          "no",
          "no",
          "no",
          "yes",
          "no",
          "no",
          "yes",
          "no",
          "no",
          "no",
          "no",
          "no",
          "no",
          "no",
          "no",
          "yes",
          "no",
          "yes",
          "no",
          "no",
          "no",
          "yes",
          "no",
          "no",
          "yes",
          "no",
          "no",
          "no",
          "no",
          "yes",
          "no",
          "no",
          "no",
          "no",
          "yes",
          "no",
          "no",
          "no",
          "no",
          "no",
          "no",
          "no",
          "no",
          "no",
          "no",
          "no",
          "yes",
          "no",
          "no",
          "yes",
          "yes",
          "no",
          "yes",
          "yes",
          "no",
          "no",
          "no",
          "no",
          "no",
          "no",
          "no",
          "no",
          "no",
          "yes",
          "no",
          "yes",
          "no",
          "no",
          "no",
          "no",
          "no",
          "no",
          "no",
          "no",
          "no",
          "yes",
          "no",
          "no",
          "no",
          "no",
          "no",
          "no",
          "yes",
          "yes",
          "no",
          "yes",
          "no",
          "no",
          "no",
          "no",
          "no",
          "no",
          "no",
          "no",
          "no",
          "no",
          "no",
          "yes",
          "yes",
          "yes",
          "no",
          "no",
          "no",
          "no",
          "no",
          "no",
          "no",
          "no",
          "no",
          "no",
          "no",
          "no",
          "yes",
          "no",
          "no",
          "no",
          "no",
          "no",
          "no",
          "no",
          "no",
          "no",
          "no",
          "no",
          "no",
          "no",
          "no",
          "no",
          "yes",
          "yes",
          "no",
          "no",
          "no",
          "yes",
          "no",
          "no",
          "no",
          "yes",
          "no",
          "no",
          "no",
          "no",
          "no",
          "yes",
          "no",
          "yes",
          "no",
          "no",
          "no",
          "no",
          "no",
          "no",
          "no",
          "no",
          "no",
          "no",
          "no",
          "no",
          "no",
          "no",
          "no",
          "yes",
          "no",
          "yes",
          "no",
          "yes",
          "yes",
          "yes",
          "no",
          "yes",
          "no",
          "yes",
          "no",
          "no",
          "no",
          "no",
          "yes",
          "no",
          "no",
          "no",
          "yes",
          "no",
          "no",
          "no",
          "no",
          "yes",
          "no",
          "no",
          "no",
          "no",
          "yes",
          "yes",
          "no",
          "no",
          "no",
          "no",
          "no",
          "yes",
          "no",
          "no",
          "yes",
          "no",
          "no",
          "no",
          "yes",
          "no",
          "yes",
          "no",
          "no",
          "yes",
          "no",
          "yes",
          "no",
          "no",
          "no",
          "yes",
          "no",
          "yes",
          "yes",
          "no",
          "no",
          "yes",
          "no",
          "no",
          "no",
          "no",
          "yes",
          "no",
          "no",
          "no",
          "no",
          "yes",
          "no",
          "no",
          "no",
          "yes",
          "no",
          "no",
          "no",
          "no",
          "no",
          "no",
          "no",
          "no",
          "no",
          "yes",
          "no",
          "no",
          "no",
          "no",
          "no",
          "no",
          "no",
          "no",
          "yes",
          "no",
          "no",
          "no",
          "yes",
          "yes",
          "no",
          "no",
          "no",
          "no",
          "no",
          "no",
          "no",
          "no",
          "no",
          "no",
          "no",
          "yes",
          "no",
          "no",
          "yes",
          "no",
          "no",
          "no",
          "no",
          "yes",
          "no",
          "no",
          "yes",
          "no",
          "yes",
          "no",
          "no",
          "no",
          "no",
          "no",
          "no",
          "no",
          "yes",
          "no",
          "no",
          "no",
          "no",
          "no",
          "no",
          "no",
          "no",
          "no",
          "no",
          "no",
          "no",
          "no",
          "no",
          "yes",
          "no",
          "no",
          "no",
          "yes",
          "yes",
          "no",
          "no",
          "no",
          "yes",
          "yes",
          "no",
          "yes",
          "no",
          "no",
          "yes",
          "yes",
          "no",
          "no",
          "no",
          "no",
          "yes",
          "no",
          "yes",
          "no",
          "yes",
          "yes",
          "no",
          "yes",
          "no",
          "no",
          "no",
          "no",
          "no",
          "no",
          "yes",
          "yes",
          "yes",
          "yes",
          "yes",
          "no",
          "no",
          "no",
          "no",
          "no",
          "no",
          "no",
          "yes",
          "no",
          "no",
          "no",
          "no",
          "no",
          "no"
         ],
         "xaxis": "x",
         "yaxis": "y"
        }
       ],
       "layout": {
        "barmode": "relative",
        "legend": {
         "title": {
          "text": "sex"
         },
         "tracegroupgap": 0
        },
        "template": {
         "data": {
          "bar": [
           {
            "error_x": {
             "color": "#2a3f5f"
            },
            "error_y": {
             "color": "#2a3f5f"
            },
            "marker": {
             "line": {
              "color": "#E5ECF6",
              "width": 0.5
             },
             "pattern": {
              "fillmode": "overlay",
              "size": 10,
              "solidity": 0.2
             }
            },
            "type": "bar"
           }
          ],
          "barpolar": [
           {
            "marker": {
             "line": {
              "color": "#E5ECF6",
              "width": 0.5
             },
             "pattern": {
              "fillmode": "overlay",
              "size": 10,
              "solidity": 0.2
             }
            },
            "type": "barpolar"
           }
          ],
          "carpet": [
           {
            "aaxis": {
             "endlinecolor": "#2a3f5f",
             "gridcolor": "white",
             "linecolor": "white",
             "minorgridcolor": "white",
             "startlinecolor": "#2a3f5f"
            },
            "baxis": {
             "endlinecolor": "#2a3f5f",
             "gridcolor": "white",
             "linecolor": "white",
             "minorgridcolor": "white",
             "startlinecolor": "#2a3f5f"
            },
            "type": "carpet"
           }
          ],
          "choropleth": [
           {
            "colorbar": {
             "outlinewidth": 0,
             "ticks": ""
            },
            "type": "choropleth"
           }
          ],
          "contour": [
           {
            "colorbar": {
             "outlinewidth": 0,
             "ticks": ""
            },
            "colorscale": [
             [
              0,
              "#0d0887"
             ],
             [
              0.1111111111111111,
              "#46039f"
             ],
             [
              0.2222222222222222,
              "#7201a8"
             ],
             [
              0.3333333333333333,
              "#9c179e"
             ],
             [
              0.4444444444444444,
              "#bd3786"
             ],
             [
              0.5555555555555556,
              "#d8576b"
             ],
             [
              0.6666666666666666,
              "#ed7953"
             ],
             [
              0.7777777777777778,
              "#fb9f3a"
             ],
             [
              0.8888888888888888,
              "#fdca26"
             ],
             [
              1,
              "#f0f921"
             ]
            ],
            "type": "contour"
           }
          ],
          "contourcarpet": [
           {
            "colorbar": {
             "outlinewidth": 0,
             "ticks": ""
            },
            "type": "contourcarpet"
           }
          ],
          "heatmap": [
           {
            "colorbar": {
             "outlinewidth": 0,
             "ticks": ""
            },
            "colorscale": [
             [
              0,
              "#0d0887"
             ],
             [
              0.1111111111111111,
              "#46039f"
             ],
             [
              0.2222222222222222,
              "#7201a8"
             ],
             [
              0.3333333333333333,
              "#9c179e"
             ],
             [
              0.4444444444444444,
              "#bd3786"
             ],
             [
              0.5555555555555556,
              "#d8576b"
             ],
             [
              0.6666666666666666,
              "#ed7953"
             ],
             [
              0.7777777777777778,
              "#fb9f3a"
             ],
             [
              0.8888888888888888,
              "#fdca26"
             ],
             [
              1,
              "#f0f921"
             ]
            ],
            "type": "heatmap"
           }
          ],
          "heatmapgl": [
           {
            "colorbar": {
             "outlinewidth": 0,
             "ticks": ""
            },
            "colorscale": [
             [
              0,
              "#0d0887"
             ],
             [
              0.1111111111111111,
              "#46039f"
             ],
             [
              0.2222222222222222,
              "#7201a8"
             ],
             [
              0.3333333333333333,
              "#9c179e"
             ],
             [
              0.4444444444444444,
              "#bd3786"
             ],
             [
              0.5555555555555556,
              "#d8576b"
             ],
             [
              0.6666666666666666,
              "#ed7953"
             ],
             [
              0.7777777777777778,
              "#fb9f3a"
             ],
             [
              0.8888888888888888,
              "#fdca26"
             ],
             [
              1,
              "#f0f921"
             ]
            ],
            "type": "heatmapgl"
           }
          ],
          "histogram": [
           {
            "marker": {
             "pattern": {
              "fillmode": "overlay",
              "size": 10,
              "solidity": 0.2
             }
            },
            "type": "histogram"
           }
          ],
          "histogram2d": [
           {
            "colorbar": {
             "outlinewidth": 0,
             "ticks": ""
            },
            "colorscale": [
             [
              0,
              "#0d0887"
             ],
             [
              0.1111111111111111,
              "#46039f"
             ],
             [
              0.2222222222222222,
              "#7201a8"
             ],
             [
              0.3333333333333333,
              "#9c179e"
             ],
             [
              0.4444444444444444,
              "#bd3786"
             ],
             [
              0.5555555555555556,
              "#d8576b"
             ],
             [
              0.6666666666666666,
              "#ed7953"
             ],
             [
              0.7777777777777778,
              "#fb9f3a"
             ],
             [
              0.8888888888888888,
              "#fdca26"
             ],
             [
              1,
              "#f0f921"
             ]
            ],
            "type": "histogram2d"
           }
          ],
          "histogram2dcontour": [
           {
            "colorbar": {
             "outlinewidth": 0,
             "ticks": ""
            },
            "colorscale": [
             [
              0,
              "#0d0887"
             ],
             [
              0.1111111111111111,
              "#46039f"
             ],
             [
              0.2222222222222222,
              "#7201a8"
             ],
             [
              0.3333333333333333,
              "#9c179e"
             ],
             [
              0.4444444444444444,
              "#bd3786"
             ],
             [
              0.5555555555555556,
              "#d8576b"
             ],
             [
              0.6666666666666666,
              "#ed7953"
             ],
             [
              0.7777777777777778,
              "#fb9f3a"
             ],
             [
              0.8888888888888888,
              "#fdca26"
             ],
             [
              1,
              "#f0f921"
             ]
            ],
            "type": "histogram2dcontour"
           }
          ],
          "mesh3d": [
           {
            "colorbar": {
             "outlinewidth": 0,
             "ticks": ""
            },
            "type": "mesh3d"
           }
          ],
          "parcoords": [
           {
            "line": {
             "colorbar": {
              "outlinewidth": 0,
              "ticks": ""
             }
            },
            "type": "parcoords"
           }
          ],
          "pie": [
           {
            "automargin": true,
            "type": "pie"
           }
          ],
          "scatter": [
           {
            "fillpattern": {
             "fillmode": "overlay",
             "size": 10,
             "solidity": 0.2
            },
            "type": "scatter"
           }
          ],
          "scatter3d": [
           {
            "line": {
             "colorbar": {
              "outlinewidth": 0,
              "ticks": ""
             }
            },
            "marker": {
             "colorbar": {
              "outlinewidth": 0,
              "ticks": ""
             }
            },
            "type": "scatter3d"
           }
          ],
          "scattercarpet": [
           {
            "marker": {
             "colorbar": {
              "outlinewidth": 0,
              "ticks": ""
             }
            },
            "type": "scattercarpet"
           }
          ],
          "scattergeo": [
           {
            "marker": {
             "colorbar": {
              "outlinewidth": 0,
              "ticks": ""
             }
            },
            "type": "scattergeo"
           }
          ],
          "scattergl": [
           {
            "marker": {
             "colorbar": {
              "outlinewidth": 0,
              "ticks": ""
             }
            },
            "type": "scattergl"
           }
          ],
          "scattermapbox": [
           {
            "marker": {
             "colorbar": {
              "outlinewidth": 0,
              "ticks": ""
             }
            },
            "type": "scattermapbox"
           }
          ],
          "scatterpolar": [
           {
            "marker": {
             "colorbar": {
              "outlinewidth": 0,
              "ticks": ""
             }
            },
            "type": "scatterpolar"
           }
          ],
          "scatterpolargl": [
           {
            "marker": {
             "colorbar": {
              "outlinewidth": 0,
              "ticks": ""
             }
            },
            "type": "scatterpolargl"
           }
          ],
          "scatterternary": [
           {
            "marker": {
             "colorbar": {
              "outlinewidth": 0,
              "ticks": ""
             }
            },
            "type": "scatterternary"
           }
          ],
          "surface": [
           {
            "colorbar": {
             "outlinewidth": 0,
             "ticks": ""
            },
            "colorscale": [
             [
              0,
              "#0d0887"
             ],
             [
              0.1111111111111111,
              "#46039f"
             ],
             [
              0.2222222222222222,
              "#7201a8"
             ],
             [
              0.3333333333333333,
              "#9c179e"
             ],
             [
              0.4444444444444444,
              "#bd3786"
             ],
             [
              0.5555555555555556,
              "#d8576b"
             ],
             [
              0.6666666666666666,
              "#ed7953"
             ],
             [
              0.7777777777777778,
              "#fb9f3a"
             ],
             [
              0.8888888888888888,
              "#fdca26"
             ],
             [
              1,
              "#f0f921"
             ]
            ],
            "type": "surface"
           }
          ],
          "table": [
           {
            "cells": {
             "fill": {
              "color": "#EBF0F8"
             },
             "line": {
              "color": "white"
             }
            },
            "header": {
             "fill": {
              "color": "#C8D4E3"
             },
             "line": {
              "color": "white"
             }
            },
            "type": "table"
           }
          ]
         },
         "layout": {
          "annotationdefaults": {
           "arrowcolor": "#2a3f5f",
           "arrowhead": 0,
           "arrowwidth": 1
          },
          "autotypenumbers": "strict",
          "coloraxis": {
           "colorbar": {
            "outlinewidth": 0,
            "ticks": ""
           }
          },
          "colorscale": {
           "diverging": [
            [
             0,
             "#8e0152"
            ],
            [
             0.1,
             "#c51b7d"
            ],
            [
             0.2,
             "#de77ae"
            ],
            [
             0.3,
             "#f1b6da"
            ],
            [
             0.4,
             "#fde0ef"
            ],
            [
             0.5,
             "#f7f7f7"
            ],
            [
             0.6,
             "#e6f5d0"
            ],
            [
             0.7,
             "#b8e186"
            ],
            [
             0.8,
             "#7fbc41"
            ],
            [
             0.9,
             "#4d9221"
            ],
            [
             1,
             "#276419"
            ]
           ],
           "sequential": [
            [
             0,
             "#0d0887"
            ],
            [
             0.1111111111111111,
             "#46039f"
            ],
            [
             0.2222222222222222,
             "#7201a8"
            ],
            [
             0.3333333333333333,
             "#9c179e"
            ],
            [
             0.4444444444444444,
             "#bd3786"
            ],
            [
             0.5555555555555556,
             "#d8576b"
            ],
            [
             0.6666666666666666,
             "#ed7953"
            ],
            [
             0.7777777777777778,
             "#fb9f3a"
            ],
            [
             0.8888888888888888,
             "#fdca26"
            ],
            [
             1,
             "#f0f921"
            ]
           ],
           "sequentialminus": [
            [
             0,
             "#0d0887"
            ],
            [
             0.1111111111111111,
             "#46039f"
            ],
            [
             0.2222222222222222,
             "#7201a8"
            ],
            [
             0.3333333333333333,
             "#9c179e"
            ],
            [
             0.4444444444444444,
             "#bd3786"
            ],
            [
             0.5555555555555556,
             "#d8576b"
            ],
            [
             0.6666666666666666,
             "#ed7953"
            ],
            [
             0.7777777777777778,
             "#fb9f3a"
            ],
            [
             0.8888888888888888,
             "#fdca26"
            ],
            [
             1,
             "#f0f921"
            ]
           ]
          },
          "colorway": [
           "#636efa",
           "#EF553B",
           "#00cc96",
           "#ab63fa",
           "#FFA15A",
           "#19d3f3",
           "#FF6692",
           "#B6E880",
           "#FF97FF",
           "#FECB52"
          ],
          "font": {
           "color": "#2a3f5f"
          },
          "geo": {
           "bgcolor": "white",
           "lakecolor": "white",
           "landcolor": "#E5ECF6",
           "showlakes": true,
           "showland": true,
           "subunitcolor": "white"
          },
          "hoverlabel": {
           "align": "left"
          },
          "hovermode": "closest",
          "mapbox": {
           "style": "light"
          },
          "paper_bgcolor": "white",
          "plot_bgcolor": "#E5ECF6",
          "polar": {
           "angularaxis": {
            "gridcolor": "white",
            "linecolor": "white",
            "ticks": ""
           },
           "bgcolor": "#E5ECF6",
           "radialaxis": {
            "gridcolor": "white",
            "linecolor": "white",
            "ticks": ""
           }
          },
          "scene": {
           "xaxis": {
            "backgroundcolor": "#E5ECF6",
            "gridcolor": "white",
            "gridwidth": 2,
            "linecolor": "white",
            "showbackground": true,
            "ticks": "",
            "zerolinecolor": "white"
           },
           "yaxis": {
            "backgroundcolor": "#E5ECF6",
            "gridcolor": "white",
            "gridwidth": 2,
            "linecolor": "white",
            "showbackground": true,
            "ticks": "",
            "zerolinecolor": "white"
           },
           "zaxis": {
            "backgroundcolor": "#E5ECF6",
            "gridcolor": "white",
            "gridwidth": 2,
            "linecolor": "white",
            "showbackground": true,
            "ticks": "",
            "zerolinecolor": "white"
           }
          },
          "shapedefaults": {
           "line": {
            "color": "#2a3f5f"
           }
          },
          "ternary": {
           "aaxis": {
            "gridcolor": "white",
            "linecolor": "white",
            "ticks": ""
           },
           "baxis": {
            "gridcolor": "white",
            "linecolor": "white",
            "ticks": ""
           },
           "bgcolor": "#E5ECF6",
           "caxis": {
            "gridcolor": "white",
            "linecolor": "white",
            "ticks": ""
           }
          },
          "title": {
           "x": 0.05
          },
          "xaxis": {
           "automargin": true,
           "gridcolor": "white",
           "linecolor": "white",
           "ticks": "",
           "title": {
            "standoff": 15
           },
           "zerolinecolor": "white",
           "zerolinewidth": 2
          },
          "yaxis": {
           "automargin": true,
           "gridcolor": "white",
           "linecolor": "white",
           "ticks": "",
           "title": {
            "standoff": 15
           },
           "zerolinecolor": "white",
           "zerolinewidth": 2
          }
         }
        },
        "title": {
         "text": "Number of Smokers"
        },
        "xaxis": {
         "anchor": "y",
         "domain": [
          0,
          1
         ],
         "title": {
          "text": "smoker"
         }
        },
        "yaxis": {
         "anchor": "x",
         "domain": [
          0,
          1
         ],
         "title": {
          "text": "count"
         }
        }
       }
      }
     },
     "metadata": {},
     "output_type": "display_data"
    }
   ],
   "source": [
    "#Create some basic visuals using plotly.express to view some of the data\n",
    "smoker_by_sex_chart = px.histogram(h_data, x = \"smoker\", color = \"sex\", title = \"Number of Smokers\")\n",
    "smoker_by_sex_chart.show()"
   ]
  },
  {
   "cell_type": "code",
   "execution_count": 8,
   "metadata": {},
   "outputs": [
    {
     "data": {
      "text/plain": [
       "18    69\n",
       "19    68\n",
       "50    29\n",
       "51    29\n",
       "47    29\n",
       "46    29\n",
       "45    29\n",
       "20    29\n",
       "48    29\n",
       "52    29\n",
       "22    28\n",
       "49    28\n",
       "54    28\n",
       "53    28\n",
       "21    28\n",
       "26    28\n",
       "24    28\n",
       "25    28\n",
       "28    28\n",
       "27    28\n",
       "23    28\n",
       "43    27\n",
       "29    27\n",
       "30    27\n",
       "41    27\n",
       "42    27\n",
       "44    27\n",
       "31    27\n",
       "40    27\n",
       "32    26\n",
       "33    26\n",
       "56    26\n",
       "34    26\n",
       "55    26\n",
       "57    26\n",
       "37    25\n",
       "59    25\n",
       "58    25\n",
       "36    25\n",
       "38    25\n",
       "35    25\n",
       "39    25\n",
       "61    23\n",
       "60    23\n",
       "63    23\n",
       "62    23\n",
       "64    22\n",
       "Name: age, dtype: int64"
      ]
     },
     "execution_count": 8,
     "metadata": {},
     "output_type": "execute_result"
    }
   ],
   "source": [
    "#Finding values of age column\n",
    "h_data[\"age\"].value_counts()"
   ]
  },
  {
   "cell_type": "code",
   "execution_count": 9,
   "metadata": {},
   "outputs": [
    {
     "data": {
      "application/vnd.plotly.v1+json": {
       "config": {
        "plotlyServerURL": "https://plotly.com"
       },
       "data": [
        {
         "alignmentgroup": "True",
         "bingroup": "x",
         "hovertemplate": "age=%{x}<br>count=%{y}<extra></extra>",
         "legendgroup": "",
         "marker": {
          "color": "#636efa",
          "pattern": {
           "shape": ""
          }
         },
         "name": "",
         "nbinsx": 47,
         "offsetgroup": "",
         "orientation": "v",
         "showlegend": false,
         "type": "histogram",
         "x": [
          19,
          18,
          28,
          33,
          32,
          31,
          46,
          37,
          37,
          60,
          25,
          62,
          23,
          56,
          27,
          19,
          52,
          23,
          56,
          30,
          60,
          30,
          18,
          34,
          37,
          59,
          63,
          55,
          23,
          31,
          22,
          18,
          19,
          63,
          28,
          19,
          62,
          26,
          35,
          60,
          24,
          31,
          41,
          37,
          38,
          55,
          18,
          28,
          60,
          36,
          18,
          21,
          48,
          36,
          40,
          58,
          58,
          18,
          53,
          34,
          43,
          25,
          64,
          28,
          20,
          19,
          61,
          40,
          40,
          28,
          27,
          31,
          53,
          58,
          44,
          57,
          29,
          21,
          22,
          41,
          31,
          45,
          22,
          48,
          37,
          45,
          57,
          56,
          46,
          55,
          21,
          53,
          59,
          35,
          64,
          28,
          54,
          55,
          56,
          38,
          41,
          30,
          18,
          61,
          34,
          20,
          19,
          26,
          29,
          63,
          54,
          55,
          37,
          21,
          52,
          60,
          58,
          29,
          49,
          37,
          44,
          18,
          20,
          44,
          47,
          26,
          19,
          52,
          32,
          38,
          59,
          61,
          53,
          19,
          20,
          22,
          19,
          22,
          54,
          22,
          34,
          26,
          34,
          29,
          30,
          29,
          46,
          51,
          53,
          19,
          35,
          48,
          32,
          42,
          40,
          44,
          48,
          18,
          30,
          50,
          42,
          18,
          54,
          32,
          37,
          47,
          20,
          32,
          19,
          27,
          63,
          49,
          18,
          35,
          24,
          63,
          38,
          54,
          46,
          41,
          58,
          18,
          22,
          44,
          44,
          36,
          26,
          30,
          41,
          29,
          61,
          36,
          25,
          56,
          18,
          19,
          39,
          45,
          51,
          64,
          19,
          48,
          60,
          27,
          46,
          28,
          59,
          35,
          63,
          40,
          20,
          40,
          24,
          34,
          45,
          41,
          53,
          27,
          26,
          24,
          34,
          53,
          32,
          19,
          42,
          55,
          28,
          58,
          41,
          47,
          42,
          59,
          19,
          59,
          39,
          40,
          18,
          31,
          19,
          44,
          23,
          33,
          55,
          40,
          63,
          54,
          60,
          24,
          19,
          29,
          18,
          63,
          54,
          27,
          50,
          55,
          56,
          38,
          51,
          19,
          58,
          20,
          52,
          19,
          53,
          46,
          40,
          59,
          45,
          49,
          18,
          50,
          41,
          50,
          25,
          47,
          19,
          22,
          59,
          51,
          40,
          54,
          30,
          55,
          52,
          46,
          46,
          63,
          59,
          52,
          28,
          29,
          25,
          22,
          25,
          18,
          19,
          47,
          31,
          48,
          36,
          53,
          56,
          28,
          57,
          29,
          28,
          30,
          58,
          41,
          50,
          19,
          43,
          49,
          27,
          52,
          50,
          54,
          44,
          32,
          34,
          26,
          34,
          57,
          29,
          40,
          27,
          45,
          64,
          52,
          61,
          52,
          61,
          56,
          43,
          64,
          60,
          62,
          50,
          46,
          24,
          62,
          60,
          63,
          49,
          34,
          33,
          46,
          36,
          19,
          57,
          50,
          30,
          33,
          18,
          46,
          46,
          47,
          23,
          18,
          48,
          35,
          19,
          21,
          21,
          49,
          56,
          42,
          44,
          18,
          61,
          57,
          42,
          26,
          20,
          23,
          39,
          24,
          64,
          62,
          27,
          55,
          55,
          35,
          44,
          19,
          58,
          50,
          26,
          24,
          48,
          19,
          48,
          49,
          46,
          46,
          43,
          21,
          64,
          18,
          51,
          47,
          64,
          49,
          31,
          52,
          33,
          47,
          38,
          32,
          19,
          44,
          26,
          25,
          19,
          43,
          52,
          36,
          64,
          63,
          64,
          61,
          40,
          25,
          48,
          45,
          38,
          18,
          21,
          27,
          19,
          29,
          42,
          60,
          31,
          60,
          22,
          35,
          52,
          26,
          31,
          33,
          18,
          59,
          56,
          45,
          60,
          56,
          40,
          35,
          39,
          30,
          24,
          20,
          32,
          59,
          55,
          57,
          56,
          40,
          49,
          42,
          62,
          56,
          19,
          30,
          60,
          56,
          28,
          18,
          27,
          18,
          19,
          47,
          54,
          61,
          24,
          25,
          21,
          23,
          63,
          49,
          18,
          51,
          48,
          31,
          54,
          19,
          44,
          53,
          19,
          61,
          18,
          61,
          21,
          20,
          31,
          45,
          44,
          62,
          29,
          43,
          51,
          19,
          38,
          37,
          22,
          21,
          24,
          57,
          56,
          27,
          51,
          19,
          39,
          58,
          20,
          45,
          35,
          31,
          50,
          32,
          51,
          38,
          42,
          18,
          19,
          51,
          46,
          18,
          57,
          62,
          59,
          37,
          64,
          38,
          33,
          46,
          46,
          53,
          34,
          20,
          63,
          54,
          54,
          49,
          28,
          54,
          25,
          43,
          63,
          32,
          62,
          52,
          25,
          28,
          46,
          34,
          35,
          19,
          46,
          54,
          27,
          50,
          18,
          19,
          38,
          41,
          49,
          48,
          31,
          18,
          30,
          62,
          57,
          58,
          22,
          31,
          52,
          25,
          59,
          19,
          39,
          32,
          19,
          33,
          21,
          34,
          61,
          38,
          58,
          47,
          20,
          21,
          41,
          46,
          42,
          34,
          43,
          52,
          18,
          51,
          56,
          64,
          19,
          51,
          27,
          59,
          28,
          30,
          47,
          38,
          18,
          34,
          20,
          47,
          56,
          49,
          19,
          55,
          30,
          37,
          49,
          18,
          59,
          29,
          36,
          33,
          58,
          44,
          53,
          24,
          29,
          40,
          51,
          64,
          19,
          35,
          39,
          56,
          33,
          42,
          61,
          23,
          43,
          48,
          39,
          40,
          18,
          58,
          49,
          53,
          48,
          45,
          59,
          52,
          26,
          27,
          48,
          57,
          37,
          57,
          32,
          18,
          64,
          43,
          49,
          40,
          62,
          40,
          30,
          29,
          36,
          41,
          44,
          45,
          55,
          60,
          56,
          49,
          21,
          19,
          39,
          53,
          33,
          53,
          42,
          40,
          47,
          27,
          21,
          47,
          20,
          24,
          27,
          26,
          53,
          41,
          56,
          23,
          21,
          50,
          53,
          34,
          47,
          33,
          51,
          49,
          31,
          36,
          18,
          50,
          43,
          20,
          24,
          60,
          49,
          60,
          51,
          58,
          51,
          53,
          62,
          19,
          50,
          30,
          41,
          29,
          18,
          41,
          35,
          53,
          24,
          48,
          59,
          49,
          37,
          26,
          23,
          29,
          45,
          27,
          53,
          31,
          50,
          50,
          34,
          19,
          47,
          28,
          37,
          21,
          64,
          58,
          24,
          31,
          39,
          47,
          30,
          18,
          22,
          23,
          33,
          27,
          45,
          57,
          47,
          42,
          64,
          38,
          61,
          53,
          44,
          19,
          41,
          51,
          40,
          45,
          35,
          53,
          30,
          18,
          51,
          50,
          31,
          35,
          60,
          21,
          29,
          62,
          39,
          19,
          22,
          53,
          39,
          27,
          30,
          30,
          58,
          33,
          42,
          64,
          21,
          18,
          23,
          45,
          40,
          19,
          18,
          25,
          46,
          33,
          54,
          28,
          36,
          20,
          24,
          23,
          47,
          33,
          45,
          26,
          18,
          44,
          60,
          64,
          56,
          36,
          41,
          39,
          63,
          36,
          28,
          58,
          36,
          42,
          36,
          56,
          35,
          59,
          21,
          59,
          23,
          57,
          53,
          60,
          51,
          23,
          27,
          55,
          37,
          61,
          46,
          53,
          49,
          20,
          48,
          25,
          25,
          57,
          37,
          38,
          55,
          36,
          51,
          40,
          18,
          57,
          61,
          25,
          50,
          26,
          42,
          43,
          44,
          23,
          49,
          33,
          41,
          37,
          22,
          23,
          21,
          51,
          25,
          32,
          57,
          36,
          22,
          57,
          64,
          36,
          54,
          47,
          62,
          61,
          43,
          19,
          18,
          19,
          49,
          60,
          26,
          49,
          60,
          26,
          27,
          44,
          63,
          32,
          22,
          18,
          59,
          44,
          33,
          24,
          43,
          45,
          61,
          35,
          62,
          62,
          38,
          34,
          43,
          50,
          19,
          57,
          62,
          41,
          26,
          39,
          46,
          45,
          32,
          59,
          44,
          39,
          18,
          53,
          18,
          50,
          18,
          19,
          62,
          56,
          42,
          37,
          42,
          25,
          57,
          51,
          30,
          44,
          34,
          31,
          54,
          24,
          43,
          48,
          19,
          29,
          63,
          46,
          52,
          35,
          51,
          44,
          21,
          39,
          50,
          34,
          22,
          19,
          26,
          29,
          48,
          26,
          45,
          36,
          54,
          34,
          31,
          27,
          20,
          44,
          43,
          45,
          34,
          24,
          26,
          38,
          50,
          38,
          27,
          39,
          39,
          63,
          33,
          36,
          30,
          24,
          24,
          48,
          47,
          29,
          28,
          47,
          25,
          51,
          48,
          43,
          61,
          48,
          38,
          59,
          19,
          26,
          54,
          21,
          51,
          22,
          47,
          18,
          47,
          21,
          19,
          23,
          54,
          37,
          46,
          55,
          30,
          18,
          61,
          54,
          22,
          45,
          22,
          19,
          35,
          18,
          20,
          28,
          55,
          43,
          43,
          22,
          25,
          49,
          44,
          64,
          49,
          47,
          27,
          55,
          48,
          45,
          24,
          32,
          24,
          57,
          59,
          36,
          29,
          42,
          48,
          39,
          63,
          54,
          37,
          63,
          21,
          54,
          60,
          32,
          47,
          21,
          28,
          63,
          18,
          32,
          38,
          32,
          62,
          39,
          55,
          57,
          52,
          56,
          47,
          55,
          23,
          22,
          50,
          18,
          51,
          22,
          52,
          25,
          33,
          53,
          29,
          58,
          37,
          54,
          49,
          50,
          26,
          45,
          54,
          38,
          48,
          28,
          23,
          55,
          41,
          25,
          33,
          30,
          23,
          46,
          53,
          27,
          23,
          63,
          55,
          35,
          34,
          19,
          39,
          27,
          57,
          52,
          28,
          50,
          44,
          26,
          33,
          19,
          50,
          41,
          52,
          39,
          50,
          52,
          60,
          20,
          55,
          42,
          18,
          58,
          43,
          35,
          48,
          36,
          19,
          23,
          20,
          32,
          43,
          34,
          30,
          18,
          41,
          35,
          57,
          29,
          32,
          37,
          18,
          43,
          56,
          38,
          29,
          22,
          52,
          40,
          23,
          31,
          42,
          24,
          25,
          48,
          23,
          45,
          20,
          62,
          43,
          23,
          31,
          41,
          58,
          48,
          31,
          19,
          19,
          41,
          40,
          31,
          37,
          46,
          22,
          51,
          18,
          35,
          59,
          36,
          37,
          59,
          36,
          39,
          18,
          52,
          27,
          18,
          40,
          29,
          46,
          38,
          30,
          40,
          50,
          20,
          41,
          33,
          38,
          42,
          56,
          58,
          52,
          20,
          54,
          58,
          45,
          26,
          63,
          58,
          37,
          25,
          52,
          64,
          22,
          28,
          18,
          28,
          45,
          33,
          18,
          32,
          24,
          19,
          20,
          40,
          34,
          42,
          51,
          54,
          55,
          52,
          32,
          28,
          41,
          43,
          49,
          64,
          55,
          24,
          20,
          45,
          26,
          25,
          43,
          35,
          26,
          57,
          22,
          32,
          39,
          25,
          48,
          47,
          18,
          18,
          61,
          47,
          28,
          36,
          20,
          44,
          38,
          19,
          21,
          46,
          58,
          20,
          18,
          28,
          33,
          19,
          45,
          62,
          25,
          43,
          42,
          24,
          29,
          32,
          25,
          41,
          42,
          33,
          34,
          19,
          30,
          18,
          19,
          18,
          35,
          39,
          31,
          62,
          62,
          42,
          31,
          61,
          42,
          51,
          23,
          52,
          57,
          23,
          52,
          50,
          18,
          18,
          21,
          61
         ],
         "xaxis": "x",
         "yaxis": "y"
        }
       ],
       "layout": {
        "bargap": 0.1,
        "barmode": "relative",
        "legend": {
         "tracegroupgap": 0
        },
        "template": {
         "data": {
          "bar": [
           {
            "error_x": {
             "color": "#2a3f5f"
            },
            "error_y": {
             "color": "#2a3f5f"
            },
            "marker": {
             "line": {
              "color": "#E5ECF6",
              "width": 0.5
             },
             "pattern": {
              "fillmode": "overlay",
              "size": 10,
              "solidity": 0.2
             }
            },
            "type": "bar"
           }
          ],
          "barpolar": [
           {
            "marker": {
             "line": {
              "color": "#E5ECF6",
              "width": 0.5
             },
             "pattern": {
              "fillmode": "overlay",
              "size": 10,
              "solidity": 0.2
             }
            },
            "type": "barpolar"
           }
          ],
          "carpet": [
           {
            "aaxis": {
             "endlinecolor": "#2a3f5f",
             "gridcolor": "white",
             "linecolor": "white",
             "minorgridcolor": "white",
             "startlinecolor": "#2a3f5f"
            },
            "baxis": {
             "endlinecolor": "#2a3f5f",
             "gridcolor": "white",
             "linecolor": "white",
             "minorgridcolor": "white",
             "startlinecolor": "#2a3f5f"
            },
            "type": "carpet"
           }
          ],
          "choropleth": [
           {
            "colorbar": {
             "outlinewidth": 0,
             "ticks": ""
            },
            "type": "choropleth"
           }
          ],
          "contour": [
           {
            "colorbar": {
             "outlinewidth": 0,
             "ticks": ""
            },
            "colorscale": [
             [
              0,
              "#0d0887"
             ],
             [
              0.1111111111111111,
              "#46039f"
             ],
             [
              0.2222222222222222,
              "#7201a8"
             ],
             [
              0.3333333333333333,
              "#9c179e"
             ],
             [
              0.4444444444444444,
              "#bd3786"
             ],
             [
              0.5555555555555556,
              "#d8576b"
             ],
             [
              0.6666666666666666,
              "#ed7953"
             ],
             [
              0.7777777777777778,
              "#fb9f3a"
             ],
             [
              0.8888888888888888,
              "#fdca26"
             ],
             [
              1,
              "#f0f921"
             ]
            ],
            "type": "contour"
           }
          ],
          "contourcarpet": [
           {
            "colorbar": {
             "outlinewidth": 0,
             "ticks": ""
            },
            "type": "contourcarpet"
           }
          ],
          "heatmap": [
           {
            "colorbar": {
             "outlinewidth": 0,
             "ticks": ""
            },
            "colorscale": [
             [
              0,
              "#0d0887"
             ],
             [
              0.1111111111111111,
              "#46039f"
             ],
             [
              0.2222222222222222,
              "#7201a8"
             ],
             [
              0.3333333333333333,
              "#9c179e"
             ],
             [
              0.4444444444444444,
              "#bd3786"
             ],
             [
              0.5555555555555556,
              "#d8576b"
             ],
             [
              0.6666666666666666,
              "#ed7953"
             ],
             [
              0.7777777777777778,
              "#fb9f3a"
             ],
             [
              0.8888888888888888,
              "#fdca26"
             ],
             [
              1,
              "#f0f921"
             ]
            ],
            "type": "heatmap"
           }
          ],
          "heatmapgl": [
           {
            "colorbar": {
             "outlinewidth": 0,
             "ticks": ""
            },
            "colorscale": [
             [
              0,
              "#0d0887"
             ],
             [
              0.1111111111111111,
              "#46039f"
             ],
             [
              0.2222222222222222,
              "#7201a8"
             ],
             [
              0.3333333333333333,
              "#9c179e"
             ],
             [
              0.4444444444444444,
              "#bd3786"
             ],
             [
              0.5555555555555556,
              "#d8576b"
             ],
             [
              0.6666666666666666,
              "#ed7953"
             ],
             [
              0.7777777777777778,
              "#fb9f3a"
             ],
             [
              0.8888888888888888,
              "#fdca26"
             ],
             [
              1,
              "#f0f921"
             ]
            ],
            "type": "heatmapgl"
           }
          ],
          "histogram": [
           {
            "marker": {
             "pattern": {
              "fillmode": "overlay",
              "size": 10,
              "solidity": 0.2
             }
            },
            "type": "histogram"
           }
          ],
          "histogram2d": [
           {
            "colorbar": {
             "outlinewidth": 0,
             "ticks": ""
            },
            "colorscale": [
             [
              0,
              "#0d0887"
             ],
             [
              0.1111111111111111,
              "#46039f"
             ],
             [
              0.2222222222222222,
              "#7201a8"
             ],
             [
              0.3333333333333333,
              "#9c179e"
             ],
             [
              0.4444444444444444,
              "#bd3786"
             ],
             [
              0.5555555555555556,
              "#d8576b"
             ],
             [
              0.6666666666666666,
              "#ed7953"
             ],
             [
              0.7777777777777778,
              "#fb9f3a"
             ],
             [
              0.8888888888888888,
              "#fdca26"
             ],
             [
              1,
              "#f0f921"
             ]
            ],
            "type": "histogram2d"
           }
          ],
          "histogram2dcontour": [
           {
            "colorbar": {
             "outlinewidth": 0,
             "ticks": ""
            },
            "colorscale": [
             [
              0,
              "#0d0887"
             ],
             [
              0.1111111111111111,
              "#46039f"
             ],
             [
              0.2222222222222222,
              "#7201a8"
             ],
             [
              0.3333333333333333,
              "#9c179e"
             ],
             [
              0.4444444444444444,
              "#bd3786"
             ],
             [
              0.5555555555555556,
              "#d8576b"
             ],
             [
              0.6666666666666666,
              "#ed7953"
             ],
             [
              0.7777777777777778,
              "#fb9f3a"
             ],
             [
              0.8888888888888888,
              "#fdca26"
             ],
             [
              1,
              "#f0f921"
             ]
            ],
            "type": "histogram2dcontour"
           }
          ],
          "mesh3d": [
           {
            "colorbar": {
             "outlinewidth": 0,
             "ticks": ""
            },
            "type": "mesh3d"
           }
          ],
          "parcoords": [
           {
            "line": {
             "colorbar": {
              "outlinewidth": 0,
              "ticks": ""
             }
            },
            "type": "parcoords"
           }
          ],
          "pie": [
           {
            "automargin": true,
            "type": "pie"
           }
          ],
          "scatter": [
           {
            "fillpattern": {
             "fillmode": "overlay",
             "size": 10,
             "solidity": 0.2
            },
            "type": "scatter"
           }
          ],
          "scatter3d": [
           {
            "line": {
             "colorbar": {
              "outlinewidth": 0,
              "ticks": ""
             }
            },
            "marker": {
             "colorbar": {
              "outlinewidth": 0,
              "ticks": ""
             }
            },
            "type": "scatter3d"
           }
          ],
          "scattercarpet": [
           {
            "marker": {
             "colorbar": {
              "outlinewidth": 0,
              "ticks": ""
             }
            },
            "type": "scattercarpet"
           }
          ],
          "scattergeo": [
           {
            "marker": {
             "colorbar": {
              "outlinewidth": 0,
              "ticks": ""
             }
            },
            "type": "scattergeo"
           }
          ],
          "scattergl": [
           {
            "marker": {
             "colorbar": {
              "outlinewidth": 0,
              "ticks": ""
             }
            },
            "type": "scattergl"
           }
          ],
          "scattermapbox": [
           {
            "marker": {
             "colorbar": {
              "outlinewidth": 0,
              "ticks": ""
             }
            },
            "type": "scattermapbox"
           }
          ],
          "scatterpolar": [
           {
            "marker": {
             "colorbar": {
              "outlinewidth": 0,
              "ticks": ""
             }
            },
            "type": "scatterpolar"
           }
          ],
          "scatterpolargl": [
           {
            "marker": {
             "colorbar": {
              "outlinewidth": 0,
              "ticks": ""
             }
            },
            "type": "scatterpolargl"
           }
          ],
          "scatterternary": [
           {
            "marker": {
             "colorbar": {
              "outlinewidth": 0,
              "ticks": ""
             }
            },
            "type": "scatterternary"
           }
          ],
          "surface": [
           {
            "colorbar": {
             "outlinewidth": 0,
             "ticks": ""
            },
            "colorscale": [
             [
              0,
              "#0d0887"
             ],
             [
              0.1111111111111111,
              "#46039f"
             ],
             [
              0.2222222222222222,
              "#7201a8"
             ],
             [
              0.3333333333333333,
              "#9c179e"
             ],
             [
              0.4444444444444444,
              "#bd3786"
             ],
             [
              0.5555555555555556,
              "#d8576b"
             ],
             [
              0.6666666666666666,
              "#ed7953"
             ],
             [
              0.7777777777777778,
              "#fb9f3a"
             ],
             [
              0.8888888888888888,
              "#fdca26"
             ],
             [
              1,
              "#f0f921"
             ]
            ],
            "type": "surface"
           }
          ],
          "table": [
           {
            "cells": {
             "fill": {
              "color": "#EBF0F8"
             },
             "line": {
              "color": "white"
             }
            },
            "header": {
             "fill": {
              "color": "#C8D4E3"
             },
             "line": {
              "color": "white"
             }
            },
            "type": "table"
           }
          ]
         },
         "layout": {
          "annotationdefaults": {
           "arrowcolor": "#2a3f5f",
           "arrowhead": 0,
           "arrowwidth": 1
          },
          "autotypenumbers": "strict",
          "coloraxis": {
           "colorbar": {
            "outlinewidth": 0,
            "ticks": ""
           }
          },
          "colorscale": {
           "diverging": [
            [
             0,
             "#8e0152"
            ],
            [
             0.1,
             "#c51b7d"
            ],
            [
             0.2,
             "#de77ae"
            ],
            [
             0.3,
             "#f1b6da"
            ],
            [
             0.4,
             "#fde0ef"
            ],
            [
             0.5,
             "#f7f7f7"
            ],
            [
             0.6,
             "#e6f5d0"
            ],
            [
             0.7,
             "#b8e186"
            ],
            [
             0.8,
             "#7fbc41"
            ],
            [
             0.9,
             "#4d9221"
            ],
            [
             1,
             "#276419"
            ]
           ],
           "sequential": [
            [
             0,
             "#0d0887"
            ],
            [
             0.1111111111111111,
             "#46039f"
            ],
            [
             0.2222222222222222,
             "#7201a8"
            ],
            [
             0.3333333333333333,
             "#9c179e"
            ],
            [
             0.4444444444444444,
             "#bd3786"
            ],
            [
             0.5555555555555556,
             "#d8576b"
            ],
            [
             0.6666666666666666,
             "#ed7953"
            ],
            [
             0.7777777777777778,
             "#fb9f3a"
            ],
            [
             0.8888888888888888,
             "#fdca26"
            ],
            [
             1,
             "#f0f921"
            ]
           ],
           "sequentialminus": [
            [
             0,
             "#0d0887"
            ],
            [
             0.1111111111111111,
             "#46039f"
            ],
            [
             0.2222222222222222,
             "#7201a8"
            ],
            [
             0.3333333333333333,
             "#9c179e"
            ],
            [
             0.4444444444444444,
             "#bd3786"
            ],
            [
             0.5555555555555556,
             "#d8576b"
            ],
            [
             0.6666666666666666,
             "#ed7953"
            ],
            [
             0.7777777777777778,
             "#fb9f3a"
            ],
            [
             0.8888888888888888,
             "#fdca26"
            ],
            [
             1,
             "#f0f921"
            ]
           ]
          },
          "colorway": [
           "#636efa",
           "#EF553B",
           "#00cc96",
           "#ab63fa",
           "#FFA15A",
           "#19d3f3",
           "#FF6692",
           "#B6E880",
           "#FF97FF",
           "#FECB52"
          ],
          "font": {
           "color": "#2a3f5f"
          },
          "geo": {
           "bgcolor": "white",
           "lakecolor": "white",
           "landcolor": "#E5ECF6",
           "showlakes": true,
           "showland": true,
           "subunitcolor": "white"
          },
          "hoverlabel": {
           "align": "left"
          },
          "hovermode": "closest",
          "mapbox": {
           "style": "light"
          },
          "paper_bgcolor": "white",
          "plot_bgcolor": "#E5ECF6",
          "polar": {
           "angularaxis": {
            "gridcolor": "white",
            "linecolor": "white",
            "ticks": ""
           },
           "bgcolor": "#E5ECF6",
           "radialaxis": {
            "gridcolor": "white",
            "linecolor": "white",
            "ticks": ""
           }
          },
          "scene": {
           "xaxis": {
            "backgroundcolor": "#E5ECF6",
            "gridcolor": "white",
            "gridwidth": 2,
            "linecolor": "white",
            "showbackground": true,
            "ticks": "",
            "zerolinecolor": "white"
           },
           "yaxis": {
            "backgroundcolor": "#E5ECF6",
            "gridcolor": "white",
            "gridwidth": 2,
            "linecolor": "white",
            "showbackground": true,
            "ticks": "",
            "zerolinecolor": "white"
           },
           "zaxis": {
            "backgroundcolor": "#E5ECF6",
            "gridcolor": "white",
            "gridwidth": 2,
            "linecolor": "white",
            "showbackground": true,
            "ticks": "",
            "zerolinecolor": "white"
           }
          },
          "shapedefaults": {
           "line": {
            "color": "#2a3f5f"
           }
          },
          "ternary": {
           "aaxis": {
            "gridcolor": "white",
            "linecolor": "white",
            "ticks": ""
           },
           "baxis": {
            "gridcolor": "white",
            "linecolor": "white",
            "ticks": ""
           },
           "bgcolor": "#E5ECF6",
           "caxis": {
            "gridcolor": "white",
            "linecolor": "white",
            "ticks": ""
           }
          },
          "title": {
           "x": 0.05
          },
          "xaxis": {
           "automargin": true,
           "gridcolor": "white",
           "linecolor": "white",
           "ticks": "",
           "title": {
            "standoff": 15
           },
           "zerolinecolor": "white",
           "zerolinewidth": 2
          },
          "yaxis": {
           "automargin": true,
           "gridcolor": "white",
           "linecolor": "white",
           "ticks": "",
           "title": {
            "standoff": 15
           },
           "zerolinecolor": "white",
           "zerolinewidth": 2
          }
         }
        },
        "title": {
         "text": "Distribution of Age"
        },
        "xaxis": {
         "anchor": "y",
         "domain": [
          0,
          1
         ],
         "title": {
          "text": "age"
         }
        },
        "yaxis": {
         "anchor": "x",
         "domain": [
          0,
          1
         ],
         "title": {
          "text": "count"
         }
        }
       }
      }
     },
     "metadata": {},
     "output_type": "display_data"
    }
   ],
   "source": [
    "#Create a visual that shows the range of ages in the data set (youngest age is 18, oldest age is 64 --> create 47 bins for the histogram)\n",
    "age_distribution = px.histogram(h_data, x = 'age', nbins = 47, title = 'Distribution of Age')\n",
    "age_distribution.update_layout(bargap=0.1)\n",
    "age_distribution.show()"
   ]
  },
  {
   "cell_type": "code",
   "execution_count": 10,
   "metadata": {},
   "outputs": [
    {
     "data": {
      "text/plain": [
       "count    1338.000000\n",
       "mean       30.663397\n",
       "std         6.098187\n",
       "min        15.960000\n",
       "25%        26.296250\n",
       "50%        30.400000\n",
       "75%        34.693750\n",
       "max        53.130000\n",
       "Name: bmi, dtype: float64"
      ]
     },
     "execution_count": 10,
     "metadata": {},
     "output_type": "execute_result"
    }
   ],
   "source": [
    "#Check use .describe() to see the range of values of the bmi column\n",
    "h_data[\"bmi\"].describe()\n",
    "#From national institutes of health https://www.nhlbi.nih.gov/health/educational/lose_wt/BMI/bmi_tbl.pdf\n",
    "#\"Normal\" is 19-24, \"Overweight\" is 25-29, \"Obese\" is 30-39, \"Extreme Obesity\" is 40+\n"
   ]
  },
  {
   "cell_type": "code",
   "execution_count": 11,
   "metadata": {},
   "outputs": [
    {
     "data": {
      "application/vnd.plotly.v1+json": {
       "config": {
        "plotlyServerURL": "https://plotly.com"
       },
       "data": [
        {
         "alignmentgroup": "True",
         "bingroup": "x",
         "hovertemplate": "bmi=%{x}<br>count=%{y}<extra></extra>",
         "legendgroup": "",
         "marker": {
          "color": "purple",
          "pattern": {
           "shape": ""
          }
         },
         "name": "",
         "offsetgroup": "",
         "orientation": "v",
         "showlegend": false,
         "type": "histogram",
         "x": [
          27.9,
          33.77,
          33,
          22.705,
          28.88,
          25.74,
          33.44,
          27.74,
          29.83,
          25.84,
          26.22,
          26.29,
          34.4,
          39.82,
          42.13,
          24.6,
          30.78,
          23.845,
          40.3,
          35.3,
          36.005,
          32.4,
          34.1,
          31.92,
          28.025,
          27.72,
          23.085,
          32.775,
          17.385,
          36.3,
          35.6,
          26.315,
          28.6,
          28.31,
          36.4,
          20.425,
          32.965,
          20.8,
          36.67,
          39.9,
          26.6,
          36.63,
          21.78,
          30.8,
          37.05,
          37.3,
          38.665,
          34.77,
          24.53,
          35.2,
          35.625,
          33.63,
          28,
          34.43,
          28.69,
          36.955,
          31.825,
          31.68,
          22.88,
          37.335,
          27.36,
          33.66,
          24.7,
          25.935,
          22.42,
          28.9,
          39.1,
          26.315,
          36.19,
          23.98,
          24.75,
          28.5,
          28.1,
          32.01,
          27.4,
          34.01,
          29.59,
          35.53,
          39.805,
          32.965,
          26.885,
          38.285,
          37.62,
          41.23,
          34.8,
          22.895,
          31.16,
          27.2,
          27.74,
          26.98,
          39.49,
          24.795,
          29.83,
          34.77,
          31.3,
          37.62,
          30.8,
          38.28,
          19.95,
          19.3,
          31.6,
          25.46,
          30.115,
          29.92,
          27.5,
          28.025,
          28.4,
          30.875,
          27.94,
          35.09,
          33.63,
          29.7,
          30.8,
          35.72,
          32.205,
          28.595,
          49.06,
          27.94,
          27.17,
          23.37,
          37.1,
          23.75,
          28.975,
          31.35,
          33.915,
          28.785,
          28.3,
          37.4,
          17.765,
          34.7,
          26.505,
          22.04,
          35.9,
          25.555,
          28.785,
          28.05,
          34.1,
          25.175,
          31.9,
          36,
          22.42,
          32.49,
          25.3,
          29.735,
          28.69,
          38.83,
          30.495,
          37.73,
          37.43,
          28.4,
          24.13,
          29.7,
          37.145,
          23.37,
          25.46,
          39.52,
          24.42,
          25.175,
          35.53,
          27.83,
          26.6,
          36.85,
          39.6,
          29.8,
          29.64,
          28.215,
          37,
          33.155,
          31.825,
          18.905,
          41.47,
          30.3,
          15.96,
          34.8,
          33.345,
          37.7,
          27.835,
          29.2,
          28.9,
          33.155,
          28.595,
          38.28,
          19.95,
          26.41,
          30.69,
          41.895,
          29.92,
          30.9,
          32.2,
          32.11,
          31.57,
          26.2,
          25.74,
          26.6,
          34.43,
          30.59,
          32.8,
          28.6,
          18.05,
          39.33,
          32.11,
          32.23,
          24.035,
          36.08,
          22.3,
          28.88,
          26.4,
          27.74,
          31.8,
          41.23,
          33,
          30.875,
          28.5,
          26.73,
          30.9,
          37.1,
          26.6,
          23.1,
          29.92,
          23.21,
          33.7,
          33.25,
          30.8,
          34.8,
          24.64,
          33.88,
          38.06,
          41.91,
          31.635,
          25.46,
          36.195,
          27.83,
          17.8,
          27.5,
          24.51,
          22.22,
          26.73,
          38.39,
          29.07,
          38.06,
          36.67,
          22.135,
          26.8,
          35.3,
          27.74,
          30.02,
          38.06,
          35.86,
          20.9,
          28.975,
          17.29,
          32.2,
          34.21,
          30.3,
          31.825,
          25.365,
          33.63,
          40.15,
          24.415,
          31.92,
          25.2,
          26.84,
          24.32,
          36.955,
          38.06,
          42.35,
          19.8,
          32.395,
          30.2,
          25.84,
          29.37,
          34.2,
          37.05,
          27.455,
          27.55,
          26.6,
          20.615,
          24.3,
          31.79,
          21.56,
          28.12,
          40.565,
          27.645,
          32.395,
          31.2,
          26.62,
          48.07,
          26.22,
          36.765,
          26.4,
          33.4,
          29.64,
          45.54,
          28.82,
          26.8,
          22.99,
          27.7,
          25.41,
          34.39,
          28.88,
          27.55,
          22.61,
          37.51,
          33,
          38,
          33.345,
          27.5,
          33.33,
          34.865,
          33.06,
          26.6,
          24.7,
          35.97,
          35.86,
          31.4,
          33.25,
          32.205,
          32.775,
          27.645,
          37.335,
          25.27,
          29.64,
          30.8,
          40.945,
          27.2,
          34.105,
          23.21,
          36.48,
          33.8,
          36.7,
          36.385,
          27.36,
          31.16,
          28.785,
          35.72,
          34.5,
          25.74,
          27.55,
          32.3,
          27.72,
          27.6,
          30.02,
          27.55,
          36.765,
          41.47,
          29.26,
          35.75,
          33.345,
          29.92,
          27.835,
          23.18,
          25.6,
          27.7,
          35.245,
          38.28,
          27.6,
          43.89,
          29.83,
          41.91,
          20.79,
          32.3,
          30.5,
          21.7,
          26.4,
          21.89,
          30.78,
          32.3,
          24.985,
          32.015,
          30.4,
          21.09,
          22.23,
          33.155,
          32.9,
          33.33,
          28.31,
          24.89,
          40.15,
          30.115,
          31.46,
          17.955,
          30.685,
          33,
          43.34,
          22.135,
          34.4,
          39.05,
          25.365,
          22.61,
          30.21,
          35.625,
          37.43,
          31.445,
          31.35,
          32.3,
          19.855,
          34.4,
          31.02,
          25.6,
          38.17,
          20.6,
          47.52,
          32.965,
          32.3,
          20.4,
          38.38,
          24.31,
          23.6,
          21.12,
          30.03,
          17.48,
          20.235,
          17.195,
          23.9,
          35.15,
          35.64,
          34.1,
          22.6,
          39.16,
          26.98,
          33.88,
          35.86,
          32.775,
          30.59,
          30.2,
          24.31,
          27.265,
          29.165,
          16.815,
          30.4,
          33.1,
          20.235,
          26.9,
          30.5,
          28.595,
          33.11,
          31.73,
          28.9,
          46.75,
          29.45,
          32.68,
          33.5,
          43.01,
          36.52,
          26.695,
          33.1,
          29.64,
          25.65,
          29.6,
          38.6,
          29.6,
          24.13,
          23.4,
          29.735,
          46.53,
          37.4,
          30.14,
          30.495,
          39.6,
          33,
          36.63,
          30,
          38.095,
          25.935,
          25.175,
          28.38,
          28.7,
          33.82,
          24.32,
          24.09,
          32.67,
          30.115,
          29.8,
          33.345,
          25.1,
          28.31,
          28.5,
          35.625,
          36.85,
          32.56,
          41.325,
          37.51,
          31.35,
          39.5,
          34.3,
          31.065,
          21.47,
          28.7,
          38.06,
          31.16,
          32.9,
          25.08,
          25.08,
          43.4,
          25.7,
          27.93,
          23.6,
          28.7,
          23.98,
          39.2,
          34.4,
          26.03,
          23.21,
          30.25,
          28.93,
          30.875,
          31.35,
          23.75,
          25.27,
          28.7,
          32.11,
          33.66,
          22.42,
          30.4,
          28.3,
          35.7,
          35.31,
          30.495,
          31,
          30.875,
          27.36,
          44.22,
          33.915,
          37.73,
          26.07,
          33.88,
          30.59,
          25.8,
          39.425,
          25.46,
          42.13,
          31.73,
          29.7,
          36.19,
          40.48,
          28.025,
          38.9,
          30.2,
          28.05,
          31.35,
          38,
          31.79,
          36.3,
          47.41,
          30.21,
          25.84,
          35.435,
          46.7,
          28.595,
          46.2,
          30.8,
          28.93,
          21.4,
          31.73,
          41.325,
          23.8,
          33.44,
          34.21,
          34.105,
          35.53,
          19.95,
          32.68,
          30.5,
          44.77,
          32.12,
          30.495,
          40.565,
          30.59,
          31.9,
          40.565,
          29.1,
          37.29,
          43.12,
          36.86,
          34.295,
          27.17,
          26.84,
          38.095,
          30.2,
          23.465,
          25.46,
          30.59,
          45.43,
          23.65,
          20.7,
          28.27,
          20.235,
          30.21,
          35.91,
          30.69,
          29,
          19.57,
          31.13,
          21.85,
          40.26,
          33.725,
          29.48,
          33.25,
          32.6,
          37.525,
          39.16,
          31.635,
          25.3,
          39.05,
          28.31,
          34.1,
          25.175,
          23.655,
          26.98,
          37.8,
          29.37,
          34.8,
          33.155,
          19,
          33,
          36.63,
          28.595,
          25.6,
          33.11,
          37.1,
          31.4,
          34.1,
          21.3,
          33.535,
          28.785,
          26.03,
          28.88,
          42.46,
          38,
          38.95,
          36.1,
          29.3,
          35.53,
          22.705,
          39.7,
          38.19,
          24.51,
          38.095,
          26.41,
          33.66,
          42.4,
          28.31,
          33.915,
          34.96,
          35.31,
          30.78,
          26.22,
          23.37,
          28.5,
          32.965,
          42.68,
          39.6,
          31.13,
          36.3,
          35.2,
          25.3,
          42.4,
          33.155,
          35.91,
          28.785,
          46.53,
          23.98,
          31.54,
          33.66,
          22.99,
          38.06,
          28.7,
          32.775,
          32.015,
          29.81,
          31.57,
          31.16,
          29.7,
          31.02,
          43.89,
          21.375,
          40.81,
          31.35,
          36.1,
          23.18,
          17.4,
          20.3,
          35.3,
          24.32,
          18.5,
          26.41,
          26.125,
          41.69,
          24.1,
          31.13,
          27.36,
          36.2,
          32.395,
          23.655,
          34.8,
          40.185,
          32.3,
          35.75,
          33.725,
          39.27,
          34.87,
          44.745,
          41.47,
          26.41,
          29.545,
          32.9,
          38.06,
          28.69,
          30.495,
          27.74,
          35.2,
          23.54,
          30.685,
          40.47,
          22.6,
          28.9,
          22.61,
          24.32,
          36.67,
          33.44,
          40.66,
          36.6,
          37.4,
          35.4,
          27.075,
          39.05,
          28.405,
          21.755,
          40.28,
          36.08,
          24.42,
          21.4,
          30.1,
          27.265,
          32.1,
          34.77,
          38.39,
          23.7,
          31.73,
          35.5,
          24.035,
          29.15,
          34.105,
          26.62,
          26.41,
          30.115,
          27,
          21.755,
          36,
          30.875,
          26.4,
          28.975,
          37.905,
          22.77,
          33.63,
          27.645,
          22.8,
          27.83,
          37.43,
          38.17,
          34.58,
          35.2,
          27.1,
          26.03,
          25.175,
          31.825,
          32.3,
          29,
          39.7,
          19.475,
          36.1,
          26.7,
          36.48,
          28.88,
          34.2,
          33.33,
          32.3,
          39.805,
          34.32,
          28.88,
          24.4,
          41.14,
          35.97,
          27.6,
          29.26,
          27.7,
          36.955,
          36.86,
          22.515,
          29.92,
          41.8,
          27.6,
          23.18,
          20.9,
          31.92,
          28.5,
          44.22,
          22.895,
          33.1,
          24.795,
          26.18,
          35.97,
          22.3,
          42.24,
          26.51,
          35.815,
          41.42,
          36.575,
          30.14,
          25.84,
          30.8,
          42.94,
          21.01,
          22.515,
          34.43,
          31.46,
          24.225,
          37.1,
          26.125,
          35.53,
          33.7,
          17.67,
          31.13,
          29.81,
          24.32,
          31.825,
          31.79,
          28.025,
          30.78,
          21.85,
          33.1,
          25.84,
          23.845,
          34.39,
          33.82,
          35.97,
          31.5,
          28.31,
          23.465,
          31.35,
          31.1,
          24.7,
          32.78,
          29.81,
          30.495,
          32.45,
          34.2,
          50.38,
          24.1,
          32.775,
          30.78,
          32.3,
          35.53,
          23.75,
          23.845,
          29.6,
          33.11,
          24.13,
          32.23,
          28.1,
          47.6,
          28,
          33.535,
          19.855,
          25.4,
          29.9,
          37.29,
          43.7,
          23.655,
          24.3,
          36.2,
          29.48,
          24.86,
          30.1,
          21.85,
          28.12,
          27.1,
          33.44,
          28.8,
          29.5,
          34.8,
          27.36,
          22.135,
          37.05,
          26.695,
          28.93,
          28.975,
          30.02,
          39.5,
          33.63,
          26.885,
          29.04,
          24.035,
          38.94,
          32.11,
          44,
          20.045,
          25.555,
          40.26,
          22.515,
          22.515,
          40.92,
          27.265,
          36.85,
          35.1,
          29.355,
          32.585,
          32.34,
          39.8,
          24.6,
          28.31,
          31.73,
          26.695,
          27.5,
          24.605,
          33.99,
          26.885,
          22.895,
          28.2,
          34.21,
          25,
          33.2,
          31,
          35.815,
          23.2,
          32.11,
          23.4,
          20.1,
          39.16,
          34.21,
          46.53,
          32.5,
          25.8,
          35.3,
          37.18,
          27.5,
          29.735,
          24.225,
          26.18,
          29.48,
          23.21,
          46.09,
          40.185,
          22.61,
          39.93,
          35.8,
          35.8,
          34.2,
          31.255,
          29.7,
          18.335,
          42.9,
          28.405,
          30.2,
          27.835,
          39.49,
          30.8,
          26.79,
          34.96,
          36.67,
          39.615,
          25.9,
          35.2,
          24.795,
          36.765,
          27.1,
          24.795,
          25.365,
          25.745,
          34.32,
          28.16,
          23.56,
          20.235,
          40.5,
          35.42,
          22.895,
          40.15,
          29.15,
          39.995,
          29.92,
          25.46,
          21.375,
          25.9,
          30.59,
          30.115,
          25.8,
          30.115,
          27.645,
          34.675,
          20.52,
          19.8,
          27.835,
          31.6,
          28.27,
          20.045,
          23.275,
          34.1,
          36.85,
          36.29,
          26.885,
          22.99,
          32.7,
          25.8,
          29.6,
          19.19,
          31.73,
          29.26,
          28.215,
          24.985,
          27.74,
          22.8,
          20.13,
          33.33,
          32.3,
          27.6,
          25.46,
          24.605,
          34.2,
          35.815,
          32.68,
          37,
          31.02,
          36.08,
          23.32,
          45.32,
          34.6,
          26.03,
          18.715,
          31.6,
          17.29,
          23.655,
          35.2,
          27.93,
          21.565,
          38.38,
          23,
          37.07,
          30.495,
          28.88,
          27.265,
          28.025,
          23.085,
          30.685,
          25.8,
          35.245,
          24.7,
          25.08,
          52.58,
          22.515,
          30.9,
          36.955,
          26.41,
          29.83,
          29.8,
          21.47,
          27.645,
          28.9,
          31.79,
          39.49,
          33.82,
          32.01,
          27.94,
          41.14,
          28.595,
          25.6,
          25.3,
          37.29,
          42.655,
          21.66,
          31.9,
          37.07,
          31.445,
          31.255,
          28.88,
          18.335,
          29.59,
          32,
          26.03,
          31.68,
          33.66,
          21.78,
          27.835,
          19.95,
          31.5,
          30.495,
          18.3,
          28.975,
          31.54,
          47.74,
          22.1,
          36.19,
          29.83,
          32.7,
          30.4,
          33.7,
          31.35,
          34.96,
          33.77,
          30.875,
          33.99,
          19.095,
          28.6,
          38.94,
          36.08,
          29.8,
          31.24,
          29.925,
          26.22,
          30,
          20.35,
          32.3,
          38.39,
          25.85,
          26.315,
          24.51,
          32.67,
          29.64,
          33.33,
          35.75,
          19.95,
          31.4,
          38.17,
          36.86,
          32.395,
          42.75,
          25.08,
          29.9,
          35.86,
          32.8,
          18.6,
          23.87,
          45.9,
          40.28,
          18.335,
          33.82,
          28.12,
          25,
          22.23,
          30.25,
          32.49,
          37.07,
          32.6,
          24.86,
          32.34,
          32.3,
          32.775,
          32.8,
          31.92,
          21.5,
          34.1,
          30.305,
          36.48,
          32.56,
          35.815,
          27.93,
          22.135,
          44.88,
          23.18,
          30.59,
          41.1,
          34.58,
          42.13,
          38.83,
          28.215,
          28.31,
          26.125,
          40.37,
          24.6,
          35.2,
          34.105,
          27.36,
          26.7,
          41.91,
          29.26,
          32.11,
          27.1,
          24.13,
          27.4,
          34.865,
          29.81,
          41.325,
          29.925,
          30.3,
          27.36,
          28.49,
          23.56,
          35.625,
          32.68,
          25.27,
          28,
          32.775,
          21.755,
          32.395,
          36.575,
          21.755,
          27.93,
          30.02,
          33.55,
          29.355,
          25.8,
          24.32,
          40.375,
          32.11,
          32.3,
          27.28,
          17.86,
          34.8,
          33.4,
          25.555,
          37.1,
          30.875,
          34.1,
          21.47,
          33.3,
          31.255,
          39.14,
          25.08,
          37.29,
          34.6,
          30.21,
          21.945,
          24.97,
          25.3,
          24.42,
          23.94,
          39.82,
          16.815,
          37.18,
          34.43,
          30.305,
          34.485,
          21.8,
          24.605,
          23.3,
          27.83,
          31.065,
          21.66,
          28.215,
          22.705,
          42.13,
          41.8,
          36.96,
          21.28,
          33.11,
          33.33,
          24.3,
          25.7,
          29.4,
          39.82,
          33.63,
          29.83,
          19.8,
          27.3,
          29.3,
          27.72,
          37.9,
          36.385,
          27.645,
          37.715,
          23.18,
          20.52,
          37.1,
          28.05,
          29.9,
          33.345,
          23.76,
          30.5,
          31.065,
          33.3,
          27.5,
          33.915,
          34.485,
          25.52,
          27.61,
          27.06,
          23.7,
          30.4,
          29.735,
          29.925,
          26.79,
          33.33,
          27.645,
          21.66,
          30.03,
          36.3,
          24.32,
          17.29,
          25.9,
          39.4,
          34.32,
          19.95,
          34.9,
          23.21,
          25.745,
          25.175,
          22,
          26.125,
          26.51,
          27.455,
          25.745,
          30.36,
          30.875,
          20.8,
          27.8,
          24.605,
          27.72,
          21.85,
          28.12,
          30.2,
          32.2,
          26.315,
          26.695,
          42.9,
          34.7,
          23.655,
          28.31,
          20.6,
          53.13,
          39.71,
          26.315,
          31.065,
          26.695,
          38.83,
          40.37,
          25.935,
          33.535,
          32.87,
          30.03,
          24.225,
          38.6,
          25.74,
          33.4,
          44.7,
          30.97,
          31.92,
          36.85,
          25.8,
          29.07
         ],
         "xaxis": "x",
         "yaxis": "y"
        }
       ],
       "layout": {
        "bargap": 0.1,
        "barmode": "relative",
        "legend": {
         "tracegroupgap": 0
        },
        "template": {
         "data": {
          "bar": [
           {
            "error_x": {
             "color": "#2a3f5f"
            },
            "error_y": {
             "color": "#2a3f5f"
            },
            "marker": {
             "line": {
              "color": "#E5ECF6",
              "width": 0.5
             },
             "pattern": {
              "fillmode": "overlay",
              "size": 10,
              "solidity": 0.2
             }
            },
            "type": "bar"
           }
          ],
          "barpolar": [
           {
            "marker": {
             "line": {
              "color": "#E5ECF6",
              "width": 0.5
             },
             "pattern": {
              "fillmode": "overlay",
              "size": 10,
              "solidity": 0.2
             }
            },
            "type": "barpolar"
           }
          ],
          "carpet": [
           {
            "aaxis": {
             "endlinecolor": "#2a3f5f",
             "gridcolor": "white",
             "linecolor": "white",
             "minorgridcolor": "white",
             "startlinecolor": "#2a3f5f"
            },
            "baxis": {
             "endlinecolor": "#2a3f5f",
             "gridcolor": "white",
             "linecolor": "white",
             "minorgridcolor": "white",
             "startlinecolor": "#2a3f5f"
            },
            "type": "carpet"
           }
          ],
          "choropleth": [
           {
            "colorbar": {
             "outlinewidth": 0,
             "ticks": ""
            },
            "type": "choropleth"
           }
          ],
          "contour": [
           {
            "colorbar": {
             "outlinewidth": 0,
             "ticks": ""
            },
            "colorscale": [
             [
              0,
              "#0d0887"
             ],
             [
              0.1111111111111111,
              "#46039f"
             ],
             [
              0.2222222222222222,
              "#7201a8"
             ],
             [
              0.3333333333333333,
              "#9c179e"
             ],
             [
              0.4444444444444444,
              "#bd3786"
             ],
             [
              0.5555555555555556,
              "#d8576b"
             ],
             [
              0.6666666666666666,
              "#ed7953"
             ],
             [
              0.7777777777777778,
              "#fb9f3a"
             ],
             [
              0.8888888888888888,
              "#fdca26"
             ],
             [
              1,
              "#f0f921"
             ]
            ],
            "type": "contour"
           }
          ],
          "contourcarpet": [
           {
            "colorbar": {
             "outlinewidth": 0,
             "ticks": ""
            },
            "type": "contourcarpet"
           }
          ],
          "heatmap": [
           {
            "colorbar": {
             "outlinewidth": 0,
             "ticks": ""
            },
            "colorscale": [
             [
              0,
              "#0d0887"
             ],
             [
              0.1111111111111111,
              "#46039f"
             ],
             [
              0.2222222222222222,
              "#7201a8"
             ],
             [
              0.3333333333333333,
              "#9c179e"
             ],
             [
              0.4444444444444444,
              "#bd3786"
             ],
             [
              0.5555555555555556,
              "#d8576b"
             ],
             [
              0.6666666666666666,
              "#ed7953"
             ],
             [
              0.7777777777777778,
              "#fb9f3a"
             ],
             [
              0.8888888888888888,
              "#fdca26"
             ],
             [
              1,
              "#f0f921"
             ]
            ],
            "type": "heatmap"
           }
          ],
          "heatmapgl": [
           {
            "colorbar": {
             "outlinewidth": 0,
             "ticks": ""
            },
            "colorscale": [
             [
              0,
              "#0d0887"
             ],
             [
              0.1111111111111111,
              "#46039f"
             ],
             [
              0.2222222222222222,
              "#7201a8"
             ],
             [
              0.3333333333333333,
              "#9c179e"
             ],
             [
              0.4444444444444444,
              "#bd3786"
             ],
             [
              0.5555555555555556,
              "#d8576b"
             ],
             [
              0.6666666666666666,
              "#ed7953"
             ],
             [
              0.7777777777777778,
              "#fb9f3a"
             ],
             [
              0.8888888888888888,
              "#fdca26"
             ],
             [
              1,
              "#f0f921"
             ]
            ],
            "type": "heatmapgl"
           }
          ],
          "histogram": [
           {
            "marker": {
             "pattern": {
              "fillmode": "overlay",
              "size": 10,
              "solidity": 0.2
             }
            },
            "type": "histogram"
           }
          ],
          "histogram2d": [
           {
            "colorbar": {
             "outlinewidth": 0,
             "ticks": ""
            },
            "colorscale": [
             [
              0,
              "#0d0887"
             ],
             [
              0.1111111111111111,
              "#46039f"
             ],
             [
              0.2222222222222222,
              "#7201a8"
             ],
             [
              0.3333333333333333,
              "#9c179e"
             ],
             [
              0.4444444444444444,
              "#bd3786"
             ],
             [
              0.5555555555555556,
              "#d8576b"
             ],
             [
              0.6666666666666666,
              "#ed7953"
             ],
             [
              0.7777777777777778,
              "#fb9f3a"
             ],
             [
              0.8888888888888888,
              "#fdca26"
             ],
             [
              1,
              "#f0f921"
             ]
            ],
            "type": "histogram2d"
           }
          ],
          "histogram2dcontour": [
           {
            "colorbar": {
             "outlinewidth": 0,
             "ticks": ""
            },
            "colorscale": [
             [
              0,
              "#0d0887"
             ],
             [
              0.1111111111111111,
              "#46039f"
             ],
             [
              0.2222222222222222,
              "#7201a8"
             ],
             [
              0.3333333333333333,
              "#9c179e"
             ],
             [
              0.4444444444444444,
              "#bd3786"
             ],
             [
              0.5555555555555556,
              "#d8576b"
             ],
             [
              0.6666666666666666,
              "#ed7953"
             ],
             [
              0.7777777777777778,
              "#fb9f3a"
             ],
             [
              0.8888888888888888,
              "#fdca26"
             ],
             [
              1,
              "#f0f921"
             ]
            ],
            "type": "histogram2dcontour"
           }
          ],
          "mesh3d": [
           {
            "colorbar": {
             "outlinewidth": 0,
             "ticks": ""
            },
            "type": "mesh3d"
           }
          ],
          "parcoords": [
           {
            "line": {
             "colorbar": {
              "outlinewidth": 0,
              "ticks": ""
             }
            },
            "type": "parcoords"
           }
          ],
          "pie": [
           {
            "automargin": true,
            "type": "pie"
           }
          ],
          "scatter": [
           {
            "fillpattern": {
             "fillmode": "overlay",
             "size": 10,
             "solidity": 0.2
            },
            "type": "scatter"
           }
          ],
          "scatter3d": [
           {
            "line": {
             "colorbar": {
              "outlinewidth": 0,
              "ticks": ""
             }
            },
            "marker": {
             "colorbar": {
              "outlinewidth": 0,
              "ticks": ""
             }
            },
            "type": "scatter3d"
           }
          ],
          "scattercarpet": [
           {
            "marker": {
             "colorbar": {
              "outlinewidth": 0,
              "ticks": ""
             }
            },
            "type": "scattercarpet"
           }
          ],
          "scattergeo": [
           {
            "marker": {
             "colorbar": {
              "outlinewidth": 0,
              "ticks": ""
             }
            },
            "type": "scattergeo"
           }
          ],
          "scattergl": [
           {
            "marker": {
             "colorbar": {
              "outlinewidth": 0,
              "ticks": ""
             }
            },
            "type": "scattergl"
           }
          ],
          "scattermapbox": [
           {
            "marker": {
             "colorbar": {
              "outlinewidth": 0,
              "ticks": ""
             }
            },
            "type": "scattermapbox"
           }
          ],
          "scatterpolar": [
           {
            "marker": {
             "colorbar": {
              "outlinewidth": 0,
              "ticks": ""
             }
            },
            "type": "scatterpolar"
           }
          ],
          "scatterpolargl": [
           {
            "marker": {
             "colorbar": {
              "outlinewidth": 0,
              "ticks": ""
             }
            },
            "type": "scatterpolargl"
           }
          ],
          "scatterternary": [
           {
            "marker": {
             "colorbar": {
              "outlinewidth": 0,
              "ticks": ""
             }
            },
            "type": "scatterternary"
           }
          ],
          "surface": [
           {
            "colorbar": {
             "outlinewidth": 0,
             "ticks": ""
            },
            "colorscale": [
             [
              0,
              "#0d0887"
             ],
             [
              0.1111111111111111,
              "#46039f"
             ],
             [
              0.2222222222222222,
              "#7201a8"
             ],
             [
              0.3333333333333333,
              "#9c179e"
             ],
             [
              0.4444444444444444,
              "#bd3786"
             ],
             [
              0.5555555555555556,
              "#d8576b"
             ],
             [
              0.6666666666666666,
              "#ed7953"
             ],
             [
              0.7777777777777778,
              "#fb9f3a"
             ],
             [
              0.8888888888888888,
              "#fdca26"
             ],
             [
              1,
              "#f0f921"
             ]
            ],
            "type": "surface"
           }
          ],
          "table": [
           {
            "cells": {
             "fill": {
              "color": "#EBF0F8"
             },
             "line": {
              "color": "white"
             }
            },
            "header": {
             "fill": {
              "color": "#C8D4E3"
             },
             "line": {
              "color": "white"
             }
            },
            "type": "table"
           }
          ]
         },
         "layout": {
          "annotationdefaults": {
           "arrowcolor": "#2a3f5f",
           "arrowhead": 0,
           "arrowwidth": 1
          },
          "autotypenumbers": "strict",
          "coloraxis": {
           "colorbar": {
            "outlinewidth": 0,
            "ticks": ""
           }
          },
          "colorscale": {
           "diverging": [
            [
             0,
             "#8e0152"
            ],
            [
             0.1,
             "#c51b7d"
            ],
            [
             0.2,
             "#de77ae"
            ],
            [
             0.3,
             "#f1b6da"
            ],
            [
             0.4,
             "#fde0ef"
            ],
            [
             0.5,
             "#f7f7f7"
            ],
            [
             0.6,
             "#e6f5d0"
            ],
            [
             0.7,
             "#b8e186"
            ],
            [
             0.8,
             "#7fbc41"
            ],
            [
             0.9,
             "#4d9221"
            ],
            [
             1,
             "#276419"
            ]
           ],
           "sequential": [
            [
             0,
             "#0d0887"
            ],
            [
             0.1111111111111111,
             "#46039f"
            ],
            [
             0.2222222222222222,
             "#7201a8"
            ],
            [
             0.3333333333333333,
             "#9c179e"
            ],
            [
             0.4444444444444444,
             "#bd3786"
            ],
            [
             0.5555555555555556,
             "#d8576b"
            ],
            [
             0.6666666666666666,
             "#ed7953"
            ],
            [
             0.7777777777777778,
             "#fb9f3a"
            ],
            [
             0.8888888888888888,
             "#fdca26"
            ],
            [
             1,
             "#f0f921"
            ]
           ],
           "sequentialminus": [
            [
             0,
             "#0d0887"
            ],
            [
             0.1111111111111111,
             "#46039f"
            ],
            [
             0.2222222222222222,
             "#7201a8"
            ],
            [
             0.3333333333333333,
             "#9c179e"
            ],
            [
             0.4444444444444444,
             "#bd3786"
            ],
            [
             0.5555555555555556,
             "#d8576b"
            ],
            [
             0.6666666666666666,
             "#ed7953"
            ],
            [
             0.7777777777777778,
             "#fb9f3a"
            ],
            [
             0.8888888888888888,
             "#fdca26"
            ],
            [
             1,
             "#f0f921"
            ]
           ]
          },
          "colorway": [
           "#636efa",
           "#EF553B",
           "#00cc96",
           "#ab63fa",
           "#FFA15A",
           "#19d3f3",
           "#FF6692",
           "#B6E880",
           "#FF97FF",
           "#FECB52"
          ],
          "font": {
           "color": "#2a3f5f"
          },
          "geo": {
           "bgcolor": "white",
           "lakecolor": "white",
           "landcolor": "#E5ECF6",
           "showlakes": true,
           "showland": true,
           "subunitcolor": "white"
          },
          "hoverlabel": {
           "align": "left"
          },
          "hovermode": "closest",
          "mapbox": {
           "style": "light"
          },
          "paper_bgcolor": "white",
          "plot_bgcolor": "#E5ECF6",
          "polar": {
           "angularaxis": {
            "gridcolor": "white",
            "linecolor": "white",
            "ticks": ""
           },
           "bgcolor": "#E5ECF6",
           "radialaxis": {
            "gridcolor": "white",
            "linecolor": "white",
            "ticks": ""
           }
          },
          "scene": {
           "xaxis": {
            "backgroundcolor": "#E5ECF6",
            "gridcolor": "white",
            "gridwidth": 2,
            "linecolor": "white",
            "showbackground": true,
            "ticks": "",
            "zerolinecolor": "white"
           },
           "yaxis": {
            "backgroundcolor": "#E5ECF6",
            "gridcolor": "white",
            "gridwidth": 2,
            "linecolor": "white",
            "showbackground": true,
            "ticks": "",
            "zerolinecolor": "white"
           },
           "zaxis": {
            "backgroundcolor": "#E5ECF6",
            "gridcolor": "white",
            "gridwidth": 2,
            "linecolor": "white",
            "showbackground": true,
            "ticks": "",
            "zerolinecolor": "white"
           }
          },
          "shapedefaults": {
           "line": {
            "color": "#2a3f5f"
           }
          },
          "ternary": {
           "aaxis": {
            "gridcolor": "white",
            "linecolor": "white",
            "ticks": ""
           },
           "baxis": {
            "gridcolor": "white",
            "linecolor": "white",
            "ticks": ""
           },
           "bgcolor": "#E5ECF6",
           "caxis": {
            "gridcolor": "white",
            "linecolor": "white",
            "ticks": ""
           }
          },
          "title": {
           "x": 0.05
          },
          "xaxis": {
           "automargin": true,
           "gridcolor": "white",
           "linecolor": "white",
           "ticks": "",
           "title": {
            "standoff": 15
           },
           "zerolinecolor": "white",
           "zerolinewidth": 2
          },
          "yaxis": {
           "automargin": true,
           "gridcolor": "white",
           "linecolor": "white",
           "ticks": "",
           "title": {
            "standoff": 15
           },
           "zerolinecolor": "white",
           "zerolinewidth": 2
          }
         }
        },
        "title": {
         "text": "Distribution of BMI (Body Mass Index)"
        },
        "xaxis": {
         "anchor": "y",
         "domain": [
          0,
          1
         ],
         "title": {
          "text": "bmi"
         }
        },
        "yaxis": {
         "anchor": "x",
         "domain": [
          0,
          1
         ],
         "title": {
          "text": "count"
         }
        }
       }
      }
     },
     "metadata": {},
     "output_type": "display_data"
    }
   ],
   "source": [
    "#Visual for the BMI distribution\n",
    "bmi_chart = px.histogram(h_data, x = 'bmi', title = 'Distribution of BMI (Body Mass Index)', color_discrete_sequence= [\"purple\"])\n",
    "bmi_chart.update_layout(bargap=0.1)\n",
    "bmi_chart.show()"
   ]
  },
  {
   "cell_type": "code",
   "execution_count": 12,
   "metadata": {},
   "outputs": [
    {
     "data": {
      "text/plain": [
       "0    574\n",
       "1    324\n",
       "2    240\n",
       "3    157\n",
       "4     25\n",
       "5     18\n",
       "Name: children, dtype: int64"
      ]
     },
     "execution_count": 12,
     "metadata": {},
     "output_type": "execute_result"
    }
   ],
   "source": [
    "#Explore the number of kids column\n",
    "h_data[\"children\"].value_counts()"
   ]
  },
  {
   "cell_type": "code",
   "execution_count": 13,
   "metadata": {},
   "outputs": [
    {
     "data": {
      "application/vnd.plotly.v1+json": {
       "config": {
        "plotlyServerURL": "https://plotly.com"
       },
       "data": [
        {
         "alignmentgroup": "True",
         "bingroup": "x",
         "hovertemplate": "children=%{x}<br>count=%{y}<extra></extra>",
         "legendgroup": "",
         "marker": {
          "color": "green",
          "pattern": {
           "shape": ""
          }
         },
         "name": "",
         "offsetgroup": "",
         "orientation": "v",
         "showlegend": false,
         "type": "histogram",
         "x": [
          0,
          1,
          3,
          0,
          0,
          0,
          1,
          3,
          2,
          0,
          0,
          0,
          0,
          0,
          0,
          1,
          1,
          0,
          0,
          0,
          0,
          1,
          0,
          1,
          2,
          3,
          0,
          2,
          1,
          2,
          0,
          0,
          5,
          0,
          1,
          0,
          3,
          0,
          1,
          0,
          0,
          2,
          1,
          2,
          1,
          0,
          2,
          0,
          0,
          1,
          0,
          2,
          1,
          0,
          3,
          2,
          2,
          2,
          1,
          2,
          3,
          4,
          1,
          1,
          0,
          0,
          2,
          1,
          0,
          3,
          0,
          5,
          3,
          1,
          2,
          0,
          1,
          0,
          0,
          0,
          1,
          0,
          1,
          4,
          2,
          2,
          0,
          0,
          0,
          0,
          0,
          1,
          3,
          2,
          2,
          1,
          3,
          0,
          0,
          0,
          0,
          0,
          0,
          3,
          1,
          1,
          1,
          2,
          0,
          0,
          1,
          2,
          0,
          0,
          3,
          0,
          0,
          1,
          0,
          2,
          2,
          0,
          0,
          1,
          3,
          0,
          0,
          0,
          2,
          2,
          0,
          0,
          2,
          0,
          0,
          0,
          0,
          0,
          3,
          0,
          2,
          1,
          2,
          2,
          3,
          3,
          3,
          1,
          1,
          1,
          1,
          0,
          3,
          0,
          1,
          0,
          0,
          0,
          0,
          3,
          0,
          0,
          1,
          2,
          0,
          4,
          5,
          3,
          1,
          3,
          0,
          0,
          0,
          1,
          0,
          0,
          2,
          1,
          2,
          3,
          0,
          0,
          3,
          0,
          2,
          3,
          2,
          3,
          1,
          2,
          0,
          0,
          0,
          1,
          0,
          0,
          0,
          2,
          0,
          0,
          0,
          1,
          0,
          0,
          0,
          1,
          0,
          2,
          0,
          1,
          1,
          4,
          2,
          1,
          2,
          2,
          0,
          0,
          1,
          0,
          1,
          0,
          3,
          0,
          0,
          3,
          0,
          0,
          1,
          2,
          1,
          3,
          0,
          1,
          2,
          2,
          0,
          2,
          0,
          1,
          2,
          1,
          1,
          3,
          0,
          0,
          0,
          0,
          1,
          1,
          2,
          2,
          2,
          3,
          0,
          3,
          0,
          0,
          4,
          0,
          0,
          1,
          3,
          0,
          3,
          3,
          1,
          3,
          1,
          1,
          1,
          2,
          2,
          1,
          0,
          2,
          2,
          0,
          2,
          1,
          1,
          3,
          1,
          1,
          0,
          1,
          2,
          0,
          1,
          3,
          0,
          1,
          2,
          0,
          3,
          0,
          0,
          1,
          3,
          1,
          3,
          3,
          2,
          2,
          2,
          2,
          2,
          1,
          0,
          2,
          0,
          0,
          3,
          0,
          0,
          0,
          0,
          0,
          0,
          1,
          1,
          4,
          0,
          0,
          0,
          1,
          1,
          2,
          1,
          0,
          1,
          0,
          0,
          0,
          2,
          0,
          0,
          1,
          1,
          1,
          0,
          0,
          0,
          0,
          4,
          3,
          2,
          1,
          1,
          0,
          0,
          0,
          0,
          0,
          0,
          0,
          3,
          3,
          0,
          0,
          2,
          1,
          0,
          1,
          2,
          1,
          3,
          2,
          2,
          3,
          0,
          0,
          1,
          2,
          0,
          0,
          3,
          0,
          3,
          1,
          2,
          0,
          0,
          2,
          2,
          0,
          0,
          2,
          0,
          3,
          4,
          0,
          1,
          1,
          2,
          0,
          3,
          0,
          2,
          0,
          0,
          1,
          0,
          3,
          0,
          2,
          0,
          1,
          3,
          1,
          0,
          1,
          2,
          5,
          0,
          1,
          0,
          2,
          1,
          0,
          0,
          0,
          1,
          0,
          2,
          5,
          1,
          0,
          1,
          3,
          0,
          2,
          0,
          0,
          1,
          3,
          0,
          3,
          5,
          0,
          1,
          0,
          0,
          1,
          1,
          0,
          0,
          0,
          0,
          1,
          4,
          1,
          0,
          0,
          2,
          0,
          2,
          0,
          0,
          3,
          3,
          0,
          2,
          0,
          0,
          1,
          1,
          2,
          1,
          1,
          0,
          0,
          0,
          0,
          3,
          1,
          0,
          0,
          0,
          0,
          3,
          2,
          0,
          1,
          3,
          0,
          3,
          0,
          0,
          1,
          0,
          0,
          0,
          0,
          4,
          0,
          2,
          2,
          2,
          0,
          0,
          0,
          1,
          0,
          1,
          3,
          1,
          2,
          0,
          0,
          1,
          0,
          0,
          0,
          1,
          0,
          1,
          2,
          1,
          0,
          0,
          0,
          0,
          0,
          1,
          0,
          2,
          1,
          1,
          0,
          1,
          0,
          2,
          0,
          0,
          1,
          3,
          2,
          1,
          0,
          3,
          2,
          0,
          0,
          0,
          2,
          0,
          2,
          0,
          0,
          0,
          0,
          0,
          2,
          0,
          2,
          1,
          0,
          3,
          0,
          2,
          0,
          0,
          1,
          2,
          0,
          1,
          2,
          5,
          2,
          0,
          1,
          2,
          1,
          2,
          0,
          0,
          1,
          1,
          0,
          1,
          0,
          2,
          1,
          0,
          1,
          3,
          1,
          0,
          1,
          0,
          1,
          2,
          1,
          0,
          1,
          2,
          1,
          2,
          2,
          0,
          0,
          0,
          3,
          0,
          0,
          0,
          0,
          2,
          2,
          1,
          2,
          0,
          3,
          0,
          1,
          0,
          2,
          0,
          0,
          1,
          4,
          1,
          0,
          0,
          0,
          3,
          1,
          0,
          0,
          1,
          0,
          0,
          2,
          1,
          0,
          1,
          2,
          0,
          4,
          5,
          3,
          0,
          3,
          2,
          3,
          1,
          3,
          0,
          0,
          2,
          1,
          0,
          2,
          0,
          2,
          1,
          2,
          1,
          4,
          3,
          1,
          1,
          0,
          0,
          2,
          1,
          2,
          0,
          1,
          3,
          0,
          0,
          0,
          2,
          0,
          3,
          3,
          3,
          2,
          1,
          0,
          2,
          0,
          1,
          2,
          2,
          0,
          1,
          1,
          0,
          1,
          1,
          0,
          1,
          0,
          2,
          1,
          0,
          2,
          0,
          0,
          0,
          1,
          1,
          2,
          0,
          3,
          3,
          0,
          1,
          2,
          2,
          0,
          0,
          0,
          1,
          1,
          2,
          0,
          0,
          3,
          0,
          0,
          1,
          3,
          1,
          1,
          0,
          1,
          3,
          1,
          3,
          1,
          3,
          1,
          0,
          2,
          3,
          2,
          2,
          0,
          0,
          0,
          0,
          1,
          2,
          0,
          1,
          0,
          0,
          0,
          0,
          0,
          4,
          2,
          3,
          0,
          3,
          0,
          2,
          1,
          1,
          0,
          2,
          0,
          1,
          1,
          0,
          2,
          3,
          2,
          0,
          0,
          2,
          3,
          2,
          0,
          3,
          0,
          3,
          0,
          1,
          1,
          1,
          3,
          0,
          0,
          3,
          0,
          0,
          0,
          0,
          0,
          2,
          0,
          2,
          1,
          0,
          0,
          1,
          0,
          1,
          0,
          0,
          0,
          1,
          0,
          0,
          1,
          3,
          3,
          2,
          2,
          2,
          0,
          0,
          3,
          1,
          0,
          1,
          0,
          0,
          2,
          0,
          2,
          2,
          1,
          3,
          1,
          0,
          0,
          2,
          0,
          1,
          2,
          0,
          0,
          2,
          0,
          0,
          0,
          2,
          0,
          0,
          0,
          1,
          1,
          0,
          0,
          0,
          2,
          0,
          2,
          3,
          0,
          0,
          0,
          1,
          0,
          2,
          3,
          2,
          0,
          0,
          2,
          0,
          1,
          0,
          3,
          0,
          1,
          0,
          1,
          3,
          0,
          1,
          5,
          1,
          2,
          3,
          1,
          0,
          3,
          4,
          1,
          0,
          0,
          0,
          1,
          0,
          4,
          0,
          2,
          0,
          0,
          2,
          1,
          0,
          0,
          0,
          0,
          3,
          0,
          0,
          2,
          3,
          1,
          3,
          0,
          1,
          0,
          3,
          1,
          2,
          0,
          0,
          0,
          0,
          1,
          0,
          0,
          1,
          0,
          0,
          2,
          2,
          1,
          0,
          1,
          1,
          1,
          5,
          0,
          2,
          0,
          2,
          5,
          2,
          0,
          0,
          1,
          0,
          0,
          0,
          1,
          2,
          1,
          0,
          3,
          0,
          2,
          1,
          2,
          1,
          1,
          1,
          1,
          1,
          1,
          1,
          0,
          1,
          3,
          2,
          1,
          2,
          1,
          2,
          5,
          3,
          0,
          0,
          0,
          0,
          0,
          0,
          1,
          3,
          0,
          1,
          0,
          3,
          1,
          5,
          1,
          3,
          1,
          0,
          0,
          1,
          2,
          2,
          1,
          3,
          3,
          3,
          0,
          3,
          0,
          2,
          0,
          0,
          0,
          1,
          2,
          2,
          3,
          2,
          1,
          0,
          2,
          4,
          1,
          0,
          0,
          1,
          2,
          3,
          2,
          0,
          3,
          1,
          1,
          1,
          0,
          1,
          0,
          0,
          2,
          1,
          0,
          0,
          0,
          0,
          3,
          2,
          1,
          0,
          2,
          0,
          0,
          0,
          0,
          1,
          2,
          0,
          1,
          1,
          0,
          1,
          0,
          1,
          3,
          0,
          0,
          0,
          0,
          0,
          1,
          0,
          1,
          1,
          3,
          4,
          1,
          2,
          0,
          1,
          1,
          1,
          0,
          0,
          2,
          0,
          1,
          1,
          0,
          0,
          3,
          2,
          1,
          1,
          1,
          2,
          5,
          0,
          0,
          1,
          0,
          0,
          0,
          3,
          0,
          4,
          4,
          2,
          0,
          0,
          1,
          2,
          3,
          1,
          0,
          0,
          0,
          0,
          2,
          1,
          3,
          1,
          3,
          3,
          3,
          0,
          1,
          5,
          2,
          1,
          3,
          0,
          2,
          3,
          1,
          1,
          0,
          0,
          2,
          1,
          0,
          5,
          2,
          0,
          0,
          0,
          3,
          1,
          0,
          0,
          0,
          1,
          3,
          0,
          2,
          2,
          3,
          0,
          0,
          1,
          0,
          0,
          0,
          3,
          1,
          4,
          3,
          0,
          2,
          0,
          0,
          1,
          2,
          1,
          0,
          1,
          0,
          0,
          2,
          2,
          1,
          1,
          2,
          0,
          2,
          2,
          0,
          1,
          1,
          0,
          0,
          1,
          0,
          0,
          1,
          1,
          2,
          3,
          0,
          1,
          0,
          2,
          1,
          1,
          0,
          0,
          3,
          0,
          0,
          1,
          2,
          2,
          2,
          0,
          1,
          3,
          1,
          2,
          2,
          1,
          1,
          1,
          2,
          0,
          2,
          1,
          0,
          0,
          2,
          1,
          3,
          1,
          2,
          0,
          0,
          1,
          1,
          2,
          2,
          0,
          0,
          3,
          0,
          3,
          0,
          2,
          0,
          0,
          0,
          3,
          1,
          2,
          2,
          3,
          0,
          0,
          5,
          3,
          4,
          0,
          1,
          0,
          0,
          0,
          4,
          0,
          0,
          3,
          1,
          3,
          0,
          0,
          1,
          1,
          1,
          2,
          0,
          0,
          0,
          0,
          3,
          1,
          0,
          5,
          1,
          0,
          0,
          0,
          0,
          1,
          2,
          0,
          2,
          0,
          1,
          1,
          0,
          0,
          1,
          2,
          1,
          2,
          0,
          0,
          3,
          0,
          1,
          0,
          2,
          2,
          1,
          0,
          3,
          1,
          0,
          2,
          0,
          0,
          4,
          0,
          2,
          1,
          0,
          1,
          2,
          3,
          1,
          0,
          0,
          4,
          2,
          3,
          0,
          0,
          2,
          1,
          0,
          0,
          1,
          2,
          2,
          2,
          0,
          3,
          3,
          0,
          0,
          0,
          0
         ],
         "xaxis": "x",
         "yaxis": "y"
        }
       ],
       "layout": {
        "bargap": 0.1,
        "barmode": "relative",
        "legend": {
         "tracegroupgap": 0
        },
        "template": {
         "data": {
          "bar": [
           {
            "error_x": {
             "color": "#2a3f5f"
            },
            "error_y": {
             "color": "#2a3f5f"
            },
            "marker": {
             "line": {
              "color": "#E5ECF6",
              "width": 0.5
             },
             "pattern": {
              "fillmode": "overlay",
              "size": 10,
              "solidity": 0.2
             }
            },
            "type": "bar"
           }
          ],
          "barpolar": [
           {
            "marker": {
             "line": {
              "color": "#E5ECF6",
              "width": 0.5
             },
             "pattern": {
              "fillmode": "overlay",
              "size": 10,
              "solidity": 0.2
             }
            },
            "type": "barpolar"
           }
          ],
          "carpet": [
           {
            "aaxis": {
             "endlinecolor": "#2a3f5f",
             "gridcolor": "white",
             "linecolor": "white",
             "minorgridcolor": "white",
             "startlinecolor": "#2a3f5f"
            },
            "baxis": {
             "endlinecolor": "#2a3f5f",
             "gridcolor": "white",
             "linecolor": "white",
             "minorgridcolor": "white",
             "startlinecolor": "#2a3f5f"
            },
            "type": "carpet"
           }
          ],
          "choropleth": [
           {
            "colorbar": {
             "outlinewidth": 0,
             "ticks": ""
            },
            "type": "choropleth"
           }
          ],
          "contour": [
           {
            "colorbar": {
             "outlinewidth": 0,
             "ticks": ""
            },
            "colorscale": [
             [
              0,
              "#0d0887"
             ],
             [
              0.1111111111111111,
              "#46039f"
             ],
             [
              0.2222222222222222,
              "#7201a8"
             ],
             [
              0.3333333333333333,
              "#9c179e"
             ],
             [
              0.4444444444444444,
              "#bd3786"
             ],
             [
              0.5555555555555556,
              "#d8576b"
             ],
             [
              0.6666666666666666,
              "#ed7953"
             ],
             [
              0.7777777777777778,
              "#fb9f3a"
             ],
             [
              0.8888888888888888,
              "#fdca26"
             ],
             [
              1,
              "#f0f921"
             ]
            ],
            "type": "contour"
           }
          ],
          "contourcarpet": [
           {
            "colorbar": {
             "outlinewidth": 0,
             "ticks": ""
            },
            "type": "contourcarpet"
           }
          ],
          "heatmap": [
           {
            "colorbar": {
             "outlinewidth": 0,
             "ticks": ""
            },
            "colorscale": [
             [
              0,
              "#0d0887"
             ],
             [
              0.1111111111111111,
              "#46039f"
             ],
             [
              0.2222222222222222,
              "#7201a8"
             ],
             [
              0.3333333333333333,
              "#9c179e"
             ],
             [
              0.4444444444444444,
              "#bd3786"
             ],
             [
              0.5555555555555556,
              "#d8576b"
             ],
             [
              0.6666666666666666,
              "#ed7953"
             ],
             [
              0.7777777777777778,
              "#fb9f3a"
             ],
             [
              0.8888888888888888,
              "#fdca26"
             ],
             [
              1,
              "#f0f921"
             ]
            ],
            "type": "heatmap"
           }
          ],
          "heatmapgl": [
           {
            "colorbar": {
             "outlinewidth": 0,
             "ticks": ""
            },
            "colorscale": [
             [
              0,
              "#0d0887"
             ],
             [
              0.1111111111111111,
              "#46039f"
             ],
             [
              0.2222222222222222,
              "#7201a8"
             ],
             [
              0.3333333333333333,
              "#9c179e"
             ],
             [
              0.4444444444444444,
              "#bd3786"
             ],
             [
              0.5555555555555556,
              "#d8576b"
             ],
             [
              0.6666666666666666,
              "#ed7953"
             ],
             [
              0.7777777777777778,
              "#fb9f3a"
             ],
             [
              0.8888888888888888,
              "#fdca26"
             ],
             [
              1,
              "#f0f921"
             ]
            ],
            "type": "heatmapgl"
           }
          ],
          "histogram": [
           {
            "marker": {
             "pattern": {
              "fillmode": "overlay",
              "size": 10,
              "solidity": 0.2
             }
            },
            "type": "histogram"
           }
          ],
          "histogram2d": [
           {
            "colorbar": {
             "outlinewidth": 0,
             "ticks": ""
            },
            "colorscale": [
             [
              0,
              "#0d0887"
             ],
             [
              0.1111111111111111,
              "#46039f"
             ],
             [
              0.2222222222222222,
              "#7201a8"
             ],
             [
              0.3333333333333333,
              "#9c179e"
             ],
             [
              0.4444444444444444,
              "#bd3786"
             ],
             [
              0.5555555555555556,
              "#d8576b"
             ],
             [
              0.6666666666666666,
              "#ed7953"
             ],
             [
              0.7777777777777778,
              "#fb9f3a"
             ],
             [
              0.8888888888888888,
              "#fdca26"
             ],
             [
              1,
              "#f0f921"
             ]
            ],
            "type": "histogram2d"
           }
          ],
          "histogram2dcontour": [
           {
            "colorbar": {
             "outlinewidth": 0,
             "ticks": ""
            },
            "colorscale": [
             [
              0,
              "#0d0887"
             ],
             [
              0.1111111111111111,
              "#46039f"
             ],
             [
              0.2222222222222222,
              "#7201a8"
             ],
             [
              0.3333333333333333,
              "#9c179e"
             ],
             [
              0.4444444444444444,
              "#bd3786"
             ],
             [
              0.5555555555555556,
              "#d8576b"
             ],
             [
              0.6666666666666666,
              "#ed7953"
             ],
             [
              0.7777777777777778,
              "#fb9f3a"
             ],
             [
              0.8888888888888888,
              "#fdca26"
             ],
             [
              1,
              "#f0f921"
             ]
            ],
            "type": "histogram2dcontour"
           }
          ],
          "mesh3d": [
           {
            "colorbar": {
             "outlinewidth": 0,
             "ticks": ""
            },
            "type": "mesh3d"
           }
          ],
          "parcoords": [
           {
            "line": {
             "colorbar": {
              "outlinewidth": 0,
              "ticks": ""
             }
            },
            "type": "parcoords"
           }
          ],
          "pie": [
           {
            "automargin": true,
            "type": "pie"
           }
          ],
          "scatter": [
           {
            "fillpattern": {
             "fillmode": "overlay",
             "size": 10,
             "solidity": 0.2
            },
            "type": "scatter"
           }
          ],
          "scatter3d": [
           {
            "line": {
             "colorbar": {
              "outlinewidth": 0,
              "ticks": ""
             }
            },
            "marker": {
             "colorbar": {
              "outlinewidth": 0,
              "ticks": ""
             }
            },
            "type": "scatter3d"
           }
          ],
          "scattercarpet": [
           {
            "marker": {
             "colorbar": {
              "outlinewidth": 0,
              "ticks": ""
             }
            },
            "type": "scattercarpet"
           }
          ],
          "scattergeo": [
           {
            "marker": {
             "colorbar": {
              "outlinewidth": 0,
              "ticks": ""
             }
            },
            "type": "scattergeo"
           }
          ],
          "scattergl": [
           {
            "marker": {
             "colorbar": {
              "outlinewidth": 0,
              "ticks": ""
             }
            },
            "type": "scattergl"
           }
          ],
          "scattermapbox": [
           {
            "marker": {
             "colorbar": {
              "outlinewidth": 0,
              "ticks": ""
             }
            },
            "type": "scattermapbox"
           }
          ],
          "scatterpolar": [
           {
            "marker": {
             "colorbar": {
              "outlinewidth": 0,
              "ticks": ""
             }
            },
            "type": "scatterpolar"
           }
          ],
          "scatterpolargl": [
           {
            "marker": {
             "colorbar": {
              "outlinewidth": 0,
              "ticks": ""
             }
            },
            "type": "scatterpolargl"
           }
          ],
          "scatterternary": [
           {
            "marker": {
             "colorbar": {
              "outlinewidth": 0,
              "ticks": ""
             }
            },
            "type": "scatterternary"
           }
          ],
          "surface": [
           {
            "colorbar": {
             "outlinewidth": 0,
             "ticks": ""
            },
            "colorscale": [
             [
              0,
              "#0d0887"
             ],
             [
              0.1111111111111111,
              "#46039f"
             ],
             [
              0.2222222222222222,
              "#7201a8"
             ],
             [
              0.3333333333333333,
              "#9c179e"
             ],
             [
              0.4444444444444444,
              "#bd3786"
             ],
             [
              0.5555555555555556,
              "#d8576b"
             ],
             [
              0.6666666666666666,
              "#ed7953"
             ],
             [
              0.7777777777777778,
              "#fb9f3a"
             ],
             [
              0.8888888888888888,
              "#fdca26"
             ],
             [
              1,
              "#f0f921"
             ]
            ],
            "type": "surface"
           }
          ],
          "table": [
           {
            "cells": {
             "fill": {
              "color": "#EBF0F8"
             },
             "line": {
              "color": "white"
             }
            },
            "header": {
             "fill": {
              "color": "#C8D4E3"
             },
             "line": {
              "color": "white"
             }
            },
            "type": "table"
           }
          ]
         },
         "layout": {
          "annotationdefaults": {
           "arrowcolor": "#2a3f5f",
           "arrowhead": 0,
           "arrowwidth": 1
          },
          "autotypenumbers": "strict",
          "coloraxis": {
           "colorbar": {
            "outlinewidth": 0,
            "ticks": ""
           }
          },
          "colorscale": {
           "diverging": [
            [
             0,
             "#8e0152"
            ],
            [
             0.1,
             "#c51b7d"
            ],
            [
             0.2,
             "#de77ae"
            ],
            [
             0.3,
             "#f1b6da"
            ],
            [
             0.4,
             "#fde0ef"
            ],
            [
             0.5,
             "#f7f7f7"
            ],
            [
             0.6,
             "#e6f5d0"
            ],
            [
             0.7,
             "#b8e186"
            ],
            [
             0.8,
             "#7fbc41"
            ],
            [
             0.9,
             "#4d9221"
            ],
            [
             1,
             "#276419"
            ]
           ],
           "sequential": [
            [
             0,
             "#0d0887"
            ],
            [
             0.1111111111111111,
             "#46039f"
            ],
            [
             0.2222222222222222,
             "#7201a8"
            ],
            [
             0.3333333333333333,
             "#9c179e"
            ],
            [
             0.4444444444444444,
             "#bd3786"
            ],
            [
             0.5555555555555556,
             "#d8576b"
            ],
            [
             0.6666666666666666,
             "#ed7953"
            ],
            [
             0.7777777777777778,
             "#fb9f3a"
            ],
            [
             0.8888888888888888,
             "#fdca26"
            ],
            [
             1,
             "#f0f921"
            ]
           ],
           "sequentialminus": [
            [
             0,
             "#0d0887"
            ],
            [
             0.1111111111111111,
             "#46039f"
            ],
            [
             0.2222222222222222,
             "#7201a8"
            ],
            [
             0.3333333333333333,
             "#9c179e"
            ],
            [
             0.4444444444444444,
             "#bd3786"
            ],
            [
             0.5555555555555556,
             "#d8576b"
            ],
            [
             0.6666666666666666,
             "#ed7953"
            ],
            [
             0.7777777777777778,
             "#fb9f3a"
            ],
            [
             0.8888888888888888,
             "#fdca26"
            ],
            [
             1,
             "#f0f921"
            ]
           ]
          },
          "colorway": [
           "#636efa",
           "#EF553B",
           "#00cc96",
           "#ab63fa",
           "#FFA15A",
           "#19d3f3",
           "#FF6692",
           "#B6E880",
           "#FF97FF",
           "#FECB52"
          ],
          "font": {
           "color": "#2a3f5f"
          },
          "geo": {
           "bgcolor": "white",
           "lakecolor": "white",
           "landcolor": "#E5ECF6",
           "showlakes": true,
           "showland": true,
           "subunitcolor": "white"
          },
          "hoverlabel": {
           "align": "left"
          },
          "hovermode": "closest",
          "mapbox": {
           "style": "light"
          },
          "paper_bgcolor": "white",
          "plot_bgcolor": "#E5ECF6",
          "polar": {
           "angularaxis": {
            "gridcolor": "white",
            "linecolor": "white",
            "ticks": ""
           },
           "bgcolor": "#E5ECF6",
           "radialaxis": {
            "gridcolor": "white",
            "linecolor": "white",
            "ticks": ""
           }
          },
          "scene": {
           "xaxis": {
            "backgroundcolor": "#E5ECF6",
            "gridcolor": "white",
            "gridwidth": 2,
            "linecolor": "white",
            "showbackground": true,
            "ticks": "",
            "zerolinecolor": "white"
           },
           "yaxis": {
            "backgroundcolor": "#E5ECF6",
            "gridcolor": "white",
            "gridwidth": 2,
            "linecolor": "white",
            "showbackground": true,
            "ticks": "",
            "zerolinecolor": "white"
           },
           "zaxis": {
            "backgroundcolor": "#E5ECF6",
            "gridcolor": "white",
            "gridwidth": 2,
            "linecolor": "white",
            "showbackground": true,
            "ticks": "",
            "zerolinecolor": "white"
           }
          },
          "shapedefaults": {
           "line": {
            "color": "#2a3f5f"
           }
          },
          "ternary": {
           "aaxis": {
            "gridcolor": "white",
            "linecolor": "white",
            "ticks": ""
           },
           "baxis": {
            "gridcolor": "white",
            "linecolor": "white",
            "ticks": ""
           },
           "bgcolor": "#E5ECF6",
           "caxis": {
            "gridcolor": "white",
            "linecolor": "white",
            "ticks": ""
           }
          },
          "title": {
           "x": 0.05
          },
          "xaxis": {
           "automargin": true,
           "gridcolor": "white",
           "linecolor": "white",
           "ticks": "",
           "title": {
            "standoff": 15
           },
           "zerolinecolor": "white",
           "zerolinewidth": 2
          },
          "yaxis": {
           "automargin": true,
           "gridcolor": "white",
           "linecolor": "white",
           "ticks": "",
           "title": {
            "standoff": 15
           },
           "zerolinecolor": "white",
           "zerolinewidth": 2
          }
         }
        },
        "title": {
         "text": "Distribution of Number of Children"
        },
        "xaxis": {
         "anchor": "y",
         "domain": [
          0,
          1
         ],
         "title": {
          "text": "children"
         }
        },
        "yaxis": {
         "anchor": "x",
         "domain": [
          0,
          1
         ],
         "title": {
          "text": "count"
         }
        }
       }
      }
     },
     "metadata": {},
     "output_type": "display_data"
    }
   ],
   "source": [
    "#Show the number of children column visually\n",
    "no_of_children = px.histogram(h_data, x='children', color_discrete_sequence=[\"green\"], title = \"Distribution of Number of Children\")\n",
    "no_of_children.update_layout(bargap=0.1)\n",
    "no_of_children.show()"
   ]
  },
  {
   "cell_type": "code",
   "execution_count": 14,
   "metadata": {},
   "outputs": [
    {
     "data": {
      "text/plain": [
       "southeast    364\n",
       "southwest    325\n",
       "northwest    325\n",
       "northeast    324\n",
       "Name: region, dtype: int64"
      ]
     },
     "execution_count": 14,
     "metadata": {},
     "output_type": "execute_result"
    }
   ],
   "source": [
    "#Explore the 'regions' column of the dataset\n",
    "h_data[\"region\"].value_counts()"
   ]
  },
  {
   "cell_type": "code",
   "execution_count": 15,
   "metadata": {},
   "outputs": [
    {
     "data": {
      "application/vnd.plotly.v1+json": {
       "config": {
        "plotlyServerURL": "https://plotly.com"
       },
       "data": [
        {
         "alignmentgroup": "True",
         "bingroup": "x",
         "hovertemplate": "region=%{x}<br>count=%{y}<extra></extra>",
         "legendgroup": "",
         "marker": {
          "color": "orange",
          "pattern": {
           "shape": ""
          }
         },
         "name": "",
         "offsetgroup": "",
         "orientation": "v",
         "showlegend": false,
         "type": "histogram",
         "x": [
          "southwest",
          "southeast",
          "southeast",
          "northwest",
          "northwest",
          "southeast",
          "southeast",
          "northwest",
          "northeast",
          "northwest",
          "northeast",
          "southeast",
          "southwest",
          "southeast",
          "southeast",
          "southwest",
          "northeast",
          "northeast",
          "southwest",
          "southwest",
          "northeast",
          "southwest",
          "southeast",
          "northeast",
          "northwest",
          "southeast",
          "northeast",
          "northwest",
          "northwest",
          "southwest",
          "southwest",
          "northeast",
          "southwest",
          "northwest",
          "southwest",
          "northwest",
          "northwest",
          "southwest",
          "northeast",
          "southwest",
          "northeast",
          "southeast",
          "southeast",
          "southeast",
          "northeast",
          "southwest",
          "northeast",
          "northwest",
          "southeast",
          "southeast",
          "northeast",
          "northwest",
          "southwest",
          "southeast",
          "northwest",
          "northwest",
          "northeast",
          "southeast",
          "southeast",
          "northwest",
          "northeast",
          "southeast",
          "northwest",
          "northwest",
          "northwest",
          "southwest",
          "southwest",
          "northwest",
          "southeast",
          "southeast",
          "southeast",
          "northeast",
          "southwest",
          "southeast",
          "southwest",
          "northwest",
          "southeast",
          "southeast",
          "northeast",
          "northwest",
          "northeast",
          "northeast",
          "southeast",
          "northwest",
          "southwest",
          "northwest",
          "northwest",
          "southwest",
          "northwest",
          "northwest",
          "southeast",
          "northwest",
          "northeast",
          "northwest",
          "southwest",
          "southeast",
          "southwest",
          "southeast",
          "northeast",
          "southwest",
          "southwest",
          "northeast",
          "northeast",
          "southeast",
          "southwest",
          "northwest",
          "southwest",
          "northwest",
          "southeast",
          "southeast",
          "northwest",
          "southwest",
          "southwest",
          "northwest",
          "northeast",
          "northeast",
          "southeast",
          "southeast",
          "southeast",
          "northwest",
          "southwest",
          "northeast",
          "northwest",
          "northeast",
          "northwest",
          "northeast",
          "southwest",
          "southwest",
          "northwest",
          "southwest",
          "northeast",
          "northeast",
          "southwest",
          "northwest",
          "northeast",
          "southeast",
          "southwest",
          "northwest",
          "southeast",
          "southwest",
          "northeast",
          "northeast",
          "southeast",
          "northwest",
          "northwest",
          "southeast",
          "northwest",
          "southeast",
          "northwest",
          "southwest",
          "northwest",
          "southeast",
          "northeast",
          "northeast",
          "northeast",
          "northwest",
          "southeast",
          "northeast",
          "southeast",
          "southeast",
          "northwest",
          "southeast",
          "southwest",
          "southwest",
          "northwest",
          "northeast",
          "southwest",
          "northwest",
          "northwest",
          "northeast",
          "southeast",
          "southwest",
          "northeast",
          "southwest",
          "northwest",
          "southwest",
          "northwest",
          "southwest",
          "southwest",
          "northeast",
          "northwest",
          "southeast",
          "northeast",
          "northwest",
          "southeast",
          "northeast",
          "southeast",
          "southwest",
          "southwest",
          "northwest",
          "southeast",
          "southwest",
          "southeast",
          "northwest",
          "southeast",
          "northwest",
          "southwest",
          "southeast",
          "northwest",
          "northeast",
          "northwest",
          "southeast",
          "northwest",
          "southeast",
          "southwest",
          "northeast",
          "southeast",
          "northeast",
          "southwest",
          "northeast",
          "southwest",
          "northwest",
          "northwest",
          "southeast",
          "southwest",
          "southwest",
          "northwest",
          "southeast",
          "southeast",
          "southeast",
          "southwest",
          "northeast",
          "southwest",
          "southwest",
          "southeast",
          "southeast",
          "southeast",
          "southeast",
          "northeast",
          "northeast",
          "northwest",
          "southeast",
          "southwest",
          "southwest",
          "northwest",
          "southeast",
          "southeast",
          "southeast",
          "northwest",
          "southeast",
          "northeast",
          "northeast",
          "southwest",
          "southwest",
          "northeast",
          "northwest",
          "southeast",
          "southeast",
          "southwest",
          "northeast",
          "northeast",
          "southwest",
          "southeast",
          "southwest",
          "northeast",
          "northeast",
          "northwest",
          "southeast",
          "northwest",
          "northwest",
          "southwest",
          "southeast",
          "northeast",
          "northwest",
          "southeast",
          "southeast",
          "southeast",
          "northeast",
          "southwest",
          "northeast",
          "southeast",
          "southwest",
          "northwest",
          "northeast",
          "northwest",
          "northeast",
          "northwest",
          "southwest",
          "southeast",
          "southeast",
          "northeast",
          "northeast",
          "northeast",
          "northeast",
          "southwest",
          "southeast",
          "northeast",
          "northwest",
          "northeast",
          "southeast",
          "southwest",
          "northeast",
          "southeast",
          "southeast",
          "southwest",
          "northeast",
          "southwest",
          "southeast",
          "northwest",
          "northwest",
          "northeast",
          "northeast",
          "southeast",
          "southeast",
          "southwest",
          "northwest",
          "southwest",
          "southeast",
          "northeast",
          "northwest",
          "southwest",
          "southwest",
          "southeast",
          "southeast",
          "southwest",
          "northeast",
          "northwest",
          "northeast",
          "northwest",
          "northeast",
          "northwest",
          "northeast",
          "southwest",
          "northeast",
          "southwest",
          "northeast",
          "southeast",
          "northwest",
          "southwest",
          "southwest",
          "northeast",
          "northwest",
          "northwest",
          "northeast",
          "northeast",
          "southwest",
          "southeast",
          "northwest",
          "northeast",
          "southeast",
          "southwest",
          "northwest",
          "northeast",
          "northeast",
          "southeast",
          "southeast",
          "southeast",
          "northeast",
          "southeast",
          "northwest",
          "northwest",
          "southwest",
          "southwest",
          "northeast",
          "southeast",
          "southwest",
          "southeast",
          "northwest",
          "southeast",
          "southeast",
          "northeast",
          "southwest",
          "southwest",
          "southwest",
          "southeast",
          "northeast",
          "northeast",
          "northwest",
          "northwest",
          "northeast",
          "northwest",
          "northeast",
          "northeast",
          "southwest",
          "southeast",
          "northwest",
          "northeast",
          "southeast",
          "northwest",
          "southeast",
          "northeast",
          "northeast",
          "southeast",
          "southeast",
          "northeast",
          "southwest",
          "southeast",
          "northwest",
          "northwest",
          "northwest",
          "northeast",
          "northwest",
          "northeast",
          "northeast",
          "northeast",
          "northwest",
          "southwest",
          "southeast",
          "southwest",
          "southeast",
          "southwest",
          "southeast",
          "northwest",
          "northwest",
          "southwest",
          "northeast",
          "southeast",
          "southwest",
          "southeast",
          "southeast",
          "northwest",
          "northeast",
          "northeast",
          "southwest",
          "northwest",
          "southeast",
          "southeast",
          "southwest",
          "southeast",
          "northwest",
          "southeast",
          "southeast",
          "northeast",
          "northeast",
          "southwest",
          "southeast",
          "northeast",
          "northeast",
          "northeast",
          "northwest",
          "southwest",
          "northwest",
          "southwest",
          "southwest",
          "northwest",
          "southeast",
          "northeast",
          "southwest",
          "southeast",
          "northeast",
          "northwest",
          "southwest",
          "southeast",
          "southeast",
          "northwest",
          "southwest",
          "northeast",
          "northwest",
          "southwest",
          "southwest",
          "southwest",
          "northwest",
          "southwest",
          "northwest",
          "southeast",
          "southwest",
          "southeast",
          "northwest",
          "southwest",
          "southeast",
          "southeast",
          "southwest",
          "northeast",
          "northeast",
          "northwest",
          "southeast",
          "southwest",
          "northwest",
          "northeast",
          "southeast",
          "southeast",
          "northeast",
          "southwest",
          "northeast",
          "southwest",
          "northwest",
          "northeast",
          "northwest",
          "southeast",
          "southeast",
          "northwest",
          "southeast",
          "southeast",
          "southwest",
          "southwest",
          "northeast",
          "northwest",
          "southwest",
          "southeast",
          "northwest",
          "southwest",
          "southeast",
          "northeast",
          "southwest",
          "southwest",
          "northeast",
          "southwest",
          "southwest",
          "southeast",
          "southwest",
          "southwest",
          "northeast",
          "southeast",
          "southeast",
          "southeast",
          "northwest",
          "northwest",
          "northwest",
          "northeast",
          "southwest",
          "northeast",
          "southeast",
          "northeast",
          "southwest",
          "southwest",
          "southwest",
          "southeast",
          "northwest",
          "southwest",
          "northeast",
          "northeast",
          "southeast",
          "northeast",
          "southeast",
          "southeast",
          "southeast",
          "northwest",
          "southwest",
          "northeast",
          "northeast",
          "southeast",
          "northeast",
          "southeast",
          "southeast",
          "southeast",
          "northeast",
          "southwest",
          "southwest",
          "southeast",
          "southeast",
          "southwest",
          "southeast",
          "southeast",
          "southeast",
          "northwest",
          "northwest",
          "northeast",
          "southwest",
          "northeast",
          "southeast",
          "southwest",
          "southeast",
          "southwest",
          "northwest",
          "northeast",
          "southwest",
          "northeast",
          "southeast",
          "northwest",
          "northwest",
          "northwest",
          "northeast",
          "southwest",
          "southeast",
          "southeast",
          "northwest",
          "northwest",
          "northwest",
          "southwest",
          "northwest",
          "southwest",
          "southeast",
          "southeast",
          "northeast",
          "northeast",
          "northwest",
          "southeast",
          "northeast",
          "southwest",
          "northeast",
          "northeast",
          "northwest",
          "southeast",
          "southeast",
          "southwest",
          "southeast",
          "northeast",
          "northwest",
          "northeast",
          "southeast",
          "southwest",
          "northwest",
          "southeast",
          "northeast",
          "southeast",
          "northeast",
          "southeast",
          "northeast",
          "southwest",
          "northwest",
          "southeast",
          "northwest",
          "southwest",
          "southeast",
          "northwest",
          "southeast",
          "northeast",
          "northwest",
          "northeast",
          "southwest",
          "southeast",
          "southwest",
          "northeast",
          "northeast",
          "southeast",
          "southeast",
          "northeast",
          "southwest",
          "southeast",
          "southwest",
          "southwest",
          "southwest",
          "southwest",
          "northeast",
          "northwest",
          "northwest",
          "northeast",
          "southeast",
          "southwest",
          "northwest",
          "southwest",
          "southwest",
          "southeast",
          "northeast",
          "southwest",
          "northeast",
          "northwest",
          "northeast",
          "northeast",
          "southeast",
          "southwest",
          "northwest",
          "northeast",
          "northwest",
          "southeast",
          "northeast",
          "northwest",
          "northeast",
          "northeast",
          "northeast",
          "southeast",
          "southeast",
          "southeast",
          "southeast",
          "southeast",
          "southeast",
          "southwest",
          "northwest",
          "northeast",
          "northeast",
          "southeast",
          "southeast",
          "northeast",
          "southeast",
          "southeast",
          "southeast",
          "southwest",
          "northwest",
          "northeast",
          "southeast",
          "southeast",
          "northeast",
          "southeast",
          "southeast",
          "southeast",
          "northwest",
          "southeast",
          "northwest",
          "southwest",
          "northwest",
          "southwest",
          "southwest",
          "southwest",
          "northwest",
          "southwest",
          "northeast",
          "northeast",
          "southeast",
          "southwest",
          "southeast",
          "northeast",
          "southwest",
          "northwest",
          "northwest",
          "southwest",
          "northwest",
          "northeast",
          "southeast",
          "northwest",
          "southeast",
          "southeast",
          "northeast",
          "southeast",
          "northwest",
          "northwest",
          "southwest",
          "southeast",
          "northwest",
          "northeast",
          "northeast",
          "southeast",
          "southeast",
          "northwest",
          "northeast",
          "southwest",
          "southwest",
          "northwest",
          "northwest",
          "northwest",
          "northwest",
          "northeast",
          "southwest",
          "southwest",
          "southwest",
          "northeast",
          "southeast",
          "northwest",
          "northeast",
          "northeast",
          "southeast",
          "southeast",
          "southwest",
          "southwest",
          "northeast",
          "southwest",
          "northwest",
          "southeast",
          "southwest",
          "northeast",
          "southwest",
          "northeast",
          "southeast",
          "northeast",
          "southeast",
          "northwest",
          "northwest",
          "southwest",
          "northwest",
          "southwest",
          "northwest",
          "southeast",
          "northwest",
          "northwest",
          "southeast",
          "northeast",
          "northeast",
          "northeast",
          "southeast",
          "northeast",
          "southeast",
          "northeast",
          "southwest",
          "southwest",
          "northeast",
          "northeast",
          "northwest",
          "southwest",
          "southwest",
          "southwest",
          "northwest",
          "southwest",
          "southwest",
          "northeast",
          "northwest",
          "northwest",
          "southeast",
          "northwest",
          "northeast",
          "southeast",
          "northwest",
          "southwest",
          "southeast",
          "southeast",
          "southwest",
          "southeast",
          "southwest",
          "northeast",
          "northwest",
          "northeast",
          "southeast",
          "southeast",
          "southwest",
          "northeast",
          "southeast",
          "northwest",
          "northwest",
          "southeast",
          "northeast",
          "southwest",
          "northeast",
          "southeast",
          "southeast",
          "southwest",
          "southeast",
          "southeast",
          "northwest",
          "northwest",
          "northwest",
          "southeast",
          "northeast",
          "southwest",
          "northwest",
          "southeast",
          "northeast",
          "southeast",
          "southeast",
          "northwest",
          "southwest",
          "northeast",
          "northwest",
          "southwest",
          "northwest",
          "southeast",
          "southeast",
          "northwest",
          "northeast",
          "southeast",
          "northeast",
          "northeast",
          "northwest",
          "southwest",
          "northwest",
          "northwest",
          "northwest",
          "northwest",
          "southeast",
          "southwest",
          "northeast",
          "northeast",
          "northwest",
          "southwest",
          "northeast",
          "southeast",
          "southeast",
          "northeast",
          "southeast",
          "southwest",
          "southeast",
          "southwest",
          "northwest",
          "northeast",
          "northwest",
          "northeast",
          "northeast",
          "northeast",
          "southwest",
          "southeast",
          "northwest",
          "southeast",
          "southwest",
          "southwest",
          "southwest",
          "northwest",
          "northeast",
          "southwest",
          "southwest",
          "southeast",
          "southwest",
          "northeast",
          "southwest",
          "southwest",
          "southeast",
          "southeast",
          "southwest",
          "northeast",
          "northwest",
          "southwest",
          "southeast",
          "southwest",
          "southwest",
          "southwest",
          "northwest",
          "northeast",
          "northeast",
          "northwest",
          "southeast",
          "northeast",
          "northwest",
          "southwest",
          "northwest",
          "northwest",
          "southeast",
          "northeast",
          "southeast",
          "northeast",
          "southwest",
          "northeast",
          "northwest",
          "southeast",
          "northwest",
          "northeast",
          "southeast",
          "northeast",
          "southeast",
          "southwest",
          "northeast",
          "northeast",
          "southeast",
          "southwest",
          "southwest",
          "northwest",
          "northeast",
          "northwest",
          "southwest",
          "northwest",
          "southeast",
          "northwest",
          "northeast",
          "southwest",
          "southeast",
          "southwest",
          "southwest",
          "southwest",
          "northwest",
          "southwest",
          "northeast",
          "southwest",
          "southwest",
          "southeast",
          "southeast",
          "southeast",
          "southwest",
          "southwest",
          "southwest",
          "southeast",
          "southwest",
          "northeast",
          "northwest",
          "southeast",
          "southeast",
          "southeast",
          "southeast",
          "northeast",
          "northwest",
          "southeast",
          "southwest",
          "southwest",
          "northeast",
          "northwest",
          "southwest",
          "northeast",
          "southeast",
          "northwest",
          "southwest",
          "northwest",
          "southeast",
          "southeast",
          "northwest",
          "northeast",
          "northwest",
          "northwest",
          "southwest",
          "southeast",
          "northeast",
          "northwest",
          "southwest",
          "northwest",
          "northwest",
          "northeast",
          "southeast",
          "southeast",
          "northeast",
          "northwest",
          "southwest",
          "southeast",
          "northeast",
          "southeast",
          "southeast",
          "northeast",
          "southeast",
          "northeast",
          "northeast",
          "southwest",
          "northeast",
          "northeast",
          "southwest",
          "northwest",
          "northwest",
          "northeast",
          "northeast",
          "southwest",
          "northeast",
          "southwest",
          "southeast",
          "northwest",
          "northeast",
          "southwest",
          "southeast",
          "northeast",
          "northwest",
          "northwest",
          "southwest",
          "southwest",
          "southwest",
          "northeast",
          "northwest",
          "northeast",
          "northwest",
          "northeast",
          "northeast",
          "southwest",
          "southeast",
          "southeast",
          "northwest",
          "southwest",
          "northwest",
          "northwest",
          "southwest",
          "northwest",
          "northwest",
          "southwest",
          "southeast",
          "southeast",
          "southeast",
          "southeast",
          "southwest",
          "northwest",
          "northwest",
          "southwest",
          "northeast",
          "northwest",
          "southeast",
          "northeast",
          "northeast",
          "northwest",
          "southwest",
          "southeast",
          "northwest",
          "northeast",
          "northwest",
          "northwest",
          "northeast",
          "northeast",
          "southwest",
          "northeast",
          "northwest",
          "northeast",
          "southeast",
          "northwest",
          "southwest",
          "northwest",
          "northeast",
          "northeast",
          "southwest",
          "northwest",
          "northwest",
          "southwest",
          "southeast",
          "southeast",
          "northwest",
          "southeast",
          "southeast",
          "southeast",
          "northwest",
          "southwest",
          "southwest",
          "southeast",
          "northeast",
          "northwest",
          "southeast",
          "southeast",
          "northeast",
          "northwest",
          "northeast",
          "northeast",
          "southeast",
          "southwest",
          "northeast",
          "southeast",
          "southeast",
          "southeast",
          "northwest",
          "northwest",
          "southwest",
          "northwest",
          "southwest",
          "northeast",
          "northwest",
          "southeast",
          "southwest",
          "southeast",
          "northeast",
          "southwest",
          "northwest",
          "southwest",
          "northeast",
          "northeast",
          "southeast",
          "northeast",
          "southeast",
          "northeast",
          "southwest",
          "southeast",
          "southeast",
          "southwest",
          "southeast",
          "northwest",
          "northwest",
          "southwest",
          "southeast",
          "northeast",
          "southeast",
          "southeast",
          "northwest",
          "northeast",
          "southeast",
          "northeast",
          "southeast",
          "southeast",
          "northwest",
          "southwest",
          "southeast",
          "northwest",
          "northeast",
          "northeast",
          "northwest",
          "southwest",
          "southeast",
          "southwest",
          "southwest",
          "southeast",
          "southwest",
          "northeast",
          "northwest",
          "northwest",
          "northwest",
          "southwest",
          "northwest",
          "southeast",
          "northwest",
          "southeast",
          "southwest",
          "southeast",
          "southeast",
          "southwest",
          "northwest",
          "southwest",
          "northwest",
          "southwest",
          "southwest",
          "northeast",
          "northwest",
          "southeast",
          "northwest",
          "northwest",
          "northeast",
          "southeast",
          "northwest",
          "northeast",
          "southwest",
          "northwest",
          "southeast",
          "southeast",
          "northeast",
          "northwest",
          "northeast",
          "southeast",
          "southwest",
          "southwest",
          "northwest",
          "northeast",
          "southwest",
          "southeast",
          "northwest",
          "northwest",
          "southwest",
          "northwest",
          "southwest",
          "northeast",
          "southeast",
          "northeast",
          "northwest",
          "southwest",
          "northeast",
          "southeast",
          "northeast",
          "northwest",
          "northwest",
          "northeast",
          "southwest",
          "northwest",
          "northeast",
          "northeast",
          "northwest",
          "northwest",
          "northwest",
          "northwest",
          "southeast",
          "northwest",
          "southwest",
          "northwest",
          "northwest",
          "northwest",
          "northeast",
          "southeast",
          "northwest",
          "southwest",
          "southwest",
          "northeast",
          "southwest",
          "northwest",
          "southeast",
          "northeast",
          "southwest",
          "northwest",
          "northeast",
          "southeast",
          "southeast",
          "southwest",
          "northwest",
          "northeast",
          "southeast",
          "southeast",
          "southeast",
          "northeast",
          "southeast",
          "northeast",
          "southeast",
          "southeast",
          "northeast",
          "northwest",
          "southwest",
          "northwest",
          "southwest",
          "southeast",
          "northwest",
          "northeast",
          "northwest",
          "northeast",
          "southeast",
          "southeast",
          "southeast",
          "northwest",
          "southeast",
          "southeast",
          "southwest",
          "southwest",
          "southwest",
          "southeast",
          "northeast",
          "northeast",
          "southwest",
          "southwest",
          "southwest",
          "southeast",
          "southwest",
          "northwest",
          "northwest",
          "northwest",
          "northeast",
          "northeast",
          "southwest",
          "southeast",
          "southwest",
          "northeast",
          "southeast",
          "southwest",
          "northeast",
          "southwest",
          "southwest",
          "northwest",
          "northwest",
          "southeast",
          "southeast",
          "southeast",
          "southwest",
          "northeast",
          "northwest",
          "northeast",
          "northwest",
          "southeast",
          "northwest",
          "northeast",
          "southeast",
          "southwest",
          "northeast",
          "northeast",
          "southwest",
          "southwest",
          "southeast",
          "northeast",
          "southwest",
          "southeast",
          "northwest",
          "northeast",
          "southwest",
          "northeast",
          "southeast",
          "northwest",
          "northwest",
          "southeast",
          "northwest",
          "southwest",
          "southwest",
          "northeast",
          "southeast",
          "northeast",
          "northwest",
          "southwest",
          "southwest",
          "northwest",
          "northwest",
          "southwest",
          "southwest",
          "northwest",
          "northeast",
          "southwest",
          "southeast",
          "northeast",
          "northwest",
          "northwest",
          "northeast",
          "southeast",
          "southeast",
          "northwest",
          "northeast",
          "northeast",
          "southeast",
          "northeast",
          "southwest",
          "southeast",
          "southwest",
          "southwest",
          "northwest",
          "northeast",
          "southeast",
          "southwest",
          "northwest"
         ],
         "xaxis": "x",
         "yaxis": "y"
        }
       ],
       "layout": {
        "bargap": 0.1,
        "barmode": "relative",
        "legend": {
         "tracegroupgap": 0
        },
        "template": {
         "data": {
          "bar": [
           {
            "error_x": {
             "color": "#2a3f5f"
            },
            "error_y": {
             "color": "#2a3f5f"
            },
            "marker": {
             "line": {
              "color": "#E5ECF6",
              "width": 0.5
             },
             "pattern": {
              "fillmode": "overlay",
              "size": 10,
              "solidity": 0.2
             }
            },
            "type": "bar"
           }
          ],
          "barpolar": [
           {
            "marker": {
             "line": {
              "color": "#E5ECF6",
              "width": 0.5
             },
             "pattern": {
              "fillmode": "overlay",
              "size": 10,
              "solidity": 0.2
             }
            },
            "type": "barpolar"
           }
          ],
          "carpet": [
           {
            "aaxis": {
             "endlinecolor": "#2a3f5f",
             "gridcolor": "white",
             "linecolor": "white",
             "minorgridcolor": "white",
             "startlinecolor": "#2a3f5f"
            },
            "baxis": {
             "endlinecolor": "#2a3f5f",
             "gridcolor": "white",
             "linecolor": "white",
             "minorgridcolor": "white",
             "startlinecolor": "#2a3f5f"
            },
            "type": "carpet"
           }
          ],
          "choropleth": [
           {
            "colorbar": {
             "outlinewidth": 0,
             "ticks": ""
            },
            "type": "choropleth"
           }
          ],
          "contour": [
           {
            "colorbar": {
             "outlinewidth": 0,
             "ticks": ""
            },
            "colorscale": [
             [
              0,
              "#0d0887"
             ],
             [
              0.1111111111111111,
              "#46039f"
             ],
             [
              0.2222222222222222,
              "#7201a8"
             ],
             [
              0.3333333333333333,
              "#9c179e"
             ],
             [
              0.4444444444444444,
              "#bd3786"
             ],
             [
              0.5555555555555556,
              "#d8576b"
             ],
             [
              0.6666666666666666,
              "#ed7953"
             ],
             [
              0.7777777777777778,
              "#fb9f3a"
             ],
             [
              0.8888888888888888,
              "#fdca26"
             ],
             [
              1,
              "#f0f921"
             ]
            ],
            "type": "contour"
           }
          ],
          "contourcarpet": [
           {
            "colorbar": {
             "outlinewidth": 0,
             "ticks": ""
            },
            "type": "contourcarpet"
           }
          ],
          "heatmap": [
           {
            "colorbar": {
             "outlinewidth": 0,
             "ticks": ""
            },
            "colorscale": [
             [
              0,
              "#0d0887"
             ],
             [
              0.1111111111111111,
              "#46039f"
             ],
             [
              0.2222222222222222,
              "#7201a8"
             ],
             [
              0.3333333333333333,
              "#9c179e"
             ],
             [
              0.4444444444444444,
              "#bd3786"
             ],
             [
              0.5555555555555556,
              "#d8576b"
             ],
             [
              0.6666666666666666,
              "#ed7953"
             ],
             [
              0.7777777777777778,
              "#fb9f3a"
             ],
             [
              0.8888888888888888,
              "#fdca26"
             ],
             [
              1,
              "#f0f921"
             ]
            ],
            "type": "heatmap"
           }
          ],
          "heatmapgl": [
           {
            "colorbar": {
             "outlinewidth": 0,
             "ticks": ""
            },
            "colorscale": [
             [
              0,
              "#0d0887"
             ],
             [
              0.1111111111111111,
              "#46039f"
             ],
             [
              0.2222222222222222,
              "#7201a8"
             ],
             [
              0.3333333333333333,
              "#9c179e"
             ],
             [
              0.4444444444444444,
              "#bd3786"
             ],
             [
              0.5555555555555556,
              "#d8576b"
             ],
             [
              0.6666666666666666,
              "#ed7953"
             ],
             [
              0.7777777777777778,
              "#fb9f3a"
             ],
             [
              0.8888888888888888,
              "#fdca26"
             ],
             [
              1,
              "#f0f921"
             ]
            ],
            "type": "heatmapgl"
           }
          ],
          "histogram": [
           {
            "marker": {
             "pattern": {
              "fillmode": "overlay",
              "size": 10,
              "solidity": 0.2
             }
            },
            "type": "histogram"
           }
          ],
          "histogram2d": [
           {
            "colorbar": {
             "outlinewidth": 0,
             "ticks": ""
            },
            "colorscale": [
             [
              0,
              "#0d0887"
             ],
             [
              0.1111111111111111,
              "#46039f"
             ],
             [
              0.2222222222222222,
              "#7201a8"
             ],
             [
              0.3333333333333333,
              "#9c179e"
             ],
             [
              0.4444444444444444,
              "#bd3786"
             ],
             [
              0.5555555555555556,
              "#d8576b"
             ],
             [
              0.6666666666666666,
              "#ed7953"
             ],
             [
              0.7777777777777778,
              "#fb9f3a"
             ],
             [
              0.8888888888888888,
              "#fdca26"
             ],
             [
              1,
              "#f0f921"
             ]
            ],
            "type": "histogram2d"
           }
          ],
          "histogram2dcontour": [
           {
            "colorbar": {
             "outlinewidth": 0,
             "ticks": ""
            },
            "colorscale": [
             [
              0,
              "#0d0887"
             ],
             [
              0.1111111111111111,
              "#46039f"
             ],
             [
              0.2222222222222222,
              "#7201a8"
             ],
             [
              0.3333333333333333,
              "#9c179e"
             ],
             [
              0.4444444444444444,
              "#bd3786"
             ],
             [
              0.5555555555555556,
              "#d8576b"
             ],
             [
              0.6666666666666666,
              "#ed7953"
             ],
             [
              0.7777777777777778,
              "#fb9f3a"
             ],
             [
              0.8888888888888888,
              "#fdca26"
             ],
             [
              1,
              "#f0f921"
             ]
            ],
            "type": "histogram2dcontour"
           }
          ],
          "mesh3d": [
           {
            "colorbar": {
             "outlinewidth": 0,
             "ticks": ""
            },
            "type": "mesh3d"
           }
          ],
          "parcoords": [
           {
            "line": {
             "colorbar": {
              "outlinewidth": 0,
              "ticks": ""
             }
            },
            "type": "parcoords"
           }
          ],
          "pie": [
           {
            "automargin": true,
            "type": "pie"
           }
          ],
          "scatter": [
           {
            "fillpattern": {
             "fillmode": "overlay",
             "size": 10,
             "solidity": 0.2
            },
            "type": "scatter"
           }
          ],
          "scatter3d": [
           {
            "line": {
             "colorbar": {
              "outlinewidth": 0,
              "ticks": ""
             }
            },
            "marker": {
             "colorbar": {
              "outlinewidth": 0,
              "ticks": ""
             }
            },
            "type": "scatter3d"
           }
          ],
          "scattercarpet": [
           {
            "marker": {
             "colorbar": {
              "outlinewidth": 0,
              "ticks": ""
             }
            },
            "type": "scattercarpet"
           }
          ],
          "scattergeo": [
           {
            "marker": {
             "colorbar": {
              "outlinewidth": 0,
              "ticks": ""
             }
            },
            "type": "scattergeo"
           }
          ],
          "scattergl": [
           {
            "marker": {
             "colorbar": {
              "outlinewidth": 0,
              "ticks": ""
             }
            },
            "type": "scattergl"
           }
          ],
          "scattermapbox": [
           {
            "marker": {
             "colorbar": {
              "outlinewidth": 0,
              "ticks": ""
             }
            },
            "type": "scattermapbox"
           }
          ],
          "scatterpolar": [
           {
            "marker": {
             "colorbar": {
              "outlinewidth": 0,
              "ticks": ""
             }
            },
            "type": "scatterpolar"
           }
          ],
          "scatterpolargl": [
           {
            "marker": {
             "colorbar": {
              "outlinewidth": 0,
              "ticks": ""
             }
            },
            "type": "scatterpolargl"
           }
          ],
          "scatterternary": [
           {
            "marker": {
             "colorbar": {
              "outlinewidth": 0,
              "ticks": ""
             }
            },
            "type": "scatterternary"
           }
          ],
          "surface": [
           {
            "colorbar": {
             "outlinewidth": 0,
             "ticks": ""
            },
            "colorscale": [
             [
              0,
              "#0d0887"
             ],
             [
              0.1111111111111111,
              "#46039f"
             ],
             [
              0.2222222222222222,
              "#7201a8"
             ],
             [
              0.3333333333333333,
              "#9c179e"
             ],
             [
              0.4444444444444444,
              "#bd3786"
             ],
             [
              0.5555555555555556,
              "#d8576b"
             ],
             [
              0.6666666666666666,
              "#ed7953"
             ],
             [
              0.7777777777777778,
              "#fb9f3a"
             ],
             [
              0.8888888888888888,
              "#fdca26"
             ],
             [
              1,
              "#f0f921"
             ]
            ],
            "type": "surface"
           }
          ],
          "table": [
           {
            "cells": {
             "fill": {
              "color": "#EBF0F8"
             },
             "line": {
              "color": "white"
             }
            },
            "header": {
             "fill": {
              "color": "#C8D4E3"
             },
             "line": {
              "color": "white"
             }
            },
            "type": "table"
           }
          ]
         },
         "layout": {
          "annotationdefaults": {
           "arrowcolor": "#2a3f5f",
           "arrowhead": 0,
           "arrowwidth": 1
          },
          "autotypenumbers": "strict",
          "coloraxis": {
           "colorbar": {
            "outlinewidth": 0,
            "ticks": ""
           }
          },
          "colorscale": {
           "diverging": [
            [
             0,
             "#8e0152"
            ],
            [
             0.1,
             "#c51b7d"
            ],
            [
             0.2,
             "#de77ae"
            ],
            [
             0.3,
             "#f1b6da"
            ],
            [
             0.4,
             "#fde0ef"
            ],
            [
             0.5,
             "#f7f7f7"
            ],
            [
             0.6,
             "#e6f5d0"
            ],
            [
             0.7,
             "#b8e186"
            ],
            [
             0.8,
             "#7fbc41"
            ],
            [
             0.9,
             "#4d9221"
            ],
            [
             1,
             "#276419"
            ]
           ],
           "sequential": [
            [
             0,
             "#0d0887"
            ],
            [
             0.1111111111111111,
             "#46039f"
            ],
            [
             0.2222222222222222,
             "#7201a8"
            ],
            [
             0.3333333333333333,
             "#9c179e"
            ],
            [
             0.4444444444444444,
             "#bd3786"
            ],
            [
             0.5555555555555556,
             "#d8576b"
            ],
            [
             0.6666666666666666,
             "#ed7953"
            ],
            [
             0.7777777777777778,
             "#fb9f3a"
            ],
            [
             0.8888888888888888,
             "#fdca26"
            ],
            [
             1,
             "#f0f921"
            ]
           ],
           "sequentialminus": [
            [
             0,
             "#0d0887"
            ],
            [
             0.1111111111111111,
             "#46039f"
            ],
            [
             0.2222222222222222,
             "#7201a8"
            ],
            [
             0.3333333333333333,
             "#9c179e"
            ],
            [
             0.4444444444444444,
             "#bd3786"
            ],
            [
             0.5555555555555556,
             "#d8576b"
            ],
            [
             0.6666666666666666,
             "#ed7953"
            ],
            [
             0.7777777777777778,
             "#fb9f3a"
            ],
            [
             0.8888888888888888,
             "#fdca26"
            ],
            [
             1,
             "#f0f921"
            ]
           ]
          },
          "colorway": [
           "#636efa",
           "#EF553B",
           "#00cc96",
           "#ab63fa",
           "#FFA15A",
           "#19d3f3",
           "#FF6692",
           "#B6E880",
           "#FF97FF",
           "#FECB52"
          ],
          "font": {
           "color": "#2a3f5f"
          },
          "geo": {
           "bgcolor": "white",
           "lakecolor": "white",
           "landcolor": "#E5ECF6",
           "showlakes": true,
           "showland": true,
           "subunitcolor": "white"
          },
          "hoverlabel": {
           "align": "left"
          },
          "hovermode": "closest",
          "mapbox": {
           "style": "light"
          },
          "paper_bgcolor": "white",
          "plot_bgcolor": "#E5ECF6",
          "polar": {
           "angularaxis": {
            "gridcolor": "white",
            "linecolor": "white",
            "ticks": ""
           },
           "bgcolor": "#E5ECF6",
           "radialaxis": {
            "gridcolor": "white",
            "linecolor": "white",
            "ticks": ""
           }
          },
          "scene": {
           "xaxis": {
            "backgroundcolor": "#E5ECF6",
            "gridcolor": "white",
            "gridwidth": 2,
            "linecolor": "white",
            "showbackground": true,
            "ticks": "",
            "zerolinecolor": "white"
           },
           "yaxis": {
            "backgroundcolor": "#E5ECF6",
            "gridcolor": "white",
            "gridwidth": 2,
            "linecolor": "white",
            "showbackground": true,
            "ticks": "",
            "zerolinecolor": "white"
           },
           "zaxis": {
            "backgroundcolor": "#E5ECF6",
            "gridcolor": "white",
            "gridwidth": 2,
            "linecolor": "white",
            "showbackground": true,
            "ticks": "",
            "zerolinecolor": "white"
           }
          },
          "shapedefaults": {
           "line": {
            "color": "#2a3f5f"
           }
          },
          "ternary": {
           "aaxis": {
            "gridcolor": "white",
            "linecolor": "white",
            "ticks": ""
           },
           "baxis": {
            "gridcolor": "white",
            "linecolor": "white",
            "ticks": ""
           },
           "bgcolor": "#E5ECF6",
           "caxis": {
            "gridcolor": "white",
            "linecolor": "white",
            "ticks": ""
           }
          },
          "title": {
           "x": 0.05
          },
          "xaxis": {
           "automargin": true,
           "gridcolor": "white",
           "linecolor": "white",
           "ticks": "",
           "title": {
            "standoff": 15
           },
           "zerolinecolor": "white",
           "zerolinewidth": 2
          },
          "yaxis": {
           "automargin": true,
           "gridcolor": "white",
           "linecolor": "white",
           "ticks": "",
           "title": {
            "standoff": 15
           },
           "zerolinecolor": "white",
           "zerolinewidth": 2
          }
         }
        },
        "title": {
         "text": "Distribution of Customers by Region"
        },
        "xaxis": {
         "anchor": "y",
         "domain": [
          0,
          1
         ],
         "title": {
          "text": "region"
         }
        },
        "yaxis": {
         "anchor": "x",
         "domain": [
          0,
          1
         ],
         "title": {
          "text": "count"
         }
        }
       }
      }
     },
     "metadata": {},
     "output_type": "display_data"
    }
   ],
   "source": [
    "#Show the distribution of customers by region visually\n",
    "regions = px.histogram(h_data, x=\"region\", color_discrete_sequence=['orange'], title = 'Distribution of Customers by Region')\n",
    "regions.update_layout(bargap=0.1)\n",
    "regions.show()"
   ]
  },
  {
   "cell_type": "code",
   "execution_count": 16,
   "metadata": {},
   "outputs": [
    {
     "data": {
      "application/vnd.plotly.v1+json": {
       "config": {
        "plotlyServerURL": "https://plotly.com"
       },
       "data": [
        {
         "domain": {
          "x": [
           0,
           1
          ],
          "y": [
           0,
           1
          ]
         },
         "hovertemplate": "label=%{label}<br>value=%{value}<extra></extra>",
         "labels": [
          "southeast",
          "southwest",
          "northwest",
          "northeast"
         ],
         "legendgroup": "",
         "name": "",
         "showlegend": true,
         "type": "pie",
         "values": [
          364,
          325,
          325,
          324
         ]
        }
       ],
       "layout": {
        "legend": {
         "tracegroupgap": 0
        },
        "template": {
         "data": {
          "bar": [
           {
            "error_x": {
             "color": "#2a3f5f"
            },
            "error_y": {
             "color": "#2a3f5f"
            },
            "marker": {
             "line": {
              "color": "#E5ECF6",
              "width": 0.5
             },
             "pattern": {
              "fillmode": "overlay",
              "size": 10,
              "solidity": 0.2
             }
            },
            "type": "bar"
           }
          ],
          "barpolar": [
           {
            "marker": {
             "line": {
              "color": "#E5ECF6",
              "width": 0.5
             },
             "pattern": {
              "fillmode": "overlay",
              "size": 10,
              "solidity": 0.2
             }
            },
            "type": "barpolar"
           }
          ],
          "carpet": [
           {
            "aaxis": {
             "endlinecolor": "#2a3f5f",
             "gridcolor": "white",
             "linecolor": "white",
             "minorgridcolor": "white",
             "startlinecolor": "#2a3f5f"
            },
            "baxis": {
             "endlinecolor": "#2a3f5f",
             "gridcolor": "white",
             "linecolor": "white",
             "minorgridcolor": "white",
             "startlinecolor": "#2a3f5f"
            },
            "type": "carpet"
           }
          ],
          "choropleth": [
           {
            "colorbar": {
             "outlinewidth": 0,
             "ticks": ""
            },
            "type": "choropleth"
           }
          ],
          "contour": [
           {
            "colorbar": {
             "outlinewidth": 0,
             "ticks": ""
            },
            "colorscale": [
             [
              0,
              "#0d0887"
             ],
             [
              0.1111111111111111,
              "#46039f"
             ],
             [
              0.2222222222222222,
              "#7201a8"
             ],
             [
              0.3333333333333333,
              "#9c179e"
             ],
             [
              0.4444444444444444,
              "#bd3786"
             ],
             [
              0.5555555555555556,
              "#d8576b"
             ],
             [
              0.6666666666666666,
              "#ed7953"
             ],
             [
              0.7777777777777778,
              "#fb9f3a"
             ],
             [
              0.8888888888888888,
              "#fdca26"
             ],
             [
              1,
              "#f0f921"
             ]
            ],
            "type": "contour"
           }
          ],
          "contourcarpet": [
           {
            "colorbar": {
             "outlinewidth": 0,
             "ticks": ""
            },
            "type": "contourcarpet"
           }
          ],
          "heatmap": [
           {
            "colorbar": {
             "outlinewidth": 0,
             "ticks": ""
            },
            "colorscale": [
             [
              0,
              "#0d0887"
             ],
             [
              0.1111111111111111,
              "#46039f"
             ],
             [
              0.2222222222222222,
              "#7201a8"
             ],
             [
              0.3333333333333333,
              "#9c179e"
             ],
             [
              0.4444444444444444,
              "#bd3786"
             ],
             [
              0.5555555555555556,
              "#d8576b"
             ],
             [
              0.6666666666666666,
              "#ed7953"
             ],
             [
              0.7777777777777778,
              "#fb9f3a"
             ],
             [
              0.8888888888888888,
              "#fdca26"
             ],
             [
              1,
              "#f0f921"
             ]
            ],
            "type": "heatmap"
           }
          ],
          "heatmapgl": [
           {
            "colorbar": {
             "outlinewidth": 0,
             "ticks": ""
            },
            "colorscale": [
             [
              0,
              "#0d0887"
             ],
             [
              0.1111111111111111,
              "#46039f"
             ],
             [
              0.2222222222222222,
              "#7201a8"
             ],
             [
              0.3333333333333333,
              "#9c179e"
             ],
             [
              0.4444444444444444,
              "#bd3786"
             ],
             [
              0.5555555555555556,
              "#d8576b"
             ],
             [
              0.6666666666666666,
              "#ed7953"
             ],
             [
              0.7777777777777778,
              "#fb9f3a"
             ],
             [
              0.8888888888888888,
              "#fdca26"
             ],
             [
              1,
              "#f0f921"
             ]
            ],
            "type": "heatmapgl"
           }
          ],
          "histogram": [
           {
            "marker": {
             "pattern": {
              "fillmode": "overlay",
              "size": 10,
              "solidity": 0.2
             }
            },
            "type": "histogram"
           }
          ],
          "histogram2d": [
           {
            "colorbar": {
             "outlinewidth": 0,
             "ticks": ""
            },
            "colorscale": [
             [
              0,
              "#0d0887"
             ],
             [
              0.1111111111111111,
              "#46039f"
             ],
             [
              0.2222222222222222,
              "#7201a8"
             ],
             [
              0.3333333333333333,
              "#9c179e"
             ],
             [
              0.4444444444444444,
              "#bd3786"
             ],
             [
              0.5555555555555556,
              "#d8576b"
             ],
             [
              0.6666666666666666,
              "#ed7953"
             ],
             [
              0.7777777777777778,
              "#fb9f3a"
             ],
             [
              0.8888888888888888,
              "#fdca26"
             ],
             [
              1,
              "#f0f921"
             ]
            ],
            "type": "histogram2d"
           }
          ],
          "histogram2dcontour": [
           {
            "colorbar": {
             "outlinewidth": 0,
             "ticks": ""
            },
            "colorscale": [
             [
              0,
              "#0d0887"
             ],
             [
              0.1111111111111111,
              "#46039f"
             ],
             [
              0.2222222222222222,
              "#7201a8"
             ],
             [
              0.3333333333333333,
              "#9c179e"
             ],
             [
              0.4444444444444444,
              "#bd3786"
             ],
             [
              0.5555555555555556,
              "#d8576b"
             ],
             [
              0.6666666666666666,
              "#ed7953"
             ],
             [
              0.7777777777777778,
              "#fb9f3a"
             ],
             [
              0.8888888888888888,
              "#fdca26"
             ],
             [
              1,
              "#f0f921"
             ]
            ],
            "type": "histogram2dcontour"
           }
          ],
          "mesh3d": [
           {
            "colorbar": {
             "outlinewidth": 0,
             "ticks": ""
            },
            "type": "mesh3d"
           }
          ],
          "parcoords": [
           {
            "line": {
             "colorbar": {
              "outlinewidth": 0,
              "ticks": ""
             }
            },
            "type": "parcoords"
           }
          ],
          "pie": [
           {
            "automargin": true,
            "type": "pie"
           }
          ],
          "scatter": [
           {
            "fillpattern": {
             "fillmode": "overlay",
             "size": 10,
             "solidity": 0.2
            },
            "type": "scatter"
           }
          ],
          "scatter3d": [
           {
            "line": {
             "colorbar": {
              "outlinewidth": 0,
              "ticks": ""
             }
            },
            "marker": {
             "colorbar": {
              "outlinewidth": 0,
              "ticks": ""
             }
            },
            "type": "scatter3d"
           }
          ],
          "scattercarpet": [
           {
            "marker": {
             "colorbar": {
              "outlinewidth": 0,
              "ticks": ""
             }
            },
            "type": "scattercarpet"
           }
          ],
          "scattergeo": [
           {
            "marker": {
             "colorbar": {
              "outlinewidth": 0,
              "ticks": ""
             }
            },
            "type": "scattergeo"
           }
          ],
          "scattergl": [
           {
            "marker": {
             "colorbar": {
              "outlinewidth": 0,
              "ticks": ""
             }
            },
            "type": "scattergl"
           }
          ],
          "scattermapbox": [
           {
            "marker": {
             "colorbar": {
              "outlinewidth": 0,
              "ticks": ""
             }
            },
            "type": "scattermapbox"
           }
          ],
          "scatterpolar": [
           {
            "marker": {
             "colorbar": {
              "outlinewidth": 0,
              "ticks": ""
             }
            },
            "type": "scatterpolar"
           }
          ],
          "scatterpolargl": [
           {
            "marker": {
             "colorbar": {
              "outlinewidth": 0,
              "ticks": ""
             }
            },
            "type": "scatterpolargl"
           }
          ],
          "scatterternary": [
           {
            "marker": {
             "colorbar": {
              "outlinewidth": 0,
              "ticks": ""
             }
            },
            "type": "scatterternary"
           }
          ],
          "surface": [
           {
            "colorbar": {
             "outlinewidth": 0,
             "ticks": ""
            },
            "colorscale": [
             [
              0,
              "#0d0887"
             ],
             [
              0.1111111111111111,
              "#46039f"
             ],
             [
              0.2222222222222222,
              "#7201a8"
             ],
             [
              0.3333333333333333,
              "#9c179e"
             ],
             [
              0.4444444444444444,
              "#bd3786"
             ],
             [
              0.5555555555555556,
              "#d8576b"
             ],
             [
              0.6666666666666666,
              "#ed7953"
             ],
             [
              0.7777777777777778,
              "#fb9f3a"
             ],
             [
              0.8888888888888888,
              "#fdca26"
             ],
             [
              1,
              "#f0f921"
             ]
            ],
            "type": "surface"
           }
          ],
          "table": [
           {
            "cells": {
             "fill": {
              "color": "#EBF0F8"
             },
             "line": {
              "color": "white"
             }
            },
            "header": {
             "fill": {
              "color": "#C8D4E3"
             },
             "line": {
              "color": "white"
             }
            },
            "type": "table"
           }
          ]
         },
         "layout": {
          "annotationdefaults": {
           "arrowcolor": "#2a3f5f",
           "arrowhead": 0,
           "arrowwidth": 1
          },
          "autotypenumbers": "strict",
          "coloraxis": {
           "colorbar": {
            "outlinewidth": 0,
            "ticks": ""
           }
          },
          "colorscale": {
           "diverging": [
            [
             0,
             "#8e0152"
            ],
            [
             0.1,
             "#c51b7d"
            ],
            [
             0.2,
             "#de77ae"
            ],
            [
             0.3,
             "#f1b6da"
            ],
            [
             0.4,
             "#fde0ef"
            ],
            [
             0.5,
             "#f7f7f7"
            ],
            [
             0.6,
             "#e6f5d0"
            ],
            [
             0.7,
             "#b8e186"
            ],
            [
             0.8,
             "#7fbc41"
            ],
            [
             0.9,
             "#4d9221"
            ],
            [
             1,
             "#276419"
            ]
           ],
           "sequential": [
            [
             0,
             "#0d0887"
            ],
            [
             0.1111111111111111,
             "#46039f"
            ],
            [
             0.2222222222222222,
             "#7201a8"
            ],
            [
             0.3333333333333333,
             "#9c179e"
            ],
            [
             0.4444444444444444,
             "#bd3786"
            ],
            [
             0.5555555555555556,
             "#d8576b"
            ],
            [
             0.6666666666666666,
             "#ed7953"
            ],
            [
             0.7777777777777778,
             "#fb9f3a"
            ],
            [
             0.8888888888888888,
             "#fdca26"
            ],
            [
             1,
             "#f0f921"
            ]
           ],
           "sequentialminus": [
            [
             0,
             "#0d0887"
            ],
            [
             0.1111111111111111,
             "#46039f"
            ],
            [
             0.2222222222222222,
             "#7201a8"
            ],
            [
             0.3333333333333333,
             "#9c179e"
            ],
            [
             0.4444444444444444,
             "#bd3786"
            ],
            [
             0.5555555555555556,
             "#d8576b"
            ],
            [
             0.6666666666666666,
             "#ed7953"
            ],
            [
             0.7777777777777778,
             "#fb9f3a"
            ],
            [
             0.8888888888888888,
             "#fdca26"
            ],
            [
             1,
             "#f0f921"
            ]
           ]
          },
          "colorway": [
           "#636efa",
           "#EF553B",
           "#00cc96",
           "#ab63fa",
           "#FFA15A",
           "#19d3f3",
           "#FF6692",
           "#B6E880",
           "#FF97FF",
           "#FECB52"
          ],
          "font": {
           "color": "#2a3f5f"
          },
          "geo": {
           "bgcolor": "white",
           "lakecolor": "white",
           "landcolor": "#E5ECF6",
           "showlakes": true,
           "showland": true,
           "subunitcolor": "white"
          },
          "hoverlabel": {
           "align": "left"
          },
          "hovermode": "closest",
          "mapbox": {
           "style": "light"
          },
          "paper_bgcolor": "white",
          "plot_bgcolor": "#E5ECF6",
          "polar": {
           "angularaxis": {
            "gridcolor": "white",
            "linecolor": "white",
            "ticks": ""
           },
           "bgcolor": "#E5ECF6",
           "radialaxis": {
            "gridcolor": "white",
            "linecolor": "white",
            "ticks": ""
           }
          },
          "scene": {
           "xaxis": {
            "backgroundcolor": "#E5ECF6",
            "gridcolor": "white",
            "gridwidth": 2,
            "linecolor": "white",
            "showbackground": true,
            "ticks": "",
            "zerolinecolor": "white"
           },
           "yaxis": {
            "backgroundcolor": "#E5ECF6",
            "gridcolor": "white",
            "gridwidth": 2,
            "linecolor": "white",
            "showbackground": true,
            "ticks": "",
            "zerolinecolor": "white"
           },
           "zaxis": {
            "backgroundcolor": "#E5ECF6",
            "gridcolor": "white",
            "gridwidth": 2,
            "linecolor": "white",
            "showbackground": true,
            "ticks": "",
            "zerolinecolor": "white"
           }
          },
          "shapedefaults": {
           "line": {
            "color": "#2a3f5f"
           }
          },
          "ternary": {
           "aaxis": {
            "gridcolor": "white",
            "linecolor": "white",
            "ticks": ""
           },
           "baxis": {
            "gridcolor": "white",
            "linecolor": "white",
            "ticks": ""
           },
           "bgcolor": "#E5ECF6",
           "caxis": {
            "gridcolor": "white",
            "linecolor": "white",
            "ticks": ""
           }
          },
          "title": {
           "x": 0.05
          },
          "xaxis": {
           "automargin": true,
           "gridcolor": "white",
           "linecolor": "white",
           "ticks": "",
           "title": {
            "standoff": 15
           },
           "zerolinecolor": "white",
           "zerolinewidth": 2
          },
          "yaxis": {
           "automargin": true,
           "gridcolor": "white",
           "linecolor": "white",
           "ticks": "",
           "title": {
            "standoff": 15
           },
           "zerolinecolor": "white",
           "zerolinewidth": 2
          }
         }
        },
        "title": {
         "text": "Percentage of Customers by Region"
        }
       }
      }
     },
     "metadata": {},
     "output_type": "display_data"
    }
   ],
   "source": [
    "#This visual could also be a pie chart\n",
    "pie_regions = h_data[\"region\"].value_counts()\n",
    "regions = pie_regions.index\n",
    "population = pie_regions.values\n",
    "pie = px.pie(h_data, values=population, names=regions, title = \"Percentage of Customers by Region\")\n",
    "pie.show()"
   ]
  },
  {
   "cell_type": "code",
   "execution_count": 17,
   "metadata": {},
   "outputs": [
    {
     "data": {
      "text/plain": [
       "count     1338.000000\n",
       "mean     13270.422265\n",
       "std      12110.011237\n",
       "min       1121.873900\n",
       "25%       4740.287150\n",
       "50%       9382.033000\n",
       "75%      16639.912515\n",
       "max      63770.428010\n",
       "Name: charges, dtype: float64"
      ]
     },
     "execution_count": 17,
     "metadata": {},
     "output_type": "execute_result"
    }
   ],
   "source": [
    "#Explore the 'charges' column (this is the column we are thinking about using as the target variable)\n",
    "h_data[\"charges\"].describe()"
   ]
  },
  {
   "cell_type": "code",
   "execution_count": 18,
   "metadata": {},
   "outputs": [
    {
     "data": {
      "application/vnd.plotly.v1+json": {
       "config": {
        "plotlyServerURL": "https://plotly.com"
       },
       "data": [
        {
         "alignmentgroup": "True",
         "bingroup": "x",
         "hovertemplate": "charges=%{x}<br>count=%{y}<extra></extra>",
         "legendgroup": "",
         "marker": {
          "color": "gray",
          "pattern": {
           "shape": ""
          }
         },
         "name": "",
         "offsetgroup": "",
         "orientation": "v",
         "showlegend": false,
         "type": "histogram",
         "x": [
          16884.924,
          1725.5523,
          4449.462,
          21984.47061,
          3866.8552,
          3756.6216,
          8240.5896,
          7281.5056,
          6406.4107,
          28923.13692,
          2721.3208,
          27808.7251,
          1826.843,
          11090.7178,
          39611.7577,
          1837.237,
          10797.3362,
          2395.17155,
          10602.385,
          36837.467,
          13228.84695,
          4149.736,
          1137.011,
          37701.8768,
          6203.90175,
          14001.1338,
          14451.83515,
          12268.63225,
          2775.19215,
          38711,
          35585.576,
          2198.18985,
          4687.797,
          13770.0979,
          51194.55914,
          1625.43375,
          15612.19335,
          2302.3,
          39774.2763,
          48173.361,
          3046.062,
          4949.7587,
          6272.4772,
          6313.759,
          6079.6715,
          20630.28351,
          3393.35635,
          3556.9223,
          12629.8967,
          38709.176,
          2211.13075,
          3579.8287,
          23568.272,
          37742.5757,
          8059.6791,
          47496.49445,
          13607.36875,
          34303.1672,
          23244.7902,
          5989.52365,
          8606.2174,
          4504.6624,
          30166.61817,
          4133.64165,
          14711.7438,
          1743.214,
          14235.072,
          6389.37785,
          5920.1041,
          17663.1442,
          16577.7795,
          6799.458,
          11741.726,
          11946.6259,
          7726.854,
          11356.6609,
          3947.4131,
          1532.4697,
          2755.02095,
          6571.02435,
          4441.21315,
          7935.29115,
          37165.1638,
          11033.6617,
          39836.519,
          21098.55405,
          43578.9394,
          11073.176,
          8026.6666,
          11082.5772,
          2026.9741,
          10942.13205,
          30184.9367,
          5729.0053,
          47291.055,
          3766.8838,
          12105.32,
          10226.2842,
          22412.6485,
          15820.699,
          6186.127,
          3645.0894,
          21344.8467,
          30942.1918,
          5003.853,
          17560.37975,
          2331.519,
          3877.30425,
          2867.1196,
          47055.5321,
          10825.2537,
          11881.358,
          4646.759,
          2404.7338,
          11488.31695,
          30259.99556,
          11381.3254,
          19107.7796,
          8601.3293,
          6686.4313,
          7740.337,
          1705.6245,
          2257.47525,
          39556.4945,
          10115.00885,
          3385.39915,
          17081.08,
          9634.538,
          32734.1863,
          6082.405,
          12815.44495,
          13616.3586,
          11163.568,
          1632.56445,
          2457.21115,
          2155.6815,
          1261.442,
          2045.68525,
          27322.73386,
          2166.732,
          27375.90478,
          3490.5491,
          18972.495,
          18157.876,
          20745.9891,
          5138.2567,
          40720.55105,
          9877.6077,
          10959.6947,
          1842.519,
          5125.2157,
          7789.635,
          6334.34355,
          19964.7463,
          7077.1894,
          6948.7008,
          21223.6758,
          15518.18025,
          36950.2567,
          19749.38338,
          21348.706,
          36149.4835,
          10450.552,
          5152.134,
          5028.1466,
          10407.08585,
          4830.63,
          6128.79745,
          2719.27975,
          4827.90495,
          13405.3903,
          8116.68,
          1694.7964,
          5246.047,
          2855.43755,
          48824.45,
          6455.86265,
          10436.096,
          8823.279,
          8538.28845,
          11735.87905,
          1631.8212,
          4005.4225,
          7419.4779,
          7731.4271,
          43753.33705,
          3981.9768,
          5325.651,
          6775.961,
          4922.9159,
          12557.6053,
          4883.866,
          2137.6536,
          12044.342,
          1137.4697,
          1639.5631,
          5649.715,
          8516.829,
          9644.2525,
          14901.5167,
          2130.6759,
          8871.1517,
          13012.20865,
          37133.8982,
          7147.105,
          4337.7352,
          11743.299,
          20984.0936,
          13880.949,
          6610.1097,
          1980.07,
          8162.71625,
          3537.703,
          5002.7827,
          8520.026,
          7371.772,
          10355.641,
          2483.736,
          3392.9768,
          25081.76784,
          5012.471,
          10564.8845,
          5253.524,
          34779.615,
          19515.5416,
          11987.1682,
          2689.4954,
          24227.33724,
          7358.17565,
          9225.2564,
          7443.64305,
          14001.2867,
          1727.785,
          12333.828,
          6710.1919,
          19444.2658,
          1615.7667,
          4463.2051,
          17352.6803,
          7152.6714,
          38511.6283,
          5354.07465,
          35160.13457,
          7196.867,
          29523.1656,
          24476.47851,
          12648.7034,
          1986.9334,
          1832.094,
          4040.55825,
          12829.4551,
          47305.305,
          44260.7499,
          4260.744,
          41097.16175,
          13047.33235,
          43921.1837,
          5400.9805,
          11520.09985,
          33750.2918,
          11837.16,
          17085.2676,
          24869.8368,
          36219.40545,
          20462.99766,
          46151.1245,
          17179.522,
          14590.63205,
          7441.053,
          9282.4806,
          1719.4363,
          42856.838,
          7265.7025,
          9617.66245,
          2523.1695,
          9715.841,
          2803.69785,
          2150.469,
          12928.7911,
          9855.1314,
          22331.5668,
          48549.17835,
          4237.12655,
          11879.10405,
          9625.92,
          7742.1098,
          9432.9253,
          14256.1928,
          47896.79135,
          25992.82104,
          3172.018,
          20277.80751,
          42112.2356,
          2156.7518,
          3906.127,
          1704.5681,
          16297.846,
          21978.6769,
          38746.3551,
          9249.4952,
          6746.7425,
          24873.3849,
          12265.5069,
          4349.462,
          12646.207,
          19442.3535,
          20177.67113,
          4151.0287,
          11944.59435,
          7749.1564,
          8444.474,
          1737.376,
          42124.5153,
          8124.4084,
          34838.873,
          9722.7695,
          8835.26495,
          10435.06525,
          7421.19455,
          4667.60765,
          4894.7533,
          24671.66334,
          35491.64,
          11566.30055,
          2866.091,
          6600.20595,
          3561.8889,
          42760.5022,
          47928.03,
          9144.565,
          48517.56315,
          24393.6224,
          13429.0354,
          11658.37915,
          19144.57652,
          13822.803,
          12142.5786,
          13937.6665,
          41919.097,
          8232.6388,
          18955.22017,
          13352.0998,
          13217.0945,
          13981.85035,
          10977.2063,
          6184.2994,
          4889.9995,
          8334.45755,
          5478.0368,
          1635.73365,
          11830.6072,
          8932.084,
          3554.203,
          12404.8791,
          14133.03775,
          24603.04837,
          8944.1151,
          9620.3307,
          1837.2819,
          1607.5101,
          10043.249,
          4751.07,
          13844.506,
          2597.779,
          3180.5101,
          9778.3472,
          13430.265,
          8017.06115,
          8116.26885,
          3481.868,
          13415.0381,
          12029.2867,
          7639.41745,
          36085.219,
          1391.5287,
          18033.9679,
          21659.9301,
          38126.2465,
          16455.70785,
          27000.98473,
          15006.57945,
          42303.69215,
          20781.48892,
          5846.9176,
          8302.53565,
          1261.859,
          11856.4115,
          30284.64294,
          3176.8159,
          4618.0799,
          10736.87075,
          2138.0707,
          8964.06055,
          9290.1395,
          9411.005,
          7526.70645,
          8522.003,
          16586.49771,
          14988.432,
          1631.6683,
          9264.797,
          8083.9198,
          14692.66935,
          10269.46,
          3260.199,
          11396.9002,
          4185.0979,
          8539.671,
          6652.5288,
          4074.4537,
          1621.3402,
          19594.80965,
          14455.64405,
          5080.096,
          2134.9015,
          7345.7266,
          9140.951,
          18608.262,
          14418.2804,
          28950.4692,
          46889.2612,
          46599.1084,
          39125.33225,
          2727.3951,
          8968.33,
          9788.8659,
          6555.07035,
          7323.734819,
          3167.45585,
          18804.7524,
          23082.95533,
          4906.40965,
          5969.723,
          12638.195,
          4243.59005,
          13919.8229,
          2254.7967,
          5926.846,
          12592.5345,
          2897.3235,
          4738.2682,
          37079.372,
          1149.3959,
          28287.89766,
          26109.32905,
          7345.084,
          12730.9996,
          11454.0215,
          5910.944,
          4762.329,
          7512.267,
          4032.2407,
          1969.614,
          1769.53165,
          4686.3887,
          21797.0004,
          11881.9696,
          11840.77505,
          10601.412,
          7682.67,
          10381.4787,
          22144.032,
          15230.32405,
          11165.41765,
          1632.03625,
          19521.9682,
          13224.693,
          12643.3778,
          23288.9284,
          2201.0971,
          2497.0383,
          2203.47185,
          1744.465,
          20878.78443,
          25382.297,
          28868.6639,
          35147.52848,
          2534.39375,
          1534.3045,
          1824.2854,
          15555.18875,
          9304.7019,
          1622.1885,
          9880.068,
          9563.029,
          4347.02335,
          12475.3513,
          1253.936,
          48885.13561,
          10461.9794,
          1748.774,
          24513.09126,
          2196.4732,
          12574.049,
          17942.106,
          1967.0227,
          4931.647,
          8027.968,
          8211.1002,
          13470.86,
          36197.699,
          6837.3687,
          22218.1149,
          32548.3405,
          5974.3847,
          6796.86325,
          2643.2685,
          3077.0955,
          3044.2133,
          11455.28,
          11763.0009,
          2498.4144,
          9361.3268,
          1256.299,
          21082.16,
          11362.755,
          27724.28875,
          8413.46305,
          5240.765,
          3857.75925,
          25656.57526,
          3994.1778,
          9866.30485,
          5397.6167,
          38245.59327,
          11482.63485,
          24059.68019,
          9861.025,
          8342.90875,
          1708.0014,
          48675.5177,
          14043.4767,
          12925.886,
          19214.70553,
          13831.1152,
          6067.12675,
          5972.378,
          8825.086,
          8233.0975,
          27346.04207,
          6196.448,
          3056.3881,
          13887.204,
          63770.42801,
          10231.4999,
          23807.2406,
          3268.84665,
          11538.421,
          3213.62205,
          45863.205,
          13390.559,
          3972.9247,
          12957.118,
          11187.6567,
          17878.90068,
          3847.674,
          8334.5896,
          3935.1799,
          39983.42595,
          1646.4297,
          9193.8385,
          10923.9332,
          2494.022,
          9058.7303,
          2801.2588,
          2128.43105,
          6373.55735,
          7256.7231,
          11552.904,
          45702.02235,
          3761.292,
          2219.4451,
          4753.6368,
          31620.00106,
          13224.05705,
          12222.8983,
          1664.9996,
          58571.07448,
          9724.53,
          3206.49135,
          12913.9924,
          1639.5631,
          6356.2707,
          17626.23951,
          1242.816,
          4779.6023,
          3861.20965,
          43943.8761,
          13635.6379,
          5976.8311,
          11842.442,
          8428.0693,
          2566.4707,
          15359.1045,
          5709.1644,
          8823.98575,
          7640.3092,
          5594.8455,
          7441.501,
          33471.97189,
          1633.0444,
          9174.13565,
          11070.535,
          16085.1275,
          17468.9839,
          9283.562,
          3558.62025,
          25678.77845,
          4435.0942,
          39241.442,
          8547.6913,
          6571.544,
          2207.69745,
          6753.038,
          1880.07,
          42969.8527,
          11658.11505,
          23306.547,
          34439.8559,
          10713.644,
          3659.346,
          40182.246,
          9182.17,
          34617.84065,
          12129.61415,
          3736.4647,
          6748.5912,
          11326.71487,
          11365.952,
          42983.4585,
          10085.846,
          1977.815,
          3366.6697,
          7173.35995,
          9391.346,
          14410.9321,
          2709.1119,
          24915.04626,
          20149.3229,
          12949.1554,
          6666.243,
          32787.45859,
          13143.86485,
          4466.6214,
          18806.14547,
          10141.1362,
          6123.5688,
          8252.2843,
          1712.227,
          12430.95335,
          9800.8882,
          10579.711,
          8280.6227,
          8527.532,
          12244.531,
          24667.419,
          3410.324,
          4058.71245,
          26392.26029,
          14394.39815,
          6435.6237,
          22192.43711,
          5148.5526,
          1136.3994,
          27037.9141,
          42560.4304,
          8703.456,
          40003.33225,
          45710.20785,
          6500.2359,
          4837.5823,
          3943.5954,
          4399.731,
          6185.3208,
          46200.9851,
          7222.78625,
          12485.8009,
          46130.5265,
          12363.547,
          10156.7832,
          2585.269,
          1242.26,
          40103.89,
          9863.4718,
          4766.022,
          11244.3769,
          7729.64575,
          5438.7491,
          26236.57997,
          34806.4677,
          2104.1134,
          8068.185,
          2362.22905,
          2352.96845,
          3577.999,
          3201.24515,
          29186.48236,
          40273.6455,
          10976.24575,
          3500.6123,
          2020.5523,
          9541.69555,
          9504.3103,
          5385.3379,
          8930.93455,
          5375.038,
          44400.4064,
          10264.4421,
          6113.23105,
          5469.0066,
          1727.54,
          10107.2206,
          8310.83915,
          1984.4533,
          2457.502,
          12146.971,
          9566.9909,
          13112.6048,
          10848.1343,
          12231.6136,
          9875.6804,
          11264.541,
          12979.358,
          1263.249,
          10106.13425,
          40932.4295,
          6664.68595,
          16657.71745,
          2217.6012,
          6781.3542,
          19361.9988,
          10065.413,
          4234.927,
          9447.25035,
          14007.222,
          9583.8933,
          40419.0191,
          3484.331,
          36189.1017,
          44585.45587,
          8604.48365,
          18246.4955,
          43254.41795,
          3757.8448,
          8827.2099,
          9910.35985,
          11737.84884,
          1627.28245,
          8556.907,
          3062.50825,
          19539.243,
          1906.35825,
          14210.53595,
          11833.7823,
          17128.42608,
          5031.26955,
          7985.815,
          23065.4207,
          5428.7277,
          36307.7983,
          3925.7582,
          2416.955,
          19040.876,
          3070.8087,
          9095.06825,
          11842.62375,
          8062.764,
          7050.642,
          14319.031,
          6933.24225,
          27941.28758,
          11150.78,
          12797.20962,
          17748.5062,
          7261.741,
          10560.4917,
          6986.697,
          7448.40395,
          5934.3798,
          9869.8102,
          18259.216,
          1146.7966,
          9386.1613,
          24520.264,
          4350.5144,
          6414.178,
          12741.16745,
          1917.3184,
          5209.57885,
          13457.9608,
          5662.225,
          1252.407,
          2731.9122,
          21195.818,
          7209.4918,
          18310.742,
          4266.1658,
          4719.52405,
          11848.141,
          17904.52705,
          7046.7222,
          14313.8463,
          2103.08,
          38792.6856,
          1815.8759,
          7731.85785,
          28476.73499,
          2136.88225,
          1131.5066,
          3309.7926,
          9414.92,
          6360.9936,
          11013.7119,
          4428.88785,
          5584.3057,
          1877.9294,
          2842.76075,
          3597.596,
          23401.30575,
          55135.40209,
          7445.918,
          2680.9493,
          1621.8827,
          8219.2039,
          12523.6048,
          16069.08475,
          43813.8661,
          20773.62775,
          39597.4072,
          6117.4945,
          13393.756,
          5266.3656,
          4719.73655,
          11743.9341,
          5377.4578,
          7160.3303,
          4402.233,
          11657.7189,
          6402.29135,
          12622.1795,
          1526.312,
          12323.936,
          36021.0112,
          27533.9129,
          10072.05505,
          45008.9555,
          9872.701,
          2438.0552,
          2974.126,
          10601.63225,
          37270.1512,
          14119.62,
          42111.6647,
          11729.6795,
          24106.91255,
          1875.344,
          40974.1649,
          15817.9857,
          18218.16139,
          10965.446,
          46113.511,
          7151.092,
          12269.68865,
          5458.04645,
          8782.469,
          6600.361,
          1141.4451,
          11576.13,
          13129.60345,
          4391.652,
          8457.818,
          3392.3652,
          5966.8874,
          6849.026,
          8891.1395,
          2690.1138,
          26140.3603,
          6653.7886,
          6282.235,
          6311.952,
          3443.064,
          2789.0574,
          2585.85065,
          46255.1125,
          4877.98105,
          19719.6947,
          27218.43725,
          5272.1758,
          1682.597,
          11945.1327,
          29330.98315,
          7243.8136,
          10422.91665,
          44202.6536,
          13555.0049,
          13063.883,
          19798.05455,
          2221.56445,
          1634.5734,
          2117.33885,
          8688.85885,
          48673.5588,
          4661.28635,
          8125.7845,
          12644.589,
          4564.19145,
          4846.92015,
          7633.7206,
          15170.069,
          17496.306,
          2639.0429,
          33732.6867,
          14382.70905,
          7626.993,
          5257.50795,
          2473.3341,
          21774.32215,
          35069.37452,
          13041.921,
          5245.2269,
          13451.122,
          13462.52,
          5488.262,
          4320.41085,
          6250.435,
          25333.33284,
          2913.569,
          12032.326,
          13470.8044,
          6289.7549,
          2927.0647,
          6238.298,
          10096.97,
          7348.142,
          4673.3922,
          12233.828,
          32108.66282,
          8965.79575,
          2304.0022,
          9487.6442,
          1121.8739,
          9549.5651,
          2217.46915,
          1628.4709,
          12982.8747,
          11674.13,
          7160.094,
          39047.285,
          6358.77645,
          19933.458,
          11534.87265,
          47462.894,
          4527.18295,
          38998.546,
          20009.63365,
          3875.7341,
          41999.52,
          12609.88702,
          41034.2214,
          28468.91901,
          2730.10785,
          3353.284,
          14474.675,
          9500.57305,
          26467.09737,
          4746.344,
          23967.38305,
          7518.02535,
          3279.86855,
          8596.8278,
          10702.6424,
          4992.3764,
          2527.81865,
          1759.338,
          2322.6218,
          16138.76205,
          7804.1605,
          2902.9065,
          9704.66805,
          4889.0368,
          25517.11363,
          4500.33925,
          19199.944,
          16796.41194,
          4915.05985,
          7624.63,
          8410.04685,
          28340.18885,
          4518.82625,
          14571.8908,
          3378.91,
          7144.86265,
          10118.424,
          5484.4673,
          16420.49455,
          7986.47525,
          7418.522,
          13887.9685,
          6551.7501,
          5267.81815,
          17361.7661,
          34472.841,
          1972.95,
          21232.18226,
          8627.5411,
          4433.3877,
          4438.2634,
          24915.22085,
          23241.47453,
          9957.7216,
          8269.044,
          18767.7377,
          36580.28216,
          8765.249,
          5383.536,
          12124.9924,
          2709.24395,
          3987.926,
          12495.29085,
          26018.95052,
          8798.593,
          35595.5898,
          42211.1382,
          1711.0268,
          8569.8618,
          2020.177,
          16450.8947,
          21595.38229,
          9850.432,
          6877.9801,
          21677.28345,
          44423.803,
          4137.5227,
          13747.87235,
          12950.0712,
          12094.478,
          37484.4493,
          39725.51805,
          2250.8352,
          22493.65964,
          20234.85475,
          1704.70015,
          33475.81715,
          3161.454,
          11394.06555,
          21880.82,
          7325.0482,
          44501.3982,
          3594.17085,
          39727.614,
          8023.13545,
          14394.5579,
          9288.0267,
          25309.489,
          3353.4703,
          10594.50155,
          8277.523,
          17929.30337,
          2480.9791,
          4462.7218,
          1981.5819,
          11554.2236,
          48970.2476,
          6548.19505,
          5708.867,
          7045.499,
          8978.1851,
          5757.41345,
          14349.8544,
          10928.849,
          39871.7043,
          13974.45555,
          1909.52745,
          12096.6512,
          13204.28565,
          4562.8421,
          8551.347,
          2102.2647,
          34672.1472,
          15161.5344,
          11884.04858,
          4454.40265,
          5855.9025,
          4076.497,
          15019.76005,
          19023.26,
          10796.35025,
          11353.2276,
          9748.9106,
          10577.087,
          41676.0811,
          11286.5387,
          3591.48,
          33907.548,
          11299.343,
          4561.1885,
          44641.1974,
          1674.6323,
          23045.56616,
          3227.1211,
          16776.30405,
          11253.421,
          3471.4096,
          11363.2832,
          20420.60465,
          10338.9316,
          8988.15875,
          10493.9458,
          2904.088,
          8605.3615,
          11512.405,
          41949.2441,
          24180.9335,
          5312.16985,
          2396.0959,
          10807.4863,
          9222.4026,
          36124.5737,
          38282.7495,
          5693.4305,
          34166.273,
          8347.1643,
          46661.4424,
          18903.49141,
          40904.1995,
          14254.6082,
          10214.636,
          5836.5204,
          14358.36437,
          1728.897,
          8582.3023,
          3693.428,
          20709.02034,
          9991.03765,
          19673.33573,
          11085.5868,
          7623.518,
          3176.2877,
          3704.3545,
          36898.73308,
          9048.0273,
          7954.517,
          27117.99378,
          6338.0756,
          9630.397,
          11289.10925,
          52590.82939,
          2261.5688,
          10791.96,
          5979.731,
          2203.73595,
          12235.8392,
          40941.2854,
          5630.45785,
          11015.1747,
          7228.21565,
          39722.7462,
          14426.07385,
          2459.7201,
          3989.841,
          7727.2532,
          5124.1887,
          18963.17192,
          2200.83085,
          7153.5539,
          5227.98875,
          10982.5013,
          4529.477,
          4670.64,
          6112.35295,
          17178.6824,
          22478.6,
          11093.6229,
          6457.8434,
          4433.9159,
          2154.361,
          23887.6627,
          6496.886,
          2899.48935,
          19350.3689,
          7650.77375,
          2850.68375,
          2632.992,
          9447.3824,
          18328.2381,
          8603.8234,
          37465.34375,
          13844.7972,
          21771.3423,
          13126.67745,
          5327.40025,
          13725.47184,
          13019.16105,
          8671.19125,
          4134.08245,
          18838.70366,
          33307.5508,
          5699.8375,
          6393.60345,
          4934.705,
          6198.7518,
          8733.22925,
          2055.3249,
          9964.06,
          18223.4512,
          5116.5004,
          36910.60803,
          38415.474,
          20296.86345,
          12347.172,
          5373.36425,
          23563.01618,
          1702.4553,
          10806.839,
          3956.07145,
          12890.05765,
          5415.6612,
          4058.1161,
          41661.602,
          7537.1639,
          4718.20355,
          6593.5083,
          8442.667,
          26125.67477,
          6858.4796,
          4795.6568,
          6640.54485,
          7162.0122,
          10594.2257,
          11938.25595,
          60021.39897,
          20167.33603,
          12479.70895,
          11345.519,
          8515.7587,
          2699.56835,
          14449.8544,
          12224.35085,
          6985.50695,
          3238.4357,
          47269.854,
          49577.6624,
          4296.2712,
          3171.6149,
          1135.9407,
          5615.369,
          9101.798,
          6059.173,
          1633.9618,
          37607.5277,
          18648.4217,
          1241.565,
          16232.847,
          15828.82173,
          4415.1588,
          6474.013,
          11436.73815,
          11305.93455,
          30063.58055,
          10197.7722,
          4544.2348,
          3277.161,
          6770.1925,
          7337.748,
          10370.91255,
          26926.5144,
          10704.47,
          34254.05335,
          1880.487,
          8615.3,
          3292.52985,
          3021.80915,
          14478.33015,
          4747.0529,
          17043.3414,
          10959.33,
          2741.948,
          4357.04365,
          22462.04375,
          4189.1131,
          8283.6807,
          24535.69855,
          14283.4594,
          1720.3537,
          47403.88,
          8534.6718,
          3732.6251,
          5472.449,
          38344.566,
          7147.4728,
          7133.9025,
          34828.654,
          1515.3449,
          9301.89355,
          11931.12525,
          1964.78,
          1708.92575,
          4340.4409,
          5261.46945,
          2710.82855,
          62592.87309,
          46718.16325,
          3208.787,
          37829.7242,
          21259.37795,
          2464.6188,
          16115.3045,
          21472.4788,
          33900.653,
          6875.961,
          6940.90985,
          4571.41305,
          4536.259,
          36397.576,
          18765.87545,
          11272.33139,
          1731.677,
          1163.4627,
          19496.71917,
          7201.70085,
          5425.02335,
          28101.33305,
          12981.3457,
          43896.3763,
          4239.89265,
          13143.33665,
          7050.0213,
          9377.9047,
          22395.74424,
          10325.206,
          12629.1656,
          10795.93733,
          11411.685,
          10600.5483,
          2205.9808,
          1629.8335,
          2007.945,
          29141.3603
         ],
         "xaxis": "x",
         "yaxis": "y"
        }
       ],
       "layout": {
        "bargap": 0.1,
        "barmode": "relative",
        "legend": {
         "tracegroupgap": 0
        },
        "template": {
         "data": {
          "bar": [
           {
            "error_x": {
             "color": "#2a3f5f"
            },
            "error_y": {
             "color": "#2a3f5f"
            },
            "marker": {
             "line": {
              "color": "#E5ECF6",
              "width": 0.5
             },
             "pattern": {
              "fillmode": "overlay",
              "size": 10,
              "solidity": 0.2
             }
            },
            "type": "bar"
           }
          ],
          "barpolar": [
           {
            "marker": {
             "line": {
              "color": "#E5ECF6",
              "width": 0.5
             },
             "pattern": {
              "fillmode": "overlay",
              "size": 10,
              "solidity": 0.2
             }
            },
            "type": "barpolar"
           }
          ],
          "carpet": [
           {
            "aaxis": {
             "endlinecolor": "#2a3f5f",
             "gridcolor": "white",
             "linecolor": "white",
             "minorgridcolor": "white",
             "startlinecolor": "#2a3f5f"
            },
            "baxis": {
             "endlinecolor": "#2a3f5f",
             "gridcolor": "white",
             "linecolor": "white",
             "minorgridcolor": "white",
             "startlinecolor": "#2a3f5f"
            },
            "type": "carpet"
           }
          ],
          "choropleth": [
           {
            "colorbar": {
             "outlinewidth": 0,
             "ticks": ""
            },
            "type": "choropleth"
           }
          ],
          "contour": [
           {
            "colorbar": {
             "outlinewidth": 0,
             "ticks": ""
            },
            "colorscale": [
             [
              0,
              "#0d0887"
             ],
             [
              0.1111111111111111,
              "#46039f"
             ],
             [
              0.2222222222222222,
              "#7201a8"
             ],
             [
              0.3333333333333333,
              "#9c179e"
             ],
             [
              0.4444444444444444,
              "#bd3786"
             ],
             [
              0.5555555555555556,
              "#d8576b"
             ],
             [
              0.6666666666666666,
              "#ed7953"
             ],
             [
              0.7777777777777778,
              "#fb9f3a"
             ],
             [
              0.8888888888888888,
              "#fdca26"
             ],
             [
              1,
              "#f0f921"
             ]
            ],
            "type": "contour"
           }
          ],
          "contourcarpet": [
           {
            "colorbar": {
             "outlinewidth": 0,
             "ticks": ""
            },
            "type": "contourcarpet"
           }
          ],
          "heatmap": [
           {
            "colorbar": {
             "outlinewidth": 0,
             "ticks": ""
            },
            "colorscale": [
             [
              0,
              "#0d0887"
             ],
             [
              0.1111111111111111,
              "#46039f"
             ],
             [
              0.2222222222222222,
              "#7201a8"
             ],
             [
              0.3333333333333333,
              "#9c179e"
             ],
             [
              0.4444444444444444,
              "#bd3786"
             ],
             [
              0.5555555555555556,
              "#d8576b"
             ],
             [
              0.6666666666666666,
              "#ed7953"
             ],
             [
              0.7777777777777778,
              "#fb9f3a"
             ],
             [
              0.8888888888888888,
              "#fdca26"
             ],
             [
              1,
              "#f0f921"
             ]
            ],
            "type": "heatmap"
           }
          ],
          "heatmapgl": [
           {
            "colorbar": {
             "outlinewidth": 0,
             "ticks": ""
            },
            "colorscale": [
             [
              0,
              "#0d0887"
             ],
             [
              0.1111111111111111,
              "#46039f"
             ],
             [
              0.2222222222222222,
              "#7201a8"
             ],
             [
              0.3333333333333333,
              "#9c179e"
             ],
             [
              0.4444444444444444,
              "#bd3786"
             ],
             [
              0.5555555555555556,
              "#d8576b"
             ],
             [
              0.6666666666666666,
              "#ed7953"
             ],
             [
              0.7777777777777778,
              "#fb9f3a"
             ],
             [
              0.8888888888888888,
              "#fdca26"
             ],
             [
              1,
              "#f0f921"
             ]
            ],
            "type": "heatmapgl"
           }
          ],
          "histogram": [
           {
            "marker": {
             "pattern": {
              "fillmode": "overlay",
              "size": 10,
              "solidity": 0.2
             }
            },
            "type": "histogram"
           }
          ],
          "histogram2d": [
           {
            "colorbar": {
             "outlinewidth": 0,
             "ticks": ""
            },
            "colorscale": [
             [
              0,
              "#0d0887"
             ],
             [
              0.1111111111111111,
              "#46039f"
             ],
             [
              0.2222222222222222,
              "#7201a8"
             ],
             [
              0.3333333333333333,
              "#9c179e"
             ],
             [
              0.4444444444444444,
              "#bd3786"
             ],
             [
              0.5555555555555556,
              "#d8576b"
             ],
             [
              0.6666666666666666,
              "#ed7953"
             ],
             [
              0.7777777777777778,
              "#fb9f3a"
             ],
             [
              0.8888888888888888,
              "#fdca26"
             ],
             [
              1,
              "#f0f921"
             ]
            ],
            "type": "histogram2d"
           }
          ],
          "histogram2dcontour": [
           {
            "colorbar": {
             "outlinewidth": 0,
             "ticks": ""
            },
            "colorscale": [
             [
              0,
              "#0d0887"
             ],
             [
              0.1111111111111111,
              "#46039f"
             ],
             [
              0.2222222222222222,
              "#7201a8"
             ],
             [
              0.3333333333333333,
              "#9c179e"
             ],
             [
              0.4444444444444444,
              "#bd3786"
             ],
             [
              0.5555555555555556,
              "#d8576b"
             ],
             [
              0.6666666666666666,
              "#ed7953"
             ],
             [
              0.7777777777777778,
              "#fb9f3a"
             ],
             [
              0.8888888888888888,
              "#fdca26"
             ],
             [
              1,
              "#f0f921"
             ]
            ],
            "type": "histogram2dcontour"
           }
          ],
          "mesh3d": [
           {
            "colorbar": {
             "outlinewidth": 0,
             "ticks": ""
            },
            "type": "mesh3d"
           }
          ],
          "parcoords": [
           {
            "line": {
             "colorbar": {
              "outlinewidth": 0,
              "ticks": ""
             }
            },
            "type": "parcoords"
           }
          ],
          "pie": [
           {
            "automargin": true,
            "type": "pie"
           }
          ],
          "scatter": [
           {
            "fillpattern": {
             "fillmode": "overlay",
             "size": 10,
             "solidity": 0.2
            },
            "type": "scatter"
           }
          ],
          "scatter3d": [
           {
            "line": {
             "colorbar": {
              "outlinewidth": 0,
              "ticks": ""
             }
            },
            "marker": {
             "colorbar": {
              "outlinewidth": 0,
              "ticks": ""
             }
            },
            "type": "scatter3d"
           }
          ],
          "scattercarpet": [
           {
            "marker": {
             "colorbar": {
              "outlinewidth": 0,
              "ticks": ""
             }
            },
            "type": "scattercarpet"
           }
          ],
          "scattergeo": [
           {
            "marker": {
             "colorbar": {
              "outlinewidth": 0,
              "ticks": ""
             }
            },
            "type": "scattergeo"
           }
          ],
          "scattergl": [
           {
            "marker": {
             "colorbar": {
              "outlinewidth": 0,
              "ticks": ""
             }
            },
            "type": "scattergl"
           }
          ],
          "scattermapbox": [
           {
            "marker": {
             "colorbar": {
              "outlinewidth": 0,
              "ticks": ""
             }
            },
            "type": "scattermapbox"
           }
          ],
          "scatterpolar": [
           {
            "marker": {
             "colorbar": {
              "outlinewidth": 0,
              "ticks": ""
             }
            },
            "type": "scatterpolar"
           }
          ],
          "scatterpolargl": [
           {
            "marker": {
             "colorbar": {
              "outlinewidth": 0,
              "ticks": ""
             }
            },
            "type": "scatterpolargl"
           }
          ],
          "scatterternary": [
           {
            "marker": {
             "colorbar": {
              "outlinewidth": 0,
              "ticks": ""
             }
            },
            "type": "scatterternary"
           }
          ],
          "surface": [
           {
            "colorbar": {
             "outlinewidth": 0,
             "ticks": ""
            },
            "colorscale": [
             [
              0,
              "#0d0887"
             ],
             [
              0.1111111111111111,
              "#46039f"
             ],
             [
              0.2222222222222222,
              "#7201a8"
             ],
             [
              0.3333333333333333,
              "#9c179e"
             ],
             [
              0.4444444444444444,
              "#bd3786"
             ],
             [
              0.5555555555555556,
              "#d8576b"
             ],
             [
              0.6666666666666666,
              "#ed7953"
             ],
             [
              0.7777777777777778,
              "#fb9f3a"
             ],
             [
              0.8888888888888888,
              "#fdca26"
             ],
             [
              1,
              "#f0f921"
             ]
            ],
            "type": "surface"
           }
          ],
          "table": [
           {
            "cells": {
             "fill": {
              "color": "#EBF0F8"
             },
             "line": {
              "color": "white"
             }
            },
            "header": {
             "fill": {
              "color": "#C8D4E3"
             },
             "line": {
              "color": "white"
             }
            },
            "type": "table"
           }
          ]
         },
         "layout": {
          "annotationdefaults": {
           "arrowcolor": "#2a3f5f",
           "arrowhead": 0,
           "arrowwidth": 1
          },
          "autotypenumbers": "strict",
          "coloraxis": {
           "colorbar": {
            "outlinewidth": 0,
            "ticks": ""
           }
          },
          "colorscale": {
           "diverging": [
            [
             0,
             "#8e0152"
            ],
            [
             0.1,
             "#c51b7d"
            ],
            [
             0.2,
             "#de77ae"
            ],
            [
             0.3,
             "#f1b6da"
            ],
            [
             0.4,
             "#fde0ef"
            ],
            [
             0.5,
             "#f7f7f7"
            ],
            [
             0.6,
             "#e6f5d0"
            ],
            [
             0.7,
             "#b8e186"
            ],
            [
             0.8,
             "#7fbc41"
            ],
            [
             0.9,
             "#4d9221"
            ],
            [
             1,
             "#276419"
            ]
           ],
           "sequential": [
            [
             0,
             "#0d0887"
            ],
            [
             0.1111111111111111,
             "#46039f"
            ],
            [
             0.2222222222222222,
             "#7201a8"
            ],
            [
             0.3333333333333333,
             "#9c179e"
            ],
            [
             0.4444444444444444,
             "#bd3786"
            ],
            [
             0.5555555555555556,
             "#d8576b"
            ],
            [
             0.6666666666666666,
             "#ed7953"
            ],
            [
             0.7777777777777778,
             "#fb9f3a"
            ],
            [
             0.8888888888888888,
             "#fdca26"
            ],
            [
             1,
             "#f0f921"
            ]
           ],
           "sequentialminus": [
            [
             0,
             "#0d0887"
            ],
            [
             0.1111111111111111,
             "#46039f"
            ],
            [
             0.2222222222222222,
             "#7201a8"
            ],
            [
             0.3333333333333333,
             "#9c179e"
            ],
            [
             0.4444444444444444,
             "#bd3786"
            ],
            [
             0.5555555555555556,
             "#d8576b"
            ],
            [
             0.6666666666666666,
             "#ed7953"
            ],
            [
             0.7777777777777778,
             "#fb9f3a"
            ],
            [
             0.8888888888888888,
             "#fdca26"
            ],
            [
             1,
             "#f0f921"
            ]
           ]
          },
          "colorway": [
           "#636efa",
           "#EF553B",
           "#00cc96",
           "#ab63fa",
           "#FFA15A",
           "#19d3f3",
           "#FF6692",
           "#B6E880",
           "#FF97FF",
           "#FECB52"
          ],
          "font": {
           "color": "#2a3f5f"
          },
          "geo": {
           "bgcolor": "white",
           "lakecolor": "white",
           "landcolor": "#E5ECF6",
           "showlakes": true,
           "showland": true,
           "subunitcolor": "white"
          },
          "hoverlabel": {
           "align": "left"
          },
          "hovermode": "closest",
          "mapbox": {
           "style": "light"
          },
          "paper_bgcolor": "white",
          "plot_bgcolor": "#E5ECF6",
          "polar": {
           "angularaxis": {
            "gridcolor": "white",
            "linecolor": "white",
            "ticks": ""
           },
           "bgcolor": "#E5ECF6",
           "radialaxis": {
            "gridcolor": "white",
            "linecolor": "white",
            "ticks": ""
           }
          },
          "scene": {
           "xaxis": {
            "backgroundcolor": "#E5ECF6",
            "gridcolor": "white",
            "gridwidth": 2,
            "linecolor": "white",
            "showbackground": true,
            "ticks": "",
            "zerolinecolor": "white"
           },
           "yaxis": {
            "backgroundcolor": "#E5ECF6",
            "gridcolor": "white",
            "gridwidth": 2,
            "linecolor": "white",
            "showbackground": true,
            "ticks": "",
            "zerolinecolor": "white"
           },
           "zaxis": {
            "backgroundcolor": "#E5ECF6",
            "gridcolor": "white",
            "gridwidth": 2,
            "linecolor": "white",
            "showbackground": true,
            "ticks": "",
            "zerolinecolor": "white"
           }
          },
          "shapedefaults": {
           "line": {
            "color": "#2a3f5f"
           }
          },
          "ternary": {
           "aaxis": {
            "gridcolor": "white",
            "linecolor": "white",
            "ticks": ""
           },
           "baxis": {
            "gridcolor": "white",
            "linecolor": "white",
            "ticks": ""
           },
           "bgcolor": "#E5ECF6",
           "caxis": {
            "gridcolor": "white",
            "linecolor": "white",
            "ticks": ""
           }
          },
          "title": {
           "x": 0.05
          },
          "xaxis": {
           "automargin": true,
           "gridcolor": "white",
           "linecolor": "white",
           "ticks": "",
           "title": {
            "standoff": 15
           },
           "zerolinecolor": "white",
           "zerolinewidth": 2
          },
          "yaxis": {
           "automargin": true,
           "gridcolor": "white",
           "linecolor": "white",
           "ticks": "",
           "title": {
            "standoff": 15
           },
           "zerolinecolor": "white",
           "zerolinewidth": 2
          }
         }
        },
        "title": {
         "text": "Distribution of Charges (in Dollars)"
        },
        "xaxis": {
         "anchor": "y",
         "domain": [
          0,
          1
         ],
         "title": {
          "text": "charges"
         }
        },
        "yaxis": {
         "anchor": "x",
         "domain": [
          0,
          1
         ],
         "title": {
          "text": "count"
         }
        }
       }
      }
     },
     "metadata": {},
     "output_type": "display_data"
    }
   ],
   "source": [
    "#Visualize the 'charges' column\n",
    "charges = px.histogram(h_data, x='charges', color_discrete_sequence=['gray'], title = 'Distribution of Charges (in Dollars)')\n",
    "charges.update_layout(bargap=0.1)\n",
    "charges.show()"
   ]
  },
  {
   "cell_type": "code",
   "execution_count": 19,
   "metadata": {},
   "outputs": [
    {
     "name": "stdout",
     "output_type": "stream",
     "text": [
      "               age       bmi  children   charges\n",
      "age       1.000000  0.109272  0.042469  0.299008\n",
      "bmi       0.109272  1.000000  0.012759  0.198341\n",
      "children  0.042469  0.012759  1.000000  0.067998\n",
      "charges   0.299008  0.198341  0.067998  1.000000\n"
     ]
    },
    {
     "name": "stderr",
     "output_type": "stream",
     "text": [
      "C:\\Users\\Mikam\\AppData\\Local\\Temp\\ipykernel_16884\\3991568701.py:2: FutureWarning:\n",
      "\n",
      "The default value of numeric_only in DataFrame.corr is deprecated. In a future version, it will default to False. Select only valid columns or specify the value of numeric_only to silence this warning.\n",
      "\n"
     ]
    }
   ],
   "source": [
    "#Look at the correlations between the features of the dataset\n",
    "print(h_data.corr())"
   ]
  },
  {
   "cell_type": "code",
   "execution_count": 20,
   "metadata": {},
   "outputs": [
    {
     "name": "stderr",
     "output_type": "stream",
     "text": [
      "C:\\Users\\Mikam\\AppData\\Local\\Temp\\ipykernel_16884\\2570371627.py:2: FutureWarning:\n",
      "\n",
      "The default value of numeric_only in DataFrame.corr is deprecated. In a future version, it will default to False. Select only valid columns or specify the value of numeric_only to silence this warning.\n",
      "\n"
     ]
    },
    {
     "data": {
      "text/plain": [
       "Text(0.5, 1.0, 'Correlation Matrix')"
      ]
     },
     "execution_count": 20,
     "metadata": {},
     "output_type": "execute_result"
    },
    {
     "data": {
      "image/png": "[encoded data removed]",
      "text/plain": [
       "<Figure size 640x480 with 2 Axes>"
      ]
     },
     "metadata": {},
     "output_type": "display_data"
    }
   ],
   "source": [
    "#Visualize correlations with Heatmap\n",
    "sns.heatmap(h_data.corr(), cmap='Greens', annot=True)\n",
    "plt.title('Correlation Matrix')"
   ]
  },
  {
   "cell_type": "code",
   "execution_count": 21,
   "metadata": {},
   "outputs": [
    {
     "name": "stdout",
     "output_type": "stream",
     "text": [
      "   age  sex     bmi  children  smoker     region      charges\n",
      "0   19    0  27.900         0       1  southwest  16884.92400\n",
      "1   18    1  33.770         1       0  southeast   1725.55230\n",
      "2   28    1  33.000         3       0  southeast   4449.46200\n",
      "3   33    1  22.705         0       0  northwest  21984.47061\n",
      "4   32    1  28.880         0       0  northwest   3866.85520\n"
     ]
    }
   ],
   "source": [
    "#Change the 'male' and 'female' to numerical data in the 'sex' column \n",
    "h_data['sex'] = h_data['sex'].map({'female': 0, 'male': 1})\n",
    "\n",
    "#Change the 'yes' and 'no' values to numerical data in the 'smoker' column\n",
    "h_data['smoker'] = h_data['smoker'].map({'no': 0, 'yes': 1})\n",
    "\n",
    "print(h_data.head())"
   ]
  },
  {
   "cell_type": "code",
   "execution_count": 22,
   "metadata": {},
   "outputs": [
    {
     "name": "stdout",
     "output_type": "stream",
     "text": [
      "               age       sex       bmi  children    smoker   charges\n",
      "age       1.000000 -0.020856  0.109272  0.042469 -0.025019  0.299008\n",
      "sex      -0.020856  1.000000  0.046371  0.017163  0.076185  0.057292\n",
      "bmi       0.109272  0.046371  1.000000  0.012759  0.003750  0.198341\n",
      "children  0.042469  0.017163  0.012759  1.000000  0.007673  0.067998\n",
      "smoker   -0.025019  0.076185  0.003750  0.007673  1.000000  0.787251\n",
      "charges   0.299008  0.057292  0.198341  0.067998  0.787251  1.000000\n"
     ]
    },
    {
     "name": "stderr",
     "output_type": "stream",
     "text": [
      "C:\\Users\\Mikam\\AppData\\Local\\Temp\\ipykernel_16884\\3311855408.py:2: FutureWarning:\n",
      "\n",
      "The default value of numeric_only in DataFrame.corr is deprecated. In a future version, it will default to False. Select only valid columns or specify the value of numeric_only to silence this warning.\n",
      "\n"
     ]
    }
   ],
   "source": [
    "#Look at the correlation between the features of the dataset\n",
    "print(h_data.corr())"
   ]
  },
  {
   "cell_type": "code",
   "execution_count": 23,
   "metadata": {},
   "outputs": [
    {
     "name": "stderr",
     "output_type": "stream",
     "text": [
      "C:\\Users\\Mikam\\AppData\\Local\\Temp\\ipykernel_16884\\2570371627.py:2: FutureWarning:\n",
      "\n",
      "The default value of numeric_only in DataFrame.corr is deprecated. In a future version, it will default to False. Select only valid columns or specify the value of numeric_only to silence this warning.\n",
      "\n"
     ]
    },
    {
     "data": {
      "text/plain": [
       "Text(0.5, 1.0, 'Correlation Matrix')"
      ]
     },
     "execution_count": 23,
     "metadata": {},
     "output_type": "execute_result"
    },
    {
     "data": {
      "image/png": "[encoded data removed]",
      "text/plain": [
       "<Figure size 640x480 with 2 Axes>"
      ]
     },
     "metadata": {},
     "output_type": "display_data"
    }
   ],
   "source": [
    "#Visualize correlations with Heatmap\n",
    "sns.heatmap(h_data.corr(), cmap='Greens', annot=True)\n",
    "plt.title('Correlation Matrix')"
   ]
  },
  {
   "cell_type": "code",
   "execution_count": 24,
   "metadata": {},
   "outputs": [
    {
     "name": "stdout",
     "output_type": "stream",
     "text": [
      "   age  sex     bmi  children  smoker  region      charges\n",
      "0   19    0  27.900         0       1       1  16884.92400\n",
      "1   18    1  33.770         1       0       0   1725.55230\n",
      "2   28    1  33.000         3       0       0   4449.46200\n",
      "3   33    1  22.705         0       0       3  21984.47061\n",
      "4   32    1  28.880         0       0       3   3866.85520\n"
     ]
    }
   ],
   "source": [
    "#Change the 'southwest', 'southeast', 'northwest' and 'northeast' values to numerical data in the 'region' column\n",
    "h_data['region'] = h_data['region'].map({'southeast': 0, 'southwest': 1, 'northeast': 2, 'northwest': 3})\n",
    "\n",
    "print(h_data.head())"
   ]
  },
  {
   "cell_type": "code",
   "execution_count": 25,
   "metadata": {},
   "outputs": [
    {
     "data": {
      "text/plain": [
       "Text(0.5, 1.0, 'Correlation Matrix')"
      ]
     },
     "execution_count": 25,
     "metadata": {},
     "output_type": "execute_result"
    },
    {
     "data": {
      "image/png": "[encoded data removed]",
      "text/plain": [
       "<Figure size 640x480 with 2 Axes>"
      ]
     },
     "metadata": {},
     "output_type": "display_data"
    }
   ],
   "source": [
    "#Visualize correlations with Heatmap\n",
    "sns.heatmap(h_data.corr(), cmap='Greens', annot=True)\n",
    "plt.title('Correlation Matrix')"
   ]
  },
  {
   "cell_type": "code",
   "execution_count": 31,
   "metadata": {},
   "outputs": [],
   "source": [
    "#Split data into training and test sets\n",
    "X = np.array(h_data[[\"age\", \"sex\", \"bmi\", \"smoker\", \"children\", \"region\" ]])\n",
    "y = np.array(h_data[\"charges\"])\n",
    "X=pd.DataFrame(X)\n",
    "#Split data using train_test_split\n",
    "#Assign a random_state of 42\n",
    "X_train, X_test, y_train, y_test = train_test_split(X, y, test_size=0.2, random_state=42)"
   ]
  },
  {
   "cell_type": "code",
   "execution_count": 32,
   "metadata": {},
   "outputs": [
    {
     "data": {
      "text/html": [
       "<style>#sk-container-id-2 {color: black;background-color: white;}#sk-container-id-2 pre{padding: 0;}#sk-container-id-2 div.sk-toggleable {background-color: white;}#sk-container-id-2 label.sk-toggleable__label {cursor: pointer;display: block;width: 100%;margin-bottom: 0;padding: 0.3em;box-sizing: border-box;text-align: center;}#sk-container-id-2 label.sk-toggleable__label-arrow:before {content: \"▸\";float: left;margin-right: 0.25em;color: #696969;}#sk-container-id-2 label.sk-toggleable__label-arrow:hover:before {color: black;}#sk-container-id-2 div.sk-estimator:hover label.sk-toggleable__label-arrow:before {color: black;}#sk-container-id-2 div.sk-toggleable__content {max-height: 0;max-width: 0;overflow: hidden;text-align: left;background-color: #f0f8ff;}#sk-container-id-2 div.sk-toggleable__content pre {margin: 0.2em;color: black;border-radius: 0.25em;background-color: #f0f8ff;}#sk-container-id-2 input.sk-toggleable__control:checked~div.sk-toggleable__content {max-height: 200px;max-width: 100%;overflow: auto;}#sk-container-id-2 input.sk-toggleable__control:checked~label.sk-toggleable__label-arrow:before {content: \"▾\";}#sk-container-id-2 div.sk-estimator input.sk-toggleable__control:checked~label.sk-toggleable__label {background-color: #d4ebff;}#sk-container-id-2 div.sk-label input.sk-toggleable__control:checked~label.sk-toggleable__label {background-color: #d4ebff;}#sk-container-id-2 input.sk-hidden--visually {border: 0;clip: rect(1px 1px 1px 1px);clip: rect(1px, 1px, 1px, 1px);height: 1px;margin: -1px;overflow: hidden;padding: 0;position: absolute;width: 1px;}#sk-container-id-2 div.sk-estimator {font-family: monospace;background-color: #f0f8ff;border: 1px dotted black;border-radius: 0.25em;box-sizing: border-box;margin-bottom: 0.5em;}#sk-container-id-2 div.sk-estimator:hover {background-color: #d4ebff;}#sk-container-id-2 div.sk-parallel-item::after {content: \"\";width: 100%;border-bottom: 1px solid gray;flex-grow: 1;}#sk-container-id-2 div.sk-label:hover label.sk-toggleable__label {background-color: #d4ebff;}#sk-container-id-2 div.sk-serial::before {content: \"\";position: absolute;border-left: 1px solid gray;box-sizing: border-box;top: 0;bottom: 0;left: 50%;z-index: 0;}#sk-container-id-2 div.sk-serial {display: flex;flex-direction: column;align-items: center;background-color: white;padding-right: 0.2em;padding-left: 0.2em;position: relative;}#sk-container-id-2 div.sk-item {position: relative;z-index: 1;}#sk-container-id-2 div.sk-parallel {display: flex;align-items: stretch;justify-content: center;background-color: white;position: relative;}#sk-container-id-2 div.sk-item::before, #sk-container-id-2 div.sk-parallel-item::before {content: \"\";position: absolute;border-left: 1px solid gray;box-sizing: border-box;top: 0;bottom: 0;left: 50%;z-index: -1;}#sk-container-id-2 div.sk-parallel-item {display: flex;flex-direction: column;z-index: 1;position: relative;background-color: white;}#sk-container-id-2 div.sk-parallel-item:first-child::after {align-self: flex-end;width: 50%;}#sk-container-id-2 div.sk-parallel-item:last-child::after {align-self: flex-start;width: 50%;}#sk-container-id-2 div.sk-parallel-item:only-child::after {width: 0;}#sk-container-id-2 div.sk-dashed-wrapped {border: 1px dashed gray;margin: 0 0.4em 0.5em 0.4em;box-sizing: border-box;padding-bottom: 0.4em;background-color: white;}#sk-container-id-2 div.sk-label label {font-family: monospace;font-weight: bold;display: inline-block;line-height: 1.2em;}#sk-container-id-2 div.sk-label-container {text-align: center;}#sk-container-id-2 div.sk-container {/* jupyter's `normalize.less` sets `[hidden] { display: none; }` but bootstrap.min.css set `[hidden] { display: none !important; }` so we also need the `!important` here to be able to override the default hidden behavior on the sphinx rendered scikit-learn.org. See: https://github.com/scikit-learn/scikit-learn/issues/21755 */display: inline-block !important;position: relative;}#sk-container-id-2 div.sk-text-repr-fallback {display: none;}</style><div id=\"sk-container-id-2\" class=\"sk-top-container\"><div class=\"sk-text-repr-fallback\"><pre>RandomForestRegressor(random_state=0)</pre><b>In a Jupyter environment, please rerun this cell to show the HTML representation or trust the notebook. <br />On GitHub, the HTML representation is unable to render, please try loading this page with nbviewer.org.</b></div><div class=\"sk-container\" hidden><div class=\"sk-item\"><div class=\"sk-estimator sk-toggleable\"><input class=\"sk-toggleable__control sk-hidden--visually\" id=\"sk-estimator-id-2\" type=\"checkbox\" checked><label for=\"sk-estimator-id-2\" class=\"sk-toggleable__label sk-toggleable__label-arrow\">RandomForestRegressor</label><div class=\"sk-toggleable__content\"><pre>RandomForestRegressor(random_state=0)</pre></div></div></div></div></div>"
      ],
      "text/plain": [
       "RandomForestRegressor(random_state=0)"
      ]
     },
     "execution_count": 32,
     "metadata": {},
     "output_type": "execute_result"
    }
   ],
   "source": [
    "#Try Random Forest Regression Algorithm\n",
    "forest = RandomForestRegressor(n_estimators=100, random_state=0)\n",
    "forest.fit(X_train, y_train)"
   ]
  },
  {
   "cell_type": "code",
   "execution_count": 33,
   "metadata": {},
   "outputs": [
    {
     "name": "stdout",
     "output_type": "stream",
     "text": [
      "   Predicted Premium Amount\n",
      "0              10452.848007\n",
      "1               5746.633988\n",
      "2              28223.590643\n",
      "3              11338.600862\n",
      "4              34820.787682\n"
     ]
    }
   ],
   "source": [
    "ypred = forest.predict(X_test)\n",
    "data = pd.DataFrame(data={'Predicted Premium Amount': ypred})\n",
    "print(data.head())"
   ]
  },
  {
   "cell_type": "code",
   "execution_count": 34,
   "metadata": {},
   "outputs": [
    {
     "data": {
      "text/plain": [
       "array([0.13406722, 0.00671944, 0.21289025, 0.61074257, 0.02075021,\n",
       "       0.01483032])"
      ]
     },
     "execution_count": 34,
     "metadata": {},
     "output_type": "execute_result"
    }
   ],
   "source": [
    "forest.feature_importances_"
   ]
  },
  {
   "cell_type": "code",
   "execution_count": null,
   "metadata": {},
   "outputs": [],
   "source": []
  },
  {
   "cell_type": "code",
   "execution_count": 30,
   "metadata": {},
   "outputs": [
    {
     "data": {
      "text/plain": [
       "[(0.6112694561816557, 3),\n",
       " (0.2441293074413613, 2),\n",
       " (0.13687429054418337, 0),\n",
       " (0.00772694583279967, 1)]"
      ]
     },
     "execution_count": 30,
     "metadata": {},
     "output_type": "execute_result"
    }
   ],
   "source": [
    "tester = forest.feature_importances_\n",
    "#Sort features by their importance\n",
    "sorted(zip(forest.feature_importances_, X.columns), reverse=True)"
   ]
  },
  {
   "cell_type": "code",
   "execution_count": 15,
   "metadata": {},
   "outputs": [],
   "source": [
    "# Import necessary libraries\n",
    "import numpy as np\n",
    "import pandas as pd\n",
    "import folium\n",
    "\n",
    "# Load the CSV file into a Pandas DataFrame\n",
    "h_data = pd.read_csv(\"Resource/Health_insurance.csv\")\n",
    "\n",
    "# Define the approximate coordinates for the four regions\n",
    "region_coordinates = {\n",
    "    'northeast': (43.0000, -75.0000),\n",
    "    'northwest': (47.0000, -120.0000),\n",
    "    'southeast': (32.0000, -85.0000),\n",
    "    'southwest': (32.0000, -110.0000)\n",
    "}\n",
    "\n",
    "# Assign the coordinates to the regions in the DataFrame\n",
    "h_data['latitude'] = h_data['region'].map(lambda x: region_coordinates[x][0])\n",
    "h_data['longitude'] = h_data['region'].map(lambda x: region_coordinates[x][1])\n",
    "\n",
    "# Create a folium map centered on the US\n",
    "m = folium.Map(location=[37.0902, -95.7129], zoom_start=4)\n",
    "\n",
    "# Define the marker size for each region\n",
    "marker_size = 100000  # Adjust as needed\n",
    "\n",
    "# Add a circle marker for each region\n",
    "for index, row in h_data.iterrows():\n",
    "    folium.CircleMarker(\n",
    "        location=[row['latitude'], row['longitude']],\n",
    "        radius=marker_size,\n",
    "        color='blue',\n",
    "        fill=True,\n",
    "        fill_color='blue'\n",
    "    ).add_to(m)\n",
    "\n",
    "# Save the map as an HTML file\n",
    "m.save(\"map.html\")"
   ]
  },
  {
   "cell_type": "code",
   "execution_count": 10,
   "metadata": {},
   "outputs": [
    {
     "data": {
      "application/vnd.plotly.v1+json": {
       "config": {
        "plotlyServerURL": "https://plotly.com"
       },
       "data": [
        {
         "alignmentgroup": "True",
         "bingroup": "x",
         "hovertemplate": "region=southwest<br>charges=%{x}<br>count=%{y}<extra></extra>",
         "legendgroup": "southwest",
         "marker": {
          "color": "#636efa",
          "pattern": {
           "shape": ""
          }
         },
         "name": "southwest",
         "offsetgroup": "southwest",
         "orientation": "v",
         "showlegend": true,
         "type": "histogram",
         "x": [
          16884.924,
          1826.843,
          1837.237,
          10602.385,
          36837.467,
          4149.736,
          38711,
          35585.576,
          4687.797,
          51194.55914,
          2302.3,
          48173.361,
          20630.28351,
          23568.272,
          1743.214,
          14235.072,
          11741.726,
          7726.854,
          39836.519,
          11073.176,
          47291.055,
          12105.32,
          15820.699,
          6186.127,
          5003.853,
          2331.519,
          11881.358,
          4646.759,
          7740.337,
          17081.08,
          9634.538,
          6082.405,
          11163.568,
          1261.442,
          2166.732,
          1842.519,
          10450.552,
          5152.134,
          4830.63,
          8116.68,
          5246.047,
          48824.45,
          10436.096,
          8823.279,
          5325.651,
          6775.961,
          4883.866,
          5649.715,
          7147.105,
          13880.949,
          1980.07,
          8520.026,
          7371.772,
          5012.471,
          5253.524,
          34779.615,
          1727.785,
          12333.828,
          35160.13457,
          7196.867,
          1832.094,
          47305.305,
          4260.744,
          11837.16,
          7441.053,
          42856.838,
          2150.469,
          9625.92,
          3172.018,
          3906.127,
          16297.846,
          12646.207,
          20177.67113,
          8444.474,
          1737.376,
          34838.873,
          35491.64,
          2866.091,
          47928.03,
          9144.565,
          13822.803,
          18955.22017,
          8932.084,
          3554.203,
          24603.04837,
          4751.07,
          13844.506,
          2597.779,
          36085.219,
          1261.859,
          8522.003,
          14988.432,
          9264.797,
          3260.199,
          8539.671,
          5080.096,
          18608.262,
          8968.33,
          23082.95533,
          5969.723,
          12638.195,
          5926.846,
          37079.372,
          7345.084,
          5910.944,
          4762.329,
          7512.267,
          1969.614,
          21797.0004,
          10601.412,
          22144.032,
          13224.693,
          1744.465,
          25382.297,
          9880.068,
          9563.029,
          1253.936,
          1748.774,
          12574.049,
          17942.106,
          4931.647,
          8027.968,
          13470.86,
          36197.699,
          11455.28,
          1256.299,
          21082.16,
          11362.755,
          5240.765,
          9861.025,
          5972.378,
          8825.086,
          6196.448,
          11538.421,
          13390.559,
          12957.118,
          3847.674,
          2494.022,
          11552.904,
          3761.292,
          9724.53,
          1242.816,
          11842.442,
          7441.501,
          11070.535,
          39241.442,
          6571.544,
          23306.547,
          10713.644,
          3659.346,
          40182.246,
          9182.17,
          11365.952,
          10085.846,
          1977.815,
          9391.346,
          6666.243,
          3410.324,
          8703.456,
          12363.547,
          2585.269,
          1242.26,
          40103.89,
          4766.022,
          26236.57997,
          8068.185,
          3577.999,
          5375.038,
          2457.502,
          12146.971,
          11264.541,
          12979.358,
          1263.249,
          10065.413,
          4234.927,
          14007.222,
          3484.331,
          44585.45587,
          11737.84884,
          8556.907,
          2416.955,
          19040.876,
          8062.764,
          7050.642,
          14319.031,
          27941.28758,
          11150.78,
          18259.216,
          24520.264,
          6414.178,
          1252.407,
          11848.141,
          2103.08,
          9414.92,
          3597.596,
          7445.918,
          13393.756,
          4402.233,
          1526.312,
          9872.701,
          2974.126,
          1875.344,
          10965.446,
          46113.511,
          7151.092,
          8782.469,
          6600.361,
          11576.13,
          4391.652,
          8457.818,
          6849.026,
          26140.3603,
          6282.235,
          6311.952,
          3443.064,
          1682.597,
          13063.883,
          12644.589,
          15170.069,
          17496.306,
          7626.993,
          13041.921,
          13451.122,
          13462.52,
          5488.262,
          6250.435,
          2913.569,
          12032.326,
          6238.298,
          10096.97,
          7348.142,
          12233.828,
          11674.13,
          7160.094,
          19933.458,
          38998.546,
          3353.284,
          4746.344,
          1759.338,
          19199.944,
          7624.63,
          3378.91,
          10118.424,
          7418.522,
          34472.841,
          1972.95,
          21232.18226,
          8269.044,
          5383.536,
          3987.926,
          8798.593,
          2020.177,
          9850.432,
          12094.478,
          3161.454,
          39727.614,
          25309.489,
          8277.523,
          5708.867,
          7045.499,
          8551.347,
          4076.497,
          19023.26,
          10577.087,
          3591.48,
          11299.343,
          11253.421,
          20420.60465,
          2904.088,
          34166.273,
          10214.636,
          14358.36437,
          1728.897,
          3693.428,
          7623.518,
          7954.517,
          9630.397,
          52590.82939,
          10791.96,
          5979.731,
          3989.841,
          4529.477,
          4670.64,
          22478.6,
          2154.361,
          6496.886,
          2632.992,
          13126.67745,
          4934.705,
          36910.60803,
          38415.474,
          12347.172,
          10806.839,
          41661.602,
          20167.33603,
          11345.519,
          5615.369,
          9101.798,
          6059.173,
          1241.565,
          16232.847,
          15828.82173,
          6474.013,
          3277.161,
          7337.748,
          10704.47,
          1880.487,
          8615.3,
          10959.33,
          47403.88,
          5472.449,
          38344.566,
          34828.654,
          1964.78,
          3208.787,
          37829.7242,
          33900.653,
          6875.961,
          4536.259,
          36397.576,
          1731.677,
          10325.206,
          10795.93733,
          11411.685,
          2007.945
         ],
         "xaxis": "x",
         "yaxis": "y"
        },
        {
         "alignmentgroup": "True",
         "hovertemplate": "region=southwest<br>charges=%{x}<extra></extra>",
         "legendgroup": "southwest",
         "marker": {
          "color": "#636efa"
         },
         "name": "southwest",
         "notched": true,
         "offsetgroup": "southwest",
         "showlegend": false,
         "type": "box",
         "x": [
          16884.924,
          1826.843,
          1837.237,
          10602.385,
          36837.467,
          4149.736,
          38711,
          35585.576,
          4687.797,
          51194.55914,
          2302.3,
          48173.361,
          20630.28351,
          23568.272,
          1743.214,
          14235.072,
          11741.726,
          7726.854,
          39836.519,
          11073.176,
          47291.055,
          12105.32,
          15820.699,
          6186.127,
          5003.853,
          2331.519,
          11881.358,
          4646.759,
          7740.337,
          17081.08,
          9634.538,
          6082.405,
          11163.568,
          1261.442,
          2166.732,
          1842.519,
          10450.552,
          5152.134,
          4830.63,
          8116.68,
          5246.047,
          48824.45,
          10436.096,
          8823.279,
          5325.651,
          6775.961,
          4883.866,
          5649.715,
          7147.105,
          13880.949,
          1980.07,
          8520.026,
          7371.772,
          5012.471,
          5253.524,
          34779.615,
          1727.785,
          12333.828,
          35160.13457,
          7196.867,
          1832.094,
          47305.305,
          4260.744,
          11837.16,
          7441.053,
          42856.838,
          2150.469,
          9625.92,
          3172.018,
          3906.127,
          16297.846,
          12646.207,
          20177.67113,
          8444.474,
          1737.376,
          34838.873,
          35491.64,
          2866.091,
          47928.03,
          9144.565,
          13822.803,
          18955.22017,
          8932.084,
          3554.203,
          24603.04837,
          4751.07,
          13844.506,
          2597.779,
          36085.219,
          1261.859,
          8522.003,
          14988.432,
          9264.797,
          3260.199,
          8539.671,
          5080.096,
          18608.262,
          8968.33,
          23082.95533,
          5969.723,
          12638.195,
          5926.846,
          37079.372,
          7345.084,
          5910.944,
          4762.329,
          7512.267,
          1969.614,
          21797.0004,
          10601.412,
          22144.032,
          13224.693,
          1744.465,
          25382.297,
          9880.068,
          9563.029,
          1253.936,
          1748.774,
          12574.049,
          17942.106,
          4931.647,
          8027.968,
          13470.86,
          36197.699,
          11455.28,
          1256.299,
          21082.16,
          11362.755,
          5240.765,
          9861.025,
          5972.378,
          8825.086,
          6196.448,
          11538.421,
          13390.559,
          12957.118,
          3847.674,
          2494.022,
          11552.904,
          3761.292,
          9724.53,
          1242.816,
          11842.442,
          7441.501,
          11070.535,
          39241.442,
          6571.544,
          23306.547,
          10713.644,
          3659.346,
          40182.246,
          9182.17,
          11365.952,
          10085.846,
          1977.815,
          9391.346,
          6666.243,
          3410.324,
          8703.456,
          12363.547,
          2585.269,
          1242.26,
          40103.89,
          4766.022,
          26236.57997,
          8068.185,
          3577.999,
          5375.038,
          2457.502,
          12146.971,
          11264.541,
          12979.358,
          1263.249,
          10065.413,
          4234.927,
          14007.222,
          3484.331,
          44585.45587,
          11737.84884,
          8556.907,
          2416.955,
          19040.876,
          8062.764,
          7050.642,
          14319.031,
          27941.28758,
          11150.78,
          18259.216,
          24520.264,
          6414.178,
          1252.407,
          11848.141,
          2103.08,
          9414.92,
          3597.596,
          7445.918,
          13393.756,
          4402.233,
          1526.312,
          9872.701,
          2974.126,
          1875.344,
          10965.446,
          46113.511,
          7151.092,
          8782.469,
          6600.361,
          11576.13,
          4391.652,
          8457.818,
          6849.026,
          26140.3603,
          6282.235,
          6311.952,
          3443.064,
          1682.597,
          13063.883,
          12644.589,
          15170.069,
          17496.306,
          7626.993,
          13041.921,
          13451.122,
          13462.52,
          5488.262,
          6250.435,
          2913.569,
          12032.326,
          6238.298,
          10096.97,
          7348.142,
          12233.828,
          11674.13,
          7160.094,
          19933.458,
          38998.546,
          3353.284,
          4746.344,
          1759.338,
          19199.944,
          7624.63,
          3378.91,
          10118.424,
          7418.522,
          34472.841,
          1972.95,
          21232.18226,
          8269.044,
          5383.536,
          3987.926,
          8798.593,
          2020.177,
          9850.432,
          12094.478,
          3161.454,
          39727.614,
          25309.489,
          8277.523,
          5708.867,
          7045.499,
          8551.347,
          4076.497,
          19023.26,
          10577.087,
          3591.48,
          11299.343,
          11253.421,
          20420.60465,
          2904.088,
          34166.273,
          10214.636,
          14358.36437,
          1728.897,
          3693.428,
          7623.518,
          7954.517,
          9630.397,
          52590.82939,
          10791.96,
          5979.731,
          3989.841,
          4529.477,
          4670.64,
          22478.6,
          2154.361,
          6496.886,
          2632.992,
          13126.67745,
          4934.705,
          36910.60803,
          38415.474,
          12347.172,
          10806.839,
          41661.602,
          20167.33603,
          11345.519,
          5615.369,
          9101.798,
          6059.173,
          1241.565,
          16232.847,
          15828.82173,
          6474.013,
          3277.161,
          7337.748,
          10704.47,
          1880.487,
          8615.3,
          10959.33,
          47403.88,
          5472.449,
          38344.566,
          34828.654,
          1964.78,
          3208.787,
          37829.7242,
          33900.653,
          6875.961,
          4536.259,
          36397.576,
          1731.677,
          10325.206,
          10795.93733,
          11411.685,
          2007.945
         ],
         "xaxis": "x2",
         "yaxis": "y2"
        },
        {
         "alignmentgroup": "True",
         "bingroup": "x",
         "hovertemplate": "region=southeast<br>charges=%{x}<br>count=%{y}<extra></extra>",
         "legendgroup": "southeast",
         "marker": {
          "color": "#EF553B",
          "pattern": {
           "shape": ""
          }
         },
         "name": "southeast",
         "offsetgroup": "southeast",
         "orientation": "v",
         "showlegend": true,
         "type": "histogram",
         "x": [
          1725.5523,
          4449.462,
          3756.6216,
          8240.5896,
          27808.7251,
          11090.7178,
          39611.7577,
          1137.011,
          14001.1338,
          4949.7587,
          6272.4772,
          6313.759,
          12629.8967,
          38709.176,
          37742.5757,
          34303.1672,
          23244.7902,
          4504.6624,
          5920.1041,
          17663.1442,
          16577.7795,
          11946.6259,
          3947.4131,
          1532.4697,
          37165.1638,
          2026.9741,
          3766.8838,
          10226.2842,
          30942.1918,
          2867.1196,
          47055.5321,
          11381.3254,
          19107.7796,
          8601.3293,
          2155.6815,
          27322.73386,
          18972.495,
          5138.2567,
          9877.6077,
          7789.635,
          21223.6758,
          36950.2567,
          19749.38338,
          36149.4835,
          13405.3903,
          1631.8212,
          7731.4271,
          3981.9768,
          12557.6053,
          2137.6536,
          1137.4697,
          8516.829,
          8871.1517,
          37133.8982,
          11743.299,
          5002.7827,
          2483.736,
          3392.9768,
          25081.76784,
          19515.5416,
          11987.1682,
          2689.4954,
          24227.33724,
          14001.2867,
          19444.2658,
          1615.7667,
          4463.2051,
          7152.6714,
          12648.7034,
          1986.9334,
          44260.7499,
          5400.9805,
          17085.2676,
          20462.99766,
          46151.1245,
          17179.522,
          1719.4363,
          12928.7911,
          9855.1314,
          7742.1098,
          25992.82104,
          42112.2356,
          2156.7518,
          21978.6769,
          12265.5069,
          4349.462,
          4151.0287,
          42124.5153,
          8124.4084,
          3561.8889,
          12142.5786,
          8232.6388,
          10977.2063,
          6184.2994,
          4889.9995,
          5478.0368,
          14133.03775,
          8944.1151,
          1837.2819,
          1607.5101,
          3180.5101,
          1391.5287,
          38126.2465,
          27000.98473,
          20781.48892,
          5846.9176,
          11856.4115,
          16586.49771,
          1631.6683,
          8083.9198,
          4185.0979,
          6652.5288,
          4074.4537,
          7345.7266,
          9140.951,
          14418.2804,
          46889.2612,
          46599.1084,
          9788.8659,
          13919.8229,
          12592.5345,
          1149.3959,
          28287.89766,
          4686.3887,
          11881.9696,
          7682.67,
          10381.4787,
          19521.9682,
          2201.0971,
          2497.0383,
          1534.3045,
          1824.2854,
          9304.7019,
          1622.1885,
          48885.13561,
          24513.09126,
          8211.1002,
          22218.1149,
          32548.3405,
          5974.3847,
          2498.4144,
          27724.28875,
          3994.1778,
          5397.6167,
          38245.59327,
          11482.63485,
          48675.5177,
          12925.886,
          19214.70553,
          13831.1152,
          8233.0975,
          27346.04207,
          3056.3881,
          13887.204,
          63770.42801,
          45863.205,
          3972.9247,
          3935.1799,
          9058.7303,
          2801.2588,
          2219.4451,
          4753.6368,
          1664.9996,
          6356.2707,
          17626.23951,
          4779.6023,
          5976.8311,
          2566.4707,
          5709.1644,
          7640.3092,
          1633.0444,
          16085.1275,
          9283.562,
          8547.6913,
          1880.07,
          42969.8527,
          34439.8559,
          11326.71487,
          3366.6697,
          12949.1554,
          18806.14547,
          9800.8882,
          10579.711,
          8280.6227,
          8527.532,
          12244.531,
          24667.419,
          6435.6237,
          22192.43711,
          1136.3994,
          27037.9141,
          42560.4304,
          6500.2359,
          4837.5823,
          4399.731,
          6185.3208,
          46200.9851,
          12485.8009,
          5438.7491,
          34806.4677,
          40273.6455,
          3500.6123,
          2020.5523,
          9504.3103,
          44400.4064,
          1727.54,
          10107.2206,
          40932.4295,
          6781.3542,
          19361.9988,
          40419.0191,
          18246.4955,
          3757.8448,
          19539.243,
          11833.7823,
          23065.4207,
          36307.7983,
          10560.4917,
          5934.3798,
          1146.7966,
          9386.1613,
          4350.5144,
          13457.9608,
          5662.225,
          21195.818,
          4266.1658,
          7046.7222,
          14313.8463,
          38792.6856,
          1815.8759,
          1131.5066,
          11013.7119,
          5584.3057,
          1877.9294,
          1621.8827,
          8219.2039,
          43813.8661,
          7160.3303,
          36021.0112,
          27533.9129,
          45008.9555,
          2438.0552,
          40974.1649,
          18218.16139,
          1141.4451,
          3392.3652,
          5966.8874,
          6653.7886,
          19719.6947,
          7243.8136,
          44202.6536,
          1634.5734,
          48673.5588,
          8125.7845,
          7633.7206,
          2473.3341,
          5245.2269,
          13470.8044,
          6289.7549,
          2927.0647,
          4673.3922,
          2304.0022,
          9487.6442,
          1121.8739,
          9549.5651,
          12982.8747,
          47462.894,
          3875.7341,
          41999.52,
          14474.675,
          8596.8278,
          10702.6424,
          2322.6218,
          7804.1605,
          2902.9065,
          4889.0368,
          5484.4673,
          13887.9685,
          18767.7377,
          36580.28216,
          35595.5898,
          42211.1382,
          1711.0268,
          8569.8618,
          44423.803,
          37484.4493,
          44501.3982,
          17929.30337,
          2480.9791,
          1981.5819,
          11554.2236,
          48970.2476,
          8978.1851,
          10928.849,
          39871.7043,
          4562.8421,
          34672.1472,
          15161.5344,
          11884.04858,
          9748.9106,
          41676.0811,
          1674.6323,
          3227.1211,
          3471.4096,
          11363.2832,
          10338.9316,
          8605.3615,
          41949.2441,
          24180.9335,
          10807.4863,
          36124.5737,
          38282.7495,
          8347.1643,
          5836.5204,
          8582.3023,
          3704.3545,
          9048.0273,
          27117.99378,
          6338.0756,
          40941.2854,
          39722.7462,
          5124.1887,
          18963.17192,
          10982.5013,
          11093.6229,
          19350.3689,
          18328.2381,
          5699.8375,
          18223.4512,
          23563.01618,
          5415.6612,
          4058.1161,
          6593.5083,
          8442.667,
          26125.67477,
          4795.6568,
          7162.0122,
          10594.2257,
          8515.7587,
          3238.4357,
          47269.854,
          49577.6624,
          3171.6149,
          1135.9407,
          1633.9618,
          4415.1588,
          6770.1925,
          26926.5144,
          14478.33015,
          4747.0529,
          17043.3414,
          8283.6807,
          1720.3537,
          7147.4728,
          1515.3449,
          4340.4409,
          62592.87309,
          2464.6188,
          1163.4627,
          12981.3457,
          43896.3763,
          9377.9047,
          12629.1656,
          1629.8335
         ],
         "xaxis": "x",
         "yaxis": "y"
        },
        {
         "alignmentgroup": "True",
         "hovertemplate": "region=southeast<br>charges=%{x}<extra></extra>",
         "legendgroup": "southeast",
         "marker": {
          "color": "#EF553B"
         },
         "name": "southeast",
         "notched": true,
         "offsetgroup": "southeast",
         "showlegend": false,
         "type": "box",
         "x": [
          1725.5523,
          4449.462,
          3756.6216,
          8240.5896,
          27808.7251,
          11090.7178,
          39611.7577,
          1137.011,
          14001.1338,
          4949.7587,
          6272.4772,
          6313.759,
          12629.8967,
          38709.176,
          37742.5757,
          34303.1672,
          23244.7902,
          4504.6624,
          5920.1041,
          17663.1442,
          16577.7795,
          11946.6259,
          3947.4131,
          1532.4697,
          37165.1638,
          2026.9741,
          3766.8838,
          10226.2842,
          30942.1918,
          2867.1196,
          47055.5321,
          11381.3254,
          19107.7796,
          8601.3293,
          2155.6815,
          27322.73386,
          18972.495,
          5138.2567,
          9877.6077,
          7789.635,
          21223.6758,
          36950.2567,
          19749.38338,
          36149.4835,
          13405.3903,
          1631.8212,
          7731.4271,
          3981.9768,
          12557.6053,
          2137.6536,
          1137.4697,
          8516.829,
          8871.1517,
          37133.8982,
          11743.299,
          5002.7827,
          2483.736,
          3392.9768,
          25081.76784,
          19515.5416,
          11987.1682,
          2689.4954,
          24227.33724,
          14001.2867,
          19444.2658,
          1615.7667,
          4463.2051,
          7152.6714,
          12648.7034,
          1986.9334,
          44260.7499,
          5400.9805,
          17085.2676,
          20462.99766,
          46151.1245,
          17179.522,
          1719.4363,
          12928.7911,
          9855.1314,
          7742.1098,
          25992.82104,
          42112.2356,
          2156.7518,
          21978.6769,
          12265.5069,
          4349.462,
          4151.0287,
          42124.5153,
          8124.4084,
          3561.8889,
          12142.5786,
          8232.6388,
          10977.2063,
          6184.2994,
          4889.9995,
          5478.0368,
          14133.03775,
          8944.1151,
          1837.2819,
          1607.5101,
          3180.5101,
          1391.5287,
          38126.2465,
          27000.98473,
          20781.48892,
          5846.9176,
          11856.4115,
          16586.49771,
          1631.6683,
          8083.9198,
          4185.0979,
          6652.5288,
          4074.4537,
          7345.7266,
          9140.951,
          14418.2804,
          46889.2612,
          46599.1084,
          9788.8659,
          13919.8229,
          12592.5345,
          1149.3959,
          28287.89766,
          4686.3887,
          11881.9696,
          7682.67,
          10381.4787,
          19521.9682,
          2201.0971,
          2497.0383,
          1534.3045,
          1824.2854,
          9304.7019,
          1622.1885,
          48885.13561,
          24513.09126,
          8211.1002,
          22218.1149,
          32548.3405,
          5974.3847,
          2498.4144,
          27724.28875,
          3994.1778,
          5397.6167,
          38245.59327,
          11482.63485,
          48675.5177,
          12925.886,
          19214.70553,
          13831.1152,
          8233.0975,
          27346.04207,
          3056.3881,
          13887.204,
          63770.42801,
          45863.205,
          3972.9247,
          3935.1799,
          9058.7303,
          2801.2588,
          2219.4451,
          4753.6368,
          1664.9996,
          6356.2707,
          17626.23951,
          4779.6023,
          5976.8311,
          2566.4707,
          5709.1644,
          7640.3092,
          1633.0444,
          16085.1275,
          9283.562,
          8547.6913,
          1880.07,
          42969.8527,
          34439.8559,
          11326.71487,
          3366.6697,
          12949.1554,
          18806.14547,
          9800.8882,
          10579.711,
          8280.6227,
          8527.532,
          12244.531,
          24667.419,
          6435.6237,
          22192.43711,
          1136.3994,
          27037.9141,
          42560.4304,
          6500.2359,
          4837.5823,
          4399.731,
          6185.3208,
          46200.9851,
          12485.8009,
          5438.7491,
          34806.4677,
          40273.6455,
          3500.6123,
          2020.5523,
          9504.3103,
          44400.4064,
          1727.54,
          10107.2206,
          40932.4295,
          6781.3542,
          19361.9988,
          40419.0191,
          18246.4955,
          3757.8448,
          19539.243,
          11833.7823,
          23065.4207,
          36307.7983,
          10560.4917,
          5934.3798,
          1146.7966,
          9386.1613,
          4350.5144,
          13457.9608,
          5662.225,
          21195.818,
          4266.1658,
          7046.7222,
          14313.8463,
          38792.6856,
          1815.8759,
          1131.5066,
          11013.7119,
          5584.3057,
          1877.9294,
          1621.8827,
          8219.2039,
          43813.8661,
          7160.3303,
          36021.0112,
          27533.9129,
          45008.9555,
          2438.0552,
          40974.1649,
          18218.16139,
          1141.4451,
          3392.3652,
          5966.8874,
          6653.7886,
          19719.6947,
          7243.8136,
          44202.6536,
          1634.5734,
          48673.5588,
          8125.7845,
          7633.7206,
          2473.3341,
          5245.2269,
          13470.8044,
          6289.7549,
          2927.0647,
          4673.3922,
          2304.0022,
          9487.6442,
          1121.8739,
          9549.5651,
          12982.8747,
          47462.894,
          3875.7341,
          41999.52,
          14474.675,
          8596.8278,
          10702.6424,
          2322.6218,
          7804.1605,
          2902.9065,
          4889.0368,
          5484.4673,
          13887.9685,
          18767.7377,
          36580.28216,
          35595.5898,
          42211.1382,
          1711.0268,
          8569.8618,
          44423.803,
          37484.4493,
          44501.3982,
          17929.30337,
          2480.9791,
          1981.5819,
          11554.2236,
          48970.2476,
          8978.1851,
          10928.849,
          39871.7043,
          4562.8421,
          34672.1472,
          15161.5344,
          11884.04858,
          9748.9106,
          41676.0811,
          1674.6323,
          3227.1211,
          3471.4096,
          11363.2832,
          10338.9316,
          8605.3615,
          41949.2441,
          24180.9335,
          10807.4863,
          36124.5737,
          38282.7495,
          8347.1643,
          5836.5204,
          8582.3023,
          3704.3545,
          9048.0273,
          27117.99378,
          6338.0756,
          40941.2854,
          39722.7462,
          5124.1887,
          18963.17192,
          10982.5013,
          11093.6229,
          19350.3689,
          18328.2381,
          5699.8375,
          18223.4512,
          23563.01618,
          5415.6612,
          4058.1161,
          6593.5083,
          8442.667,
          26125.67477,
          4795.6568,
          7162.0122,
          10594.2257,
          8515.7587,
          3238.4357,
          47269.854,
          49577.6624,
          3171.6149,
          1135.9407,
          1633.9618,
          4415.1588,
          6770.1925,
          26926.5144,
          14478.33015,
          4747.0529,
          17043.3414,
          8283.6807,
          1720.3537,
          7147.4728,
          1515.3449,
          4340.4409,
          62592.87309,
          2464.6188,
          1163.4627,
          12981.3457,
          43896.3763,
          9377.9047,
          12629.1656,
          1629.8335
         ],
         "xaxis": "x2",
         "yaxis": "y2"
        },
        {
         "alignmentgroup": "True",
         "bingroup": "x",
         "hovertemplate": "region=northwest<br>charges=%{x}<br>count=%{y}<extra></extra>",
         "legendgroup": "northwest",
         "marker": {
          "color": "#00cc96",
          "pattern": {
           "shape": ""
          }
         },
         "name": "northwest",
         "offsetgroup": "northwest",
         "orientation": "v",
         "showlegend": true,
         "type": "histogram",
         "x": [
          21984.47061,
          3866.8552,
          7281.5056,
          28923.13692,
          6203.90175,
          12268.63225,
          2775.19215,
          13770.0979,
          1625.43375,
          15612.19335,
          3556.9223,
          3579.8287,
          8059.6791,
          47496.49445,
          5989.52365,
          30166.61817,
          4133.64165,
          14711.7438,
          6389.37785,
          11356.6609,
          6571.02435,
          11033.6617,
          21098.55405,
          43578.9394,
          8026.6666,
          11082.5772,
          10942.13205,
          5729.0053,
          17560.37975,
          3877.30425,
          10825.2537,
          2404.7338,
          6686.4313,
          2257.47525,
          10115.00885,
          32734.1863,
          1632.56445,
          2045.68525,
          18157.876,
          20745.9891,
          40720.55105,
          10959.6947,
          5125.2157,
          6948.7008,
          21348.706,
          5028.1466,
          6128.79745,
          2719.27975,
          2855.43755,
          6455.86265,
          11735.87905,
          7419.4779,
          4922.9159,
          12044.342,
          1639.5631,
          9644.2525,
          2130.6759,
          13012.20865,
          8162.71625,
          3537.703,
          10355.641,
          7443.64305,
          6710.1919,
          17352.6803,
          24476.47851,
          43921.1837,
          11520.09985,
          33750.2918,
          36219.40545,
          7265.7025,
          2523.1695,
          2803.69785,
          14256.1928,
          38746.3551,
          9249.4952,
          19442.3535,
          7749.1564,
          8835.26495,
          7421.19455,
          4894.7533,
          42760.5022,
          24393.6224,
          13429.0354,
          13937.6665,
          13352.0998,
          1635.73365,
          11830.6072,
          9620.3307,
          8017.06115,
          8116.26885,
          13415.0381,
          18033.9679,
          16455.70785,
          30284.64294,
          3176.8159,
          4618.0799,
          2138.0707,
          7526.70645,
          14692.66935,
          10269.46,
          1621.3402,
          2134.9015,
          28950.4692,
          18804.7524,
          4906.40965,
          4243.59005,
          4738.2682,
          26109.32905,
          11454.0215,
          4032.2407,
          1769.53165,
          11840.77505,
          1632.03625,
          12643.3778,
          28868.6639,
          2534.39375,
          15555.18875,
          12475.3513,
          10461.9794,
          6796.86325,
          2643.2685,
          3077.0955,
          8413.46305,
          24059.68019,
          10231.4999,
          23807.2406,
          11187.6567,
          39983.42595,
          1646.4297,
          9193.8385,
          2128.43105,
          6373.55735,
          7256.7231,
          45702.02235,
          12222.8983,
          1639.5631,
          43943.8761,
          8428.0693,
          33471.97189,
          9174.13565,
          17468.9839,
          25678.77845,
          12129.61415,
          3736.4647,
          42983.4585,
          2709.1119,
          32787.45859,
          4466.6214,
          6123.5688,
          4058.71245,
          40003.33225,
          7222.78625,
          46130.5265,
          10156.7832,
          9863.4718,
          2362.22905,
          2352.96845,
          3201.24515,
          10976.24575,
          5385.3379,
          8930.93455,
          10264.4421,
          8310.83915,
          9566.9909,
          13112.6048,
          10848.1343,
          12231.6136,
          6664.68595,
          9583.8933,
          8827.2099,
          9910.35985,
          1627.28245,
          3062.50825,
          1906.35825,
          14210.53595,
          11842.62375,
          6933.24225,
          17748.5062,
          7261.741,
          6986.697,
          9869.8102,
          1917.3184,
          7209.4918,
          18310.742,
          7731.85785,
          28476.73499,
          2136.88225,
          6360.9936,
          2842.76075,
          55135.40209,
          2680.9493,
          12523.6048,
          6117.4945,
          5266.3656,
          4719.73655,
          11743.9341,
          5377.4578,
          12622.1795,
          10601.63225,
          14119.62,
          15817.9857,
          12269.68865,
          2690.1138,
          2789.0574,
          4877.98105,
          5272.1758,
          11945.1327,
          29330.98315,
          2221.56445,
          2117.33885,
          2639.0429,
          14382.70905,
          5257.50795,
          21774.32215,
          4320.41085,
          8965.79575,
          1628.4709,
          6358.77645,
          4527.18295,
          20009.63365,
          12609.88702,
          28468.91901,
          2730.10785,
          26467.09737,
          23967.38305,
          7518.02535,
          2527.81865,
          8410.04685,
          28340.18885,
          16420.49455,
          5267.81815,
          17361.7661,
          4433.3877,
          24915.22085,
          8765.249,
          12124.9924,
          2709.24395,
          12495.29085,
          26018.95052,
          16450.8947,
          21595.38229,
          21677.28345,
          12950.0712,
          39725.51805,
          22493.65964,
          20234.85475,
          21880.82,
          3594.17085,
          8023.13545,
          3353.4703,
          10594.50155,
          4462.7218,
          6548.19505,
          14349.8544,
          1909.52745,
          4454.40265,
          5855.9025,
          15019.76005,
          11353.2276,
          33907.548,
          8988.15875,
          10493.9458,
          5312.16985,
          5693.4305,
          46661.4424,
          14254.6082,
          9991.03765,
          19673.33573,
          11085.5868,
          3176.2877,
          36898.73308,
          11289.10925,
          2261.5688,
          12235.8392,
          5630.45785,
          11015.1747,
          14426.07385,
          7727.2532,
          7153.5539,
          6112.35295,
          6457.8434,
          4433.9159,
          23887.6627,
          2850.68375,
          37465.34375,
          13844.7972,
          5327.40025,
          8671.19125,
          4134.08245,
          18838.70366,
          33307.5508,
          6393.60345,
          6198.7518,
          8733.22925,
          2055.3249,
          5116.5004,
          5373.36425,
          3956.07145,
          7537.1639,
          60021.39897,
          12479.70895,
          2699.56835,
          12224.35085,
          4296.2712,
          11436.73815,
          11305.93455,
          30063.58055,
          3292.52985,
          3021.80915,
          4357.04365,
          4189.1131,
          24535.69855,
          9301.89355,
          5261.46945,
          2710.82855,
          46718.16325,
          21472.4788,
          6940.90985,
          4571.41305,
          18765.87545,
          7201.70085,
          5425.02335,
          4239.89265,
          10600.5483,
          29141.3603
         ],
         "xaxis": "x",
         "yaxis": "y"
        },
        {
         "alignmentgroup": "True",
         "hovertemplate": "region=northwest<br>charges=%{x}<extra></extra>",
         "legendgroup": "northwest",
         "marker": {
          "color": "#00cc96"
         },
         "name": "northwest",
         "notched": true,
         "offsetgroup": "northwest",
         "showlegend": false,
         "type": "box",
         "x": [
          21984.47061,
          3866.8552,
          7281.5056,
          28923.13692,
          6203.90175,
          12268.63225,
          2775.19215,
          13770.0979,
          1625.43375,
          15612.19335,
          3556.9223,
          3579.8287,
          8059.6791,
          47496.49445,
          5989.52365,
          30166.61817,
          4133.64165,
          14711.7438,
          6389.37785,
          11356.6609,
          6571.02435,
          11033.6617,
          21098.55405,
          43578.9394,
          8026.6666,
          11082.5772,
          10942.13205,
          5729.0053,
          17560.37975,
          3877.30425,
          10825.2537,
          2404.7338,
          6686.4313,
          2257.47525,
          10115.00885,
          32734.1863,
          1632.56445,
          2045.68525,
          18157.876,
          20745.9891,
          40720.55105,
          10959.6947,
          5125.2157,
          6948.7008,
          21348.706,
          5028.1466,
          6128.79745,
          2719.27975,
          2855.43755,
          6455.86265,
          11735.87905,
          7419.4779,
          4922.9159,
          12044.342,
          1639.5631,
          9644.2525,
          2130.6759,
          13012.20865,
          8162.71625,
          3537.703,
          10355.641,
          7443.64305,
          6710.1919,
          17352.6803,
          24476.47851,
          43921.1837,
          11520.09985,
          33750.2918,
          36219.40545,
          7265.7025,
          2523.1695,
          2803.69785,
          14256.1928,
          38746.3551,
          9249.4952,
          19442.3535,
          7749.1564,
          8835.26495,
          7421.19455,
          4894.7533,
          42760.5022,
          24393.6224,
          13429.0354,
          13937.6665,
          13352.0998,
          1635.73365,
          11830.6072,
          9620.3307,
          8017.06115,
          8116.26885,
          13415.0381,
          18033.9679,
          16455.70785,
          30284.64294,
          3176.8159,
          4618.0799,
          2138.0707,
          7526.70645,
          14692.66935,
          10269.46,
          1621.3402,
          2134.9015,
          28950.4692,
          18804.7524,
          4906.40965,
          4243.59005,
          4738.2682,
          26109.32905,
          11454.0215,
          4032.2407,
          1769.53165,
          11840.77505,
          1632.03625,
          12643.3778,
          28868.6639,
          2534.39375,
          15555.18875,
          12475.3513,
          10461.9794,
          6796.86325,
          2643.2685,
          3077.0955,
          8413.46305,
          24059.68019,
          10231.4999,
          23807.2406,
          11187.6567,
          39983.42595,
          1646.4297,
          9193.8385,
          2128.43105,
          6373.55735,
          7256.7231,
          45702.02235,
          12222.8983,
          1639.5631,
          43943.8761,
          8428.0693,
          33471.97189,
          9174.13565,
          17468.9839,
          25678.77845,
          12129.61415,
          3736.4647,
          42983.4585,
          2709.1119,
          32787.45859,
          4466.6214,
          6123.5688,
          4058.71245,
          40003.33225,
          7222.78625,
          46130.5265,
          10156.7832,
          9863.4718,
          2362.22905,
          2352.96845,
          3201.24515,
          10976.24575,
          5385.3379,
          8930.93455,
          10264.4421,
          8310.83915,
          9566.9909,
          13112.6048,
          10848.1343,
          12231.6136,
          6664.68595,
          9583.8933,
          8827.2099,
          9910.35985,
          1627.28245,
          3062.50825,
          1906.35825,
          14210.53595,
          11842.62375,
          6933.24225,
          17748.5062,
          7261.741,
          6986.697,
          9869.8102,
          1917.3184,
          7209.4918,
          18310.742,
          7731.85785,
          28476.73499,
          2136.88225,
          6360.9936,
          2842.76075,
          55135.40209,
          2680.9493,
          12523.6048,
          6117.4945,
          5266.3656,
          4719.73655,
          11743.9341,
          5377.4578,
          12622.1795,
          10601.63225,
          14119.62,
          15817.9857,
          12269.68865,
          2690.1138,
          2789.0574,
          4877.98105,
          5272.1758,
          11945.1327,
          29330.98315,
          2221.56445,
          2117.33885,
          2639.0429,
          14382.70905,
          5257.50795,
          21774.32215,
          4320.41085,
          8965.79575,
          1628.4709,
          6358.77645,
          4527.18295,
          20009.63365,
          12609.88702,
          28468.91901,
          2730.10785,
          26467.09737,
          23967.38305,
          7518.02535,
          2527.81865,
          8410.04685,
          28340.18885,
          16420.49455,
          5267.81815,
          17361.7661,
          4433.3877,
          24915.22085,
          8765.249,
          12124.9924,
          2709.24395,
          12495.29085,
          26018.95052,
          16450.8947,
          21595.38229,
          21677.28345,
          12950.0712,
          39725.51805,
          22493.65964,
          20234.85475,
          21880.82,
          3594.17085,
          8023.13545,
          3353.4703,
          10594.50155,
          4462.7218,
          6548.19505,
          14349.8544,
          1909.52745,
          4454.40265,
          5855.9025,
          15019.76005,
          11353.2276,
          33907.548,
          8988.15875,
          10493.9458,
          5312.16985,
          5693.4305,
          46661.4424,
          14254.6082,
          9991.03765,
          19673.33573,
          11085.5868,
          3176.2877,
          36898.73308,
          11289.10925,
          2261.5688,
          12235.8392,
          5630.45785,
          11015.1747,
          14426.07385,
          7727.2532,
          7153.5539,
          6112.35295,
          6457.8434,
          4433.9159,
          23887.6627,
          2850.68375,
          37465.34375,
          13844.7972,
          5327.40025,
          8671.19125,
          4134.08245,
          18838.70366,
          33307.5508,
          6393.60345,
          6198.7518,
          8733.22925,
          2055.3249,
          5116.5004,
          5373.36425,
          3956.07145,
          7537.1639,
          60021.39897,
          12479.70895,
          2699.56835,
          12224.35085,
          4296.2712,
          11436.73815,
          11305.93455,
          30063.58055,
          3292.52985,
          3021.80915,
          4357.04365,
          4189.1131,
          24535.69855,
          9301.89355,
          5261.46945,
          2710.82855,
          46718.16325,
          21472.4788,
          6940.90985,
          4571.41305,
          18765.87545,
          7201.70085,
          5425.02335,
          4239.89265,
          10600.5483,
          29141.3603
         ],
         "xaxis": "x2",
         "yaxis": "y2"
        },
        {
         "alignmentgroup": "True",
         "bingroup": "x",
         "hovertemplate": "region=northeast<br>charges=%{x}<br>count=%{y}<extra></extra>",
         "legendgroup": "northeast",
         "marker": {
          "color": "#ab63fa",
          "pattern": {
           "shape": ""
          }
         },
         "name": "northeast",
         "offsetgroup": "northeast",
         "orientation": "v",
         "showlegend": true,
         "type": "histogram",
         "x": [
          6406.4107,
          2721.3208,
          10797.3362,
          2395.17155,
          13228.84695,
          37701.8768,
          14451.83515,
          2198.18985,
          39774.2763,
          3046.062,
          6079.6715,
          3393.35635,
          2211.13075,
          13607.36875,
          8606.2174,
          6799.458,
          2755.02095,
          4441.21315,
          7935.29115,
          30184.9367,
          22412.6485,
          3645.0894,
          21344.8467,
          11488.31695,
          30259.99556,
          1705.6245,
          39556.4945,
          3385.39915,
          12815.44495,
          13616.3586,
          2457.21115,
          27375.90478,
          3490.5491,
          6334.34355,
          19964.7463,
          7077.1894,
          15518.18025,
          10407.08585,
          4827.90495,
          1694.7964,
          8538.28845,
          4005.4225,
          43753.33705,
          14901.5167,
          4337.7352,
          20984.0936,
          6610.1097,
          10564.8845,
          7358.17565,
          9225.2564,
          38511.6283,
          5354.07465,
          29523.1656,
          4040.55825,
          12829.4551,
          41097.16175,
          13047.33235,
          24869.8368,
          14590.63205,
          9282.4806,
          9617.66245,
          9715.841,
          22331.5668,
          48549.17835,
          4237.12655,
          11879.10405,
          9432.9253,
          47896.79135,
          20277.80751,
          1704.5681,
          6746.7425,
          24873.3849,
          11944.59435,
          9722.7695,
          10435.06525,
          4667.60765,
          24671.66334,
          11566.30055,
          6600.20595,
          48517.56315,
          11658.37915,
          19144.57652,
          41919.097,
          13217.0945,
          13981.85035,
          8334.45755,
          12404.8791,
          10043.249,
          9778.3472,
          13430.265,
          3481.868,
          12029.2867,
          7639.41745,
          21659.9301,
          15006.57945,
          42303.69215,
          8302.53565,
          10736.87075,
          8964.06055,
          9290.1395,
          9411.005,
          11396.9002,
          19594.80965,
          14455.64405,
          39125.33225,
          2727.3951,
          6555.07035,
          7323.734819,
          3167.45585,
          2254.7967,
          2897.3235,
          12730.9996,
          15230.32405,
          11165.41765,
          23288.9284,
          2203.47185,
          20878.78443,
          35147.52848,
          4347.02335,
          2196.4732,
          1967.0227,
          6837.3687,
          3044.2133,
          11763.0009,
          9361.3268,
          3857.75925,
          25656.57526,
          9866.30485,
          8342.90875,
          1708.0014,
          14043.4767,
          6067.12675,
          3268.84665,
          3213.62205,
          17878.90068,
          8334.5896,
          10923.9332,
          31620.00106,
          13224.05705,
          58571.07448,
          3206.49135,
          12913.9924,
          3861.20965,
          13635.6379,
          15359.1045,
          8823.98575,
          5594.8455,
          3558.62025,
          4435.0942,
          2207.69745,
          6753.038,
          11658.11505,
          34617.84065,
          6748.5912,
          7173.35995,
          14410.9321,
          24915.04626,
          20149.3229,
          13143.86485,
          10141.1362,
          8252.2843,
          1712.227,
          12430.95335,
          26392.26029,
          14394.39815,
          5148.5526,
          45710.20785,
          3943.5954,
          11244.3769,
          7729.64575,
          2104.1134,
          29186.48236,
          9541.69555,
          6113.23105,
          5469.0066,
          1984.4533,
          9875.6804,
          10106.13425,
          16657.71745,
          2217.6012,
          9447.25035,
          36189.1017,
          8604.48365,
          43254.41795,
          17128.42608,
          5031.26955,
          7985.815,
          5428.7277,
          3925.7582,
          3070.8087,
          9095.06825,
          12797.20962,
          7448.40395,
          12741.16745,
          5209.57885,
          2731.9122,
          4719.52405,
          17904.52705,
          3309.7926,
          4428.88785,
          23401.30575,
          16069.08475,
          20773.62775,
          39597.4072,
          11657.7189,
          6402.29135,
          12323.936,
          10072.05505,
          37270.1512,
          42111.6647,
          11729.6795,
          24106.91255,
          5458.04645,
          13129.60345,
          8891.1395,
          2585.85065,
          46255.1125,
          27218.43725,
          10422.91665,
          13555.0049,
          19798.05455,
          8688.85885,
          4661.28635,
          4564.19145,
          4846.92015,
          33732.6867,
          35069.37452,
          25333.33284,
          32108.66282,
          2217.46915,
          39047.285,
          11534.87265,
          41034.2214,
          9500.57305,
          3279.86855,
          4992.3764,
          16138.76205,
          9704.66805,
          25517.11363,
          4500.33925,
          16796.41194,
          4915.05985,
          4518.82625,
          14571.8908,
          7144.86265,
          7986.47525,
          6551.7501,
          8627.5411,
          4438.2634,
          23241.47453,
          9957.7216,
          6877.9801,
          4137.5227,
          13747.87235,
          2250.8352,
          1704.70015,
          33475.81715,
          11394.06555,
          7325.0482,
          14394.5579,
          9288.0267,
          5757.41345,
          13974.45555,
          12096.6512,
          13204.28565,
          2102.2647,
          10796.35025,
          11286.5387,
          4561.1885,
          44641.1974,
          23045.56616,
          16776.30405,
          11512.405,
          2396.0959,
          9222.4026,
          18903.49141,
          40904.1995,
          20709.02034,
          2203.73595,
          7228.21565,
          2459.7201,
          2200.83085,
          5227.98875,
          17178.6824,
          2899.48935,
          7650.77375,
          9447.3824,
          8603.8234,
          21771.3423,
          13725.47184,
          13019.16105,
          9964.06,
          20296.86345,
          1702.4553,
          12890.05765,
          4718.20355,
          6858.4796,
          6640.54485,
          11938.25595,
          14449.8544,
          6985.50695,
          37607.5277,
          18648.4217,
          10197.7722,
          4544.2348,
          10370.91255,
          34254.05335,
          2741.948,
          22462.04375,
          14283.4594,
          8534.6718,
          3732.6251,
          7133.9025,
          11931.12525,
          1708.92575,
          21259.37795,
          16115.3045,
          11272.33139,
          19496.71917,
          28101.33305,
          13143.33665,
          7050.0213,
          22395.74424,
          2205.9808
         ],
         "xaxis": "x",
         "yaxis": "y"
        },
        {
         "alignmentgroup": "True",
         "hovertemplate": "region=northeast<br>charges=%{x}<extra></extra>",
         "legendgroup": "northeast",
         "marker": {
          "color": "#ab63fa"
         },
         "name": "northeast",
         "notched": true,
         "offsetgroup": "northeast",
         "showlegend": false,
         "type": "box",
         "x": [
          6406.4107,
          2721.3208,
          10797.3362,
          2395.17155,
          13228.84695,
          37701.8768,
          14451.83515,
          2198.18985,
          39774.2763,
          3046.062,
          6079.6715,
          3393.35635,
          2211.13075,
          13607.36875,
          8606.2174,
          6799.458,
          2755.02095,
          4441.21315,
          7935.29115,
          30184.9367,
          22412.6485,
          3645.0894,
          21344.8467,
          11488.31695,
          30259.99556,
          1705.6245,
          39556.4945,
          3385.39915,
          12815.44495,
          13616.3586,
          2457.21115,
          27375.90478,
          3490.5491,
          6334.34355,
          19964.7463,
          7077.1894,
          15518.18025,
          10407.08585,
          4827.90495,
          1694.7964,
          8538.28845,
          4005.4225,
          43753.33705,
          14901.5167,
          4337.7352,
          20984.0936,
          6610.1097,
          10564.8845,
          7358.17565,
          9225.2564,
          38511.6283,
          5354.07465,
          29523.1656,
          4040.55825,
          12829.4551,
          41097.16175,
          13047.33235,
          24869.8368,
          14590.63205,
          9282.4806,
          9617.66245,
          9715.841,
          22331.5668,
          48549.17835,
          4237.12655,
          11879.10405,
          9432.9253,
          47896.79135,
          20277.80751,
          1704.5681,
          6746.7425,
          24873.3849,
          11944.59435,
          9722.7695,
          10435.06525,
          4667.60765,
          24671.66334,
          11566.30055,
          6600.20595,
          48517.56315,
          11658.37915,
          19144.57652,
          41919.097,
          13217.0945,
          13981.85035,
          8334.45755,
          12404.8791,
          10043.249,
          9778.3472,
          13430.265,
          3481.868,
          12029.2867,
          7639.41745,
          21659.9301,
          15006.57945,
          42303.69215,
          8302.53565,
          10736.87075,
          8964.06055,
          9290.1395,
          9411.005,
          11396.9002,
          19594.80965,
          14455.64405,
          39125.33225,
          2727.3951,
          6555.07035,
          7323.734819,
          3167.45585,
          2254.7967,
          2897.3235,
          12730.9996,
          15230.32405,
          11165.41765,
          23288.9284,
          2203.47185,
          20878.78443,
          35147.52848,
          4347.02335,
          2196.4732,
          1967.0227,
          6837.3687,
          3044.2133,
          11763.0009,
          9361.3268,
          3857.75925,
          25656.57526,
          9866.30485,
          8342.90875,
          1708.0014,
          14043.4767,
          6067.12675,
          3268.84665,
          3213.62205,
          17878.90068,
          8334.5896,
          10923.9332,
          31620.00106,
          13224.05705,
          58571.07448,
          3206.49135,
          12913.9924,
          3861.20965,
          13635.6379,
          15359.1045,
          8823.98575,
          5594.8455,
          3558.62025,
          4435.0942,
          2207.69745,
          6753.038,
          11658.11505,
          34617.84065,
          6748.5912,
          7173.35995,
          14410.9321,
          24915.04626,
          20149.3229,
          13143.86485,
          10141.1362,
          8252.2843,
          1712.227,
          12430.95335,
          26392.26029,
          14394.39815,
          5148.5526,
          45710.20785,
          3943.5954,
          11244.3769,
          7729.64575,
          2104.1134,
          29186.48236,
          9541.69555,
          6113.23105,
          5469.0066,
          1984.4533,
          9875.6804,
          10106.13425,
          16657.71745,
          2217.6012,
          9447.25035,
          36189.1017,
          8604.48365,
          43254.41795,
          17128.42608,
          5031.26955,
          7985.815,
          5428.7277,
          3925.7582,
          3070.8087,
          9095.06825,
          12797.20962,
          7448.40395,
          12741.16745,
          5209.57885,
          2731.9122,
          4719.52405,
          17904.52705,
          3309.7926,
          4428.88785,
          23401.30575,
          16069.08475,
          20773.62775,
          39597.4072,
          11657.7189,
          6402.29135,
          12323.936,
          10072.05505,
          37270.1512,
          42111.6647,
          11729.6795,
          24106.91255,
          5458.04645,
          13129.60345,
          8891.1395,
          2585.85065,
          46255.1125,
          27218.43725,
          10422.91665,
          13555.0049,
          19798.05455,
          8688.85885,
          4661.28635,
          4564.19145,
          4846.92015,
          33732.6867,
          35069.37452,
          25333.33284,
          32108.66282,
          2217.46915,
          39047.285,
          11534.87265,
          41034.2214,
          9500.57305,
          3279.86855,
          4992.3764,
          16138.76205,
          9704.66805,
          25517.11363,
          4500.33925,
          16796.41194,
          4915.05985,
          4518.82625,
          14571.8908,
          7144.86265,
          7986.47525,
          6551.7501,
          8627.5411,
          4438.2634,
          23241.47453,
          9957.7216,
          6877.9801,
          4137.5227,
          13747.87235,
          2250.8352,
          1704.70015,
          33475.81715,
          11394.06555,
          7325.0482,
          14394.5579,
          9288.0267,
          5757.41345,
          13974.45555,
          12096.6512,
          13204.28565,
          2102.2647,
          10796.35025,
          11286.5387,
          4561.1885,
          44641.1974,
          23045.56616,
          16776.30405,
          11512.405,
          2396.0959,
          9222.4026,
          18903.49141,
          40904.1995,
          20709.02034,
          2203.73595,
          7228.21565,
          2459.7201,
          2200.83085,
          5227.98875,
          17178.6824,
          2899.48935,
          7650.77375,
          9447.3824,
          8603.8234,
          21771.3423,
          13725.47184,
          13019.16105,
          9964.06,
          20296.86345,
          1702.4553,
          12890.05765,
          4718.20355,
          6858.4796,
          6640.54485,
          11938.25595,
          14449.8544,
          6985.50695,
          37607.5277,
          18648.4217,
          10197.7722,
          4544.2348,
          10370.91255,
          34254.05335,
          2741.948,
          22462.04375,
          14283.4594,
          8534.6718,
          3732.6251,
          7133.9025,
          11931.12525,
          1708.92575,
          21259.37795,
          16115.3045,
          11272.33139,
          19496.71917,
          28101.33305,
          13143.33665,
          7050.0213,
          22395.74424,
          2205.9808
         ],
         "xaxis": "x2",
         "yaxis": "y2"
        }
       ],
       "layout": {
        "bargap": 0.1,
        "barmode": "relative",
        "legend": {
         "title": {
          "text": "region"
         },
         "tracegroupgap": 0
        },
        "template": {
         "data": {
          "bar": [
           {
            "error_x": {
             "color": "#2a3f5f"
            },
            "error_y": {
             "color": "#2a3f5f"
            },
            "marker": {
             "line": {
              "color": "#E5ECF6",
              "width": 0.5
             },
             "pattern": {
              "fillmode": "overlay",
              "size": 10,
              "solidity": 0.2
             }
            },
            "type": "bar"
           }
          ],
          "barpolar": [
           {
            "marker": {
             "line": {
              "color": "#E5ECF6",
              "width": 0.5
             },
             "pattern": {
              "fillmode": "overlay",
              "size": 10,
              "solidity": 0.2
             }
            },
            "type": "barpolar"
           }
          ],
          "carpet": [
           {
            "aaxis": {
             "endlinecolor": "#2a3f5f",
             "gridcolor": "white",
             "linecolor": "white",
             "minorgridcolor": "white",
             "startlinecolor": "#2a3f5f"
            },
            "baxis": {
             "endlinecolor": "#2a3f5f",
             "gridcolor": "white",
             "linecolor": "white",
             "minorgridcolor": "white",
             "startlinecolor": "#2a3f5f"
            },
            "type": "carpet"
           }
          ],
          "choropleth": [
           {
            "colorbar": {
             "outlinewidth": 0,
             "ticks": ""
            },
            "type": "choropleth"
           }
          ],
          "contour": [
           {
            "colorbar": {
             "outlinewidth": 0,
             "ticks": ""
            },
            "colorscale": [
             [
              0,
              "#0d0887"
             ],
             [
              0.1111111111111111,
              "#46039f"
             ],
             [
              0.2222222222222222,
              "#7201a8"
             ],
             [
              0.3333333333333333,
              "#9c179e"
             ],
             [
              0.4444444444444444,
              "#bd3786"
             ],
             [
              0.5555555555555556,
              "#d8576b"
             ],
             [
              0.6666666666666666,
              "#ed7953"
             ],
             [
              0.7777777777777778,
              "#fb9f3a"
             ],
             [
              0.8888888888888888,
              "#fdca26"
             ],
             [
              1,
              "#f0f921"
             ]
            ],
            "type": "contour"
           }
          ],
          "contourcarpet": [
           {
            "colorbar": {
             "outlinewidth": 0,
             "ticks": ""
            },
            "type": "contourcarpet"
           }
          ],
          "heatmap": [
           {
            "colorbar": {
             "outlinewidth": 0,
             "ticks": ""
            },
            "colorscale": [
             [
              0,
              "#0d0887"
             ],
             [
              0.1111111111111111,
              "#46039f"
             ],
             [
              0.2222222222222222,
              "#7201a8"
             ],
             [
              0.3333333333333333,
              "#9c179e"
             ],
             [
              0.4444444444444444,
              "#bd3786"
             ],
             [
              0.5555555555555556,
              "#d8576b"
             ],
             [
              0.6666666666666666,
              "#ed7953"
             ],
             [
              0.7777777777777778,
              "#fb9f3a"
             ],
             [
              0.8888888888888888,
              "#fdca26"
             ],
             [
              1,
              "#f0f921"
             ]
            ],
            "type": "heatmap"
           }
          ],
          "heatmapgl": [
           {
            "colorbar": {
             "outlinewidth": 0,
             "ticks": ""
            },
            "colorscale": [
             [
              0,
              "#0d0887"
             ],
             [
              0.1111111111111111,
              "#46039f"
             ],
             [
              0.2222222222222222,
              "#7201a8"
             ],
             [
              0.3333333333333333,
              "#9c179e"
             ],
             [
              0.4444444444444444,
              "#bd3786"
             ],
             [
              0.5555555555555556,
              "#d8576b"
             ],
             [
              0.6666666666666666,
              "#ed7953"
             ],
             [
              0.7777777777777778,
              "#fb9f3a"
             ],
             [
              0.8888888888888888,
              "#fdca26"
             ],
             [
              1,
              "#f0f921"
             ]
            ],
            "type": "heatmapgl"
           }
          ],
          "histogram": [
           {
            "marker": {
             "pattern": {
              "fillmode": "overlay",
              "size": 10,
              "solidity": 0.2
             }
            },
            "type": "histogram"
           }
          ],
          "histogram2d": [
           {
            "colorbar": {
             "outlinewidth": 0,
             "ticks": ""
            },
            "colorscale": [
             [
              0,
              "#0d0887"
             ],
             [
              0.1111111111111111,
              "#46039f"
             ],
             [
              0.2222222222222222,
              "#7201a8"
             ],
             [
              0.3333333333333333,
              "#9c179e"
             ],
             [
              0.4444444444444444,
              "#bd3786"
             ],
             [
              0.5555555555555556,
              "#d8576b"
             ],
             [
              0.6666666666666666,
              "#ed7953"
             ],
             [
              0.7777777777777778,
              "#fb9f3a"
             ],
             [
              0.8888888888888888,
              "#fdca26"
             ],
             [
              1,
              "#f0f921"
             ]
            ],
            "type": "histogram2d"
           }
          ],
          "histogram2dcontour": [
           {
            "colorbar": {
             "outlinewidth": 0,
             "ticks": ""
            },
            "colorscale": [
             [
              0,
              "#0d0887"
             ],
             [
              0.1111111111111111,
              "#46039f"
             ],
             [
              0.2222222222222222,
              "#7201a8"
             ],
             [
              0.3333333333333333,
              "#9c179e"
             ],
             [
              0.4444444444444444,
              "#bd3786"
             ],
             [
              0.5555555555555556,
              "#d8576b"
             ],
             [
              0.6666666666666666,
              "#ed7953"
             ],
             [
              0.7777777777777778,
              "#fb9f3a"
             ],
             [
              0.8888888888888888,
              "#fdca26"
             ],
             [
              1,
              "#f0f921"
             ]
            ],
            "type": "histogram2dcontour"
           }
          ],
          "mesh3d": [
           {
            "colorbar": {
             "outlinewidth": 0,
             "ticks": ""
            },
            "type": "mesh3d"
           }
          ],
          "parcoords": [
           {
            "line": {
             "colorbar": {
              "outlinewidth": 0,
              "ticks": ""
             }
            },
            "type": "parcoords"
           }
          ],
          "pie": [
           {
            "automargin": true,
            "type": "pie"
           }
          ],
          "scatter": [
           {
            "fillpattern": {
             "fillmode": "overlay",
             "size": 10,
             "solidity": 0.2
            },
            "type": "scatter"
           }
          ],
          "scatter3d": [
           {
            "line": {
             "colorbar": {
              "outlinewidth": 0,
              "ticks": ""
             }
            },
            "marker": {
             "colorbar": {
              "outlinewidth": 0,
              "ticks": ""
             }
            },
            "type": "scatter3d"
           }
          ],
          "scattercarpet": [
           {
            "marker": {
             "colorbar": {
              "outlinewidth": 0,
              "ticks": ""
             }
            },
            "type": "scattercarpet"
           }
          ],
          "scattergeo": [
           {
            "marker": {
             "colorbar": {
              "outlinewidth": 0,
              "ticks": ""
             }
            },
            "type": "scattergeo"
           }
          ],
          "scattergl": [
           {
            "marker": {
             "colorbar": {
              "outlinewidth": 0,
              "ticks": ""
             }
            },
            "type": "scattergl"
           }
          ],
          "scattermapbox": [
           {
            "marker": {
             "colorbar": {
              "outlinewidth": 0,
              "ticks": ""
             }
            },
            "type": "scattermapbox"
           }
          ],
          "scatterpolar": [
           {
            "marker": {
             "colorbar": {
              "outlinewidth": 0,
              "ticks": ""
             }
            },
            "type": "scatterpolar"
           }
          ],
          "scatterpolargl": [
           {
            "marker": {
             "colorbar": {
              "outlinewidth": 0,
              "ticks": ""
             }
            },
            "type": "scatterpolargl"
           }
          ],
          "scatterternary": [
           {
            "marker": {
             "colorbar": {
              "outlinewidth": 0,
              "ticks": ""
             }
            },
            "type": "scatterternary"
           }
          ],
          "surface": [
           {
            "colorbar": {
             "outlinewidth": 0,
             "ticks": ""
            },
            "colorscale": [
             [
              0,
              "#0d0887"
             ],
             [
              0.1111111111111111,
              "#46039f"
             ],
             [
              0.2222222222222222,
              "#7201a8"
             ],
             [
              0.3333333333333333,
              "#9c179e"
             ],
             [
              0.4444444444444444,
              "#bd3786"
             ],
             [
              0.5555555555555556,
              "#d8576b"
             ],
             [
              0.6666666666666666,
              "#ed7953"
             ],
             [
              0.7777777777777778,
              "#fb9f3a"
             ],
             [
              0.8888888888888888,
              "#fdca26"
             ],
             [
              1,
              "#f0f921"
             ]
            ],
            "type": "surface"
           }
          ],
          "table": [
           {
            "cells": {
             "fill": {
              "color": "#EBF0F8"
             },
             "line": {
              "color": "white"
             }
            },
            "header": {
             "fill": {
              "color": "#C8D4E3"
             },
             "line": {
              "color": "white"
             }
            },
            "type": "table"
           }
          ]
         },
         "layout": {
          "annotationdefaults": {
           "arrowcolor": "#2a3f5f",
           "arrowhead": 0,
           "arrowwidth": 1
          },
          "autotypenumbers": "strict",
          "coloraxis": {
           "colorbar": {
            "outlinewidth": 0,
            "ticks": ""
           }
          },
          "colorscale": {
           "diverging": [
            [
             0,
             "#8e0152"
            ],
            [
             0.1,
             "#c51b7d"
            ],
            [
             0.2,
             "#de77ae"
            ],
            [
             0.3,
             "#f1b6da"
            ],
            [
             0.4,
             "#fde0ef"
            ],
            [
             0.5,
             "#f7f7f7"
            ],
            [
             0.6,
             "#e6f5d0"
            ],
            [
             0.7,
             "#b8e186"
            ],
            [
             0.8,
             "#7fbc41"
            ],
            [
             0.9,
             "#4d9221"
            ],
            [
             1,
             "#276419"
            ]
           ],
           "sequential": [
            [
             0,
             "#0d0887"
            ],
            [
             0.1111111111111111,
             "#46039f"
            ],
            [
             0.2222222222222222,
             "#7201a8"
            ],
            [
             0.3333333333333333,
             "#9c179e"
            ],
            [
             0.4444444444444444,
             "#bd3786"
            ],
            [
             0.5555555555555556,
             "#d8576b"
            ],
            [
             0.6666666666666666,
             "#ed7953"
            ],
            [
             0.7777777777777778,
             "#fb9f3a"
            ],
            [
             0.8888888888888888,
             "#fdca26"
            ],
            [
             1,
             "#f0f921"
            ]
           ],
           "sequentialminus": [
            [
             0,
             "#0d0887"
            ],
            [
             0.1111111111111111,
             "#46039f"
            ],
            [
             0.2222222222222222,
             "#7201a8"
            ],
            [
             0.3333333333333333,
             "#9c179e"
            ],
            [
             0.4444444444444444,
             "#bd3786"
            ],
            [
             0.5555555555555556,
             "#d8576b"
            ],
            [
             0.6666666666666666,
             "#ed7953"
            ],
            [
             0.7777777777777778,
             "#fb9f3a"
            ],
            [
             0.8888888888888888,
             "#fdca26"
            ],
            [
             1,
             "#f0f921"
            ]
           ]
          },
          "colorway": [
           "#636efa",
           "#EF553B",
           "#00cc96",
           "#ab63fa",
           "#FFA15A",
           "#19d3f3",
           "#FF6692",
           "#B6E880",
           "#FF97FF",
           "#FECB52"
          ],
          "font": {
           "color": "#2a3f5f"
          },
          "geo": {
           "bgcolor": "white",
           "lakecolor": "white",
           "landcolor": "#E5ECF6",
           "showlakes": true,
           "showland": true,
           "subunitcolor": "white"
          },
          "hoverlabel": {
           "align": "left"
          },
          "hovermode": "closest",
          "mapbox": {
           "style": "light"
          },
          "paper_bgcolor": "white",
          "plot_bgcolor": "#E5ECF6",
          "polar": {
           "angularaxis": {
            "gridcolor": "white",
            "linecolor": "white",
            "ticks": ""
           },
           "bgcolor": "#E5ECF6",
           "radialaxis": {
            "gridcolor": "white",
            "linecolor": "white",
            "ticks": ""
           }
          },
          "scene": {
           "xaxis": {
            "backgroundcolor": "#E5ECF6",
            "gridcolor": "white",
            "gridwidth": 2,
            "linecolor": "white",
            "showbackground": true,
            "ticks": "",
            "zerolinecolor": "white"
           },
           "yaxis": {
            "backgroundcolor": "#E5ECF6",
            "gridcolor": "white",
            "gridwidth": 2,
            "linecolor": "white",
            "showbackground": true,
            "ticks": "",
            "zerolinecolor": "white"
           },
           "zaxis": {
            "backgroundcolor": "#E5ECF6",
            "gridcolor": "white",
            "gridwidth": 2,
            "linecolor": "white",
            "showbackground": true,
            "ticks": "",
            "zerolinecolor": "white"
           }
          },
          "shapedefaults": {
           "line": {
            "color": "#2a3f5f"
           }
          },
          "ternary": {
           "aaxis": {
            "gridcolor": "white",
            "linecolor": "white",
            "ticks": ""
           },
           "baxis": {
            "gridcolor": "white",
            "linecolor": "white",
            "ticks": ""
           },
           "bgcolor": "#E5ECF6",
           "caxis": {
            "gridcolor": "white",
            "linecolor": "white",
            "ticks": ""
           }
          },
          "title": {
           "x": 0.05
          },
          "xaxis": {
           "automargin": true,
           "gridcolor": "white",
           "linecolor": "white",
           "ticks": "",
           "title": {
            "standoff": 15
           },
           "zerolinecolor": "white",
           "zerolinewidth": 2
          },
          "yaxis": {
           "automargin": true,
           "gridcolor": "white",
           "linecolor": "white",
           "ticks": "",
           "title": {
            "standoff": 15
           },
           "zerolinecolor": "white",
           "zerolinewidth": 2
          }
         }
        },
        "title": {
         "text": "charges over different regions of U.S.A"
        },
        "xaxis": {
         "anchor": "y",
         "domain": [
          0,
          1
         ],
         "title": {
          "text": "charges"
         }
        },
        "xaxis2": {
         "anchor": "y2",
         "domain": [
          0,
          1
         ],
         "matches": "x",
         "showgrid": true,
         "showticklabels": false
        },
        "yaxis": {
         "anchor": "x",
         "domain": [
          0,
          0.7326
         ],
         "title": {
          "text": "count"
         }
        },
        "yaxis2": {
         "anchor": "x2",
         "domain": [
          0.7426,
          1
         ],
         "matches": "y2",
         "showgrid": false,
         "showline": false,
         "showticklabels": false,
         "ticks": ""
        }
       }
      }
     },
     "metadata": {},
     "output_type": "display_data"
    }
   ],
   "source": [
    "fig = px.histogram(h_data,\n",
    "                  x = \"charges\",\n",
    "                  marginal = 'box', \n",
    "                   color=\"region\",\n",
    "                  title = \"charges over different regions of U.S.A\")\n",
    "fig.update_layout(bargap=0.1)\n",
    "fig.show()"
   ]
  },
  {
   "cell_type": "code",
   "execution_count": 17,
   "metadata": {},
   "outputs": [
    {
     "data": {
      "application/vnd.plotly.v1+json": {
       "config": {
        "plotlyServerURL": "https://plotly.com"
       },
       "data": [
        {
         "coloraxis": "coloraxis",
         "customdata": [
          [
           "southwest"
          ],
          [
           "southeast"
          ],
          [
           "southeast"
          ],
          [
           "northwest"
          ],
          [
           "northwest"
          ],
          [
           "southeast"
          ],
          [
           "southeast"
          ],
          [
           "northwest"
          ],
          [
           "northeast"
          ],
          [
           "northwest"
          ],
          [
           "northeast"
          ],
          [
           "southeast"
          ],
          [
           "southwest"
          ],
          [
           "southeast"
          ],
          [
           "southeast"
          ],
          [
           "southwest"
          ],
          [
           "northeast"
          ],
          [
           "northeast"
          ],
          [
           "southwest"
          ],
          [
           "southwest"
          ],
          [
           "northeast"
          ],
          [
           "southwest"
          ],
          [
           "southeast"
          ],
          [
           "northeast"
          ],
          [
           "northwest"
          ],
          [
           "southeast"
          ],
          [
           "northeast"
          ],
          [
           "northwest"
          ],
          [
           "northwest"
          ],
          [
           "southwest"
          ],
          [
           "southwest"
          ],
          [
           "northeast"
          ],
          [
           "southwest"
          ],
          [
           "northwest"
          ],
          [
           "southwest"
          ],
          [
           "northwest"
          ],
          [
           "northwest"
          ],
          [
           "southwest"
          ],
          [
           "northeast"
          ],
          [
           "southwest"
          ],
          [
           "northeast"
          ],
          [
           "southeast"
          ],
          [
           "southeast"
          ],
          [
           "southeast"
          ],
          [
           "northeast"
          ],
          [
           "southwest"
          ],
          [
           "northeast"
          ],
          [
           "northwest"
          ],
          [
           "southeast"
          ],
          [
           "southeast"
          ],
          [
           "northeast"
          ],
          [
           "northwest"
          ],
          [
           "southwest"
          ],
          [
           "southeast"
          ],
          [
           "northwest"
          ],
          [
           "northwest"
          ],
          [
           "northeast"
          ],
          [
           "southeast"
          ],
          [
           "southeast"
          ],
          [
           "northwest"
          ],
          [
           "northeast"
          ],
          [
           "southeast"
          ],
          [
           "northwest"
          ],
          [
           "northwest"
          ],
          [
           "northwest"
          ],
          [
           "southwest"
          ],
          [
           "southwest"
          ],
          [
           "northwest"
          ],
          [
           "southeast"
          ],
          [
           "southeast"
          ],
          [
           "southeast"
          ],
          [
           "northeast"
          ],
          [
           "southwest"
          ],
          [
           "southeast"
          ],
          [
           "southwest"
          ],
          [
           "northwest"
          ],
          [
           "southeast"
          ],
          [
           "southeast"
          ],
          [
           "northeast"
          ],
          [
           "northwest"
          ],
          [
           "northeast"
          ],
          [
           "northeast"
          ],
          [
           "southeast"
          ],
          [
           "northwest"
          ],
          [
           "southwest"
          ],
          [
           "northwest"
          ],
          [
           "northwest"
          ],
          [
           "southwest"
          ],
          [
           "northwest"
          ],
          [
           "northwest"
          ],
          [
           "southeast"
          ],
          [
           "northwest"
          ],
          [
           "northeast"
          ],
          [
           "northwest"
          ],
          [
           "southwest"
          ],
          [
           "southeast"
          ],
          [
           "southwest"
          ],
          [
           "southeast"
          ],
          [
           "northeast"
          ],
          [
           "southwest"
          ],
          [
           "southwest"
          ],
          [
           "northeast"
          ],
          [
           "northeast"
          ],
          [
           "southeast"
          ],
          [
           "southwest"
          ],
          [
           "northwest"
          ],
          [
           "southwest"
          ],
          [
           "northwest"
          ],
          [
           "southeast"
          ],
          [
           "southeast"
          ],
          [
           "northwest"
          ],
          [
           "southwest"
          ],
          [
           "southwest"
          ],
          [
           "northwest"
          ],
          [
           "northeast"
          ],
          [
           "northeast"
          ],
          [
           "southeast"
          ],
          [
           "southeast"
          ],
          [
           "southeast"
          ],
          [
           "northwest"
          ],
          [
           "southwest"
          ],
          [
           "northeast"
          ],
          [
           "northwest"
          ],
          [
           "northeast"
          ],
          [
           "northwest"
          ],
          [
           "northeast"
          ],
          [
           "southwest"
          ],
          [
           "southwest"
          ],
          [
           "northwest"
          ],
          [
           "southwest"
          ],
          [
           "northeast"
          ],
          [
           "northeast"
          ],
          [
           "southwest"
          ],
          [
           "northwest"
          ],
          [
           "northeast"
          ],
          [
           "southeast"
          ],
          [
           "southwest"
          ],
          [
           "northwest"
          ],
          [
           "southeast"
          ],
          [
           "southwest"
          ],
          [
           "northeast"
          ],
          [
           "northeast"
          ],
          [
           "southeast"
          ],
          [
           "northwest"
          ],
          [
           "northwest"
          ],
          [
           "southeast"
          ],
          [
           "northwest"
          ],
          [
           "southeast"
          ],
          [
           "northwest"
          ],
          [
           "southwest"
          ],
          [
           "northwest"
          ],
          [
           "southeast"
          ],
          [
           "northeast"
          ],
          [
           "northeast"
          ],
          [
           "northeast"
          ],
          [
           "northwest"
          ],
          [
           "southeast"
          ],
          [
           "northeast"
          ],
          [
           "southeast"
          ],
          [
           "southeast"
          ],
          [
           "northwest"
          ],
          [
           "southeast"
          ],
          [
           "southwest"
          ],
          [
           "southwest"
          ],
          [
           "northwest"
          ],
          [
           "northeast"
          ],
          [
           "southwest"
          ],
          [
           "northwest"
          ],
          [
           "northwest"
          ],
          [
           "northeast"
          ],
          [
           "southeast"
          ],
          [
           "southwest"
          ],
          [
           "northeast"
          ],
          [
           "southwest"
          ],
          [
           "northwest"
          ],
          [
           "southwest"
          ],
          [
           "northwest"
          ],
          [
           "southwest"
          ],
          [
           "southwest"
          ],
          [
           "northeast"
          ],
          [
           "northwest"
          ],
          [
           "southeast"
          ],
          [
           "northeast"
          ],
          [
           "northwest"
          ],
          [
           "southeast"
          ],
          [
           "northeast"
          ],
          [
           "southeast"
          ],
          [
           "southwest"
          ],
          [
           "southwest"
          ],
          [
           "northwest"
          ],
          [
           "southeast"
          ],
          [
           "southwest"
          ],
          [
           "southeast"
          ],
          [
           "northwest"
          ],
          [
           "southeast"
          ],
          [
           "northwest"
          ],
          [
           "southwest"
          ],
          [
           "southeast"
          ],
          [
           "northwest"
          ],
          [
           "northeast"
          ],
          [
           "northwest"
          ],
          [
           "southeast"
          ],
          [
           "northwest"
          ],
          [
           "southeast"
          ],
          [
           "southwest"
          ],
          [
           "northeast"
          ],
          [
           "southeast"
          ],
          [
           "northeast"
          ],
          [
           "southwest"
          ],
          [
           "northeast"
          ],
          [
           "southwest"
          ],
          [
           "northwest"
          ],
          [
           "northwest"
          ],
          [
           "southeast"
          ],
          [
           "southwest"
          ],
          [
           "southwest"
          ],
          [
           "northwest"
          ],
          [
           "southeast"
          ],
          [
           "southeast"
          ],
          [
           "southeast"
          ],
          [
           "southwest"
          ],
          [
           "northeast"
          ],
          [
           "southwest"
          ],
          [
           "southwest"
          ],
          [
           "southeast"
          ],
          [
           "southeast"
          ],
          [
           "southeast"
          ],
          [
           "southeast"
          ],
          [
           "northeast"
          ],
          [
           "northeast"
          ],
          [
           "northwest"
          ],
          [
           "southeast"
          ],
          [
           "southwest"
          ],
          [
           "southwest"
          ],
          [
           "northwest"
          ],
          [
           "southeast"
          ],
          [
           "southeast"
          ],
          [
           "southeast"
          ],
          [
           "northwest"
          ],
          [
           "southeast"
          ],
          [
           "northeast"
          ],
          [
           "northeast"
          ],
          [
           "southwest"
          ],
          [
           "southwest"
          ],
          [
           "northeast"
          ],
          [
           "northwest"
          ],
          [
           "southeast"
          ],
          [
           "southeast"
          ],
          [
           "southwest"
          ],
          [
           "northeast"
          ],
          [
           "northeast"
          ],
          [
           "southwest"
          ],
          [
           "southeast"
          ],
          [
           "southwest"
          ],
          [
           "northeast"
          ],
          [
           "northeast"
          ],
          [
           "northwest"
          ],
          [
           "southeast"
          ],
          [
           "northwest"
          ],
          [
           "northwest"
          ],
          [
           "southwest"
          ],
          [
           "southeast"
          ],
          [
           "northeast"
          ],
          [
           "northwest"
          ],
          [
           "southeast"
          ],
          [
           "southeast"
          ],
          [
           "southeast"
          ],
          [
           "northeast"
          ],
          [
           "southwest"
          ],
          [
           "northeast"
          ],
          [
           "southeast"
          ],
          [
           "southwest"
          ],
          [
           "northwest"
          ],
          [
           "northeast"
          ],
          [
           "northwest"
          ],
          [
           "northeast"
          ],
          [
           "northwest"
          ],
          [
           "southwest"
          ],
          [
           "southeast"
          ],
          [
           "southeast"
          ],
          [
           "northeast"
          ],
          [
           "northeast"
          ],
          [
           "northeast"
          ],
          [
           "northeast"
          ],
          [
           "southwest"
          ],
          [
           "southeast"
          ],
          [
           "northeast"
          ],
          [
           "northwest"
          ],
          [
           "northeast"
          ],
          [
           "southeast"
          ],
          [
           "southwest"
          ],
          [
           "northeast"
          ],
          [
           "southeast"
          ],
          [
           "southeast"
          ],
          [
           "southwest"
          ],
          [
           "northeast"
          ],
          [
           "southwest"
          ],
          [
           "southeast"
          ],
          [
           "northwest"
          ],
          [
           "northwest"
          ],
          [
           "northeast"
          ],
          [
           "northeast"
          ],
          [
           "southeast"
          ],
          [
           "southeast"
          ],
          [
           "southwest"
          ],
          [
           "northwest"
          ],
          [
           "southwest"
          ],
          [
           "southeast"
          ],
          [
           "northeast"
          ],
          [
           "northwest"
          ],
          [
           "southwest"
          ],
          [
           "southwest"
          ],
          [
           "southeast"
          ],
          [
           "southeast"
          ],
          [
           "southwest"
          ],
          [
           "northeast"
          ],
          [
           "northwest"
          ],
          [
           "northeast"
          ],
          [
           "northwest"
          ],
          [
           "northeast"
          ],
          [
           "northwest"
          ],
          [
           "northeast"
          ],
          [
           "southwest"
          ],
          [
           "northeast"
          ],
          [
           "southwest"
          ],
          [
           "northeast"
          ],
          [
           "southeast"
          ],
          [
           "northwest"
          ],
          [
           "southwest"
          ],
          [
           "southwest"
          ],
          [
           "northeast"
          ],
          [
           "northwest"
          ],
          [
           "northwest"
          ],
          [
           "northeast"
          ],
          [
           "northeast"
          ],
          [
           "southwest"
          ],
          [
           "southeast"
          ],
          [
           "northwest"
          ],
          [
           "northeast"
          ],
          [
           "southeast"
          ],
          [
           "southwest"
          ],
          [
           "northwest"
          ],
          [
           "northeast"
          ],
          [
           "northeast"
          ],
          [
           "southeast"
          ],
          [
           "southeast"
          ],
          [
           "southeast"
          ],
          [
           "northeast"
          ],
          [
           "southeast"
          ],
          [
           "northwest"
          ],
          [
           "northwest"
          ],
          [
           "southwest"
          ],
          [
           "southwest"
          ],
          [
           "northeast"
          ],
          [
           "southeast"
          ],
          [
           "southwest"
          ],
          [
           "southeast"
          ],
          [
           "northwest"
          ],
          [
           "southeast"
          ],
          [
           "southeast"
          ],
          [
           "northeast"
          ],
          [
           "southwest"
          ],
          [
           "southwest"
          ],
          [
           "southwest"
          ],
          [
           "southeast"
          ],
          [
           "northeast"
          ],
          [
           "northeast"
          ],
          [
           "northwest"
          ],
          [
           "northwest"
          ],
          [
           "northeast"
          ],
          [
           "northwest"
          ],
          [
           "northeast"
          ],
          [
           "northeast"
          ],
          [
           "southwest"
          ],
          [
           "southeast"
          ],
          [
           "northwest"
          ],
          [
           "northeast"
          ],
          [
           "southeast"
          ],
          [
           "northwest"
          ],
          [
           "southeast"
          ],
          [
           "northeast"
          ],
          [
           "northeast"
          ],
          [
           "southeast"
          ],
          [
           "southeast"
          ],
          [
           "northeast"
          ],
          [
           "southwest"
          ],
          [
           "southeast"
          ],
          [
           "northwest"
          ],
          [
           "northwest"
          ],
          [
           "northwest"
          ],
          [
           "northeast"
          ],
          [
           "northwest"
          ],
          [
           "northeast"
          ],
          [
           "northeast"
          ],
          [
           "northeast"
          ],
          [
           "northwest"
          ],
          [
           "southwest"
          ],
          [
           "southeast"
          ],
          [
           "southwest"
          ],
          [
           "southeast"
          ],
          [
           "southwest"
          ],
          [
           "southeast"
          ],
          [
           "northwest"
          ],
          [
           "northwest"
          ],
          [
           "southwest"
          ],
          [
           "northeast"
          ],
          [
           "southeast"
          ],
          [
           "southwest"
          ],
          [
           "southeast"
          ],
          [
           "southeast"
          ],
          [
           "northwest"
          ],
          [
           "northeast"
          ],
          [
           "northeast"
          ],
          [
           "southwest"
          ],
          [
           "northwest"
          ],
          [
           "southeast"
          ],
          [
           "southeast"
          ],
          [
           "southwest"
          ],
          [
           "southeast"
          ],
          [
           "northwest"
          ],
          [
           "southeast"
          ],
          [
           "southeast"
          ],
          [
           "northeast"
          ],
          [
           "northeast"
          ],
          [
           "southwest"
          ],
          [
           "southeast"
          ],
          [
           "northeast"
          ],
          [
           "northeast"
          ],
          [
           "northeast"
          ],
          [
           "northwest"
          ],
          [
           "southwest"
          ],
          [
           "northwest"
          ],
          [
           "southwest"
          ],
          [
           "southwest"
          ],
          [
           "northwest"
          ],
          [
           "southeast"
          ],
          [
           "northeast"
          ],
          [
           "southwest"
          ],
          [
           "southeast"
          ],
          [
           "northeast"
          ],
          [
           "northwest"
          ],
          [
           "southwest"
          ],
          [
           "southeast"
          ],
          [
           "southeast"
          ],
          [
           "northwest"
          ],
          [
           "southwest"
          ],
          [
           "northeast"
          ],
          [
           "northwest"
          ],
          [
           "southwest"
          ],
          [
           "southwest"
          ],
          [
           "southwest"
          ],
          [
           "northwest"
          ],
          [
           "southwest"
          ],
          [
           "northwest"
          ],
          [
           "southeast"
          ],
          [
           "southwest"
          ],
          [
           "southeast"
          ],
          [
           "northwest"
          ],
          [
           "southwest"
          ],
          [
           "southeast"
          ],
          [
           "southeast"
          ],
          [
           "southwest"
          ],
          [
           "northeast"
          ],
          [
           "northeast"
          ],
          [
           "northwest"
          ],
          [
           "southeast"
          ],
          [
           "southwest"
          ],
          [
           "northwest"
          ],
          [
           "northeast"
          ],
          [
           "southeast"
          ],
          [
           "southeast"
          ],
          [
           "northeast"
          ],
          [
           "southwest"
          ],
          [
           "northeast"
          ],
          [
           "southwest"
          ],
          [
           "northwest"
          ],
          [
           "northeast"
          ],
          [
           "northwest"
          ],
          [
           "southeast"
          ],
          [
           "southeast"
          ],
          [
           "northwest"
          ],
          [
           "southeast"
          ],
          [
           "southeast"
          ],
          [
           "southwest"
          ],
          [
           "southwest"
          ],
          [
           "northeast"
          ],
          [
           "northwest"
          ],
          [
           "southwest"
          ],
          [
           "southeast"
          ],
          [
           "northwest"
          ],
          [
           "southwest"
          ],
          [
           "southeast"
          ],
          [
           "northeast"
          ],
          [
           "southwest"
          ],
          [
           "southwest"
          ],
          [
           "northeast"
          ],
          [
           "southwest"
          ],
          [
           "southwest"
          ],
          [
           "southeast"
          ],
          [
           "southwest"
          ],
          [
           "southwest"
          ],
          [
           "northeast"
          ],
          [
           "southeast"
          ],
          [
           "southeast"
          ],
          [
           "southeast"
          ],
          [
           "northwest"
          ],
          [
           "northwest"
          ],
          [
           "northwest"
          ],
          [
           "northeast"
          ],
          [
           "southwest"
          ],
          [
           "northeast"
          ],
          [
           "southeast"
          ],
          [
           "northeast"
          ],
          [
           "southwest"
          ],
          [
           "southwest"
          ],
          [
           "southwest"
          ],
          [
           "southeast"
          ],
          [
           "northwest"
          ],
          [
           "southwest"
          ],
          [
           "northeast"
          ],
          [
           "northeast"
          ],
          [
           "southeast"
          ],
          [
           "northeast"
          ],
          [
           "southeast"
          ],
          [
           "southeast"
          ],
          [
           "southeast"
          ],
          [
           "northwest"
          ],
          [
           "southwest"
          ],
          [
           "northeast"
          ],
          [
           "northeast"
          ],
          [
           "southeast"
          ],
          [
           "northeast"
          ],
          [
           "southeast"
          ],
          [
           "southeast"
          ],
          [
           "southeast"
          ],
          [
           "northeast"
          ],
          [
           "southwest"
          ],
          [
           "southwest"
          ],
          [
           "southeast"
          ],
          [
           "southeast"
          ],
          [
           "southwest"
          ],
          [
           "southeast"
          ],
          [
           "southeast"
          ],
          [
           "southeast"
          ],
          [
           "northwest"
          ],
          [
           "northwest"
          ],
          [
           "northeast"
          ],
          [
           "southwest"
          ],
          [
           "northeast"
          ],
          [
           "southeast"
          ],
          [
           "southwest"
          ],
          [
           "southeast"
          ],
          [
           "southwest"
          ],
          [
           "northwest"
          ],
          [
           "northeast"
          ],
          [
           "southwest"
          ],
          [
           "northeast"
          ],
          [
           "southeast"
          ],
          [
           "northwest"
          ],
          [
           "northwest"
          ],
          [
           "northwest"
          ],
          [
           "northeast"
          ],
          [
           "southwest"
          ],
          [
           "southeast"
          ],
          [
           "southeast"
          ],
          [
           "northwest"
          ],
          [
           "northwest"
          ],
          [
           "northwest"
          ],
          [
           "southwest"
          ],
          [
           "northwest"
          ],
          [
           "southwest"
          ],
          [
           "southeast"
          ],
          [
           "southeast"
          ],
          [
           "northeast"
          ],
          [
           "northeast"
          ],
          [
           "northwest"
          ],
          [
           "southeast"
          ],
          [
           "northeast"
          ],
          [
           "southwest"
          ],
          [
           "northeast"
          ],
          [
           "northeast"
          ],
          [
           "northwest"
          ],
          [
           "southeast"
          ],
          [
           "southeast"
          ],
          [
           "southwest"
          ],
          [
           "southeast"
          ],
          [
           "northeast"
          ],
          [
           "northwest"
          ],
          [
           "northeast"
          ],
          [
           "southeast"
          ],
          [
           "southwest"
          ],
          [
           "northwest"
          ],
          [
           "southeast"
          ],
          [
           "northeast"
          ],
          [
           "southeast"
          ],
          [
           "northeast"
          ],
          [
           "southeast"
          ],
          [
           "northeast"
          ],
          [
           "southwest"
          ],
          [
           "northwest"
          ],
          [
           "southeast"
          ],
          [
           "northwest"
          ],
          [
           "southwest"
          ],
          [
           "southeast"
          ],
          [
           "northwest"
          ],
          [
           "southeast"
          ],
          [
           "northeast"
          ],
          [
           "northwest"
          ],
          [
           "northeast"
          ],
          [
           "southwest"
          ],
          [
           "southeast"
          ],
          [
           "southwest"
          ],
          [
           "northeast"
          ],
          [
           "northeast"
          ],
          [
           "southeast"
          ],
          [
           "southeast"
          ],
          [
           "northeast"
          ],
          [
           "southwest"
          ],
          [
           "southeast"
          ],
          [
           "southwest"
          ],
          [
           "southwest"
          ],
          [
           "southwest"
          ],
          [
           "southwest"
          ],
          [
           "northeast"
          ],
          [
           "northwest"
          ],
          [
           "northwest"
          ],
          [
           "northeast"
          ],
          [
           "southeast"
          ],
          [
           "southwest"
          ],
          [
           "northwest"
          ],
          [
           "southwest"
          ],
          [
           "southwest"
          ],
          [
           "southeast"
          ],
          [
           "northeast"
          ],
          [
           "southwest"
          ],
          [
           "northeast"
          ],
          [
           "northwest"
          ],
          [
           "northeast"
          ],
          [
           "northeast"
          ],
          [
           "southeast"
          ],
          [
           "southwest"
          ],
          [
           "northwest"
          ],
          [
           "northeast"
          ],
          [
           "northwest"
          ],
          [
           "southeast"
          ],
          [
           "northeast"
          ],
          [
           "northwest"
          ],
          [
           "northeast"
          ],
          [
           "northeast"
          ],
          [
           "northeast"
          ],
          [
           "southeast"
          ],
          [
           "southeast"
          ],
          [
           "southeast"
          ],
          [
           "southeast"
          ],
          [
           "southeast"
          ],
          [
           "southeast"
          ],
          [
           "southwest"
          ],
          [
           "northwest"
          ],
          [
           "northeast"
          ],
          [
           "northeast"
          ],
          [
           "southeast"
          ],
          [
           "southeast"
          ],
          [
           "northeast"
          ],
          [
           "southeast"
          ],
          [
           "southeast"
          ],
          [
           "southeast"
          ],
          [
           "southwest"
          ],
          [
           "northwest"
          ],
          [
           "northeast"
          ],
          [
           "southeast"
          ],
          [
           "southeast"
          ],
          [
           "northeast"
          ],
          [
           "southeast"
          ],
          [
           "southeast"
          ],
          [
           "southeast"
          ],
          [
           "northwest"
          ],
          [
           "southeast"
          ],
          [
           "northwest"
          ],
          [
           "southwest"
          ],
          [
           "northwest"
          ],
          [
           "southwest"
          ],
          [
           "southwest"
          ],
          [
           "southwest"
          ],
          [
           "northwest"
          ],
          [
           "southwest"
          ],
          [
           "northeast"
          ],
          [
           "northeast"
          ],
          [
           "southeast"
          ],
          [
           "southwest"
          ],
          [
           "southeast"
          ],
          [
           "northeast"
          ],
          [
           "southwest"
          ],
          [
           "northwest"
          ],
          [
           "northwest"
          ],
          [
           "southwest"
          ],
          [
           "northwest"
          ],
          [
           "northeast"
          ],
          [
           "southeast"
          ],
          [
           "northwest"
          ],
          [
           "southeast"
          ],
          [
           "southeast"
          ],
          [
           "northeast"
          ],
          [
           "southeast"
          ],
          [
           "northwest"
          ],
          [
           "northwest"
          ],
          [
           "southwest"
          ],
          [
           "southeast"
          ],
          [
           "northwest"
          ],
          [
           "northeast"
          ],
          [
           "northeast"
          ],
          [
           "southeast"
          ],
          [
           "southeast"
          ],
          [
           "northwest"
          ],
          [
           "northeast"
          ],
          [
           "southwest"
          ],
          [
           "southwest"
          ],
          [
           "northwest"
          ],
          [
           "northwest"
          ],
          [
           "northwest"
          ],
          [
           "northwest"
          ],
          [
           "northeast"
          ],
          [
           "southwest"
          ],
          [
           "southwest"
          ],
          [
           "southwest"
          ],
          [
           "northeast"
          ],
          [
           "southeast"
          ],
          [
           "northwest"
          ],
          [
           "northeast"
          ],
          [
           "northeast"
          ],
          [
           "southeast"
          ],
          [
           "southeast"
          ],
          [
           "southwest"
          ],
          [
           "southwest"
          ],
          [
           "northeast"
          ],
          [
           "southwest"
          ],
          [
           "northwest"
          ],
          [
           "southeast"
          ],
          [
           "southwest"
          ],
          [
           "northeast"
          ],
          [
           "southwest"
          ],
          [
           "northeast"
          ],
          [
           "southeast"
          ],
          [
           "northeast"
          ],
          [
           "southeast"
          ],
          [
           "northwest"
          ],
          [
           "northwest"
          ],
          [
           "southwest"
          ],
          [
           "northwest"
          ],
          [
           "southwest"
          ],
          [
           "northwest"
          ],
          [
           "southeast"
          ],
          [
           "northwest"
          ],
          [
           "northwest"
          ],
          [
           "southeast"
          ],
          [
           "northeast"
          ],
          [
           "northeast"
          ],
          [
           "northeast"
          ],
          [
           "southeast"
          ],
          [
           "northeast"
          ],
          [
           "southeast"
          ],
          [
           "northeast"
          ],
          [
           "southwest"
          ],
          [
           "southwest"
          ],
          [
           "northeast"
          ],
          [
           "northeast"
          ],
          [
           "northwest"
          ],
          [
           "southwest"
          ],
          [
           "southwest"
          ],
          [
           "southwest"
          ],
          [
           "northwest"
          ],
          [
           "southwest"
          ],
          [
           "southwest"
          ],
          [
           "northeast"
          ],
          [
           "northwest"
          ],
          [
           "northwest"
          ],
          [
           "southeast"
          ],
          [
           "northwest"
          ],
          [
           "northeast"
          ],
          [
           "southeast"
          ],
          [
           "northwest"
          ],
          [
           "southwest"
          ],
          [
           "southeast"
          ],
          [
           "southeast"
          ],
          [
           "southwest"
          ],
          [
           "southeast"
          ],
          [
           "southwest"
          ],
          [
           "northeast"
          ],
          [
           "northwest"
          ],
          [
           "northeast"
          ],
          [
           "southeast"
          ],
          [
           "southeast"
          ],
          [
           "southwest"
          ],
          [
           "northeast"
          ],
          [
           "southeast"
          ],
          [
           "northwest"
          ],
          [
           "northwest"
          ],
          [
           "southeast"
          ],
          [
           "northeast"
          ],
          [
           "southwest"
          ],
          [
           "northeast"
          ],
          [
           "southeast"
          ],
          [
           "southeast"
          ],
          [
           "southwest"
          ],
          [
           "southeast"
          ],
          [
           "southeast"
          ],
          [
           "northwest"
          ],
          [
           "northwest"
          ],
          [
           "northwest"
          ],
          [
           "southeast"
          ],
          [
           "northeast"
          ],
          [
           "southwest"
          ],
          [
           "northwest"
          ],
          [
           "southeast"
          ],
          [
           "northeast"
          ],
          [
           "southeast"
          ],
          [
           "southeast"
          ],
          [
           "northwest"
          ],
          [
           "southwest"
          ],
          [
           "northeast"
          ],
          [
           "northwest"
          ],
          [
           "southwest"
          ],
          [
           "northwest"
          ],
          [
           "southeast"
          ],
          [
           "southeast"
          ],
          [
           "northwest"
          ],
          [
           "northeast"
          ],
          [
           "southeast"
          ],
          [
           "northeast"
          ],
          [
           "northeast"
          ],
          [
           "northwest"
          ],
          [
           "southwest"
          ],
          [
           "northwest"
          ],
          [
           "northwest"
          ],
          [
           "northwest"
          ],
          [
           "northwest"
          ],
          [
           "southeast"
          ],
          [
           "southwest"
          ],
          [
           "northeast"
          ],
          [
           "northeast"
          ],
          [
           "northwest"
          ],
          [
           "southwest"
          ],
          [
           "northeast"
          ],
          [
           "southeast"
          ],
          [
           "southeast"
          ],
          [
           "northeast"
          ],
          [
           "southeast"
          ],
          [
           "southwest"
          ],
          [
           "southeast"
          ],
          [
           "southwest"
          ],
          [
           "northwest"
          ],
          [
           "northeast"
          ],
          [
           "northwest"
          ],
          [
           "northeast"
          ],
          [
           "northeast"
          ],
          [
           "northeast"
          ],
          [
           "southwest"
          ],
          [
           "southeast"
          ],
          [
           "northwest"
          ],
          [
           "southeast"
          ],
          [
           "southwest"
          ],
          [
           "southwest"
          ],
          [
           "southwest"
          ],
          [
           "northwest"
          ],
          [
           "northeast"
          ],
          [
           "southwest"
          ],
          [
           "southwest"
          ],
          [
           "southeast"
          ],
          [
           "southwest"
          ],
          [
           "northeast"
          ],
          [
           "southwest"
          ],
          [
           "southwest"
          ],
          [
           "southeast"
          ],
          [
           "southeast"
          ],
          [
           "southwest"
          ],
          [
           "northeast"
          ],
          [
           "northwest"
          ],
          [
           "southwest"
          ],
          [
           "southeast"
          ],
          [
           "southwest"
          ],
          [
           "southwest"
          ],
          [
           "southwest"
          ],
          [
           "northwest"
          ],
          [
           "northeast"
          ],
          [
           "northeast"
          ],
          [
           "northwest"
          ],
          [
           "southeast"
          ],
          [
           "northeast"
          ],
          [
           "northwest"
          ],
          [
           "southwest"
          ],
          [
           "northwest"
          ],
          [
           "northwest"
          ],
          [
           "southeast"
          ],
          [
           "northeast"
          ],
          [
           "southeast"
          ],
          [
           "northeast"
          ],
          [
           "southwest"
          ],
          [
           "northeast"
          ],
          [
           "northwest"
          ],
          [
           "southeast"
          ],
          [
           "northwest"
          ],
          [
           "northeast"
          ],
          [
           "southeast"
          ],
          [
           "northeast"
          ],
          [
           "southeast"
          ],
          [
           "southwest"
          ],
          [
           "northeast"
          ],
          [
           "northeast"
          ],
          [
           "southeast"
          ],
          [
           "southwest"
          ],
          [
           "southwest"
          ],
          [
           "northwest"
          ],
          [
           "northeast"
          ],
          [
           "northwest"
          ],
          [
           "southwest"
          ],
          [
           "northwest"
          ],
          [
           "southeast"
          ],
          [
           "northwest"
          ],
          [
           "northeast"
          ],
          [
           "southwest"
          ],
          [
           "southeast"
          ],
          [
           "southwest"
          ],
          [
           "southwest"
          ],
          [
           "southwest"
          ],
          [
           "northwest"
          ],
          [
           "southwest"
          ],
          [
           "northeast"
          ],
          [
           "southwest"
          ],
          [
           "southwest"
          ],
          [
           "southeast"
          ],
          [
           "southeast"
          ],
          [
           "southeast"
          ],
          [
           "southwest"
          ],
          [
           "southwest"
          ],
          [
           "southwest"
          ],
          [
           "southeast"
          ],
          [
           "southwest"
          ],
          [
           "northeast"
          ],
          [
           "northwest"
          ],
          [
           "southeast"
          ],
          [
           "southeast"
          ],
          [
           "southeast"
          ],
          [
           "southeast"
          ],
          [
           "northeast"
          ],
          [
           "northwest"
          ],
          [
           "southeast"
          ],
          [
           "southwest"
          ],
          [
           "southwest"
          ],
          [
           "northeast"
          ],
          [
           "northwest"
          ],
          [
           "southwest"
          ],
          [
           "northeast"
          ],
          [
           "southeast"
          ],
          [
           "northwest"
          ],
          [
           "southwest"
          ],
          [
           "northwest"
          ],
          [
           "southeast"
          ],
          [
           "southeast"
          ],
          [
           "northwest"
          ],
          [
           "northeast"
          ],
          [
           "northwest"
          ],
          [
           "northwest"
          ],
          [
           "southwest"
          ],
          [
           "southeast"
          ],
          [
           "northeast"
          ],
          [
           "northwest"
          ],
          [
           "southwest"
          ],
          [
           "northwest"
          ],
          [
           "northwest"
          ],
          [
           "northeast"
          ],
          [
           "southeast"
          ],
          [
           "southeast"
          ],
          [
           "northeast"
          ],
          [
           "northwest"
          ],
          [
           "southwest"
          ],
          [
           "southeast"
          ],
          [
           "northeast"
          ],
          [
           "southeast"
          ],
          [
           "southeast"
          ],
          [
           "northeast"
          ],
          [
           "southeast"
          ],
          [
           "northeast"
          ],
          [
           "northeast"
          ],
          [
           "southwest"
          ],
          [
           "northeast"
          ],
          [
           "northeast"
          ],
          [
           "southwest"
          ],
          [
           "northwest"
          ],
          [
           "northwest"
          ],
          [
           "northeast"
          ],
          [
           "northeast"
          ],
          [
           "southwest"
          ],
          [
           "northeast"
          ],
          [
           "southwest"
          ],
          [
           "southeast"
          ],
          [
           "northwest"
          ],
          [
           "northeast"
          ],
          [
           "southwest"
          ],
          [
           "southeast"
          ],
          [
           "northeast"
          ],
          [
           "northwest"
          ],
          [
           "northwest"
          ],
          [
           "southwest"
          ],
          [
           "southwest"
          ],
          [
           "southwest"
          ],
          [
           "northeast"
          ],
          [
           "northwest"
          ],
          [
           "northeast"
          ],
          [
           "northwest"
          ],
          [
           "northeast"
          ],
          [
           "northeast"
          ],
          [
           "southwest"
          ],
          [
           "southeast"
          ],
          [
           "southeast"
          ],
          [
           "northwest"
          ],
          [
           "southwest"
          ],
          [
           "northwest"
          ],
          [
           "northwest"
          ],
          [
           "southwest"
          ],
          [
           "northwest"
          ],
          [
           "northwest"
          ],
          [
           "southwest"
          ],
          [
           "southeast"
          ],
          [
           "southeast"
          ],
          [
           "southeast"
          ],
          [
           "southeast"
          ],
          [
           "southwest"
          ],
          [
           "northwest"
          ],
          [
           "northwest"
          ],
          [
           "southwest"
          ],
          [
           "northeast"
          ],
          [
           "northwest"
          ],
          [
           "southeast"
          ],
          [
           "northeast"
          ],
          [
           "northeast"
          ],
          [
           "northwest"
          ],
          [
           "southwest"
          ],
          [
           "southeast"
          ],
          [
           "northwest"
          ],
          [
           "northeast"
          ],
          [
           "northwest"
          ],
          [
           "northwest"
          ],
          [
           "northeast"
          ],
          [
           "northeast"
          ],
          [
           "southwest"
          ],
          [
           "northeast"
          ],
          [
           "northwest"
          ],
          [
           "northeast"
          ],
          [
           "southeast"
          ],
          [
           "northwest"
          ],
          [
           "southwest"
          ],
          [
           "northwest"
          ],
          [
           "northeast"
          ],
          [
           "northeast"
          ],
          [
           "southwest"
          ],
          [
           "northwest"
          ],
          [
           "northwest"
          ],
          [
           "southwest"
          ],
          [
           "southeast"
          ],
          [
           "southeast"
          ],
          [
           "northwest"
          ],
          [
           "southeast"
          ],
          [
           "southeast"
          ],
          [
           "southeast"
          ],
          [
           "northwest"
          ],
          [
           "southwest"
          ],
          [
           "southwest"
          ],
          [
           "southeast"
          ],
          [
           "northeast"
          ],
          [
           "northwest"
          ],
          [
           "southeast"
          ],
          [
           "southeast"
          ],
          [
           "northeast"
          ],
          [
           "northwest"
          ],
          [
           "northeast"
          ],
          [
           "northeast"
          ],
          [
           "southeast"
          ],
          [
           "southwest"
          ],
          [
           "northeast"
          ],
          [
           "southeast"
          ],
          [
           "southeast"
          ],
          [
           "southeast"
          ],
          [
           "northwest"
          ],
          [
           "northwest"
          ],
          [
           "southwest"
          ],
          [
           "northwest"
          ],
          [
           "southwest"
          ],
          [
           "northeast"
          ],
          [
           "northwest"
          ],
          [
           "southeast"
          ],
          [
           "southwest"
          ],
          [
           "southeast"
          ],
          [
           "northeast"
          ],
          [
           "southwest"
          ],
          [
           "northwest"
          ],
          [
           "southwest"
          ],
          [
           "northeast"
          ],
          [
           "northeast"
          ],
          [
           "southeast"
          ],
          [
           "northeast"
          ],
          [
           "southeast"
          ],
          [
           "northeast"
          ],
          [
           "southwest"
          ],
          [
           "southeast"
          ],
          [
           "southeast"
          ],
          [
           "southwest"
          ],
          [
           "southeast"
          ],
          [
           "northwest"
          ],
          [
           "northwest"
          ],
          [
           "southwest"
          ],
          [
           "southeast"
          ],
          [
           "northeast"
          ],
          [
           "southeast"
          ],
          [
           "southeast"
          ],
          [
           "northwest"
          ],
          [
           "northeast"
          ],
          [
           "southeast"
          ],
          [
           "northeast"
          ],
          [
           "southeast"
          ],
          [
           "southeast"
          ],
          [
           "northwest"
          ],
          [
           "southwest"
          ],
          [
           "southeast"
          ],
          [
           "northwest"
          ],
          [
           "northeast"
          ],
          [
           "northeast"
          ],
          [
           "northwest"
          ],
          [
           "southwest"
          ],
          [
           "southeast"
          ],
          [
           "southwest"
          ],
          [
           "southwest"
          ],
          [
           "southeast"
          ],
          [
           "southwest"
          ],
          [
           "northeast"
          ],
          [
           "northwest"
          ],
          [
           "northwest"
          ],
          [
           "northwest"
          ],
          [
           "southwest"
          ],
          [
           "northwest"
          ],
          [
           "southeast"
          ],
          [
           "northwest"
          ],
          [
           "southeast"
          ],
          [
           "southwest"
          ],
          [
           "southeast"
          ],
          [
           "southeast"
          ],
          [
           "southwest"
          ],
          [
           "northwest"
          ],
          [
           "southwest"
          ],
          [
           "northwest"
          ],
          [
           "southwest"
          ],
          [
           "southwest"
          ],
          [
           "northeast"
          ],
          [
           "northwest"
          ],
          [
           "southeast"
          ],
          [
           "northwest"
          ],
          [
           "northwest"
          ],
          [
           "northeast"
          ],
          [
           "southeast"
          ],
          [
           "northwest"
          ],
          [
           "northeast"
          ],
          [
           "southwest"
          ],
          [
           "northwest"
          ],
          [
           "southeast"
          ],
          [
           "southeast"
          ],
          [
           "northeast"
          ],
          [
           "northwest"
          ],
          [
           "northeast"
          ],
          [
           "southeast"
          ],
          [
           "southwest"
          ],
          [
           "southwest"
          ],
          [
           "northwest"
          ],
          [
           "northeast"
          ],
          [
           "southwest"
          ],
          [
           "southeast"
          ],
          [
           "northwest"
          ],
          [
           "northwest"
          ],
          [
           "southwest"
          ],
          [
           "northwest"
          ],
          [
           "southwest"
          ],
          [
           "northeast"
          ],
          [
           "southeast"
          ],
          [
           "northeast"
          ],
          [
           "northwest"
          ],
          [
           "southwest"
          ],
          [
           "northeast"
          ],
          [
           "southeast"
          ],
          [
           "northeast"
          ],
          [
           "northwest"
          ],
          [
           "northwest"
          ],
          [
           "northeast"
          ],
          [
           "southwest"
          ],
          [
           "northwest"
          ],
          [
           "northeast"
          ],
          [
           "northeast"
          ],
          [
           "northwest"
          ],
          [
           "northwest"
          ],
          [
           "northwest"
          ],
          [
           "northwest"
          ],
          [
           "southeast"
          ],
          [
           "northwest"
          ],
          [
           "southwest"
          ],
          [
           "northwest"
          ],
          [
           "northwest"
          ],
          [
           "northwest"
          ],
          [
           "northeast"
          ],
          [
           "southeast"
          ],
          [
           "northwest"
          ],
          [
           "southwest"
          ],
          [
           "southwest"
          ],
          [
           "northeast"
          ],
          [
           "southwest"
          ],
          [
           "northwest"
          ],
          [
           "southeast"
          ],
          [
           "northeast"
          ],
          [
           "southwest"
          ],
          [
           "northwest"
          ],
          [
           "northeast"
          ],
          [
           "southeast"
          ],
          [
           "southeast"
          ],
          [
           "southwest"
          ],
          [
           "northwest"
          ],
          [
           "northeast"
          ],
          [
           "southeast"
          ],
          [
           "southeast"
          ],
          [
           "southeast"
          ],
          [
           "northeast"
          ],
          [
           "southeast"
          ],
          [
           "northeast"
          ],
          [
           "southeast"
          ],
          [
           "southeast"
          ],
          [
           "northeast"
          ],
          [
           "northwest"
          ],
          [
           "southwest"
          ],
          [
           "northwest"
          ],
          [
           "southwest"
          ],
          [
           "southeast"
          ],
          [
           "northwest"
          ],
          [
           "northeast"
          ],
          [
           "northwest"
          ],
          [
           "northeast"
          ],
          [
           "southeast"
          ],
          [
           "southeast"
          ],
          [
           "southeast"
          ],
          [
           "northwest"
          ],
          [
           "southeast"
          ],
          [
           "southeast"
          ],
          [
           "southwest"
          ],
          [
           "southwest"
          ],
          [
           "southwest"
          ],
          [
           "southeast"
          ],
          [
           "northeast"
          ],
          [
           "northeast"
          ],
          [
           "southwest"
          ],
          [
           "southwest"
          ],
          [
           "southwest"
          ],
          [
           "southeast"
          ],
          [
           "southwest"
          ],
          [
           "northwest"
          ],
          [
           "northwest"
          ],
          [
           "northwest"
          ],
          [
           "northeast"
          ],
          [
           "northeast"
          ],
          [
           "southwest"
          ],
          [
           "southeast"
          ],
          [
           "southwest"
          ],
          [
           "northeast"
          ],
          [
           "southeast"
          ],
          [
           "southwest"
          ],
          [
           "northeast"
          ],
          [
           "southwest"
          ],
          [
           "southwest"
          ],
          [
           "northwest"
          ],
          [
           "northwest"
          ],
          [
           "southeast"
          ],
          [
           "southeast"
          ],
          [
           "southeast"
          ],
          [
           "southwest"
          ],
          [
           "northeast"
          ],
          [
           "northwest"
          ],
          [
           "northeast"
          ],
          [
           "northwest"
          ],
          [
           "southeast"
          ],
          [
           "northwest"
          ],
          [
           "northeast"
          ],
          [
           "southeast"
          ],
          [
           "southwest"
          ],
          [
           "northeast"
          ],
          [
           "northeast"
          ],
          [
           "southwest"
          ],
          [
           "southwest"
          ],
          [
           "southeast"
          ],
          [
           "northeast"
          ],
          [
           "southwest"
          ],
          [
           "southeast"
          ],
          [
           "northwest"
          ],
          [
           "northeast"
          ],
          [
           "southwest"
          ],
          [
           "northeast"
          ],
          [
           "southeast"
          ],
          [
           "northwest"
          ],
          [
           "northwest"
          ],
          [
           "southeast"
          ],
          [
           "northwest"
          ],
          [
           "southwest"
          ],
          [
           "southwest"
          ],
          [
           "northeast"
          ],
          [
           "southeast"
          ],
          [
           "northeast"
          ],
          [
           "northwest"
          ],
          [
           "southwest"
          ],
          [
           "southwest"
          ],
          [
           "northwest"
          ],
          [
           "northwest"
          ],
          [
           "southwest"
          ],
          [
           "southwest"
          ],
          [
           "northwest"
          ],
          [
           "northeast"
          ],
          [
           "southwest"
          ],
          [
           "southeast"
          ],
          [
           "northeast"
          ],
          [
           "northwest"
          ],
          [
           "northwest"
          ],
          [
           "northeast"
          ],
          [
           "southeast"
          ],
          [
           "southeast"
          ],
          [
           "northwest"
          ],
          [
           "northeast"
          ],
          [
           "northeast"
          ],
          [
           "southeast"
          ],
          [
           "northeast"
          ],
          [
           "southwest"
          ],
          [
           "southeast"
          ],
          [
           "southwest"
          ],
          [
           "southwest"
          ],
          [
           "northwest"
          ],
          [
           "northeast"
          ],
          [
           "southeast"
          ],
          [
           "southwest"
          ],
          [
           "northwest"
          ]
         ],
         "hovertemplate": "charges=%{z}<br>latitude=%{lat}<br>longitude=%{lon}<br>region=%{customdata[0]}<extra></extra>",
         "lat": [
          32,
          32,
          32,
          47,
          47,
          32,
          32,
          47,
          43,
          47,
          43,
          32,
          32,
          32,
          32,
          32,
          43,
          43,
          32,
          32,
          43,
          32,
          32,
          43,
          47,
          32,
          43,
          47,
          47,
          32,
          32,
          43,
          32,
          47,
          32,
          47,
          47,
          32,
          43,
          32,
          43,
          32,
          32,
          32,
          43,
          32,
          43,
          47,
          32,
          32,
          43,
          47,
          32,
          32,
          47,
          47,
          43,
          32,
          32,
          47,
          43,
          32,
          47,
          47,
          47,
          32,
          32,
          47,
          32,
          32,
          32,
          43,
          32,
          32,
          32,
          47,
          32,
          32,
          43,
          47,
          43,
          43,
          32,
          47,
          32,
          47,
          47,
          32,
          47,
          47,
          32,
          47,
          43,
          47,
          32,
          32,
          32,
          32,
          43,
          32,
          32,
          43,
          43,
          32,
          32,
          47,
          32,
          47,
          32,
          32,
          47,
          32,
          32,
          47,
          43,
          43,
          32,
          32,
          32,
          47,
          32,
          43,
          47,
          43,
          47,
          43,
          32,
          32,
          47,
          32,
          43,
          43,
          32,
          47,
          43,
          32,
          32,
          47,
          32,
          32,
          43,
          43,
          32,
          47,
          47,
          32,
          47,
          32,
          47,
          32,
          47,
          32,
          43,
          43,
          43,
          47,
          32,
          43,
          32,
          32,
          47,
          32,
          32,
          32,
          47,
          43,
          32,
          47,
          47,
          43,
          32,
          32,
          43,
          32,
          47,
          32,
          47,
          32,
          32,
          43,
          47,
          32,
          43,
          47,
          32,
          43,
          32,
          32,
          32,
          47,
          32,
          32,
          32,
          47,
          32,
          47,
          32,
          32,
          47,
          43,
          47,
          32,
          47,
          32,
          32,
          43,
          32,
          43,
          32,
          43,
          32,
          47,
          47,
          32,
          32,
          32,
          47,
          32,
          32,
          32,
          32,
          43,
          32,
          32,
          32,
          32,
          32,
          32,
          43,
          43,
          47,
          32,
          32,
          32,
          47,
          32,
          32,
          32,
          47,
          32,
          43,
          43,
          32,
          32,
          43,
          47,
          32,
          32,
          32,
          43,
          43,
          32,
          32,
          32,
          43,
          43,
          47,
          32,
          47,
          47,
          32,
          32,
          43,
          47,
          32,
          32,
          32,
          43,
          32,
          43,
          32,
          32,
          47,
          43,
          47,
          43,
          47,
          32,
          32,
          32,
          43,
          43,
          43,
          43,
          32,
          32,
          43,
          47,
          43,
          32,
          32,
          43,
          32,
          32,
          32,
          43,
          32,
          32,
          47,
          47,
          43,
          43,
          32,
          32,
          32,
          47,
          32,
          32,
          43,
          47,
          32,
          32,
          32,
          32,
          32,
          43,
          47,
          43,
          47,
          43,
          47,
          43,
          32,
          43,
          32,
          43,
          32,
          47,
          32,
          32,
          43,
          47,
          47,
          43,
          43,
          32,
          32,
          47,
          43,
          32,
          32,
          47,
          43,
          43,
          32,
          32,
          32,
          43,
          32,
          47,
          47,
          32,
          32,
          43,
          32,
          32,
          32,
          47,
          32,
          32,
          43,
          32,
          32,
          32,
          32,
          43,
          43,
          47,
          47,
          43,
          47,
          43,
          43,
          32,
          32,
          47,
          43,
          32,
          47,
          32,
          43,
          43,
          32,
          32,
          43,
          32,
          32,
          47,
          47,
          47,
          43,
          47,
          43,
          43,
          43,
          47,
          32,
          32,
          32,
          32,
          32,
          32,
          47,
          47,
          32,
          43,
          32,
          32,
          32,
          32,
          47,
          43,
          43,
          32,
          47,
          32,
          32,
          32,
          32,
          47,
          32,
          32,
          43,
          43,
          32,
          32,
          43,
          43,
          43,
          47,
          32,
          47,
          32,
          32,
          47,
          32,
          43,
          32,
          32,
          43,
          47,
          32,
          32,
          32,
          47,
          32,
          43,
          47,
          32,
          32,
          32,
          47,
          32,
          47,
          32,
          32,
          32,
          47,
          32,
          32,
          32,
          32,
          43,
          43,
          47,
          32,
          32,
          47,
          43,
          32,
          32,
          43,
          32,
          43,
          32,
          47,
          43,
          47,
          32,
          32,
          47,
          32,
          32,
          32,
          32,
          43,
          47,
          32,
          32,
          47,
          32,
          32,
          43,
          32,
          32,
          43,
          32,
          32,
          32,
          32,
          32,
          43,
          32,
          32,
          32,
          47,
          47,
          47,
          43,
          32,
          43,
          32,
          43,
          32,
          32,
          32,
          32,
          47,
          32,
          43,
          43,
          32,
          43,
          32,
          32,
          32,
          47,
          32,
          43,
          43,
          32,
          43,
          32,
          32,
          32,
          43,
          32,
          32,
          32,
          32,
          32,
          32,
          32,
          32,
          47,
          47,
          43,
          32,
          43,
          32,
          32,
          32,
          32,
          47,
          43,
          32,
          43,
          32,
          47,
          47,
          47,
          43,
          32,
          32,
          32,
          47,
          47,
          47,
          32,
          47,
          32,
          32,
          32,
          43,
          43,
          47,
          32,
          43,
          32,
          43,
          43,
          47,
          32,
          32,
          32,
          32,
          43,
          47,
          43,
          32,
          32,
          47,
          32,
          43,
          32,
          43,
          32,
          43,
          32,
          47,
          32,
          47,
          32,
          32,
          47,
          32,
          43,
          47,
          43,
          32,
          32,
          32,
          43,
          43,
          32,
          32,
          43,
          32,
          32,
          32,
          32,
          32,
          32,
          43,
          47,
          47,
          43,
          32,
          32,
          47,
          32,
          32,
          32,
          43,
          32,
          43,
          47,
          43,
          43,
          32,
          32,
          47,
          43,
          47,
          32,
          43,
          47,
          43,
          43,
          43,
          32,
          32,
          32,
          32,
          32,
          32,
          32,
          47,
          43,
          43,
          32,
          32,
          43,
          32,
          32,
          32,
          32,
          47,
          43,
          32,
          32,
          43,
          32,
          32,
          32,
          47,
          32,
          47,
          32,
          47,
          32,
          32,
          32,
          47,
          32,
          43,
          43,
          32,
          32,
          32,
          43,
          32,
          47,
          47,
          32,
          47,
          43,
          32,
          47,
          32,
          32,
          43,
          32,
          47,
          47,
          32,
          32,
          47,
          43,
          43,
          32,
          32,
          47,
          43,
          32,
          32,
          47,
          47,
          47,
          47,
          43,
          32,
          32,
          32,
          43,
          32,
          47,
          43,
          43,
          32,
          32,
          32,
          32,
          43,
          32,
          47,
          32,
          32,
          43,
          32,
          43,
          32,
          43,
          32,
          47,
          47,
          32,
          47,
          32,
          47,
          32,
          47,
          47,
          32,
          43,
          43,
          43,
          32,
          43,
          32,
          43,
          32,
          32,
          43,
          43,
          47,
          32,
          32,
          32,
          47,
          32,
          32,
          43,
          47,
          47,
          32,
          47,
          43,
          32,
          47,
          32,
          32,
          32,
          32,
          32,
          32,
          43,
          47,
          43,
          32,
          32,
          32,
          43,
          32,
          47,
          47,
          32,
          43,
          32,
          43,
          32,
          32,
          32,
          32,
          32,
          47,
          47,
          47,
          32,
          43,
          32,
          47,
          32,
          43,
          32,
          32,
          47,
          32,
          43,
          47,
          32,
          47,
          32,
          32,
          47,
          43,
          32,
          43,
          43,
          47,
          32,
          47,
          47,
          47,
          47,
          32,
          32,
          43,
          43,
          47,
          32,
          43,
          32,
          32,
          43,
          32,
          32,
          32,
          32,
          47,
          43,
          47,
          43,
          43,
          43,
          32,
          32,
          47,
          32,
          32,
          32,
          32,
          47,
          43,
          32,
          32,
          32,
          32,
          43,
          32,
          32,
          32,
          32,
          32,
          43,
          47,
          32,
          32,
          32,
          32,
          32,
          47,
          43,
          43,
          47,
          32,
          43,
          47,
          32,
          47,
          47,
          32,
          43,
          32,
          43,
          32,
          43,
          47,
          32,
          47,
          43,
          32,
          43,
          32,
          32,
          43,
          43,
          32,
          32,
          32,
          47,
          43,
          47,
          32,
          47,
          32,
          47,
          43,
          32,
          32,
          32,
          32,
          32,
          47,
          32,
          43,
          32,
          32,
          32,
          32,
          32,
          32,
          32,
          32,
          32,
          32,
          43,
          47,
          32,
          32,
          32,
          32,
          43,
          47,
          32,
          32,
          32,
          43,
          47,
          32,
          43,
          32,
          47,
          32,
          47,
          32,
          32,
          47,
          43,
          47,
          47,
          32,
          32,
          43,
          47,
          32,
          47,
          47,
          43,
          32,
          32,
          43,
          47,
          32,
          32,
          43,
          32,
          32,
          43,
          32,
          43,
          43,
          32,
          43,
          43,
          32,
          47,
          47,
          43,
          43,
          32,
          43,
          32,
          32,
          47,
          43,
          32,
          32,
          43,
          47,
          47,
          32,
          32,
          32,
          43,
          47,
          43,
          47,
          43,
          43,
          32,
          32,
          32,
          47,
          32,
          47,
          47,
          32,
          47,
          47,
          32,
          32,
          32,
          32,
          32,
          32,
          47,
          47,
          32,
          43,
          47,
          32,
          43,
          43,
          47,
          32,
          32,
          47,
          43,
          47,
          47,
          43,
          43,
          32,
          43,
          47,
          43,
          32,
          47,
          32,
          47,
          43,
          43,
          32,
          47,
          47,
          32,
          32,
          32,
          47,
          32,
          32,
          32,
          47,
          32,
          32,
          32,
          43,
          47,
          32,
          32,
          43,
          47,
          43,
          43,
          32,
          32,
          43,
          32,
          32,
          32,
          47,
          47,
          32,
          47,
          32,
          43,
          47,
          32,
          32,
          32,
          43,
          32,
          47,
          32,
          43,
          43,
          32,
          43,
          32,
          43,
          32,
          32,
          32,
          32,
          32,
          47,
          47,
          32,
          32,
          43,
          32,
          32,
          47,
          43,
          32,
          43,
          32,
          32,
          47,
          32,
          32,
          47,
          43,
          43,
          47,
          32,
          32,
          32,
          32,
          32,
          32,
          43,
          47,
          47,
          47,
          32,
          47,
          32,
          47,
          32,
          32,
          32,
          32,
          32,
          47,
          32,
          47,
          32,
          32,
          43,
          47,
          32,
          47,
          47,
          43,
          32,
          47,
          43,
          32,
          47,
          32,
          32,
          43,
          47,
          43,
          32,
          32,
          32,
          47,
          43,
          32,
          32,
          47,
          47,
          32,
          47,
          32,
          43,
          32,
          43,
          47,
          32,
          43,
          32,
          43,
          47,
          47,
          43,
          32,
          47,
          43,
          43,
          47,
          47,
          47,
          47,
          32,
          47,
          32,
          47,
          47,
          47,
          43,
          32,
          47,
          32,
          32,
          43,
          32,
          47,
          32,
          43,
          32,
          47,
          43,
          32,
          32,
          32,
          47,
          43,
          32,
          32,
          32,
          43,
          32,
          43,
          32,
          32,
          43,
          47,
          32,
          47,
          32,
          32,
          47,
          43,
          47,
          43,
          32,
          32,
          32,
          47,
          32,
          32,
          32,
          32,
          32,
          32,
          43,
          43,
          32,
          32,
          32,
          32,
          32,
          47,
          47,
          47,
          43,
          43,
          32,
          32,
          32,
          43,
          32,
          32,
          43,
          32,
          32,
          47,
          47,
          32,
          32,
          32,
          32,
          43,
          47,
          43,
          47,
          32,
          47,
          43,
          32,
          32,
          43,
          43,
          32,
          32,
          32,
          43,
          32,
          32,
          47,
          43,
          32,
          43,
          32,
          47,
          47,
          32,
          47,
          32,
          32,
          43,
          32,
          43,
          47,
          32,
          32,
          47,
          47,
          32,
          32,
          47,
          43,
          32,
          32,
          43,
          47,
          47,
          43,
          32,
          32,
          47,
          43,
          43,
          32,
          43,
          32,
          32,
          32,
          32,
          47,
          43,
          32,
          32,
          47
         ],
         "lon": [
          -110,
          -85,
          -85,
          -120,
          -120,
          -85,
          -85,
          -120,
          -75,
          -120,
          -75,
          -85,
          -110,
          -85,
          -85,
          -110,
          -75,
          -75,
          -110,
          -110,
          -75,
          -110,
          -85,
          -75,
          -120,
          -85,
          -75,
          -120,
          -120,
          -110,
          -110,
          -75,
          -110,
          -120,
          -110,
          -120,
          -120,
          -110,
          -75,
          -110,
          -75,
          -85,
          -85,
          -85,
          -75,
          -110,
          -75,
          -120,
          -85,
          -85,
          -75,
          -120,
          -110,
          -85,
          -120,
          -120,
          -75,
          -85,
          -85,
          -120,
          -75,
          -85,
          -120,
          -120,
          -120,
          -110,
          -110,
          -120,
          -85,
          -85,
          -85,
          -75,
          -110,
          -85,
          -110,
          -120,
          -85,
          -85,
          -75,
          -120,
          -75,
          -75,
          -85,
          -120,
          -110,
          -120,
          -120,
          -110,
          -120,
          -120,
          -85,
          -120,
          -75,
          -120,
          -110,
          -85,
          -110,
          -85,
          -75,
          -110,
          -110,
          -75,
          -75,
          -85,
          -110,
          -120,
          -110,
          -120,
          -85,
          -85,
          -120,
          -110,
          -110,
          -120,
          -75,
          -75,
          -85,
          -85,
          -85,
          -120,
          -110,
          -75,
          -120,
          -75,
          -120,
          -75,
          -110,
          -110,
          -120,
          -110,
          -75,
          -75,
          -110,
          -120,
          -75,
          -85,
          -110,
          -120,
          -85,
          -110,
          -75,
          -75,
          -85,
          -120,
          -120,
          -85,
          -120,
          -85,
          -120,
          -110,
          -120,
          -85,
          -75,
          -75,
          -75,
          -120,
          -85,
          -75,
          -85,
          -85,
          -120,
          -85,
          -110,
          -110,
          -120,
          -75,
          -110,
          -120,
          -120,
          -75,
          -85,
          -110,
          -75,
          -110,
          -120,
          -110,
          -120,
          -110,
          -110,
          -75,
          -120,
          -85,
          -75,
          -120,
          -85,
          -75,
          -85,
          -110,
          -110,
          -120,
          -85,
          -110,
          -85,
          -120,
          -85,
          -120,
          -110,
          -85,
          -120,
          -75,
          -120,
          -85,
          -120,
          -85,
          -110,
          -75,
          -85,
          -75,
          -110,
          -75,
          -110,
          -120,
          -120,
          -85,
          -110,
          -110,
          -120,
          -85,
          -85,
          -85,
          -110,
          -75,
          -110,
          -110,
          -85,
          -85,
          -85,
          -85,
          -75,
          -75,
          -120,
          -85,
          -110,
          -110,
          -120,
          -85,
          -85,
          -85,
          -120,
          -85,
          -75,
          -75,
          -110,
          -110,
          -75,
          -120,
          -85,
          -85,
          -110,
          -75,
          -75,
          -110,
          -85,
          -110,
          -75,
          -75,
          -120,
          -85,
          -120,
          -120,
          -110,
          -85,
          -75,
          -120,
          -85,
          -85,
          -85,
          -75,
          -110,
          -75,
          -85,
          -110,
          -120,
          -75,
          -120,
          -75,
          -120,
          -110,
          -85,
          -85,
          -75,
          -75,
          -75,
          -75,
          -110,
          -85,
          -75,
          -120,
          -75,
          -85,
          -110,
          -75,
          -85,
          -85,
          -110,
          -75,
          -110,
          -85,
          -120,
          -120,
          -75,
          -75,
          -85,
          -85,
          -110,
          -120,
          -110,
          -85,
          -75,
          -120,
          -110,
          -110,
          -85,
          -85,
          -110,
          -75,
          -120,
          -75,
          -120,
          -75,
          -120,
          -75,
          -110,
          -75,
          -110,
          -75,
          -85,
          -120,
          -110,
          -110,
          -75,
          -120,
          -120,
          -75,
          -75,
          -110,
          -85,
          -120,
          -75,
          -85,
          -110,
          -120,
          -75,
          -75,
          -85,
          -85,
          -85,
          -75,
          -85,
          -120,
          -120,
          -110,
          -110,
          -75,
          -85,
          -110,
          -85,
          -120,
          -85,
          -85,
          -75,
          -110,
          -110,
          -110,
          -85,
          -75,
          -75,
          -120,
          -120,
          -75,
          -120,
          -75,
          -75,
          -110,
          -85,
          -120,
          -75,
          -85,
          -120,
          -85,
          -75,
          -75,
          -85,
          -85,
          -75,
          -110,
          -85,
          -120,
          -120,
          -120,
          -75,
          -120,
          -75,
          -75,
          -75,
          -120,
          -110,
          -85,
          -110,
          -85,
          -110,
          -85,
          -120,
          -120,
          -110,
          -75,
          -85,
          -110,
          -85,
          -85,
          -120,
          -75,
          -75,
          -110,
          -120,
          -85,
          -85,
          -110,
          -85,
          -120,
          -85,
          -85,
          -75,
          -75,
          -110,
          -85,
          -75,
          -75,
          -75,
          -120,
          -110,
          -120,
          -110,
          -110,
          -120,
          -85,
          -75,
          -110,
          -85,
          -75,
          -120,
          -110,
          -85,
          -85,
          -120,
          -110,
          -75,
          -120,
          -110,
          -110,
          -110,
          -120,
          -110,
          -120,
          -85,
          -110,
          -85,
          -120,
          -110,
          -85,
          -85,
          -110,
          -75,
          -75,
          -120,
          -85,
          -110,
          -120,
          -75,
          -85,
          -85,
          -75,
          -110,
          -75,
          -110,
          -120,
          -75,
          -120,
          -85,
          -85,
          -120,
          -85,
          -85,
          -110,
          -110,
          -75,
          -120,
          -110,
          -85,
          -120,
          -110,
          -85,
          -75,
          -110,
          -110,
          -75,
          -110,
          -110,
          -85,
          -110,
          -110,
          -75,
          -85,
          -85,
          -85,
          -120,
          -120,
          -120,
          -75,
          -110,
          -75,
          -85,
          -75,
          -110,
          -110,
          -110,
          -85,
          -120,
          -110,
          -75,
          -75,
          -85,
          -75,
          -85,
          -85,
          -85,
          -120,
          -110,
          -75,
          -75,
          -85,
          -75,
          -85,
          -85,
          -85,
          -75,
          -110,
          -110,
          -85,
          -85,
          -110,
          -85,
          -85,
          -85,
          -120,
          -120,
          -75,
          -110,
          -75,
          -85,
          -110,
          -85,
          -110,
          -120,
          -75,
          -110,
          -75,
          -85,
          -120,
          -120,
          -120,
          -75,
          -110,
          -85,
          -85,
          -120,
          -120,
          -120,
          -110,
          -120,
          -110,
          -85,
          -85,
          -75,
          -75,
          -120,
          -85,
          -75,
          -110,
          -75,
          -75,
          -120,
          -85,
          -85,
          -110,
          -85,
          -75,
          -120,
          -75,
          -85,
          -110,
          -120,
          -85,
          -75,
          -85,
          -75,
          -85,
          -75,
          -110,
          -120,
          -85,
          -120,
          -110,
          -85,
          -120,
          -85,
          -75,
          -120,
          -75,
          -110,
          -85,
          -110,
          -75,
          -75,
          -85,
          -85,
          -75,
          -110,
          -85,
          -110,
          -110,
          -110,
          -110,
          -75,
          -120,
          -120,
          -75,
          -85,
          -110,
          -120,
          -110,
          -110,
          -85,
          -75,
          -110,
          -75,
          -120,
          -75,
          -75,
          -85,
          -110,
          -120,
          -75,
          -120,
          -85,
          -75,
          -120,
          -75,
          -75,
          -75,
          -85,
          -85,
          -85,
          -85,
          -85,
          -85,
          -110,
          -120,
          -75,
          -75,
          -85,
          -85,
          -75,
          -85,
          -85,
          -85,
          -110,
          -120,
          -75,
          -85,
          -85,
          -75,
          -85,
          -85,
          -85,
          -120,
          -85,
          -120,
          -110,
          -120,
          -110,
          -110,
          -110,
          -120,
          -110,
          -75,
          -75,
          -85,
          -110,
          -85,
          -75,
          -110,
          -120,
          -120,
          -110,
          -120,
          -75,
          -85,
          -120,
          -85,
          -85,
          -75,
          -85,
          -120,
          -120,
          -110,
          -85,
          -120,
          -75,
          -75,
          -85,
          -85,
          -120,
          -75,
          -110,
          -110,
          -120,
          -120,
          -120,
          -120,
          -75,
          -110,
          -110,
          -110,
          -75,
          -85,
          -120,
          -75,
          -75,
          -85,
          -85,
          -110,
          -110,
          -75,
          -110,
          -120,
          -85,
          -110,
          -75,
          -110,
          -75,
          -85,
          -75,
          -85,
          -120,
          -120,
          -110,
          -120,
          -110,
          -120,
          -85,
          -120,
          -120,
          -85,
          -75,
          -75,
          -75,
          -85,
          -75,
          -85,
          -75,
          -110,
          -110,
          -75,
          -75,
          -120,
          -110,
          -110,
          -110,
          -120,
          -110,
          -110,
          -75,
          -120,
          -120,
          -85,
          -120,
          -75,
          -85,
          -120,
          -110,
          -85,
          -85,
          -110,
          -85,
          -110,
          -75,
          -120,
          -75,
          -85,
          -85,
          -110,
          -75,
          -85,
          -120,
          -120,
          -85,
          -75,
          -110,
          -75,
          -85,
          -85,
          -110,
          -85,
          -85,
          -120,
          -120,
          -120,
          -85,
          -75,
          -110,
          -120,
          -85,
          -75,
          -85,
          -85,
          -120,
          -110,
          -75,
          -120,
          -110,
          -120,
          -85,
          -85,
          -120,
          -75,
          -85,
          -75,
          -75,
          -120,
          -110,
          -120,
          -120,
          -120,
          -120,
          -85,
          -110,
          -75,
          -75,
          -120,
          -110,
          -75,
          -85,
          -85,
          -75,
          -85,
          -110,
          -85,
          -110,
          -120,
          -75,
          -120,
          -75,
          -75,
          -75,
          -110,
          -85,
          -120,
          -85,
          -110,
          -110,
          -110,
          -120,
          -75,
          -110,
          -110,
          -85,
          -110,
          -75,
          -110,
          -110,
          -85,
          -85,
          -110,
          -75,
          -120,
          -110,
          -85,
          -110,
          -110,
          -110,
          -120,
          -75,
          -75,
          -120,
          -85,
          -75,
          -120,
          -110,
          -120,
          -120,
          -85,
          -75,
          -85,
          -75,
          -110,
          -75,
          -120,
          -85,
          -120,
          -75,
          -85,
          -75,
          -85,
          -110,
          -75,
          -75,
          -85,
          -110,
          -110,
          -120,
          -75,
          -120,
          -110,
          -120,
          -85,
          -120,
          -75,
          -110,
          -85,
          -110,
          -110,
          -110,
          -120,
          -110,
          -75,
          -110,
          -110,
          -85,
          -85,
          -85,
          -110,
          -110,
          -110,
          -85,
          -110,
          -75,
          -120,
          -85,
          -85,
          -85,
          -85,
          -75,
          -120,
          -85,
          -110,
          -110,
          -75,
          -120,
          -110,
          -75,
          -85,
          -120,
          -110,
          -120,
          -85,
          -85,
          -120,
          -75,
          -120,
          -120,
          -110,
          -85,
          -75,
          -120,
          -110,
          -120,
          -120,
          -75,
          -85,
          -85,
          -75,
          -120,
          -110,
          -85,
          -75,
          -85,
          -85,
          -75,
          -85,
          -75,
          -75,
          -110,
          -75,
          -75,
          -110,
          -120,
          -120,
          -75,
          -75,
          -110,
          -75,
          -110,
          -85,
          -120,
          -75,
          -110,
          -85,
          -75,
          -120,
          -120,
          -110,
          -110,
          -110,
          -75,
          -120,
          -75,
          -120,
          -75,
          -75,
          -110,
          -85,
          -85,
          -120,
          -110,
          -120,
          -120,
          -110,
          -120,
          -120,
          -110,
          -85,
          -85,
          -85,
          -85,
          -110,
          -120,
          -120,
          -110,
          -75,
          -120,
          -85,
          -75,
          -75,
          -120,
          -110,
          -85,
          -120,
          -75,
          -120,
          -120,
          -75,
          -75,
          -110,
          -75,
          -120,
          -75,
          -85,
          -120,
          -110,
          -120,
          -75,
          -75,
          -110,
          -120,
          -120,
          -110,
          -85,
          -85,
          -120,
          -85,
          -85,
          -85,
          -120,
          -110,
          -110,
          -85,
          -75,
          -120,
          -85,
          -85,
          -75,
          -120,
          -75,
          -75,
          -85,
          -110,
          -75,
          -85,
          -85,
          -85,
          -120,
          -120,
          -110,
          -120,
          -110,
          -75,
          -120,
          -85,
          -110,
          -85,
          -75,
          -110,
          -120,
          -110,
          -75,
          -75,
          -85,
          -75,
          -85,
          -75,
          -110,
          -85,
          -85,
          -110,
          -85,
          -120,
          -120,
          -110,
          -85,
          -75,
          -85,
          -85,
          -120,
          -75,
          -85,
          -75,
          -85,
          -85,
          -120,
          -110,
          -85,
          -120,
          -75,
          -75,
          -120,
          -110,
          -85,
          -110,
          -110,
          -85,
          -110,
          -75,
          -120,
          -120,
          -120,
          -110,
          -120,
          -85,
          -120,
          -85,
          -110,
          -85,
          -85,
          -110,
          -120,
          -110,
          -120,
          -110,
          -110,
          -75,
          -120,
          -85,
          -120,
          -120,
          -75,
          -85,
          -120,
          -75,
          -110,
          -120,
          -85,
          -85,
          -75,
          -120,
          -75,
          -85,
          -110,
          -110,
          -120,
          -75,
          -110,
          -85,
          -120,
          -120,
          -110,
          -120,
          -110,
          -75,
          -85,
          -75,
          -120,
          -110,
          -75,
          -85,
          -75,
          -120,
          -120,
          -75,
          -110,
          -120,
          -75,
          -75,
          -120,
          -120,
          -120,
          -120,
          -85,
          -120,
          -110,
          -120,
          -120,
          -120,
          -75,
          -85,
          -120,
          -110,
          -110,
          -75,
          -110,
          -120,
          -85,
          -75,
          -110,
          -120,
          -75,
          -85,
          -85,
          -110,
          -120,
          -75,
          -85,
          -85,
          -85,
          -75,
          -85,
          -75,
          -85,
          -85,
          -75,
          -120,
          -110,
          -120,
          -110,
          -85,
          -120,
          -75,
          -120,
          -75,
          -85,
          -85,
          -85,
          -120,
          -85,
          -85,
          -110,
          -110,
          -110,
          -85,
          -75,
          -75,
          -110,
          -110,
          -110,
          -85,
          -110,
          -120,
          -120,
          -120,
          -75,
          -75,
          -110,
          -85,
          -110,
          -75,
          -85,
          -110,
          -75,
          -110,
          -110,
          -120,
          -120,
          -85,
          -85,
          -85,
          -110,
          -75,
          -120,
          -75,
          -120,
          -85,
          -120,
          -75,
          -85,
          -110,
          -75,
          -75,
          -110,
          -110,
          -85,
          -75,
          -110,
          -85,
          -120,
          -75,
          -110,
          -75,
          -85,
          -120,
          -120,
          -85,
          -120,
          -110,
          -110,
          -75,
          -85,
          -75,
          -120,
          -110,
          -110,
          -120,
          -120,
          -110,
          -110,
          -120,
          -75,
          -110,
          -85,
          -75,
          -120,
          -120,
          -75,
          -85,
          -85,
          -120,
          -75,
          -75,
          -85,
          -75,
          -110,
          -85,
          -110,
          -110,
          -120,
          -75,
          -85,
          -110,
          -120
         ],
         "name": "",
         "radius": 20,
         "subplot": "mapbox",
         "type": "densitymapbox",
         "z": [
          16884.924,
          1725.5523,
          4449.462,
          21984.47061,
          3866.8552,
          3756.6216,
          8240.5896,
          7281.5056,
          6406.4107,
          28923.13692,
          2721.3208,
          27808.7251,
          1826.843,
          11090.7178,
          39611.7577,
          1837.237,
          10797.3362,
          2395.17155,
          10602.385,
          36837.467,
          13228.84695,
          4149.736,
          1137.011,
          37701.8768,
          6203.90175,
          14001.1338,
          14451.83515,
          12268.63225,
          2775.19215,
          38711,
          35585.576,
          2198.18985,
          4687.797,
          13770.0979,
          51194.55914,
          1625.43375,
          15612.19335,
          2302.3,
          39774.2763,
          48173.361,
          3046.062,
          4949.7587,
          6272.4772,
          6313.759,
          6079.6715,
          20630.28351,
          3393.35635,
          3556.9223,
          12629.8967,
          38709.176,
          2211.13075,
          3579.8287,
          23568.272,
          37742.5757,
          8059.6791,
          47496.49445,
          13607.36875,
          34303.1672,
          23244.7902,
          5989.52365,
          8606.2174,
          4504.6624,
          30166.61817,
          4133.64165,
          14711.7438,
          1743.214,
          14235.072,
          6389.37785,
          5920.1041,
          17663.1442,
          16577.7795,
          6799.458,
          11741.726,
          11946.6259,
          7726.854,
          11356.6609,
          3947.4131,
          1532.4697,
          2755.02095,
          6571.02435,
          4441.21315,
          7935.29115,
          37165.1638,
          11033.6617,
          39836.519,
          21098.55405,
          43578.9394,
          11073.176,
          8026.6666,
          11082.5772,
          2026.9741,
          10942.13205,
          30184.9367,
          5729.0053,
          47291.055,
          3766.8838,
          12105.32,
          10226.2842,
          22412.6485,
          15820.699,
          6186.127,
          3645.0894,
          21344.8467,
          30942.1918,
          5003.853,
          17560.37975,
          2331.519,
          3877.30425,
          2867.1196,
          47055.5321,
          10825.2537,
          11881.358,
          4646.759,
          2404.7338,
          11488.31695,
          30259.99556,
          11381.3254,
          19107.7796,
          8601.3293,
          6686.4313,
          7740.337,
          1705.6245,
          2257.47525,
          39556.4945,
          10115.00885,
          3385.39915,
          17081.08,
          9634.538,
          32734.1863,
          6082.405,
          12815.44495,
          13616.3586,
          11163.568,
          1632.56445,
          2457.21115,
          2155.6815,
          1261.442,
          2045.68525,
          27322.73386,
          2166.732,
          27375.90478,
          3490.5491,
          18972.495,
          18157.876,
          20745.9891,
          5138.2567,
          40720.55105,
          9877.6077,
          10959.6947,
          1842.519,
          5125.2157,
          7789.635,
          6334.34355,
          19964.7463,
          7077.1894,
          6948.7008,
          21223.6758,
          15518.18025,
          36950.2567,
          19749.38338,
          21348.706,
          36149.4835,
          10450.552,
          5152.134,
          5028.1466,
          10407.08585,
          4830.63,
          6128.79745,
          2719.27975,
          4827.90495,
          13405.3903,
          8116.68,
          1694.7964,
          5246.047,
          2855.43755,
          48824.45,
          6455.86265,
          10436.096,
          8823.279,
          8538.28845,
          11735.87905,
          1631.8212,
          4005.4225,
          7419.4779,
          7731.4271,
          43753.33705,
          3981.9768,
          5325.651,
          6775.961,
          4922.9159,
          12557.6053,
          4883.866,
          2137.6536,
          12044.342,
          1137.4697,
          1639.5631,
          5649.715,
          8516.829,
          9644.2525,
          14901.5167,
          2130.6759,
          8871.1517,
          13012.20865,
          37133.8982,
          7147.105,
          4337.7352,
          11743.299,
          20984.0936,
          13880.949,
          6610.1097,
          1980.07,
          8162.71625,
          3537.703,
          5002.7827,
          8520.026,
          7371.772,
          10355.641,
          2483.736,
          3392.9768,
          25081.76784,
          5012.471,
          10564.8845,
          5253.524,
          34779.615,
          19515.5416,
          11987.1682,
          2689.4954,
          24227.33724,
          7358.17565,
          9225.2564,
          7443.64305,
          14001.2867,
          1727.785,
          12333.828,
          6710.1919,
          19444.2658,
          1615.7667,
          4463.2051,
          17352.6803,
          7152.6714,
          38511.6283,
          5354.07465,
          35160.13457,
          7196.867,
          29523.1656,
          24476.47851,
          12648.7034,
          1986.9334,
          1832.094,
          4040.55825,
          12829.4551,
          47305.305,
          44260.7499,
          4260.744,
          41097.16175,
          13047.33235,
          43921.1837,
          5400.9805,
          11520.09985,
          33750.2918,
          11837.16,
          17085.2676,
          24869.8368,
          36219.40545,
          20462.99766,
          46151.1245,
          17179.522,
          14590.63205,
          7441.053,
          9282.4806,
          1719.4363,
          42856.838,
          7265.7025,
          9617.66245,
          2523.1695,
          9715.841,
          2803.69785,
          2150.469,
          12928.7911,
          9855.1314,
          22331.5668,
          48549.17835,
          4237.12655,
          11879.10405,
          9625.92,
          7742.1098,
          9432.9253,
          14256.1928,
          47896.79135,
          25992.82104,
          3172.018,
          20277.80751,
          42112.2356,
          2156.7518,
          3906.127,
          1704.5681,
          16297.846,
          21978.6769,
          38746.3551,
          9249.4952,
          6746.7425,
          24873.3849,
          12265.5069,
          4349.462,
          12646.207,
          19442.3535,
          20177.67113,
          4151.0287,
          11944.59435,
          7749.1564,
          8444.474,
          1737.376,
          42124.5153,
          8124.4084,
          34838.873,
          9722.7695,
          8835.26495,
          10435.06525,
          7421.19455,
          4667.60765,
          4894.7533,
          24671.66334,
          35491.64,
          11566.30055,
          2866.091,
          6600.20595,
          3561.8889,
          42760.5022,
          47928.03,
          9144.565,
          48517.56315,
          24393.6224,
          13429.0354,
          11658.37915,
          19144.57652,
          13822.803,
          12142.5786,
          13937.6665,
          41919.097,
          8232.6388,
          18955.22017,
          13352.0998,
          13217.0945,
          13981.85035,
          10977.2063,
          6184.2994,
          4889.9995,
          8334.45755,
          5478.0368,
          1635.73365,
          11830.6072,
          8932.084,
          3554.203,
          12404.8791,
          14133.03775,
          24603.04837,
          8944.1151,
          9620.3307,
          1837.2819,
          1607.5101,
          10043.249,
          4751.07,
          13844.506,
          2597.779,
          3180.5101,
          9778.3472,
          13430.265,
          8017.06115,
          8116.26885,
          3481.868,
          13415.0381,
          12029.2867,
          7639.41745,
          36085.219,
          1391.5287,
          18033.9679,
          21659.9301,
          38126.2465,
          16455.70785,
          27000.98473,
          15006.57945,
          42303.69215,
          20781.48892,
          5846.9176,
          8302.53565,
          1261.859,
          11856.4115,
          30284.64294,
          3176.8159,
          4618.0799,
          10736.87075,
          2138.0707,
          8964.06055,
          9290.1395,
          9411.005,
          7526.70645,
          8522.003,
          16586.49771,
          14988.432,
          1631.6683,
          9264.797,
          8083.9198,
          14692.66935,
          10269.46,
          3260.199,
          11396.9002,
          4185.0979,
          8539.671,
          6652.5288,
          4074.4537,
          1621.3402,
          19594.80965,
          14455.64405,
          5080.096,
          2134.9015,
          7345.7266,
          9140.951,
          18608.262,
          14418.2804,
          28950.4692,
          46889.2612,
          46599.1084,
          39125.33225,
          2727.3951,
          8968.33,
          9788.8659,
          6555.07035,
          7323.734819,
          3167.45585,
          18804.7524,
          23082.95533,
          4906.40965,
          5969.723,
          12638.195,
          4243.59005,
          13919.8229,
          2254.7967,
          5926.846,
          12592.5345,
          2897.3235,
          4738.2682,
          37079.372,
          1149.3959,
          28287.89766,
          26109.32905,
          7345.084,
          12730.9996,
          11454.0215,
          5910.944,
          4762.329,
          7512.267,
          4032.2407,
          1969.614,
          1769.53165,
          4686.3887,
          21797.0004,
          11881.9696,
          11840.77505,
          10601.412,
          7682.67,
          10381.4787,
          22144.032,
          15230.32405,
          11165.41765,
          1632.03625,
          19521.9682,
          13224.693,
          12643.3778,
          23288.9284,
          2201.0971,
          2497.0383,
          2203.47185,
          1744.465,
          20878.78443,
          25382.297,
          28868.6639,
          35147.52848,
          2534.39375,
          1534.3045,
          1824.2854,
          15555.18875,
          9304.7019,
          1622.1885,
          9880.068,
          9563.029,
          4347.02335,
          12475.3513,
          1253.936,
          48885.13561,
          10461.9794,
          1748.774,
          24513.09126,
          2196.4732,
          12574.049,
          17942.106,
          1967.0227,
          4931.647,
          8027.968,
          8211.1002,
          13470.86,
          36197.699,
          6837.3687,
          22218.1149,
          32548.3405,
          5974.3847,
          6796.86325,
          2643.2685,
          3077.0955,
          3044.2133,
          11455.28,
          11763.0009,
          2498.4144,
          9361.3268,
          1256.299,
          21082.16,
          11362.755,
          27724.28875,
          8413.46305,
          5240.765,
          3857.75925,
          25656.57526,
          3994.1778,
          9866.30485,
          5397.6167,
          38245.59327,
          11482.63485,
          24059.68019,
          9861.025,
          8342.90875,
          1708.0014,
          48675.5177,
          14043.4767,
          12925.886,
          19214.70553,
          13831.1152,
          6067.12675,
          5972.378,
          8825.086,
          8233.0975,
          27346.04207,
          6196.448,
          3056.3881,
          13887.204,
          63770.42801,
          10231.4999,
          23807.2406,
          3268.84665,
          11538.421,
          3213.62205,
          45863.205,
          13390.559,
          3972.9247,
          12957.118,
          11187.6567,
          17878.90068,
          3847.674,
          8334.5896,
          3935.1799,
          39983.42595,
          1646.4297,
          9193.8385,
          10923.9332,
          2494.022,
          9058.7303,
          2801.2588,
          2128.43105,
          6373.55735,
          7256.7231,
          11552.904,
          45702.02235,
          3761.292,
          2219.4451,
          4753.6368,
          31620.00106,
          13224.05705,
          12222.8983,
          1664.9996,
          58571.07448,
          9724.53,
          3206.49135,
          12913.9924,
          1639.5631,
          6356.2707,
          17626.23951,
          1242.816,
          4779.6023,
          3861.20965,
          43943.8761,
          13635.6379,
          5976.8311,
          11842.442,
          8428.0693,
          2566.4707,
          15359.1045,
          5709.1644,
          8823.98575,
          7640.3092,
          5594.8455,
          7441.501,
          33471.97189,
          1633.0444,
          9174.13565,
          11070.535,
          16085.1275,
          17468.9839,
          9283.562,
          3558.62025,
          25678.77845,
          4435.0942,
          39241.442,
          8547.6913,
          6571.544,
          2207.69745,
          6753.038,
          1880.07,
          42969.8527,
          11658.11505,
          23306.547,
          34439.8559,
          10713.644,
          3659.346,
          40182.246,
          9182.17,
          34617.84065,
          12129.61415,
          3736.4647,
          6748.5912,
          11326.71487,
          11365.952,
          42983.4585,
          10085.846,
          1977.815,
          3366.6697,
          7173.35995,
          9391.346,
          14410.9321,
          2709.1119,
          24915.04626,
          20149.3229,
          12949.1554,
          6666.243,
          32787.45859,
          13143.86485,
          4466.6214,
          18806.14547,
          10141.1362,
          6123.5688,
          8252.2843,
          1712.227,
          12430.95335,
          9800.8882,
          10579.711,
          8280.6227,
          8527.532,
          12244.531,
          24667.419,
          3410.324,
          4058.71245,
          26392.26029,
          14394.39815,
          6435.6237,
          22192.43711,
          5148.5526,
          1136.3994,
          27037.9141,
          42560.4304,
          8703.456,
          40003.33225,
          45710.20785,
          6500.2359,
          4837.5823,
          3943.5954,
          4399.731,
          6185.3208,
          46200.9851,
          7222.78625,
          12485.8009,
          46130.5265,
          12363.547,
          10156.7832,
          2585.269,
          1242.26,
          40103.89,
          9863.4718,
          4766.022,
          11244.3769,
          7729.64575,
          5438.7491,
          26236.57997,
          34806.4677,
          2104.1134,
          8068.185,
          2362.22905,
          2352.96845,
          3577.999,
          3201.24515,
          29186.48236,
          40273.6455,
          10976.24575,
          3500.6123,
          2020.5523,
          9541.69555,
          9504.3103,
          5385.3379,
          8930.93455,
          5375.038,
          44400.4064,
          10264.4421,
          6113.23105,
          5469.0066,
          1727.54,
          10107.2206,
          8310.83915,
          1984.4533,
          2457.502,
          12146.971,
          9566.9909,
          13112.6048,
          10848.1343,
          12231.6136,
          9875.6804,
          11264.541,
          12979.358,
          1263.249,
          10106.13425,
          40932.4295,
          6664.68595,
          16657.71745,
          2217.6012,
          6781.3542,
          19361.9988,
          10065.413,
          4234.927,
          9447.25035,
          14007.222,
          9583.8933,
          40419.0191,
          3484.331,
          36189.1017,
          44585.45587,
          8604.48365,
          18246.4955,
          43254.41795,
          3757.8448,
          8827.2099,
          9910.35985,
          11737.84884,
          1627.28245,
          8556.907,
          3062.50825,
          19539.243,
          1906.35825,
          14210.53595,
          11833.7823,
          17128.42608,
          5031.26955,
          7985.815,
          23065.4207,
          5428.7277,
          36307.7983,
          3925.7582,
          2416.955,
          19040.876,
          3070.8087,
          9095.06825,
          11842.62375,
          8062.764,
          7050.642,
          14319.031,
          6933.24225,
          27941.28758,
          11150.78,
          12797.20962,
          17748.5062,
          7261.741,
          10560.4917,
          6986.697,
          7448.40395,
          5934.3798,
          9869.8102,
          18259.216,
          1146.7966,
          9386.1613,
          24520.264,
          4350.5144,
          6414.178,
          12741.16745,
          1917.3184,
          5209.57885,
          13457.9608,
          5662.225,
          1252.407,
          2731.9122,
          21195.818,
          7209.4918,
          18310.742,
          4266.1658,
          4719.52405,
          11848.141,
          17904.52705,
          7046.7222,
          14313.8463,
          2103.08,
          38792.6856,
          1815.8759,
          7731.85785,
          28476.73499,
          2136.88225,
          1131.5066,
          3309.7926,
          9414.92,
          6360.9936,
          11013.7119,
          4428.88785,
          5584.3057,
          1877.9294,
          2842.76075,
          3597.596,
          23401.30575,
          55135.40209,
          7445.918,
          2680.9493,
          1621.8827,
          8219.2039,
          12523.6048,
          16069.08475,
          43813.8661,
          20773.62775,
          39597.4072,
          6117.4945,
          13393.756,
          5266.3656,
          4719.73655,
          11743.9341,
          5377.4578,
          7160.3303,
          4402.233,
          11657.7189,
          6402.29135,
          12622.1795,
          1526.312,
          12323.936,
          36021.0112,
          27533.9129,
          10072.05505,
          45008.9555,
          9872.701,
          2438.0552,
          2974.126,
          10601.63225,
          37270.1512,
          14119.62,
          42111.6647,
          11729.6795,
          24106.91255,
          1875.344,
          40974.1649,
          15817.9857,
          18218.16139,
          10965.446,
          46113.511,
          7151.092,
          12269.68865,
          5458.04645,
          8782.469,
          6600.361,
          1141.4451,
          11576.13,
          13129.60345,
          4391.652,
          8457.818,
          3392.3652,
          5966.8874,
          6849.026,
          8891.1395,
          2690.1138,
          26140.3603,
          6653.7886,
          6282.235,
          6311.952,
          3443.064,
          2789.0574,
          2585.85065,
          46255.1125,
          4877.98105,
          19719.6947,
          27218.43725,
          5272.1758,
          1682.597,
          11945.1327,
          29330.98315,
          7243.8136,
          10422.91665,
          44202.6536,
          13555.0049,
          13063.883,
          19798.05455,
          2221.56445,
          1634.5734,
          2117.33885,
          8688.85885,
          48673.5588,
          4661.28635,
          8125.7845,
          12644.589,
          4564.19145,
          4846.92015,
          7633.7206,
          15170.069,
          17496.306,
          2639.0429,
          33732.6867,
          14382.70905,
          7626.993,
          5257.50795,
          2473.3341,
          21774.32215,
          35069.37452,
          13041.921,
          5245.2269,
          13451.122,
          13462.52,
          5488.262,
          4320.41085,
          6250.435,
          25333.33284,
          2913.569,
          12032.326,
          13470.8044,
          6289.7549,
          2927.0647,
          6238.298,
          10096.97,
          7348.142,
          4673.3922,
          12233.828,
          32108.66282,
          8965.79575,
          2304.0022,
          9487.6442,
          1121.8739,
          9549.5651,
          2217.46915,
          1628.4709,
          12982.8747,
          11674.13,
          7160.094,
          39047.285,
          6358.77645,
          19933.458,
          11534.87265,
          47462.894,
          4527.18295,
          38998.546,
          20009.63365,
          3875.7341,
          41999.52,
          12609.88702,
          41034.2214,
          28468.91901,
          2730.10785,
          3353.284,
          14474.675,
          9500.57305,
          26467.09737,
          4746.344,
          23967.38305,
          7518.02535,
          3279.86855,
          8596.8278,
          10702.6424,
          4992.3764,
          2527.81865,
          1759.338,
          2322.6218,
          16138.76205,
          7804.1605,
          2902.9065,
          9704.66805,
          4889.0368,
          25517.11363,
          4500.33925,
          19199.944,
          16796.41194,
          4915.05985,
          7624.63,
          8410.04685,
          28340.18885,
          4518.82625,
          14571.8908,
          3378.91,
          7144.86265,
          10118.424,
          5484.4673,
          16420.49455,
          7986.47525,
          7418.522,
          13887.9685,
          6551.7501,
          5267.81815,
          17361.7661,
          34472.841,
          1972.95,
          21232.18226,
          8627.5411,
          4433.3877,
          4438.2634,
          24915.22085,
          23241.47453,
          9957.7216,
          8269.044,
          18767.7377,
          36580.28216,
          8765.249,
          5383.536,
          12124.9924,
          2709.24395,
          3987.926,
          12495.29085,
          26018.95052,
          8798.593,
          35595.5898,
          42211.1382,
          1711.0268,
          8569.8618,
          2020.177,
          16450.8947,
          21595.38229,
          9850.432,
          6877.9801,
          21677.28345,
          44423.803,
          4137.5227,
          13747.87235,
          12950.0712,
          12094.478,
          37484.4493,
          39725.51805,
          2250.8352,
          22493.65964,
          20234.85475,
          1704.70015,
          33475.81715,
          3161.454,
          11394.06555,
          21880.82,
          7325.0482,
          44501.3982,
          3594.17085,
          39727.614,
          8023.13545,
          14394.5579,
          9288.0267,
          25309.489,
          3353.4703,
          10594.50155,
          8277.523,
          17929.30337,
          2480.9791,
          4462.7218,
          1981.5819,
          11554.2236,
          48970.2476,
          6548.19505,
          5708.867,
          7045.499,
          8978.1851,
          5757.41345,
          14349.8544,
          10928.849,
          39871.7043,
          13974.45555,
          1909.52745,
          12096.6512,
          13204.28565,
          4562.8421,
          8551.347,
          2102.2647,
          34672.1472,
          15161.5344,
          11884.04858,
          4454.40265,
          5855.9025,
          4076.497,
          15019.76005,
          19023.26,
          10796.35025,
          11353.2276,
          9748.9106,
          10577.087,
          41676.0811,
          11286.5387,
          3591.48,
          33907.548,
          11299.343,
          4561.1885,
          44641.1974,
          1674.6323,
          23045.56616,
          3227.1211,
          16776.30405,
          11253.421,
          3471.4096,
          11363.2832,
          20420.60465,
          10338.9316,
          8988.15875,
          10493.9458,
          2904.088,
          8605.3615,
          11512.405,
          41949.2441,
          24180.9335,
          5312.16985,
          2396.0959,
          10807.4863,
          9222.4026,
          36124.5737,
          38282.7495,
          5693.4305,
          34166.273,
          8347.1643,
          46661.4424,
          18903.49141,
          40904.1995,
          14254.6082,
          10214.636,
          5836.5204,
          14358.36437,
          1728.897,
          8582.3023,
          3693.428,
          20709.02034,
          9991.03765,
          19673.33573,
          11085.5868,
          7623.518,
          3176.2877,
          3704.3545,
          36898.73308,
          9048.0273,
          7954.517,
          27117.99378,
          6338.0756,
          9630.397,
          11289.10925,
          52590.82939,
          2261.5688,
          10791.96,
          5979.731,
          2203.73595,
          12235.8392,
          40941.2854,
          5630.45785,
          11015.1747,
          7228.21565,
          39722.7462,
          14426.07385,
          2459.7201,
          3989.841,
          7727.2532,
          5124.1887,
          18963.17192,
          2200.83085,
          7153.5539,
          5227.98875,
          10982.5013,
          4529.477,
          4670.64,
          6112.35295,
          17178.6824,
          22478.6,
          11093.6229,
          6457.8434,
          4433.9159,
          2154.361,
          23887.6627,
          6496.886,
          2899.48935,
          19350.3689,
          7650.77375,
          2850.68375,
          2632.992,
          9447.3824,
          18328.2381,
          8603.8234,
          37465.34375,
          13844.7972,
          21771.3423,
          13126.67745,
          5327.40025,
          13725.47184,
          13019.16105,
          8671.19125,
          4134.08245,
          18838.70366,
          33307.5508,
          5699.8375,
          6393.60345,
          4934.705,
          6198.7518,
          8733.22925,
          2055.3249,
          9964.06,
          18223.4512,
          5116.5004,
          36910.60803,
          38415.474,
          20296.86345,
          12347.172,
          5373.36425,
          23563.01618,
          1702.4553,
          10806.839,
          3956.07145,
          12890.05765,
          5415.6612,
          4058.1161,
          41661.602,
          7537.1639,
          4718.20355,
          6593.5083,
          8442.667,
          26125.67477,
          6858.4796,
          4795.6568,
          6640.54485,
          7162.0122,
          10594.2257,
          11938.25595,
          60021.39897,
          20167.33603,
          12479.70895,
          11345.519,
          8515.7587,
          2699.56835,
          14449.8544,
          12224.35085,
          6985.50695,
          3238.4357,
          47269.854,
          49577.6624,
          4296.2712,
          3171.6149,
          1135.9407,
          5615.369,
          9101.798,
          6059.173,
          1633.9618,
          37607.5277,
          18648.4217,
          1241.565,
          16232.847,
          15828.82173,
          4415.1588,
          6474.013,
          11436.73815,
          11305.93455,
          30063.58055,
          10197.7722,
          4544.2348,
          3277.161,
          6770.1925,
          7337.748,
          10370.91255,
          26926.5144,
          10704.47,
          34254.05335,
          1880.487,
          8615.3,
          3292.52985,
          3021.80915,
          14478.33015,
          4747.0529,
          17043.3414,
          10959.33,
          2741.948,
          4357.04365,
          22462.04375,
          4189.1131,
          8283.6807,
          24535.69855,
          14283.4594,
          1720.3537,
          47403.88,
          8534.6718,
          3732.6251,
          5472.449,
          38344.566,
          7147.4728,
          7133.9025,
          34828.654,
          1515.3449,
          9301.89355,
          11931.12525,
          1964.78,
          1708.92575,
          4340.4409,
          5261.46945,
          2710.82855,
          62592.87309,
          46718.16325,
          3208.787,
          37829.7242,
          21259.37795,
          2464.6188,
          16115.3045,
          21472.4788,
          33900.653,
          6875.961,
          6940.90985,
          4571.41305,
          4536.259,
          36397.576,
          18765.87545,
          11272.33139,
          1731.677,
          1163.4627,
          19496.71917,
          7201.70085,
          5425.02335,
          28101.33305,
          12981.3457,
          43896.3763,
          4239.89265,
          13143.33665,
          7050.0213,
          9377.9047,
          22395.74424,
          10325.206,
          12629.1656,
          10795.93733,
          11411.685,
          10600.5483,
          2205.9808,
          1629.8335,
          2007.945,
          29141.3603
         ]
        }
       ],
       "layout": {
        "coloraxis": {
         "colorbar": {
          "title": {
           "text": "Charges"
          }
         },
         "colorscale": [
          [
           0,
           "#0d0887"
          ],
          [
           0.1111111111111111,
           "#46039f"
          ],
          [
           0.2222222222222222,
           "#7201a8"
          ],
          [
           0.3333333333333333,
           "#9c179e"
          ],
          [
           0.4444444444444444,
           "#bd3786"
          ],
          [
           0.5555555555555556,
           "#d8576b"
          ],
          [
           0.6666666666666666,
           "#ed7953"
          ],
          [
           0.7777777777777778,
           "#fb9f3a"
          ],
          [
           0.8888888888888888,
           "#fdca26"
          ],
          [
           1,
           "#f0f921"
          ]
         ]
        },
        "legend": {
         "tracegroupgap": 0
        },
        "mapbox": {
         "center": {
          "lat": 37.0902,
          "lon": -95.7129
         },
         "domain": {
          "x": [
           0,
           1
          ],
          "y": [
           0,
           1
          ]
         },
         "style": "carto-positron",
         "zoom": 3
        },
        "template": {
         "data": {
          "bar": [
           {
            "error_x": {
             "color": "#2a3f5f"
            },
            "error_y": {
             "color": "#2a3f5f"
            },
            "marker": {
             "line": {
              "color": "#E5ECF6",
              "width": 0.5
             },
             "pattern": {
              "fillmode": "overlay",
              "size": 10,
              "solidity": 0.2
             }
            },
            "type": "bar"
           }
          ],
          "barpolar": [
           {
            "marker": {
             "line": {
              "color": "#E5ECF6",
              "width": 0.5
             },
             "pattern": {
              "fillmode": "overlay",
              "size": 10,
              "solidity": 0.2
             }
            },
            "type": "barpolar"
           }
          ],
          "carpet": [
           {
            "aaxis": {
             "endlinecolor": "#2a3f5f",
             "gridcolor": "white",
             "linecolor": "white",
             "minorgridcolor": "white",
             "startlinecolor": "#2a3f5f"
            },
            "baxis": {
             "endlinecolor": "#2a3f5f",
             "gridcolor": "white",
             "linecolor": "white",
             "minorgridcolor": "white",
             "startlinecolor": "#2a3f5f"
            },
            "type": "carpet"
           }
          ],
          "choropleth": [
           {
            "colorbar": {
             "outlinewidth": 0,
             "ticks": ""
            },
            "type": "choropleth"
           }
          ],
          "contour": [
           {
            "colorbar": {
             "outlinewidth": 0,
             "ticks": ""
            },
            "colorscale": [
             [
              0,
              "#0d0887"
             ],
             [
              0.1111111111111111,
              "#46039f"
             ],
             [
              0.2222222222222222,
              "#7201a8"
             ],
             [
              0.3333333333333333,
              "#9c179e"
             ],
             [
              0.4444444444444444,
              "#bd3786"
             ],
             [
              0.5555555555555556,
              "#d8576b"
             ],
             [
              0.6666666666666666,
              "#ed7953"
             ],
             [
              0.7777777777777778,
              "#fb9f3a"
             ],
             [
              0.8888888888888888,
              "#fdca26"
             ],
             [
              1,
              "#f0f921"
             ]
            ],
            "type": "contour"
           }
          ],
          "contourcarpet": [
           {
            "colorbar": {
             "outlinewidth": 0,
             "ticks": ""
            },
            "type": "contourcarpet"
           }
          ],
          "heatmap": [
           {
            "colorbar": {
             "outlinewidth": 0,
             "ticks": ""
            },
            "colorscale": [
             [
              0,
              "#0d0887"
             ],
             [
              0.1111111111111111,
              "#46039f"
             ],
             [
              0.2222222222222222,
              "#7201a8"
             ],
             [
              0.3333333333333333,
              "#9c179e"
             ],
             [
              0.4444444444444444,
              "#bd3786"
             ],
             [
              0.5555555555555556,
              "#d8576b"
             ],
             [
              0.6666666666666666,
              "#ed7953"
             ],
             [
              0.7777777777777778,
              "#fb9f3a"
             ],
             [
              0.8888888888888888,
              "#fdca26"
             ],
             [
              1,
              "#f0f921"
             ]
            ],
            "type": "heatmap"
           }
          ],
          "heatmapgl": [
           {
            "colorbar": {
             "outlinewidth": 0,
             "ticks": ""
            },
            "colorscale": [
             [
              0,
              "#0d0887"
             ],
             [
              0.1111111111111111,
              "#46039f"
             ],
             [
              0.2222222222222222,
              "#7201a8"
             ],
             [
              0.3333333333333333,
              "#9c179e"
             ],
             [
              0.4444444444444444,
              "#bd3786"
             ],
             [
              0.5555555555555556,
              "#d8576b"
             ],
             [
              0.6666666666666666,
              "#ed7953"
             ],
             [
              0.7777777777777778,
              "#fb9f3a"
             ],
             [
              0.8888888888888888,
              "#fdca26"
             ],
             [
              1,
              "#f0f921"
             ]
            ],
            "type": "heatmapgl"
           }
          ],
          "histogram": [
           {
            "marker": {
             "pattern": {
              "fillmode": "overlay",
              "size": 10,
              "solidity": 0.2
             }
            },
            "type": "histogram"
           }
          ],
          "histogram2d": [
           {
            "colorbar": {
             "outlinewidth": 0,
             "ticks": ""
            },
            "colorscale": [
             [
              0,
              "#0d0887"
             ],
             [
              0.1111111111111111,
              "#46039f"
             ],
             [
              0.2222222222222222,
              "#7201a8"
             ],
             [
              0.3333333333333333,
              "#9c179e"
             ],
             [
              0.4444444444444444,
              "#bd3786"
             ],
             [
              0.5555555555555556,
              "#d8576b"
             ],
             [
              0.6666666666666666,
              "#ed7953"
             ],
             [
              0.7777777777777778,
              "#fb9f3a"
             ],
             [
              0.8888888888888888,
              "#fdca26"
             ],
             [
              1,
              "#f0f921"
             ]
            ],
            "type": "histogram2d"
           }
          ],
          "histogram2dcontour": [
           {
            "colorbar": {
             "outlinewidth": 0,
             "ticks": ""
            },
            "colorscale": [
             [
              0,
              "#0d0887"
             ],
             [
              0.1111111111111111,
              "#46039f"
             ],
             [
              0.2222222222222222,
              "#7201a8"
             ],
             [
              0.3333333333333333,
              "#9c179e"
             ],
             [
              0.4444444444444444,
              "#bd3786"
             ],
             [
              0.5555555555555556,
              "#d8576b"
             ],
             [
              0.6666666666666666,
              "#ed7953"
             ],
             [
              0.7777777777777778,
              "#fb9f3a"
             ],
             [
              0.8888888888888888,
              "#fdca26"
             ],
             [
              1,
              "#f0f921"
             ]
            ],
            "type": "histogram2dcontour"
           }
          ],
          "mesh3d": [
           {
            "colorbar": {
             "outlinewidth": 0,
             "ticks": ""
            },
            "type": "mesh3d"
           }
          ],
          "parcoords": [
           {
            "line": {
             "colorbar": {
              "outlinewidth": 0,
              "ticks": ""
             }
            },
            "type": "parcoords"
           }
          ],
          "pie": [
           {
            "automargin": true,
            "type": "pie"
           }
          ],
          "scatter": [
           {
            "fillpattern": {
             "fillmode": "overlay",
             "size": 10,
             "solidity": 0.2
            },
            "type": "scatter"
           }
          ],
          "scatter3d": [
           {
            "line": {
             "colorbar": {
              "outlinewidth": 0,
              "ticks": ""
             }
            },
            "marker": {
             "colorbar": {
              "outlinewidth": 0,
              "ticks": ""
             }
            },
            "type": "scatter3d"
           }
          ],
          "scattercarpet": [
           {
            "marker": {
             "colorbar": {
              "outlinewidth": 0,
              "ticks": ""
             }
            },
            "type": "scattercarpet"
           }
          ],
          "scattergeo": [
           {
            "marker": {
             "colorbar": {
              "outlinewidth": 0,
              "ticks": ""
             }
            },
            "type": "scattergeo"
           }
          ],
          "scattergl": [
           {
            "marker": {
             "colorbar": {
              "outlinewidth": 0,
              "ticks": ""
             }
            },
            "type": "scattergl"
           }
          ],
          "scattermapbox": [
           {
            "marker": {
             "colorbar": {
              "outlinewidth": 0,
              "ticks": ""
             }
            },
            "type": "scattermapbox"
           }
          ],
          "scatterpolar": [
           {
            "marker": {
             "colorbar": {
              "outlinewidth": 0,
              "ticks": ""
             }
            },
            "type": "scatterpolar"
           }
          ],
          "scatterpolargl": [
           {
            "marker": {
             "colorbar": {
              "outlinewidth": 0,
              "ticks": ""
             }
            },
            "type": "scatterpolargl"
           }
          ],
          "scatterternary": [
           {
            "marker": {
             "colorbar": {
              "outlinewidth": 0,
              "ticks": ""
             }
            },
            "type": "scatterternary"
           }
          ],
          "surface": [
           {
            "colorbar": {
             "outlinewidth": 0,
             "ticks": ""
            },
            "colorscale": [
             [
              0,
              "#0d0887"
             ],
             [
              0.1111111111111111,
              "#46039f"
             ],
             [
              0.2222222222222222,
              "#7201a8"
             ],
             [
              0.3333333333333333,
              "#9c179e"
             ],
             [
              0.4444444444444444,
              "#bd3786"
             ],
             [
              0.5555555555555556,
              "#d8576b"
             ],
             [
              0.6666666666666666,
              "#ed7953"
             ],
             [
              0.7777777777777778,
              "#fb9f3a"
             ],
             [
              0.8888888888888888,
              "#fdca26"
             ],
             [
              1,
              "#f0f921"
             ]
            ],
            "type": "surface"
           }
          ],
          "table": [
           {
            "cells": {
             "fill": {
              "color": "#EBF0F8"
             },
             "line": {
              "color": "white"
             }
            },
            "header": {
             "fill": {
              "color": "#C8D4E3"
             },
             "line": {
              "color": "white"
             }
            },
            "type": "table"
           }
          ]
         },
         "layout": {
          "annotationdefaults": {
           "arrowcolor": "#2a3f5f",
           "arrowhead": 0,
           "arrowwidth": 1
          },
          "autotypenumbers": "strict",
          "coloraxis": {
           "colorbar": {
            "outlinewidth": 0,
            "ticks": ""
           }
          },
          "colorscale": {
           "diverging": [
            [
             0,
             "#8e0152"
            ],
            [
             0.1,
             "#c51b7d"
            ],
            [
             0.2,
             "#de77ae"
            ],
            [
             0.3,
             "#f1b6da"
            ],
            [
             0.4,
             "#fde0ef"
            ],
            [
             0.5,
             "#f7f7f7"
            ],
            [
             0.6,
             "#e6f5d0"
            ],
            [
             0.7,
             "#b8e186"
            ],
            [
             0.8,
             "#7fbc41"
            ],
            [
             0.9,
             "#4d9221"
            ],
            [
             1,
             "#276419"
            ]
           ],
           "sequential": [
            [
             0,
             "#0d0887"
            ],
            [
             0.1111111111111111,
             "#46039f"
            ],
            [
             0.2222222222222222,
             "#7201a8"
            ],
            [
             0.3333333333333333,
             "#9c179e"
            ],
            [
             0.4444444444444444,
             "#bd3786"
            ],
            [
             0.5555555555555556,
             "#d8576b"
            ],
            [
             0.6666666666666666,
             "#ed7953"
            ],
            [
             0.7777777777777778,
             "#fb9f3a"
            ],
            [
             0.8888888888888888,
             "#fdca26"
            ],
            [
             1,
             "#f0f921"
            ]
           ],
           "sequentialminus": [
            [
             0,
             "#0d0887"
            ],
            [
             0.1111111111111111,
             "#46039f"
            ],
            [
             0.2222222222222222,
             "#7201a8"
            ],
            [
             0.3333333333333333,
             "#9c179e"
            ],
            [
             0.4444444444444444,
             "#bd3786"
            ],
            [
             0.5555555555555556,
             "#d8576b"
            ],
            [
             0.6666666666666666,
             "#ed7953"
            ],
            [
             0.7777777777777778,
             "#fb9f3a"
            ],
            [
             0.8888888888888888,
             "#fdca26"
            ],
            [
             1,
             "#f0f921"
            ]
           ]
          },
          "colorway": [
           "#636efa",
           "#EF553B",
           "#00cc96",
           "#ab63fa",
           "#FFA15A",
           "#19d3f3",
           "#FF6692",
           "#B6E880",
           "#FF97FF",
           "#FECB52"
          ],
          "font": {
           "color": "#2a3f5f"
          },
          "geo": {
           "bgcolor": "white",
           "lakecolor": "white",
           "landcolor": "#E5ECF6",
           "showlakes": true,
           "showland": true,
           "subunitcolor": "white"
          },
          "hoverlabel": {
           "align": "left"
          },
          "hovermode": "closest",
          "mapbox": {
           "style": "light"
          },
          "paper_bgcolor": "white",
          "plot_bgcolor": "#E5ECF6",
          "polar": {
           "angularaxis": {
            "gridcolor": "white",
            "linecolor": "white",
            "ticks": ""
           },
           "bgcolor": "#E5ECF6",
           "radialaxis": {
            "gridcolor": "white",
            "linecolor": "white",
            "ticks": ""
           }
          },
          "scene": {
           "xaxis": {
            "backgroundcolor": "#E5ECF6",
            "gridcolor": "white",
            "gridwidth": 2,
            "linecolor": "white",
            "showbackground": true,
            "ticks": "",
            "zerolinecolor": "white"
           },
           "yaxis": {
            "backgroundcolor": "#E5ECF6",
            "gridcolor": "white",
            "gridwidth": 2,
            "linecolor": "white",
            "showbackground": true,
            "ticks": "",
            "zerolinecolor": "white"
           },
           "zaxis": {
            "backgroundcolor": "#E5ECF6",
            "gridcolor": "white",
            "gridwidth": 2,
            "linecolor": "white",
            "showbackground": true,
            "ticks": "",
            "zerolinecolor": "white"
           }
          },
          "shapedefaults": {
           "line": {
            "color": "#2a3f5f"
           }
          },
          "ternary": {
           "aaxis": {
            "gridcolor": "white",
            "linecolor": "white",
            "ticks": ""
           },
           "baxis": {
            "gridcolor": "white",
            "linecolor": "white",
            "ticks": ""
           },
           "bgcolor": "#E5ECF6",
           "caxis": {
            "gridcolor": "white",
            "linecolor": "white",
            "ticks": ""
           }
          },
          "title": {
           "x": 0.05
          },
          "xaxis": {
           "automargin": true,
           "gridcolor": "white",
           "linecolor": "white",
           "ticks": "",
           "title": {
            "standoff": 15
           },
           "zerolinecolor": "white",
           "zerolinewidth": 2
          },
          "yaxis": {
           "automargin": true,
           "gridcolor": "white",
           "linecolor": "white",
           "ticks": "",
           "title": {
            "standoff": 15
           },
           "zerolinecolor": "white",
           "zerolinewidth": 2
          }
         }
        },
        "title": {
         "text": "Charges Heat Map in Different Regions of the U.S.A."
        }
       }
      }
     },
     "metadata": {},
     "output_type": "display_data"
    }
   ],
   "source": [
    "import plotly.express as px\n",
    "\n",
    "fig = px.density_mapbox(h_data, lat=\"latitude\", lon=\"longitude\", z=\"charges\", radius=20,\n",
    "                        center=dict(lat=37.0902, lon=-95.7129), zoom=3,\n",
    "                        mapbox_style=\"carto-positron\", hover_data=[\"region\"],\n",
    "                        title=\"Charges Heat Map in Different Regions of the U.S.A.\")\n",
    "fig.update_layout(coloraxis_colorbar=dict(title=\"Charges\"))\n",
    "fig.show()"
   ]
  },
  {
   "cell_type": "code",
   "execution_count": null,
   "metadata": {},
   "outputs": [],
   "source": []
  },
  {
   "cell_type": "code",
   "execution_count": null,
   "metadata": {},
   "outputs": [],
   "source": []
  }
 ],
 "metadata": {
  "kernelspec": {
   "display_name": "base",
   "language": "python",
   "name": "python3"
  },
  "language_info": {
   "codemirror_mode": {
    "name": "ipython",
    "version": 3
   },
   "file_extension": ".py",
   "mimetype": "text/x-python",
   "name": "python",
   "nbconvert_exporter": "python",
   "pygments_lexer": "ipython3",
   "version": "3.9.16"
  },
  "orig_nbformat": 4
 },
 "nbformat": 4,
 "nbformat_minor": 2
}
